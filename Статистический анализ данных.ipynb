{
 "cells": [
  {
   "cell_type": "markdown",
   "id": "4e22c769",
   "metadata": {},
   "source": [
    "**Проект \"сервис аренды самокатов GoFast\"**"
   ]
  },
  {
   "cell_type": "markdown",
   "id": "f0b23b75",
   "metadata": {},
   "source": [
    "Вы аналитик популярного сервиса аренды самокатов GoFast. Вам передали данные о некоторых пользователях из нескольких городов, а также об их поездках. Проанализируйте данные и проверьте некоторые гипотезы, которые могут помочь бизнесу вырасти.\n",
    "Чтобы совершать поездки по городу, пользователи сервиса GoFast пользуются мобильным приложением. Сервисом можно пользоваться:\n",
    "\n",
    "без подписки\n",
    "- абонентская плата отсутствует;\n",
    "- стоимость одной минуты поездки — 8 рублей;\n",
    "- стоимость старта (начала поездки) — 50 рублей;\n",
    "\n",
    "с подпиской Ultra\n",
    "- абонентская плата — 199 рублей в месяц;\n",
    "- стоимость одной минуты поездки — 6 рублей;\n",
    "- стоимость старта — бесплатно."
   ]
  },
  {
   "cell_type": "markdown",
   "id": "70a6c7d7",
   "metadata": {},
   "source": [
    "План работы:\n",
    "- Загрузка и предпросмотр данных\n",
    "- Оценка общей информации данных\n",
    "- Предобработка данных\n",
    "- Проведение исследовательского анализа данных\n",
    "- Объединение данных и подсчёт выручки\n",
    "- Проверка гипотез\n",
    "- Общий вывод"
   ]
  },
  {
   "cell_type": "code",
   "execution_count": 1,
   "id": "e4842f5b",
   "metadata": {},
   "outputs": [],
   "source": [
    "import pandas as pd\n",
    "import matplotlib.pyplot as plt\n",
    "import seaborn as sns"
   ]
  },
  {
   "cell_type": "markdown",
   "id": "4c6da1f4",
   "metadata": {},
   "source": [
    "**Описание данных**"
   ]
  },
  {
   "cell_type": "markdown",
   "id": "574e1b85",
   "metadata": {},
   "source": [
    "В основных данных есть информация о пользователях, их поездках и подписках.\n",
    "- Пользователи — users_go.csv\n",
    "- Поездки — rides_go.csv\n",
    "- Подписки — subscriptions_go.csv"
   ]
  },
  {
   "cell_type": "markdown",
   "id": "c42cbe00",
   "metadata": {},
   "source": [
    "#### Шаг 1. Загрузка данных"
   ]
  },
  {
   "cell_type": "code",
   "execution_count": 2,
   "id": "eff9f206",
   "metadata": {
    "scrolled": false
   },
   "outputs": [
    {
     "name": "stdout",
     "output_type": "stream",
     "text": [
      "<class 'pandas.core.frame.DataFrame'>\n",
      "RangeIndex: 1565 entries, 0 to 1564\n",
      "Data columns (total 5 columns):\n",
      " #   Column             Non-Null Count  Dtype \n",
      "---  ------             --------------  ----- \n",
      " 0   user_id            1565 non-null   int64 \n",
      " 1   name               1565 non-null   object\n",
      " 2   age                1565 non-null   int64 \n",
      " 3   city               1565 non-null   object\n",
      " 4   subscription_type  1565 non-null   object\n",
      "dtypes: int64(2), object(3)\n",
      "memory usage: 61.3+ KB\n"
     ]
    }
   ],
   "source": [
    "#Считаем данные users_go.csv\n",
    "data_user = pd.read_csv('/datasets/users_go.csv')\n",
    "data_user.head(10)\n",
    "data_user.info()"
   ]
  },
  {
   "cell_type": "code",
   "execution_count": 3,
   "id": "08b09b55",
   "metadata": {
    "scrolled": true
   },
   "outputs": [
    {
     "name": "stdout",
     "output_type": "stream",
     "text": [
      "<class 'pandas.core.frame.DataFrame'>\n",
      "RangeIndex: 18068 entries, 0 to 18067\n",
      "Data columns (total 4 columns):\n",
      " #   Column    Non-Null Count  Dtype  \n",
      "---  ------    --------------  -----  \n",
      " 0   user_id   18068 non-null  int64  \n",
      " 1   distance  18068 non-null  float64\n",
      " 2   duration  18068 non-null  float64\n",
      " 3   date      18068 non-null  object \n",
      "dtypes: float64(2), int64(1), object(1)\n",
      "memory usage: 564.8+ KB\n"
     ]
    }
   ],
   "source": [
    "#Считаем данные rides_go.csv\n",
    "data_rider = pd.read_csv('/datasets/rides_go.csv')\n",
    "data_rider.head(10)\n",
    "data_rider.info()"
   ]
  },
  {
   "cell_type": "code",
   "execution_count": 4,
   "id": "5078cb67",
   "metadata": {},
   "outputs": [
    {
     "name": "stdout",
     "output_type": "stream",
     "text": [
      "<class 'pandas.core.frame.DataFrame'>\n",
      "RangeIndex: 2 entries, 0 to 1\n",
      "Data columns (total 4 columns):\n",
      " #   Column             Non-Null Count  Dtype \n",
      "---  ------             --------------  ----- \n",
      " 0   subscription_type  2 non-null      object\n",
      " 1   minute_price       2 non-null      int64 \n",
      " 2   start_ride_price   2 non-null      int64 \n",
      " 3   subscription_fee   2 non-null      int64 \n",
      "dtypes: int64(3), object(1)\n",
      "memory usage: 192.0+ bytes\n"
     ]
    }
   ],
   "source": [
    "#Считаем данные subscriptions_go.csv\n",
    "data_sub = pd.read_csv('/datasets/subscriptions_go.csv')\n",
    "data_sub.head(10)\n",
    "data_sub.info()"
   ]
  },
  {
   "cell_type": "markdown",
   "id": "b0493a07",
   "metadata": {},
   "source": [
    "**Вывод:**\n",
    "data_user - типы данных соответсвуют содержанию, пропущенные значения отсутствуют. data_rider - в данных отсутсвуют пропущенные значения, колонка date имеет тип object - исправим в предобработке данных. data_sub - с данными всё в порядке."
   ]
  },
  {
   "cell_type": "markdown",
   "id": "e95ebca7",
   "metadata": {},
   "source": [
    "#### Шаг 2. Предобработка данных"
   ]
  },
  {
   "cell_type": "markdown",
   "id": "2033f2fb",
   "metadata": {},
   "source": [
    "**2.1 Приведите столбец date к типу даты pandas.**"
   ]
  },
  {
   "cell_type": "code",
   "execution_count": 5,
   "id": "af6d202c",
   "metadata": {},
   "outputs": [
    {
     "data": {
      "text/plain": [
       "user_id              int64\n",
       "distance           float64\n",
       "duration           float64\n",
       "date        datetime64[ns]\n",
       "dtype: object"
      ]
     },
     "execution_count": 5,
     "metadata": {},
     "output_type": "execute_result"
    }
   ],
   "source": [
    "data_rider['date'] = pd.to_datetime(data_rider['date'], format='%Y-%m-%d')\n",
    "data_rider.dtypes"
   ]
  },
  {
   "cell_type": "markdown",
   "id": "c1e0cb44",
   "metadata": {},
   "source": [
    "**2.2 Создайте новый столбец с номером месяца на основе столбца date.**"
   ]
  },
  {
   "cell_type": "code",
   "execution_count": 6,
   "id": "d6f9c733",
   "metadata": {},
   "outputs": [
    {
     "data": {
      "text/html": [
       "<div>\n",
       "<style scoped>\n",
       "    .dataframe tbody tr th:only-of-type {\n",
       "        vertical-align: middle;\n",
       "    }\n",
       "\n",
       "    .dataframe tbody tr th {\n",
       "        vertical-align: top;\n",
       "    }\n",
       "\n",
       "    .dataframe thead th {\n",
       "        text-align: right;\n",
       "    }\n",
       "</style>\n",
       "<table border=\"1\" class=\"dataframe\">\n",
       "  <thead>\n",
       "    <tr style=\"text-align: right;\">\n",
       "      <th></th>\n",
       "      <th>user_id</th>\n",
       "      <th>distance</th>\n",
       "      <th>duration</th>\n",
       "      <th>date</th>\n",
       "      <th>month</th>\n",
       "    </tr>\n",
       "  </thead>\n",
       "  <tbody>\n",
       "    <tr>\n",
       "      <th>0</th>\n",
       "      <td>1</td>\n",
       "      <td>4409.919140</td>\n",
       "      <td>25.599769</td>\n",
       "      <td>2021-01-01</td>\n",
       "      <td>1</td>\n",
       "    </tr>\n",
       "    <tr>\n",
       "      <th>1</th>\n",
       "      <td>1</td>\n",
       "      <td>2617.592153</td>\n",
       "      <td>15.816871</td>\n",
       "      <td>2021-01-18</td>\n",
       "      <td>1</td>\n",
       "    </tr>\n",
       "    <tr>\n",
       "      <th>2</th>\n",
       "      <td>1</td>\n",
       "      <td>754.159807</td>\n",
       "      <td>6.232113</td>\n",
       "      <td>2021-04-20</td>\n",
       "      <td>4</td>\n",
       "    </tr>\n",
       "    <tr>\n",
       "      <th>3</th>\n",
       "      <td>1</td>\n",
       "      <td>2694.783254</td>\n",
       "      <td>18.511000</td>\n",
       "      <td>2021-08-11</td>\n",
       "      <td>8</td>\n",
       "    </tr>\n",
       "    <tr>\n",
       "      <th>4</th>\n",
       "      <td>1</td>\n",
       "      <td>4028.687306</td>\n",
       "      <td>26.265803</td>\n",
       "      <td>2021-08-28</td>\n",
       "      <td>8</td>\n",
       "    </tr>\n",
       "  </tbody>\n",
       "</table>\n",
       "</div>"
      ],
      "text/plain": [
       "   user_id     distance   duration       date  month\n",
       "0        1  4409.919140  25.599769 2021-01-01      1\n",
       "1        1  2617.592153  15.816871 2021-01-18      1\n",
       "2        1   754.159807   6.232113 2021-04-20      4\n",
       "3        1  2694.783254  18.511000 2021-08-11      8\n",
       "4        1  4028.687306  26.265803 2021-08-28      8"
      ]
     },
     "execution_count": 6,
     "metadata": {},
     "output_type": "execute_result"
    }
   ],
   "source": [
    "data_rider['month'] = pd.DatetimeIndex(data_rider['date']).month\n",
    "data_rider.head()"
   ]
  },
  {
   "cell_type": "markdown",
   "id": "3526896d",
   "metadata": {},
   "source": [
    "**2.3 Проверьте наличие пропущенных значений и дубликатов в датафреймах. Обработайте их, если такие значения присутствуют.**"
   ]
  },
  {
   "cell_type": "code",
   "execution_count": 7,
   "id": "d6b7268c",
   "metadata": {},
   "outputs": [
    {
     "data": {
      "text/plain": [
       "user_id              0\n",
       "name                 0\n",
       "age                  0\n",
       "city                 0\n",
       "subscription_type    0\n",
       "dtype: int64"
      ]
     },
     "execution_count": 7,
     "metadata": {},
     "output_type": "execute_result"
    }
   ],
   "source": [
    "#проверяем наличие пропущенных значений в data_user\n",
    "data_user.isna().sum()"
   ]
  },
  {
   "cell_type": "code",
   "execution_count": 8,
   "id": "fd94febf",
   "metadata": {},
   "outputs": [
    {
     "data": {
      "text/plain": [
       "user_id     0\n",
       "distance    0\n",
       "duration    0\n",
       "date        0\n",
       "month       0\n",
       "dtype: int64"
      ]
     },
     "execution_count": 8,
     "metadata": {},
     "output_type": "execute_result"
    }
   ],
   "source": [
    "#проверяем наличие пропущенных значений в data_rider\n",
    "data_rider.isna().sum()"
   ]
  },
  {
   "cell_type": "code",
   "execution_count": 9,
   "id": "632bb7e2",
   "metadata": {},
   "outputs": [
    {
     "data": {
      "text/plain": [
       "subscription_type    0\n",
       "minute_price         0\n",
       "start_ride_price     0\n",
       "subscription_fee     0\n",
       "dtype: int64"
      ]
     },
     "execution_count": 9,
     "metadata": {},
     "output_type": "execute_result"
    }
   ],
   "source": [
    "#проверяем наличие пропущенных значений в data_sub\n",
    "data_sub.isna().sum()"
   ]
  },
  {
   "cell_type": "code",
   "execution_count": 10,
   "id": "6ebdaef6",
   "metadata": {},
   "outputs": [],
   "source": [
    "#проверим наличие дубликатов data_user\n",
    "data_user.duplicated().sum()\n",
    "\n",
    "#удалим дубликаты\n",
    "data_user = data_user.drop_duplicates()"
   ]
  },
  {
   "cell_type": "code",
   "execution_count": 11,
   "id": "6673ed56",
   "metadata": {},
   "outputs": [
    {
     "data": {
      "text/plain": [
       "0"
      ]
     },
     "execution_count": 11,
     "metadata": {},
     "output_type": "execute_result"
    }
   ],
   "source": [
    "#проверим наличие дубликатов data_rider\n",
    "data_rider.duplicated().sum()"
   ]
  },
  {
   "cell_type": "code",
   "execution_count": 12,
   "id": "88af143a",
   "metadata": {},
   "outputs": [
    {
     "data": {
      "text/plain": [
       "0"
      ]
     },
     "execution_count": 12,
     "metadata": {},
     "output_type": "execute_result"
    }
   ],
   "source": [
    "#проверим наличие дубликатов data_sub\n",
    "data_sub.duplicated().sum()"
   ]
  },
  {
   "cell_type": "markdown",
   "id": "18fd78a9",
   "metadata": {},
   "source": [
    "**Вывод:** привели столбец date к типу даты pandas. Создали новый столбец с номером месяца на основе столбца date. Пропусков в данных нет. Дубликаты удалены."
   ]
  },
  {
   "cell_type": "markdown",
   "id": "212593c7",
   "metadata": {},
   "source": [
    "#### Шаг 3. Исследовательский анализ данных"
   ]
  },
  {
   "cell_type": "markdown",
   "id": "699e4e52",
   "metadata": {},
   "source": [
    "Опишем и визуализируем общую информацию о пользователях и поездках"
   ]
  },
  {
   "cell_type": "code",
   "execution_count": 13,
   "id": "dd29b6a9",
   "metadata": {},
   "outputs": [
    {
     "data": {
      "text/html": [
       "<div>\n",
       "<style scoped>\n",
       "    .dataframe tbody tr th:only-of-type {\n",
       "        vertical-align: middle;\n",
       "    }\n",
       "\n",
       "    .dataframe tbody tr th {\n",
       "        vertical-align: top;\n",
       "    }\n",
       "\n",
       "    .dataframe thead th {\n",
       "        text-align: right;\n",
       "    }\n",
       "</style>\n",
       "<table border=\"1\" class=\"dataframe\">\n",
       "  <thead>\n",
       "    <tr style=\"text-align: right;\">\n",
       "      <th></th>\n",
       "      <th>user_id</th>\n",
       "      <th>age</th>\n",
       "    </tr>\n",
       "  </thead>\n",
       "  <tbody>\n",
       "    <tr>\n",
       "      <th>count</th>\n",
       "      <td>1534.000000</td>\n",
       "      <td>1534.000000</td>\n",
       "    </tr>\n",
       "    <tr>\n",
       "      <th>mean</th>\n",
       "      <td>767.500000</td>\n",
       "      <td>24.903520</td>\n",
       "    </tr>\n",
       "    <tr>\n",
       "      <th>std</th>\n",
       "      <td>442.971971</td>\n",
       "      <td>4.572367</td>\n",
       "    </tr>\n",
       "    <tr>\n",
       "      <th>min</th>\n",
       "      <td>1.000000</td>\n",
       "      <td>12.000000</td>\n",
       "    </tr>\n",
       "    <tr>\n",
       "      <th>25%</th>\n",
       "      <td>384.250000</td>\n",
       "      <td>22.000000</td>\n",
       "    </tr>\n",
       "    <tr>\n",
       "      <th>50%</th>\n",
       "      <td>767.500000</td>\n",
       "      <td>25.000000</td>\n",
       "    </tr>\n",
       "    <tr>\n",
       "      <th>75%</th>\n",
       "      <td>1150.750000</td>\n",
       "      <td>28.000000</td>\n",
       "    </tr>\n",
       "    <tr>\n",
       "      <th>max</th>\n",
       "      <td>1534.000000</td>\n",
       "      <td>43.000000</td>\n",
       "    </tr>\n",
       "  </tbody>\n",
       "</table>\n",
       "</div>"
      ],
      "text/plain": [
       "           user_id          age\n",
       "count  1534.000000  1534.000000\n",
       "mean    767.500000    24.903520\n",
       "std     442.971971     4.572367\n",
       "min       1.000000    12.000000\n",
       "25%     384.250000    22.000000\n",
       "50%     767.500000    25.000000\n",
       "75%    1150.750000    28.000000\n",
       "max    1534.000000    43.000000"
      ]
     },
     "execution_count": 13,
     "metadata": {},
     "output_type": "execute_result"
    }
   ],
   "source": [
    "data_user.describe()"
   ]
  },
  {
   "cell_type": "code",
   "execution_count": 14,
   "id": "f897d73f",
   "metadata": {},
   "outputs": [
    {
     "data": {
      "text/html": [
       "<div>\n",
       "<style scoped>\n",
       "    .dataframe tbody tr th:only-of-type {\n",
       "        vertical-align: middle;\n",
       "    }\n",
       "\n",
       "    .dataframe tbody tr th {\n",
       "        vertical-align: top;\n",
       "    }\n",
       "\n",
       "    .dataframe thead th {\n",
       "        text-align: right;\n",
       "    }\n",
       "</style>\n",
       "<table border=\"1\" class=\"dataframe\">\n",
       "  <thead>\n",
       "    <tr style=\"text-align: right;\">\n",
       "      <th></th>\n",
       "      <th>user_id</th>\n",
       "      <th>distance</th>\n",
       "      <th>duration</th>\n",
       "      <th>month</th>\n",
       "    </tr>\n",
       "  </thead>\n",
       "  <tbody>\n",
       "    <tr>\n",
       "      <th>count</th>\n",
       "      <td>18068.000000</td>\n",
       "      <td>18068.000000</td>\n",
       "      <td>18068.000000</td>\n",
       "      <td>18068.000000</td>\n",
       "    </tr>\n",
       "    <tr>\n",
       "      <th>mean</th>\n",
       "      <td>842.869936</td>\n",
       "      <td>3070.659976</td>\n",
       "      <td>17.805011</td>\n",
       "      <td>6.486772</td>\n",
       "    </tr>\n",
       "    <tr>\n",
       "      <th>std</th>\n",
       "      <td>434.734317</td>\n",
       "      <td>1116.831209</td>\n",
       "      <td>6.091051</td>\n",
       "      <td>3.437410</td>\n",
       "    </tr>\n",
       "    <tr>\n",
       "      <th>min</th>\n",
       "      <td>1.000000</td>\n",
       "      <td>0.855683</td>\n",
       "      <td>0.500000</td>\n",
       "      <td>1.000000</td>\n",
       "    </tr>\n",
       "    <tr>\n",
       "      <th>25%</th>\n",
       "      <td>487.000000</td>\n",
       "      <td>2543.226360</td>\n",
       "      <td>13.597563</td>\n",
       "      <td>4.000000</td>\n",
       "    </tr>\n",
       "    <tr>\n",
       "      <th>50%</th>\n",
       "      <td>889.000000</td>\n",
       "      <td>3133.609994</td>\n",
       "      <td>17.678395</td>\n",
       "      <td>6.000000</td>\n",
       "    </tr>\n",
       "    <tr>\n",
       "      <th>75%</th>\n",
       "      <td>1213.250000</td>\n",
       "      <td>3776.222735</td>\n",
       "      <td>21.724800</td>\n",
       "      <td>9.000000</td>\n",
       "    </tr>\n",
       "    <tr>\n",
       "      <th>max</th>\n",
       "      <td>1534.000000</td>\n",
       "      <td>7211.007745</td>\n",
       "      <td>40.823963</td>\n",
       "      <td>12.000000</td>\n",
       "    </tr>\n",
       "  </tbody>\n",
       "</table>\n",
       "</div>"
      ],
      "text/plain": [
       "            user_id      distance      duration         month\n",
       "count  18068.000000  18068.000000  18068.000000  18068.000000\n",
       "mean     842.869936   3070.659976     17.805011      6.486772\n",
       "std      434.734317   1116.831209      6.091051      3.437410\n",
       "min        1.000000      0.855683      0.500000      1.000000\n",
       "25%      487.000000   2543.226360     13.597563      4.000000\n",
       "50%      889.000000   3133.609994     17.678395      6.000000\n",
       "75%     1213.250000   3776.222735     21.724800      9.000000\n",
       "max     1534.000000   7211.007745     40.823963     12.000000"
      ]
     },
     "execution_count": 14,
     "metadata": {},
     "output_type": "execute_result"
    }
   ],
   "source": [
    "data_rider.describe()"
   ]
  },
  {
   "cell_type": "code",
   "execution_count": 15,
   "id": "12702553",
   "metadata": {},
   "outputs": [
    {
     "data": {
      "text/html": [
       "<div>\n",
       "<style scoped>\n",
       "    .dataframe tbody tr th:only-of-type {\n",
       "        vertical-align: middle;\n",
       "    }\n",
       "\n",
       "    .dataframe tbody tr th {\n",
       "        vertical-align: top;\n",
       "    }\n",
       "\n",
       "    .dataframe thead th {\n",
       "        text-align: right;\n",
       "    }\n",
       "</style>\n",
       "<table border=\"1\" class=\"dataframe\">\n",
       "  <thead>\n",
       "    <tr style=\"text-align: right;\">\n",
       "      <th></th>\n",
       "      <th>minute_price</th>\n",
       "      <th>start_ride_price</th>\n",
       "      <th>subscription_fee</th>\n",
       "    </tr>\n",
       "  </thead>\n",
       "  <tbody>\n",
       "    <tr>\n",
       "      <th>count</th>\n",
       "      <td>2.000000</td>\n",
       "      <td>2.000000</td>\n",
       "      <td>2.000000</td>\n",
       "    </tr>\n",
       "    <tr>\n",
       "      <th>mean</th>\n",
       "      <td>7.000000</td>\n",
       "      <td>25.000000</td>\n",
       "      <td>99.500000</td>\n",
       "    </tr>\n",
       "    <tr>\n",
       "      <th>std</th>\n",
       "      <td>1.414214</td>\n",
       "      <td>35.355339</td>\n",
       "      <td>140.714249</td>\n",
       "    </tr>\n",
       "    <tr>\n",
       "      <th>min</th>\n",
       "      <td>6.000000</td>\n",
       "      <td>0.000000</td>\n",
       "      <td>0.000000</td>\n",
       "    </tr>\n",
       "    <tr>\n",
       "      <th>25%</th>\n",
       "      <td>6.500000</td>\n",
       "      <td>12.500000</td>\n",
       "      <td>49.750000</td>\n",
       "    </tr>\n",
       "    <tr>\n",
       "      <th>50%</th>\n",
       "      <td>7.000000</td>\n",
       "      <td>25.000000</td>\n",
       "      <td>99.500000</td>\n",
       "    </tr>\n",
       "    <tr>\n",
       "      <th>75%</th>\n",
       "      <td>7.500000</td>\n",
       "      <td>37.500000</td>\n",
       "      <td>149.250000</td>\n",
       "    </tr>\n",
       "    <tr>\n",
       "      <th>max</th>\n",
       "      <td>8.000000</td>\n",
       "      <td>50.000000</td>\n",
       "      <td>199.000000</td>\n",
       "    </tr>\n",
       "  </tbody>\n",
       "</table>\n",
       "</div>"
      ],
      "text/plain": [
       "       minute_price  start_ride_price  subscription_fee\n",
       "count      2.000000          2.000000          2.000000\n",
       "mean       7.000000         25.000000         99.500000\n",
       "std        1.414214         35.355339        140.714249\n",
       "min        6.000000          0.000000          0.000000\n",
       "25%        6.500000         12.500000         49.750000\n",
       "50%        7.000000         25.000000         99.500000\n",
       "75%        7.500000         37.500000        149.250000\n",
       "max        8.000000         50.000000        199.000000"
      ]
     },
     "execution_count": 15,
     "metadata": {},
     "output_type": "execute_result"
    }
   ],
   "source": [
    "data_sub.describe()"
   ]
  },
  {
   "cell_type": "markdown",
   "id": "45d48cbf",
   "metadata": {},
   "source": [
    "**3.1 частота встречаемости городов;**"
   ]
  },
  {
   "cell_type": "code",
   "execution_count": 16,
   "id": "7e479f47",
   "metadata": {},
   "outputs": [
    {
     "data": {
      "text/plain": [
       "Text(0.5, 0, 'Названия городов')"
      ]
     },
     "execution_count": 16,
     "metadata": {},
     "output_type": "execute_result"
    },
    {
     "data": {
      "image/png": "[encoded data removed]",
      "text/plain": [
       "<Figure size 432x288 with 1 Axes>"
      ]
     },
     "metadata": {
      "needs_background": "light"
     },
     "output_type": "display_data"
    }
   ],
   "source": [
    "df_city = data_user['city'].value_counts().reset_index()\n",
    "df_city.columns = ['city', 'count']\n",
    "df_city.plot.bar(x='city', y='count')\n",
    "plt.title('количество городов')\n",
    "plt.xlabel('Названия городов')"
   ]
  },
  {
   "cell_type": "code",
   "execution_count": 17,
   "id": "518c80f2",
   "metadata": {},
   "outputs": [
    {
     "data": {
      "text/html": [
       "<div>\n",
       "<style scoped>\n",
       "    .dataframe tbody tr th:only-of-type {\n",
       "        vertical-align: middle;\n",
       "    }\n",
       "\n",
       "    .dataframe tbody tr th {\n",
       "        vertical-align: top;\n",
       "    }\n",
       "\n",
       "    .dataframe thead th {\n",
       "        text-align: right;\n",
       "    }\n",
       "</style>\n",
       "<table border=\"1\" class=\"dataframe\">\n",
       "  <thead>\n",
       "    <tr style=\"text-align: right;\">\n",
       "      <th></th>\n",
       "      <th>city</th>\n",
       "      <th>count</th>\n",
       "    </tr>\n",
       "  </thead>\n",
       "  <tbody>\n",
       "    <tr>\n",
       "      <th>0</th>\n",
       "      <td>Пятигорск</td>\n",
       "      <td>219</td>\n",
       "    </tr>\n",
       "    <tr>\n",
       "      <th>1</th>\n",
       "      <td>Екатеринбург</td>\n",
       "      <td>204</td>\n",
       "    </tr>\n",
       "    <tr>\n",
       "      <th>2</th>\n",
       "      <td>Ростов-на-Дону</td>\n",
       "      <td>198</td>\n",
       "    </tr>\n",
       "    <tr>\n",
       "      <th>3</th>\n",
       "      <td>Краснодар</td>\n",
       "      <td>193</td>\n",
       "    </tr>\n",
       "    <tr>\n",
       "      <th>4</th>\n",
       "      <td>Сочи</td>\n",
       "      <td>189</td>\n",
       "    </tr>\n",
       "    <tr>\n",
       "      <th>5</th>\n",
       "      <td>Омск</td>\n",
       "      <td>183</td>\n",
       "    </tr>\n",
       "    <tr>\n",
       "      <th>6</th>\n",
       "      <td>Тюмень</td>\n",
       "      <td>180</td>\n",
       "    </tr>\n",
       "    <tr>\n",
       "      <th>7</th>\n",
       "      <td>Москва</td>\n",
       "      <td>168</td>\n",
       "    </tr>\n",
       "  </tbody>\n",
       "</table>\n",
       "</div>"
      ],
      "text/plain": [
       "             city  count\n",
       "0       Пятигорск    219\n",
       "1    Екатеринбург    204\n",
       "2  Ростов-на-Дону    198\n",
       "3       Краснодар    193\n",
       "4            Сочи    189\n",
       "5            Омск    183\n",
       "6          Тюмень    180\n",
       "7          Москва    168"
      ]
     },
     "execution_count": 17,
     "metadata": {},
     "output_type": "execute_result"
    }
   ],
   "source": [
    "df_city"
   ]
  },
  {
   "cell_type": "markdown",
   "id": "2d5de945",
   "metadata": {},
   "source": [
    "**Вывод:** Больше всего пользователей самокатов в городе Пятигорск и Екатеринбург, меньше всего в Москве."
   ]
  },
  {
   "cell_type": "markdown",
   "id": "2cf39f19",
   "metadata": {},
   "source": [
    "**3.2 соотношение пользователей с подпиской и без подписки;**"
   ]
  },
  {
   "cell_type": "code",
   "execution_count": 18,
   "id": "59f6aca2",
   "metadata": {},
   "outputs": [
    {
     "data": {
      "text/plain": [
       "free     0.544329\n",
       "ultra    0.455671\n",
       "Name: subscription_type, dtype: float64"
      ]
     },
     "execution_count": 18,
     "metadata": {},
     "output_type": "execute_result"
    }
   ],
   "source": [
    "#выведем количество пользователей по каждой из подписок\n",
    "data_user['subscription_type'].value_counts()\n",
    "\n",
    "#переведем количесто в процентное соотношение\n",
    "data_user['subscription_type'].value_counts(normalize=True)"
   ]
  },
  {
   "cell_type": "code",
   "execution_count": 19,
   "id": "2a7e61dc",
   "metadata": {},
   "outputs": [
    {
     "data": {
      "text/plain": [
       "<AxesSubplot:ylabel='subscription_type'>"
      ]
     },
     "execution_count": 19,
     "metadata": {},
     "output_type": "execute_result"
    },
    {
     "data": {
      "image/png": "[encoded data removed]",
      "text/plain": [
       "<Figure size 432x288 with 1 Axes>"
      ]
     },
     "metadata": {},
     "output_type": "display_data"
    }
   ],
   "source": [
    "data_user.groupby(by='subscription_type')['subscription_type'].count().plot(kind='pie')"
   ]
  },
  {
   "cell_type": "markdown",
   "id": "a5dccbb6",
   "metadata": {},
   "source": [
    "**Вывод:** как видим - пользователей без подписки немного больше тех, у кого подключена подписка ultra. Без подписок 54% пользователей, с подпиской ultra 46% пользователей."
   ]
  },
  {
   "cell_type": "markdown",
   "id": "5f551fc6",
   "metadata": {},
   "source": [
    "**3.3 возраст пользователей**"
   ]
  },
  {
   "cell_type": "code",
   "execution_count": 20,
   "id": "b2869533",
   "metadata": {},
   "outputs": [
    {
     "data": {
      "text/plain": [
       "Text(0, 0.5, 'Количество пользователей')"
      ]
     },
     "execution_count": 20,
     "metadata": {},
     "output_type": "execute_result"
    },
    {
     "data": {
      "image/png": "[encoded data removed]",
      "text/plain": [
       "<Figure size 432x288 with 1 Axes>"
      ]
     },
     "metadata": {
      "needs_background": "light"
     },
     "output_type": "display_data"
    }
   ],
   "source": [
    "data_user['age'].hist(bins=30)\n",
    "plt.title('возраст пользователей')\n",
    "plt.xlabel('Возраст')\n",
    "plt.ylabel('Количество пользователей')"
   ]
  },
  {
   "cell_type": "markdown",
   "id": "f9df4496",
   "metadata": {},
   "source": [
    "**Вывод:** Пользователи в возрасте 25 лет больше всего пользуются услугами самокатов. Пользователи, в диапазонах до 20ти и от 30ти лет, меньше пользуются услугами самокатов."
   ]
  },
  {
   "cell_type": "markdown",
   "id": "d5c83365",
   "metadata": {},
   "source": [
    "**3.4 расстояние, которое пользователь преодолел за одну поездку;**"
   ]
  },
  {
   "cell_type": "code",
   "execution_count": 21,
   "id": "eb629d9c",
   "metadata": {},
   "outputs": [
    {
     "data": {
      "text/plain": [
       "Text(0.5, 1.0, 'Расстояние')"
      ]
     },
     "execution_count": 21,
     "metadata": {},
     "output_type": "execute_result"
    },
    {
     "data": {
      "image/png": "[encoded data removed]",
      "text/plain": [
       "<Figure size 432x288 with 1 Axes>"
      ]
     },
     "metadata": {
      "needs_background": "light"
     },
     "output_type": "display_data"
    }
   ],
   "source": [
    "data_rider['distance'].hist(bins=30)\n",
    "plt.title('Расстояние')"
   ]
  },
  {
   "cell_type": "markdown",
   "id": "9bb73747",
   "metadata": {},
   "source": [
    "**Вывод:** как мы видим - самое большое расстояние, которое пользователь преодолел за одну поездку - примерно 3000 метро. "
   ]
  },
  {
   "cell_type": "markdown",
   "id": "7b5a822b",
   "metadata": {},
   "source": [
    "**3.5 продолжительность поездок.**"
   ]
  },
  {
   "cell_type": "code",
   "execution_count": 22,
   "id": "1abf51a1",
   "metadata": {},
   "outputs": [
    {
     "data": {
      "text/plain": [
       "Text(0.5, 1.0, 'Продолжительность поездки')"
      ]
     },
     "execution_count": 22,
     "metadata": {},
     "output_type": "execute_result"
    },
    {
     "data": {
      "image/png": "[encoded data removed]",
      "text/plain": [
       "<Figure size 432x288 with 1 Axes>"
      ]
     },
     "metadata": {
      "needs_background": "light"
     },
     "output_type": "display_data"
    }
   ],
   "source": [
    "data_rider['duration'].hist(bins=30)\n",
    "plt.title('Продолжительность поездки')"
   ]
  },
  {
   "cell_type": "markdown",
   "id": "99b21f29",
   "metadata": {},
   "source": [
    "**Вывод:** В среднем, продолжительность поездки находится в диапазоне от 15 до 20 минут."
   ]
  },
  {
   "cell_type": "markdown",
   "id": "cb2ab19d",
   "metadata": {},
   "source": [
    "**Итоговый вывод:** Больше всего пользователей самокатов в городе Пятигорск и Екатеринбург, меньше всего в Москве. Пользователей без подписок 54%, с подпиской ultra 46%. Пользователи в возрасте 25 лет больше всего пользуются услугами самокатов. Самое большое расстояние, которое пользователь преодолел за одну поездку - примерно 3000 метро. "
   ]
  },
  {
   "cell_type": "markdown",
   "id": "4ef51331",
   "metadata": {},
   "source": [
    "#### Шаг 4. Объединение данных"
   ]
  },
  {
   "cell_type": "markdown",
   "id": "a2205012",
   "metadata": {},
   "source": [
    "**4.1 Объедините данные о пользователях, поездках и подписках в один датафрейм.** "
   ]
  },
  {
   "cell_type": "code",
   "execution_count": 23,
   "id": "6bf288b5",
   "metadata": {},
   "outputs": [
    {
     "data": {
      "text/html": [
       "<div>\n",
       "<style scoped>\n",
       "    .dataframe tbody tr th:only-of-type {\n",
       "        vertical-align: middle;\n",
       "    }\n",
       "\n",
       "    .dataframe tbody tr th {\n",
       "        vertical-align: top;\n",
       "    }\n",
       "\n",
       "    .dataframe thead th {\n",
       "        text-align: right;\n",
       "    }\n",
       "</style>\n",
       "<table border=\"1\" class=\"dataframe\">\n",
       "  <thead>\n",
       "    <tr style=\"text-align: right;\">\n",
       "      <th></th>\n",
       "      <th>user_id</th>\n",
       "      <th>name</th>\n",
       "      <th>age</th>\n",
       "      <th>city</th>\n",
       "      <th>subscription_type</th>\n",
       "      <th>distance</th>\n",
       "      <th>duration</th>\n",
       "      <th>date</th>\n",
       "      <th>month</th>\n",
       "      <th>minute_price</th>\n",
       "      <th>start_ride_price</th>\n",
       "      <th>subscription_fee</th>\n",
       "    </tr>\n",
       "  </thead>\n",
       "  <tbody>\n",
       "    <tr>\n",
       "      <th>0</th>\n",
       "      <td>1</td>\n",
       "      <td>Кира</td>\n",
       "      <td>22</td>\n",
       "      <td>Тюмень</td>\n",
       "      <td>ultra</td>\n",
       "      <td>4409.919140</td>\n",
       "      <td>25.599769</td>\n",
       "      <td>2021-01-01</td>\n",
       "      <td>1</td>\n",
       "      <td>6</td>\n",
       "      <td>0</td>\n",
       "      <td>199</td>\n",
       "    </tr>\n",
       "    <tr>\n",
       "      <th>1</th>\n",
       "      <td>1</td>\n",
       "      <td>Кира</td>\n",
       "      <td>22</td>\n",
       "      <td>Тюмень</td>\n",
       "      <td>ultra</td>\n",
       "      <td>2617.592153</td>\n",
       "      <td>15.816871</td>\n",
       "      <td>2021-01-18</td>\n",
       "      <td>1</td>\n",
       "      <td>6</td>\n",
       "      <td>0</td>\n",
       "      <td>199</td>\n",
       "    </tr>\n",
       "    <tr>\n",
       "      <th>2</th>\n",
       "      <td>1</td>\n",
       "      <td>Кира</td>\n",
       "      <td>22</td>\n",
       "      <td>Тюмень</td>\n",
       "      <td>ultra</td>\n",
       "      <td>754.159807</td>\n",
       "      <td>6.232113</td>\n",
       "      <td>2021-04-20</td>\n",
       "      <td>4</td>\n",
       "      <td>6</td>\n",
       "      <td>0</td>\n",
       "      <td>199</td>\n",
       "    </tr>\n",
       "    <tr>\n",
       "      <th>3</th>\n",
       "      <td>1</td>\n",
       "      <td>Кира</td>\n",
       "      <td>22</td>\n",
       "      <td>Тюмень</td>\n",
       "      <td>ultra</td>\n",
       "      <td>2694.783254</td>\n",
       "      <td>18.511000</td>\n",
       "      <td>2021-08-11</td>\n",
       "      <td>8</td>\n",
       "      <td>6</td>\n",
       "      <td>0</td>\n",
       "      <td>199</td>\n",
       "    </tr>\n",
       "    <tr>\n",
       "      <th>4</th>\n",
       "      <td>1</td>\n",
       "      <td>Кира</td>\n",
       "      <td>22</td>\n",
       "      <td>Тюмень</td>\n",
       "      <td>ultra</td>\n",
       "      <td>4028.687306</td>\n",
       "      <td>26.265803</td>\n",
       "      <td>2021-08-28</td>\n",
       "      <td>8</td>\n",
       "      <td>6</td>\n",
       "      <td>0</td>\n",
       "      <td>199</td>\n",
       "    </tr>\n",
       "    <tr>\n",
       "      <th>5</th>\n",
       "      <td>1</td>\n",
       "      <td>Кира</td>\n",
       "      <td>22</td>\n",
       "      <td>Тюмень</td>\n",
       "      <td>ultra</td>\n",
       "      <td>2770.890808</td>\n",
       "      <td>16.650138</td>\n",
       "      <td>2021-10-09</td>\n",
       "      <td>10</td>\n",
       "      <td>6</td>\n",
       "      <td>0</td>\n",
       "      <td>199</td>\n",
       "    </tr>\n",
       "    <tr>\n",
       "      <th>6</th>\n",
       "      <td>1</td>\n",
       "      <td>Кира</td>\n",
       "      <td>22</td>\n",
       "      <td>Тюмень</td>\n",
       "      <td>ultra</td>\n",
       "      <td>3039.020292</td>\n",
       "      <td>14.927879</td>\n",
       "      <td>2021-10-19</td>\n",
       "      <td>10</td>\n",
       "      <td>6</td>\n",
       "      <td>0</td>\n",
       "      <td>199</td>\n",
       "    </tr>\n",
       "    <tr>\n",
       "      <th>7</th>\n",
       "      <td>1</td>\n",
       "      <td>Кира</td>\n",
       "      <td>22</td>\n",
       "      <td>Тюмень</td>\n",
       "      <td>ultra</td>\n",
       "      <td>2842.118050</td>\n",
       "      <td>23.117468</td>\n",
       "      <td>2021-11-06</td>\n",
       "      <td>11</td>\n",
       "      <td>6</td>\n",
       "      <td>0</td>\n",
       "      <td>199</td>\n",
       "    </tr>\n",
       "    <tr>\n",
       "      <th>8</th>\n",
       "      <td>1</td>\n",
       "      <td>Кира</td>\n",
       "      <td>22</td>\n",
       "      <td>Тюмень</td>\n",
       "      <td>ultra</td>\n",
       "      <td>3412.690668</td>\n",
       "      <td>15.238072</td>\n",
       "      <td>2021-11-14</td>\n",
       "      <td>11</td>\n",
       "      <td>6</td>\n",
       "      <td>0</td>\n",
       "      <td>199</td>\n",
       "    </tr>\n",
       "    <tr>\n",
       "      <th>9</th>\n",
       "      <td>1</td>\n",
       "      <td>Кира</td>\n",
       "      <td>22</td>\n",
       "      <td>Тюмень</td>\n",
       "      <td>ultra</td>\n",
       "      <td>748.690645</td>\n",
       "      <td>15.041884</td>\n",
       "      <td>2021-11-22</td>\n",
       "      <td>11</td>\n",
       "      <td>6</td>\n",
       "      <td>0</td>\n",
       "      <td>199</td>\n",
       "    </tr>\n",
       "  </tbody>\n",
       "</table>\n",
       "</div>"
      ],
      "text/plain": [
       "   user_id  name  age    city subscription_type     distance   duration  \\\n",
       "0        1  Кира   22  Тюмень             ultra  4409.919140  25.599769   \n",
       "1        1  Кира   22  Тюмень             ultra  2617.592153  15.816871   \n",
       "2        1  Кира   22  Тюмень             ultra   754.159807   6.232113   \n",
       "3        1  Кира   22  Тюмень             ultra  2694.783254  18.511000   \n",
       "4        1  Кира   22  Тюмень             ultra  4028.687306  26.265803   \n",
       "5        1  Кира   22  Тюмень             ultra  2770.890808  16.650138   \n",
       "6        1  Кира   22  Тюмень             ultra  3039.020292  14.927879   \n",
       "7        1  Кира   22  Тюмень             ultra  2842.118050  23.117468   \n",
       "8        1  Кира   22  Тюмень             ultra  3412.690668  15.238072   \n",
       "9        1  Кира   22  Тюмень             ultra   748.690645  15.041884   \n",
       "\n",
       "        date  month  minute_price  start_ride_price  subscription_fee  \n",
       "0 2021-01-01      1             6                 0               199  \n",
       "1 2021-01-18      1             6                 0               199  \n",
       "2 2021-04-20      4             6                 0               199  \n",
       "3 2021-08-11      8             6                 0               199  \n",
       "4 2021-08-28      8             6                 0               199  \n",
       "5 2021-10-09     10             6                 0               199  \n",
       "6 2021-10-19     10             6                 0               199  \n",
       "7 2021-11-06     11             6                 0               199  \n",
       "8 2021-11-14     11             6                 0               199  \n",
       "9 2021-11-22     11             6                 0               199  "
      ]
     },
     "execution_count": 23,
     "metadata": {},
     "output_type": "execute_result"
    }
   ],
   "source": [
    "#объединим данные data_user, data_rider и data_sub в один датафрейм\n",
    "data12 = pd.merge(data_user, data_rider, on='user_id')\n",
    "data = pd.merge(data12, data_sub, on='subscription_type')\n",
    "data.head(10)"
   ]
  },
  {
   "cell_type": "markdown",
   "id": "80294f5d",
   "metadata": {},
   "source": [
    "**4.2 Создайте ещё два датафрейма из датафрейма, созданного на этапе 4.1:**"
   ]
  },
  {
   "cell_type": "markdown",
   "id": "fb3d9686",
   "metadata": {},
   "source": [
    "- c данными о пользователях без подписки;\n",
    "- с данными о пользователях с подпиской."
   ]
  },
  {
   "cell_type": "code",
   "execution_count": 24,
   "id": "8c81abcb",
   "metadata": {},
   "outputs": [],
   "source": [
    "data_ultra = data.query(\"subscription_type == 'ultra'\")\n",
    "data_free = data.query(\"subscription_type == 'free'\")"
   ]
  },
  {
   "cell_type": "markdown",
   "id": "3f1ea3f7",
   "metadata": {},
   "source": [
    "**4.3 Визуализируйте информацию о расстоянии и времени поездок для пользователей обеих категорий.**"
   ]
  },
  {
   "cell_type": "code",
   "execution_count": 25,
   "id": "634a3ae2",
   "metadata": {},
   "outputs": [
    {
     "data": {
      "text/plain": [
       "Text(0.5, 0, 'Расстояние, м.')"
      ]
     },
     "execution_count": 25,
     "metadata": {},
     "output_type": "execute_result"
    },
    {
     "data": {
      "image/png": "[encoded data removed]",
      "text/plain": [
       "<Figure size 720x360 with 1 Axes>"
      ]
     },
     "metadata": {
      "needs_background": "light"
     },
     "output_type": "display_data"
    }
   ],
   "source": [
    "#расстояние поездок пользователей с подпиской ultra\n",
    "data_ultra['distance'].hist(bins=50, figsize = (10,5))\n",
    "plt.title('Расстояние поездок у пользователей с платной подпиской')\n",
    "plt.xlabel('Расстояние, м.')"
   ]
  },
  {
   "cell_type": "code",
   "execution_count": 26,
   "id": "aeb4b640",
   "metadata": {},
   "outputs": [
    {
     "data": {
      "text/plain": [
       "count    6500.000000\n",
       "mean     3115.445388\n",
       "std       836.895330\n",
       "min       244.210438\n",
       "25%      2785.444017\n",
       "50%      3148.637229\n",
       "75%      3560.574425\n",
       "max      5699.769662\n",
       "Name: distance, dtype: float64"
      ]
     },
     "execution_count": 26,
     "metadata": {},
     "output_type": "execute_result"
    }
   ],
   "source": [
    "data_ultra['distance'].describe()"
   ]
  },
  {
   "cell_type": "code",
   "execution_count": 27,
   "id": "31b0a432",
   "metadata": {},
   "outputs": [
    {
     "data": {
      "text/plain": [
       "Text(0.5, 0, 'Время, м.')"
      ]
     },
     "execution_count": 27,
     "metadata": {},
     "output_type": "execute_result"
    },
    {
     "data": {
      "image/png": "[encoded data removed]",
      "text/plain": [
       "<Figure size 720x360 with 1 Axes>"
      ]
     },
     "metadata": {
      "needs_background": "light"
     },
     "output_type": "display_data"
    }
   ],
   "source": [
    "#продолжительность поездок пользователей с подпиской ultra\n",
    "data_ultra['duration'].hist(bins=50, figsize = (10,5))\n",
    "plt.title('Продолжительность поездок у пользователей с платной подпиской')\n",
    "plt.xlabel('Время, м.')"
   ]
  },
  {
   "cell_type": "code",
   "execution_count": 28,
   "id": "49844ccd",
   "metadata": {},
   "outputs": [
    {
     "data": {
      "text/plain": [
       "count    6500.000000\n",
       "mean       18.541985\n",
       "std         5.572048\n",
       "min         3.760353\n",
       "25%        14.524654\n",
       "50%        18.178153\n",
       "75%        21.884129\n",
       "max        40.823963\n",
       "Name: duration, dtype: float64"
      ]
     },
     "execution_count": 28,
     "metadata": {},
     "output_type": "execute_result"
    }
   ],
   "source": [
    "data_ultra['duration'].describe()"
   ]
  },
  {
   "cell_type": "code",
   "execution_count": 29,
   "id": "8f6e6dca",
   "metadata": {},
   "outputs": [
    {
     "data": {
      "text/plain": [
       "Text(0.5, 0, 'Расстояние, м.')"
      ]
     },
     "execution_count": 29,
     "metadata": {},
     "output_type": "execute_result"
    },
    {
     "data": {
      "image/png": "[encoded data removed]",
      "text/plain": [
       "<Figure size 720x360 with 1 Axes>"
      ]
     },
     "metadata": {
      "needs_background": "light"
     },
     "output_type": "display_data"
    }
   ],
   "source": [
    "#расстояние поездок пользователей с бесплатной подпиской \n",
    "data_free['distance'].hist(bins=50, figsize = (10,5))\n",
    "plt.title('Расстояние поездок у пользователей без платной подписки')\n",
    "plt.xlabel('Расстояние, м.')"
   ]
  },
  {
   "cell_type": "code",
   "execution_count": 30,
   "id": "7fd17dd5",
   "metadata": {},
   "outputs": [
    {
     "data": {
      "text/plain": [
       "count    11568.000000\n",
       "mean      3045.495282\n",
       "std       1246.173806\n",
       "min          0.855683\n",
       "25%       2366.562689\n",
       "50%       3114.648465\n",
       "75%       3905.697894\n",
       "max       7211.007745\n",
       "Name: distance, dtype: float64"
      ]
     },
     "execution_count": 30,
     "metadata": {},
     "output_type": "execute_result"
    }
   ],
   "source": [
    "data_free['distance'].describe()"
   ]
  },
  {
   "cell_type": "code",
   "execution_count": 31,
   "id": "81f1255c",
   "metadata": {},
   "outputs": [
    {
     "data": {
      "text/plain": [
       "Text(0.5, 0, 'Время, м.')"
      ]
     },
     "execution_count": 31,
     "metadata": {},
     "output_type": "execute_result"
    },
    {
     "data": {
      "image/png": "[encoded data removed]",
      "text/plain": [
       "<Figure size 720x360 with 1 Axes>"
      ]
     },
     "metadata": {
      "needs_background": "light"
     },
     "output_type": "display_data"
    }
   ],
   "source": [
    "#продолжительность поездок пользователей с бесплатной подпиской \n",
    "data_free['duration'].hist(bins=50, figsize = (10,5))\n",
    "plt.title('Продолжительность поездок у пользователей без платной подписки')\n",
    "plt.xlabel('Время, м.')"
   ]
  },
  {
   "cell_type": "code",
   "execution_count": 32,
   "id": "29a4ad93",
   "metadata": {},
   "outputs": [
    {
     "data": {
      "text/plain": [
       "count    11568.000000\n",
       "mean        17.390909\n",
       "std          6.326803\n",
       "min          0.500000\n",
       "25%         12.958437\n",
       "50%         17.326890\n",
       "75%         21.594071\n",
       "max         34.948498\n",
       "Name: duration, dtype: float64"
      ]
     },
     "execution_count": 32,
     "metadata": {},
     "output_type": "execute_result"
    }
   ],
   "source": [
    "data_free['duration'].describe()"
   ]
  },
  {
   "cell_type": "markdown",
   "id": "c259c6ac",
   "metadata": {},
   "source": [
    "**Вывод:** объединили данные о пользователях, поездках и подписках в один датафрейм. Создали ещё два датафрейма c данными о пользователях без подписки и с подпиской. В ходе визуализации информации о расстоянии и времени поездок для пользователей обеих категорий определили, что средняя дистанция почти одинаковая - 3115 и 3045 метров, а среднее продолжительности также схоже - 18 и 17 минут."
   ]
  },
  {
   "cell_type": "markdown",
   "id": "402d620f",
   "metadata": {},
   "source": [
    "#### Шаг 5. Подсчёт выручки"
   ]
  },
  {
   "cell_type": "markdown",
   "id": "ac07adf8",
   "metadata": {},
   "source": [
    "**5.1 Создайте датафрейм с агрегированными данными о поездках на основе датафрейма с объединёнными данными из шага 4: найдите суммарное расстояние, количество поездок и суммарное время для каждого пользователя за каждый месяц.**"
   ]
  },
  {
   "cell_type": "code",
   "execution_count": 33,
   "id": "19fe36b8",
   "metadata": {},
   "outputs": [
    {
     "data": {
      "text/html": [
       "<div>\n",
       "<style scoped>\n",
       "    .dataframe tbody tr th:only-of-type {\n",
       "        vertical-align: middle;\n",
       "    }\n",
       "\n",
       "    .dataframe tbody tr th {\n",
       "        vertical-align: top;\n",
       "    }\n",
       "\n",
       "    .dataframe thead th {\n",
       "        text-align: right;\n",
       "    }\n",
       "</style>\n",
       "<table border=\"1\" class=\"dataframe\">\n",
       "  <thead>\n",
       "    <tr style=\"text-align: right;\">\n",
       "      <th></th>\n",
       "      <th></th>\n",
       "      <th>distance</th>\n",
       "      <th>duration</th>\n",
       "      <th>count</th>\n",
       "      <th>subscription_type</th>\n",
       "    </tr>\n",
       "    <tr>\n",
       "      <th>user_id</th>\n",
       "      <th>month</th>\n",
       "      <th></th>\n",
       "      <th></th>\n",
       "      <th></th>\n",
       "      <th></th>\n",
       "    </tr>\n",
       "  </thead>\n",
       "  <tbody>\n",
       "    <tr>\n",
       "      <th rowspan=\"6\" valign=\"top\">1</th>\n",
       "      <th>1</th>\n",
       "      <td>7027.511294</td>\n",
       "      <td>42.0</td>\n",
       "      <td>2</td>\n",
       "      <td>ultra</td>\n",
       "    </tr>\n",
       "    <tr>\n",
       "      <th>4</th>\n",
       "      <td>754.159807</td>\n",
       "      <td>7.0</td>\n",
       "      <td>1</td>\n",
       "      <td>ultra</td>\n",
       "    </tr>\n",
       "    <tr>\n",
       "      <th>8</th>\n",
       "      <td>6723.470560</td>\n",
       "      <td>46.0</td>\n",
       "      <td>2</td>\n",
       "      <td>ultra</td>\n",
       "    </tr>\n",
       "    <tr>\n",
       "      <th>10</th>\n",
       "      <td>5809.911100</td>\n",
       "      <td>32.0</td>\n",
       "      <td>2</td>\n",
       "      <td>ultra</td>\n",
       "    </tr>\n",
       "    <tr>\n",
       "      <th>11</th>\n",
       "      <td>7003.499363</td>\n",
       "      <td>56.0</td>\n",
       "      <td>3</td>\n",
       "      <td>ultra</td>\n",
       "    </tr>\n",
       "    <tr>\n",
       "      <th>12</th>\n",
       "      <td>6751.629942</td>\n",
       "      <td>28.0</td>\n",
       "      <td>2</td>\n",
       "      <td>ultra</td>\n",
       "    </tr>\n",
       "    <tr>\n",
       "      <th rowspan=\"4\" valign=\"top\">2</th>\n",
       "      <th>3</th>\n",
       "      <td>10187.723006</td>\n",
       "      <td>63.0</td>\n",
       "      <td>3</td>\n",
       "      <td>ultra</td>\n",
       "    </tr>\n",
       "    <tr>\n",
       "      <th>4</th>\n",
       "      <td>6164.381824</td>\n",
       "      <td>40.0</td>\n",
       "      <td>2</td>\n",
       "      <td>ultra</td>\n",
       "    </tr>\n",
       "    <tr>\n",
       "      <th>6</th>\n",
       "      <td>3255.338202</td>\n",
       "      <td>14.0</td>\n",
       "      <td>1</td>\n",
       "      <td>ultra</td>\n",
       "    </tr>\n",
       "    <tr>\n",
       "      <th>7</th>\n",
       "      <td>6780.722964</td>\n",
       "      <td>48.0</td>\n",
       "      <td>2</td>\n",
       "      <td>ultra</td>\n",
       "    </tr>\n",
       "  </tbody>\n",
       "</table>\n",
       "</div>"
      ],
      "text/plain": [
       "                   distance  duration  count subscription_type\n",
       "user_id month                                                 \n",
       "1       1       7027.511294      42.0      2             ultra\n",
       "        4        754.159807       7.0      1             ultra\n",
       "        8       6723.470560      46.0      2             ultra\n",
       "        10      5809.911100      32.0      2             ultra\n",
       "        11      7003.499363      56.0      3             ultra\n",
       "        12      6751.629942      28.0      2             ultra\n",
       "2       3      10187.723006      63.0      3             ultra\n",
       "        4       6164.381824      40.0      2             ultra\n",
       "        6       3255.338202      14.0      1             ultra\n",
       "        7       6780.722964      48.0      2             ultra"
      ]
     },
     "execution_count": 33,
     "metadata": {},
     "output_type": "execute_result"
    }
   ],
   "source": [
    "#для подсчёта стоимости округлим до следующего целого числа\n",
    "import numpy as np\n",
    "\n",
    "data['duration'] = np.ceil(data['duration'])\n",
    "\n",
    "data_proceeds = data.pivot_table(index=['user_id', 'month'], values = ['distance', 'duration', 'name', 'subscription_type'], aggfunc={'distance':'sum', 'duration':'sum', 'name':'count', 'subscription_type': 'min'})\n",
    "\n",
    "data_proceeds = data_proceeds.rename(columns = {'name':'count'})\n",
    "data_proceeds.head(10)"
   ]
  },
  {
   "cell_type": "markdown",
   "id": "f8028afd",
   "metadata": {},
   "source": [
    "**5.2 В этот же датафрейм добавьте столбец с помесячной выручкой, которую принёс каждый пользователь.**"
   ]
  },
  {
   "cell_type": "markdown",
   "id": "c6818ab1",
   "metadata": {},
   "source": [
    "Помесячная выручка считается по формуле: \n",
    "стоимость старта поездки × количество поездок + стоимость одной минуты поездки × общая продолжительность всех поездок в минутах + стоимость подписки.\n",
    "\n",
    "без подписки\n",
    "- абонентская плата отсутствует;\n",
    "- стоимость одной минуты поездки — 8 рублей;\n",
    "- стоимость старта (начала поездки) — 50 рублей;\n",
    "\n",
    "с подпиской Ultra\n",
    "- абонентская плата — 199 рублей в месяц;\n",
    "- стоимость одной минуты поездки — 6 рублей;\n",
    "- стоимость старта — бесплатно."
   ]
  },
  {
   "cell_type": "code",
   "execution_count": 34,
   "id": "e7300a87",
   "metadata": {},
   "outputs": [
    {
     "data": {
      "text/html": [
       "<div>\n",
       "<style scoped>\n",
       "    .dataframe tbody tr th:only-of-type {\n",
       "        vertical-align: middle;\n",
       "    }\n",
       "\n",
       "    .dataframe tbody tr th {\n",
       "        vertical-align: top;\n",
       "    }\n",
       "\n",
       "    .dataframe thead th {\n",
       "        text-align: right;\n",
       "    }\n",
       "</style>\n",
       "<table border=\"1\" class=\"dataframe\">\n",
       "  <thead>\n",
       "    <tr style=\"text-align: right;\">\n",
       "      <th></th>\n",
       "      <th></th>\n",
       "      <th>distance</th>\n",
       "      <th>duration</th>\n",
       "      <th>count</th>\n",
       "      <th>subscription_type</th>\n",
       "      <th>proceeds</th>\n",
       "    </tr>\n",
       "    <tr>\n",
       "      <th>user_id</th>\n",
       "      <th>month</th>\n",
       "      <th></th>\n",
       "      <th></th>\n",
       "      <th></th>\n",
       "      <th></th>\n",
       "      <th></th>\n",
       "    </tr>\n",
       "  </thead>\n",
       "  <tbody>\n",
       "    <tr>\n",
       "      <th rowspan=\"5\" valign=\"top\">1</th>\n",
       "      <th>1</th>\n",
       "      <td>7027.511294</td>\n",
       "      <td>42.0</td>\n",
       "      <td>2</td>\n",
       "      <td>ultra</td>\n",
       "      <td>451.0</td>\n",
       "    </tr>\n",
       "    <tr>\n",
       "      <th>4</th>\n",
       "      <td>754.159807</td>\n",
       "      <td>7.0</td>\n",
       "      <td>1</td>\n",
       "      <td>ultra</td>\n",
       "      <td>241.0</td>\n",
       "    </tr>\n",
       "    <tr>\n",
       "      <th>8</th>\n",
       "      <td>6723.470560</td>\n",
       "      <td>46.0</td>\n",
       "      <td>2</td>\n",
       "      <td>ultra</td>\n",
       "      <td>475.0</td>\n",
       "    </tr>\n",
       "    <tr>\n",
       "      <th>10</th>\n",
       "      <td>5809.911100</td>\n",
       "      <td>32.0</td>\n",
       "      <td>2</td>\n",
       "      <td>ultra</td>\n",
       "      <td>391.0</td>\n",
       "    </tr>\n",
       "    <tr>\n",
       "      <th>11</th>\n",
       "      <td>7003.499363</td>\n",
       "      <td>56.0</td>\n",
       "      <td>3</td>\n",
       "      <td>ultra</td>\n",
       "      <td>535.0</td>\n",
       "    </tr>\n",
       "    <tr>\n",
       "      <th>...</th>\n",
       "      <th>...</th>\n",
       "      <td>...</td>\n",
       "      <td>...</td>\n",
       "      <td>...</td>\n",
       "      <td>...</td>\n",
       "      <td>...</td>\n",
       "    </tr>\n",
       "    <tr>\n",
       "      <th rowspan=\"5\" valign=\"top\">1534</th>\n",
       "      <th>6</th>\n",
       "      <td>3409.468534</td>\n",
       "      <td>26.0</td>\n",
       "      <td>2</td>\n",
       "      <td>free</td>\n",
       "      <td>308.0</td>\n",
       "    </tr>\n",
       "    <tr>\n",
       "      <th>8</th>\n",
       "      <td>7622.453034</td>\n",
       "      <td>48.0</td>\n",
       "      <td>2</td>\n",
       "      <td>free</td>\n",
       "      <td>484.0</td>\n",
       "    </tr>\n",
       "    <tr>\n",
       "      <th>9</th>\n",
       "      <td>4928.173852</td>\n",
       "      <td>23.0</td>\n",
       "      <td>1</td>\n",
       "      <td>free</td>\n",
       "      <td>234.0</td>\n",
       "    </tr>\n",
       "    <tr>\n",
       "      <th>11</th>\n",
       "      <td>13350.015305</td>\n",
       "      <td>78.0</td>\n",
       "      <td>4</td>\n",
       "      <td>free</td>\n",
       "      <td>824.0</td>\n",
       "    </tr>\n",
       "    <tr>\n",
       "      <th>12</th>\n",
       "      <td>2371.711192</td>\n",
       "      <td>16.0</td>\n",
       "      <td>1</td>\n",
       "      <td>free</td>\n",
       "      <td>178.0</td>\n",
       "    </tr>\n",
       "  </tbody>\n",
       "</table>\n",
       "<p>11331 rows × 5 columns</p>\n",
       "</div>"
      ],
      "text/plain": [
       "                   distance  duration  count subscription_type  proceeds\n",
       "user_id month                                                           \n",
       "1       1       7027.511294      42.0      2             ultra     451.0\n",
       "        4        754.159807       7.0      1             ultra     241.0\n",
       "        8       6723.470560      46.0      2             ultra     475.0\n",
       "        10      5809.911100      32.0      2             ultra     391.0\n",
       "        11      7003.499363      56.0      3             ultra     535.0\n",
       "...                     ...       ...    ...               ...       ...\n",
       "1534    6       3409.468534      26.0      2              free     308.0\n",
       "        8       7622.453034      48.0      2              free     484.0\n",
       "        9       4928.173852      23.0      1              free     234.0\n",
       "        11     13350.015305      78.0      4              free     824.0\n",
       "        12      2371.711192      16.0      1              free     178.0\n",
       "\n",
       "[11331 rows x 5 columns]"
      ]
     },
     "execution_count": 34,
     "metadata": {},
     "output_type": "execute_result"
    }
   ],
   "source": [
    "#помесячная выручка для пользователей с подпиской ultra\n",
    "data_proceeds.loc[data_proceeds['subscription_type'] == 'ultra', 'proceeds'] = (6 * data_proceeds['duration']) + 199\n",
    "\n",
    "#помесячная выручка для пользователей с подпиской free\n",
    "data_proceeds.loc[data_proceeds['subscription_type'] == 'free', 'proceeds'] =  (50 * data_proceeds['count']) + (8 * data_proceeds['duration'])\n",
    "\n",
    "data_proceeds"
   ]
  },
  {
   "cell_type": "markdown",
   "id": "0044331d",
   "metadata": {},
   "source": [
    "**Вывод:** Создали датафрейм с агрегированными данными о поездках и нашли суммарное расстояние, количество поездок и суммарное время для каждого пользователя за каждый месяц. Также Добавили столбец с помесячной выручкой для пользователей с подпиской и без."
   ]
  },
  {
   "cell_type": "markdown",
   "id": "41545ac0",
   "metadata": {},
   "source": [
    "#### Шаг 6. Проверка гипотез"
   ]
  },
  {
   "cell_type": "markdown",
   "id": "186a6aae",
   "metadata": {},
   "source": [
    "**6.1 Важно понять, тратят ли пользователи с подпиской больше времени на поездки? Если да, то пользователи с подпиской могут быть «выгоднее» для компании. Проверьте гипотезу. Используйте исходные данные о продолжительности каждой сессии — отдельно для подписчиков и тех, у кого нет подписки.**"
   ]
  },
  {
   "cell_type": "markdown",
   "id": "3efa625e",
   "metadata": {},
   "source": [
    "Визуализируя информацию о расстоянии и времени поездок для пользователей обеих категорий, мы определили, что пользователи с подпиской тратят в среднем 18 минут, в то время, как пользователи без подписки тратят на минуту меньше - 17 минут. Следовательно пользователи с подпиской ultra выгоднее. Осталось проверить гипотезу. \n",
    "\n",
    "Нулевая гипотеза - пользователи с подпиской ultra тратят столько же времени, сколько и пользователи без подписки.\n",
    "\n",
    "Альтернативная гипотеза - пользователи с подпиской ultra тратят больше времени, чем пользователи без подписки."
   ]
  },
  {
   "cell_type": "code",
   "execution_count": 35,
   "id": "896e4bea",
   "metadata": {},
   "outputs": [
    {
     "name": "stdout",
     "output_type": "stream",
     "text": [
      "p-значение: 1.2804098316645618e-34\n",
      "Отвергаем нулевую гипотезу о равенстве.\n"
     ]
    }
   ],
   "source": [
    "from scipy import stats as st\n",
    "\n",
    "alpha = 0.05\n",
    "\n",
    "results = st.ttest_ind(data_ultra['duration'], data_free['duration'], alternative = 'greater')\n",
    "print('p-значение:', results.pvalue)\n",
    "\n",
    "if results.pvalue < alpha:\n",
    "    print('Отвергаем нулевую гипотезу о равенстве.')\n",
    "else:\n",
    "    print('Не можем отвергнуть нулевую гипотезу о равенстве.')"
   ]
  },
  {
   "cell_type": "markdown",
   "id": "8359c363",
   "metadata": {},
   "source": [
    "**6.2 Расстояние одной поездки в 3130 метров — оптимальное с точки зрения износа самоката. Можно ли сказать, что среднее расстояние, которое проезжают пользователи с подпиской за одну поездку, не превышает 3130 метров? Проверьте гипотезу и сделайте выводы.**"
   ]
  },
  {
   "cell_type": "markdown",
   "id": "53e07cdb",
   "metadata": {},
   "source": [
    "Визуализируя информацию о расстоянии и времени поездок для пользователей обеих категорий, мы определили, что пользователи с подпиской ultra проезжают в среднем 3115 метров, в то время, как пользователи без подписки проезжают меньше - 3045 метров. Следовательно пользователи с подпиской ultra не превышают оптимальное расстояние, как и пользователи без подписки. Осталось проверить гипотезу. \n",
    "\n",
    "Нулевая гипотеза - пользователи с подпиской ultra проезжают расстояние равное 3130 метров.\n",
    "\n",
    "Альтернаттивная гипотеза - пользователи с подпиской ultra проезжают меньше оптимального расстояния в 3130 метров."
   ]
  },
  {
   "cell_type": "code",
   "execution_count": 36,
   "id": "5a5a7533",
   "metadata": {},
   "outputs": [
    {
     "name": "stdout",
     "output_type": "stream",
     "text": [
      "p-значение: 0.08046311521502146\n",
      "Не отвергаем нулевую гипотезу\n"
     ]
    }
   ],
   "source": [
    "optim = 3130\n",
    "alfa = 0.05\n",
    "\n",
    "results = st.ttest_1samp(data_ultra['distance'], optim, alternative='less')\n",
    "\n",
    "print('p-значение:', results.pvalue)\n",
    "\n",
    "if (results.pvalue < alpha):\n",
    "    print('Отвергаем нулевую гипотезу')\n",
    "else:\n",
    "    print('Не отвергаем нулевую гипотезу') "
   ]
  },
  {
   "cell_type": "markdown",
   "id": "4a631414",
   "metadata": {},
   "source": [
    "**6.3 Проверьте гипотезу о том, будет ли помесячная выручка от пользователей с подпиской по месяцам выше, чем выручка от пользователей без подписки. Сделайте вывод.**"
   ]
  },
  {
   "cell_type": "code",
   "execution_count": 37,
   "id": "6bca2e70",
   "metadata": {},
   "outputs": [
    {
     "data": {
      "text/plain": [
       "count    4533.000000\n",
       "mean      362.792191\n",
       "std        88.262737\n",
       "min       223.000000\n",
       "25%       301.000000\n",
       "50%       337.000000\n",
       "75%       409.000000\n",
       "max       955.000000\n",
       "Name: proceeds, dtype: float64"
      ]
     },
     "execution_count": 37,
     "metadata": {},
     "output_type": "execute_result"
    }
   ],
   "source": [
    "data_proceeds.loc[data_proceeds['subscription_type'] == 'ultra']['proceeds'].describe()"
   ]
  },
  {
   "cell_type": "code",
   "execution_count": 38,
   "id": "bd13c8d4",
   "metadata": {},
   "outputs": [
    {
     "data": {
      "text/plain": [
       "count    6798.000000\n",
       "mean      328.641365\n",
       "std       183.868330\n",
       "min        58.000000\n",
       "25%       194.000000\n",
       "50%       274.000000\n",
       "75%       428.000000\n",
       "max      1444.000000\n",
       "Name: proceeds, dtype: float64"
      ]
     },
     "execution_count": 38,
     "metadata": {},
     "output_type": "execute_result"
    }
   ],
   "source": [
    "data_proceeds.loc[data_proceeds['subscription_type'] == 'free']['proceeds'].describe()"
   ]
  },
  {
   "cell_type": "markdown",
   "id": "d6979c33",
   "metadata": {},
   "source": [
    "Исходя из данных, мы видим, что в среднем в месяц пользователи с подпиской ultra тратя 361р, в то время как пользователи без подписки тратя 325р, что на 36р меньше. Следовательно пользователи с подпиской ultra выгоднее. Осталось проверить гипотезу. \n",
    "\n",
    "Нулевая гипотеза - пользователи с подпиской ultra приносят столько же выручки, скольки и пользователи без подписки.\n",
    "\n",
    "Альтернативная гипотеза - пользователи с подпиской ultra приносят больше выручки, чем пользователи без подписки."
   ]
  },
  {
   "cell_type": "code",
   "execution_count": 39,
   "id": "3ae546ee",
   "metadata": {},
   "outputs": [
    {
     "name": "stdout",
     "output_type": "stream",
     "text": [
      "p-значение: 1.8850394384715216e-31\n",
      "Отвергаем нулевую гипотезу.\n"
     ]
    }
   ],
   "source": [
    "alfa = 0.05\n",
    "\n",
    "results = st.ttest_ind(data_proceeds.loc[data_proceeds[\"subscription_type\"] == 'ultra']['proceeds'], data_proceeds.loc[data_proceeds[\"subscription_type\"] == 'free']['proceeds'], alternative = 'greater')\n",
    "\n",
    "print('p-значение:', results.pvalue)\n",
    "\n",
    "if results.pvalue < alpha:\n",
    "    print('Отвергаем нулевую гипотезу.')\n",
    "else:\n",
    "    print('Не можем отвергнуть нулевую гипотезу.')"
   ]
  },
  {
   "cell_type": "markdown",
   "id": "6e9e7a5b",
   "metadata": {},
   "source": [
    "**6.4 Представьте такую ситуацию: техническая команда сервиса обновила сервера, с которыми взаимодействует мобильное приложение. Она надеется, что из-за этого количество обращений в техподдержку значимо снизилось. Некоторый файл содержит для каждого пользователя данные о количестве обращений до обновления и после него. Какой тест вам понадобился бы для проверки этой гипотезы?**"
   ]
  },
  {
   "cell_type": "markdown",
   "id": "92a84d1e",
   "metadata": {},
   "source": [
    "Поскольку мы будем иметь дело с двумя зависимыми выборками и будет проверяться гипотеза о равенстве среднего значения генеральной совокупности до и после изменения для проверки этой гипотезы нам бы понадобился тест scipy.stats.ttest_rel. Аргументами были бы наборы данных — парные выборки до и после изменения."
   ]
  },
  {
   "cell_type": "markdown",
   "id": "4f349848",
   "metadata": {},
   "source": [
    "**Общий вывод:**\n",
    "\n",
    "В ходе данного проекта мы:\n",
    "- Считали данные\n",
    "- Сделали предобработку данных\n",
    "- Провели исследовательский анализ\n",
    "- Объеденили данные\n",
    "- Подсчитали выручку\n",
    "- Проверили ряд гипотез\n",
    "\n",
    "В ходе проекта мы привели столбец date к типу даты pandas, создали новый столбец с номером месяца на основе столбца date, обработали пропуски и дубликаты. Выяснили, что больше всего пользователей самокатов в городе Пятигорск и Екатеринбург, меньше всего в Москве. Пользователи в возрасте 25 лет больше всего пользуются услугами самокатов. Самое большое расстояние, которое пользователь преодолел за одну поездку - примерно 3000 метро.\n",
    "\n",
    "В ходе визуализации информации о расстоянии и времени поездок для пользователей обеих категорий определили, что средняя дистанция почти одинаковая - 3115 и 3045 метров, а среднее продолжительности также схоже - 18 и 17 минут.Создали датафрейм с агрегированными данными о поездках и нашли суммарное расстояние, количество поездок и суммарное время для каждого пользователя за каждый месяц. Также Добавили столбец с помесячной выручкой для пользователей с подпиской и без.\n",
    "\n",
    "Исходя из данных можно сказать, что число пользователей с подпиской ultra и без подписки не сильно отличаются. Но пользователи с подпиской приносят прибыли больше и пользуются самокатами чуть чаще."
   ]
  }
 ],
 "metadata": {
  "ExecuteTimeLog": [
   {
    "duration": 48,
    "start_time": "2023-10-24T10:03:44.346Z"
   },
   {
    "duration": 1465,
    "start_time": "2023-10-24T10:03:51.113Z"
   },
   {
    "duration": 159,
    "start_time": "2023-10-24T10:03:54.712Z"
   },
   {
    "duration": 54,
    "start_time": "2023-10-24T10:04:47.225Z"
   },
   {
    "duration": 89,
    "start_time": "2023-10-24T10:06:35.933Z"
   },
   {
    "duration": 51,
    "start_time": "2023-10-24T10:07:31.093Z"
   },
   {
    "duration": 84,
    "start_time": "2023-10-24T10:08:25.844Z"
   },
   {
    "duration": 93,
    "start_time": "2023-10-24T10:09:14.169Z"
   },
   {
    "duration": 70,
    "start_time": "2023-10-24T10:10:18.805Z"
   },
   {
    "duration": 9,
    "start_time": "2023-10-24T10:27:53.136Z"
   },
   {
    "duration": 13,
    "start_time": "2023-10-24T10:27:55.477Z"
   },
   {
    "duration": 11,
    "start_time": "2023-10-24T10:27:56.682Z"
   },
   {
    "duration": 13,
    "start_time": "2023-10-24T10:27:57.014Z"
   },
   {
    "duration": 12,
    "start_time": "2023-10-24T10:27:59.478Z"
   },
   {
    "duration": 13,
    "start_time": "2023-10-24T10:28:00.059Z"
   },
   {
    "duration": 15,
    "start_time": "2023-10-24T10:28:44.592Z"
   },
   {
    "duration": 12,
    "start_time": "2023-10-24T10:29:20.204Z"
   },
   {
    "duration": 6,
    "start_time": "2023-10-24T10:29:41.027Z"
   },
   {
    "duration": 6,
    "start_time": "2023-10-24T10:29:56.786Z"
   },
   {
    "duration": 7,
    "start_time": "2023-10-24T10:30:35.031Z"
   },
   {
    "duration": 8,
    "start_time": "2023-10-24T10:30:56.098Z"
   },
   {
    "duration": 10,
    "start_time": "2023-10-24T10:33:47.625Z"
   },
   {
    "duration": 7,
    "start_time": "2023-10-24T10:34:10.462Z"
   },
   {
    "duration": 7,
    "start_time": "2023-10-24T10:34:12.467Z"
   },
   {
    "duration": 6,
    "start_time": "2023-10-24T10:34:18.315Z"
   },
   {
    "duration": 15,
    "start_time": "2023-10-24T10:35:01.099Z"
   },
   {
    "duration": 7,
    "start_time": "2023-10-24T10:35:19.116Z"
   },
   {
    "duration": 8,
    "start_time": "2023-10-24T10:35:54.558Z"
   },
   {
    "duration": 7,
    "start_time": "2023-10-24T10:36:18.011Z"
   },
   {
    "duration": 17,
    "start_time": "2023-10-24T10:36:40.709Z"
   },
   {
    "duration": 7,
    "start_time": "2023-10-24T10:36:42.345Z"
   },
   {
    "duration": 5,
    "start_time": "2023-10-24T10:36:43.963Z"
   },
   {
    "duration": 16,
    "start_time": "2023-10-24T10:40:02.035Z"
   },
   {
    "duration": 26,
    "start_time": "2023-10-24T10:40:05.069Z"
   },
   {
    "duration": 23,
    "start_time": "2023-10-24T10:40:07.665Z"
   },
   {
    "duration": 187,
    "start_time": "2023-10-24T10:43:23.240Z"
   },
   {
    "duration": 157,
    "start_time": "2023-10-24T10:44:45.991Z"
   },
   {
    "duration": 8,
    "start_time": "2023-10-24T10:46:24.167Z"
   },
   {
    "duration": 7,
    "start_time": "2023-10-24T10:46:41.626Z"
   },
   {
    "duration": 7,
    "start_time": "2023-10-24T10:46:55.845Z"
   },
   {
    "duration": 139,
    "start_time": "2023-10-24T10:47:17.817Z"
   },
   {
    "duration": 7,
    "start_time": "2023-10-24T10:47:28.603Z"
   },
   {
    "duration": 6,
    "start_time": "2023-10-24T10:47:29.604Z"
   },
   {
    "duration": 7,
    "start_time": "2023-10-24T10:50:29.832Z"
   },
   {
    "duration": 66,
    "start_time": "2023-10-24T10:50:31.842Z"
   },
   {
    "duration": 116,
    "start_time": "2023-10-24T10:50:45.391Z"
   },
   {
    "duration": 11,
    "start_time": "2023-10-24T10:56:31.931Z"
   },
   {
    "duration": 16,
    "start_time": "2023-10-24T10:57:03.522Z"
   },
   {
    "duration": 166,
    "start_time": "2023-10-24T10:58:47.339Z"
   },
   {
    "duration": 197,
    "start_time": "2023-10-24T11:04:22.141Z"
   },
   {
    "duration": 189,
    "start_time": "2023-10-24T11:09:20.395Z"
   },
   {
    "duration": 189,
    "start_time": "2023-10-24T11:16:30.693Z"
   },
   {
    "duration": 164,
    "start_time": "2023-10-24T11:16:40.518Z"
   },
   {
    "duration": 177,
    "start_time": "2023-10-24T11:16:46.486Z"
   },
   {
    "duration": 115,
    "start_time": "2023-10-24T11:16:52.928Z"
   },
   {
    "duration": 182,
    "start_time": "2023-10-24T11:17:04.212Z"
   },
   {
    "duration": 40,
    "start_time": "2023-10-24T11:20:48.189Z"
   },
   {
    "duration": 25,
    "start_time": "2023-10-24T11:23:24.025Z"
   },
   {
    "duration": 69,
    "start_time": "2023-10-24T11:23:58.771Z"
   },
   {
    "duration": 113,
    "start_time": "2023-10-24T11:24:07.724Z"
   },
   {
    "duration": 10,
    "start_time": "2023-10-24T11:24:09.844Z"
   },
   {
    "duration": 259,
    "start_time": "2023-10-24T12:38:27.120Z"
   },
   {
    "duration": 181,
    "start_time": "2023-10-24T12:38:58.193Z"
   },
   {
    "duration": 181,
    "start_time": "2023-10-24T12:39:21.551Z"
   },
   {
    "duration": 149,
    "start_time": "2023-10-24T12:39:39.619Z"
   },
   {
    "duration": 252,
    "start_time": "2023-10-24T12:40:16.542Z"
   },
   {
    "duration": 306,
    "start_time": "2023-10-24T12:40:29.250Z"
   },
   {
    "duration": 397,
    "start_time": "2023-10-24T12:41:51.386Z"
   },
   {
    "duration": 270,
    "start_time": "2023-10-24T12:42:53.513Z"
   },
   {
    "duration": 261,
    "start_time": "2023-10-24T12:46:53.004Z"
   },
   {
    "duration": 337,
    "start_time": "2023-10-24T12:46:55.912Z"
   },
   {
    "duration": 43,
    "start_time": "2023-10-24T13:23:16.026Z"
   },
   {
    "duration": 33,
    "start_time": "2023-10-24T13:26:35.995Z"
   },
   {
    "duration": 14,
    "start_time": "2023-10-24T13:26:45.579Z"
   },
   {
    "duration": 41,
    "start_time": "2023-10-24T13:26:52.295Z"
   },
   {
    "duration": 9,
    "start_time": "2023-10-24T13:27:04.018Z"
   },
   {
    "duration": 9,
    "start_time": "2023-10-24T13:27:39.896Z"
   },
   {
    "duration": 263,
    "start_time": "2023-10-24T13:28:30.600Z"
   },
   {
    "duration": 9,
    "start_time": "2023-10-24T13:28:42.811Z"
   },
   {
    "duration": 12,
    "start_time": "2023-10-24T13:28:56.555Z"
   },
   {
    "duration": 1517,
    "start_time": "2023-10-24T13:35:12.471Z"
   },
   {
    "duration": 1549,
    "start_time": "2023-10-24T13:35:14.301Z"
   },
   {
    "duration": 9,
    "start_time": "2023-10-24T13:35:19.830Z"
   },
   {
    "duration": 156,
    "start_time": "2023-10-24T13:43:02.714Z"
   },
   {
    "duration": 34,
    "start_time": "2023-10-24T13:45:40.276Z"
   },
   {
    "duration": 164,
    "start_time": "2023-10-24T13:48:22.622Z"
   },
   {
    "duration": 853,
    "start_time": "2023-10-24T13:58:56.374Z"
   },
   {
    "duration": 868,
    "start_time": "2023-10-24T13:59:01.615Z"
   },
   {
    "duration": 793,
    "start_time": "2023-10-24T13:59:17.514Z"
   },
   {
    "duration": 1183,
    "start_time": "2023-10-24T14:01:42.632Z"
   },
   {
    "duration": 870,
    "start_time": "2023-10-24T14:02:51.392Z"
   },
   {
    "duration": 824,
    "start_time": "2023-10-24T14:03:20.759Z"
   },
   {
    "duration": 785,
    "start_time": "2023-10-24T14:03:26.778Z"
   },
   {
    "duration": 857,
    "start_time": "2023-10-24T14:04:36.560Z"
   },
   {
    "duration": 783,
    "start_time": "2023-10-24T14:05:11.886Z"
   },
   {
    "duration": 893,
    "start_time": "2023-10-24T14:06:11.221Z"
   },
   {
    "duration": 773,
    "start_time": "2023-10-24T14:06:28.717Z"
   },
   {
    "duration": 4,
    "start_time": "2023-10-24T14:09:37.947Z"
   },
   {
    "duration": 4,
    "start_time": "2023-10-24T14:09:39.039Z"
   },
   {
    "duration": 4,
    "start_time": "2023-10-24T14:09:39.210Z"
   },
   {
    "duration": 3,
    "start_time": "2023-10-24T14:09:39.351Z"
   },
   {
    "duration": 14,
    "start_time": "2023-10-24T14:21:32.742Z"
   },
   {
    "duration": 10,
    "start_time": "2023-10-24T14:21:49.233Z"
   },
   {
    "duration": 16,
    "start_time": "2023-10-24T14:22:04.286Z"
   },
   {
    "duration": 12,
    "start_time": "2023-10-24T14:22:05.624Z"
   },
   {
    "duration": 19,
    "start_time": "2023-10-24T14:23:38.408Z"
   },
   {
    "duration": 43,
    "start_time": "2023-10-24T14:23:45.634Z"
   },
   {
    "duration": 36,
    "start_time": "2023-10-24T14:24:24.681Z"
   },
   {
    "duration": 39,
    "start_time": "2023-10-24T14:24:52.530Z"
   },
   {
    "duration": 45,
    "start_time": "2023-10-24T14:25:21.010Z"
   },
   {
    "duration": 143,
    "start_time": "2023-10-24T14:26:22.750Z"
   },
   {
    "duration": 1174,
    "start_time": "2023-10-24T14:28:17.398Z"
   },
   {
    "duration": 35,
    "start_time": "2023-10-24T14:28:18.574Z"
   },
   {
    "duration": 36,
    "start_time": "2023-10-24T14:28:18.610Z"
   },
   {
    "duration": 21,
    "start_time": "2023-10-24T14:28:18.647Z"
   },
   {
    "duration": 11,
    "start_time": "2023-10-24T14:28:18.670Z"
   },
   {
    "duration": 28,
    "start_time": "2023-10-24T14:28:18.683Z"
   },
   {
    "duration": 10,
    "start_time": "2023-10-24T14:28:18.712Z"
   },
   {
    "duration": 9,
    "start_time": "2023-10-24T14:28:18.723Z"
   },
   {
    "duration": 6,
    "start_time": "2023-10-24T14:28:18.733Z"
   },
   {
    "duration": 10,
    "start_time": "2023-10-24T14:28:18.740Z"
   },
   {
    "duration": 20,
    "start_time": "2023-10-24T14:28:18.752Z"
   },
   {
    "duration": 4,
    "start_time": "2023-10-24T14:28:18.774Z"
   },
   {
    "duration": 32,
    "start_time": "2023-10-24T14:28:18.780Z"
   },
   {
    "duration": 19,
    "start_time": "2023-10-24T14:28:18.815Z"
   },
   {
    "duration": 20,
    "start_time": "2023-10-24T14:28:18.836Z"
   },
   {
    "duration": 172,
    "start_time": "2023-10-24T14:28:18.858Z"
   },
   {
    "duration": 8,
    "start_time": "2023-10-24T14:28:19.031Z"
   },
   {
    "duration": 122,
    "start_time": "2023-10-24T14:28:19.041Z"
   },
   {
    "duration": 155,
    "start_time": "2023-10-24T14:28:19.165Z"
   },
   {
    "duration": 180,
    "start_time": "2023-10-24T14:28:19.322Z"
   },
   {
    "duration": 172,
    "start_time": "2023-10-24T14:28:19.504Z"
   },
   {
    "duration": 36,
    "start_time": "2023-10-24T14:28:19.678Z"
   },
   {
    "duration": 13,
    "start_time": "2023-10-24T14:28:19.716Z"
   },
   {
    "duration": 262,
    "start_time": "2023-10-24T14:28:19.731Z"
   },
   {
    "duration": 15,
    "start_time": "2023-10-24T14:28:19.994Z"
   },
   {
    "duration": 284,
    "start_time": "2023-10-24T14:28:20.011Z"
   },
   {
    "duration": 10,
    "start_time": "2023-10-24T14:28:20.297Z"
   },
   {
    "duration": 339,
    "start_time": "2023-10-24T14:28:20.309Z"
   },
   {
    "duration": 9,
    "start_time": "2023-10-24T14:28:20.649Z"
   },
   {
    "duration": 260,
    "start_time": "2023-10-24T14:28:20.660Z"
   },
   {
    "duration": 10,
    "start_time": "2023-10-24T14:28:20.922Z"
   },
   {
    "duration": 827,
    "start_time": "2023-10-24T14:28:20.933Z"
   },
   {
    "duration": 4,
    "start_time": "2023-10-24T14:28:21.762Z"
   },
   {
    "duration": 47,
    "start_time": "2023-10-24T14:28:21.767Z"
   },
   {
    "duration": 296,
    "start_time": "2023-10-24T17:24:00.271Z"
   },
   {
    "duration": 1417,
    "start_time": "2023-10-24T17:24:07.834Z"
   },
   {
    "duration": 100,
    "start_time": "2023-10-24T17:24:09.253Z"
   },
   {
    "duration": 172,
    "start_time": "2023-10-24T17:24:09.355Z"
   },
   {
    "duration": 65,
    "start_time": "2023-10-24T17:24:09.529Z"
   },
   {
    "duration": 11,
    "start_time": "2023-10-24T17:24:09.596Z"
   },
   {
    "duration": 13,
    "start_time": "2023-10-24T17:24:09.609Z"
   },
   {
    "duration": 6,
    "start_time": "2023-10-24T17:24:09.624Z"
   },
   {
    "duration": 22,
    "start_time": "2023-10-24T17:24:09.632Z"
   },
   {
    "duration": 35,
    "start_time": "2023-10-24T17:24:09.656Z"
   },
   {
    "duration": 10,
    "start_time": "2023-10-24T17:24:09.694Z"
   },
   {
    "duration": 13,
    "start_time": "2023-10-24T17:24:09.706Z"
   },
   {
    "duration": 5,
    "start_time": "2023-10-24T17:24:09.721Z"
   },
   {
    "duration": 34,
    "start_time": "2023-10-24T17:24:09.728Z"
   },
   {
    "duration": 24,
    "start_time": "2023-10-24T17:24:09.764Z"
   },
   {
    "duration": 26,
    "start_time": "2023-10-24T17:24:09.790Z"
   },
   {
    "duration": 177,
    "start_time": "2023-10-24T17:24:09.817Z"
   },
   {
    "duration": 8,
    "start_time": "2023-10-24T17:24:09.996Z"
   },
   {
    "duration": 163,
    "start_time": "2023-10-24T17:24:10.005Z"
   },
   {
    "duration": 171,
    "start_time": "2023-10-24T17:24:10.170Z"
   },
   {
    "duration": 179,
    "start_time": "2023-10-24T17:24:10.342Z"
   },
   {
    "duration": 199,
    "start_time": "2023-10-24T17:24:10.522Z"
   },
   {
    "duration": 27,
    "start_time": "2023-10-24T17:24:10.723Z"
   },
   {
    "duration": 26,
    "start_time": "2023-10-24T17:24:10.751Z"
   },
   {
    "duration": 272,
    "start_time": "2023-10-24T17:24:10.779Z"
   },
   {
    "duration": 15,
    "start_time": "2023-10-24T17:24:11.053Z"
   },
   {
    "duration": 272,
    "start_time": "2023-10-24T17:24:11.070Z"
   },
   {
    "duration": 8,
    "start_time": "2023-10-24T17:24:11.344Z"
   },
   {
    "duration": 352,
    "start_time": "2023-10-24T17:24:11.366Z"
   },
   {
    "duration": 8,
    "start_time": "2023-10-24T17:24:11.720Z"
   },
   {
    "duration": 274,
    "start_time": "2023-10-24T17:24:11.730Z"
   },
   {
    "duration": 9,
    "start_time": "2023-10-24T17:24:12.006Z"
   },
   {
    "duration": 850,
    "start_time": "2023-10-24T17:24:12.017Z"
   },
   {
    "duration": 4,
    "start_time": "2023-10-24T17:24:12.870Z"
   },
   {
    "duration": 49,
    "start_time": "2023-10-24T17:24:12.876Z"
   },
   {
    "duration": 4,
    "start_time": "2023-10-24T17:24:16.738Z"
   },
   {
    "duration": 140,
    "start_time": "2023-10-24T17:29:03.103Z"
   },
   {
    "duration": 135,
    "start_time": "2023-10-24T17:29:10.627Z"
   },
   {
    "duration": 7,
    "start_time": "2023-10-24T17:34:06.044Z"
   },
   {
    "duration": 6,
    "start_time": "2023-10-24T17:37:15.466Z"
   },
   {
    "duration": 718,
    "start_time": "2023-10-25T09:16:49.087Z"
   },
   {
    "duration": 1458,
    "start_time": "2023-10-25T09:16:58.726Z"
   },
   {
    "duration": 95,
    "start_time": "2023-10-25T09:17:00.186Z"
   },
   {
    "duration": 173,
    "start_time": "2023-10-25T09:17:00.283Z"
   },
   {
    "duration": 64,
    "start_time": "2023-10-25T09:17:00.458Z"
   },
   {
    "duration": 11,
    "start_time": "2023-10-25T09:17:00.523Z"
   },
   {
    "duration": 50,
    "start_time": "2023-10-25T09:17:00.536Z"
   },
   {
    "duration": 42,
    "start_time": "2023-10-25T09:17:00.588Z"
   },
   {
    "duration": 51,
    "start_time": "2023-10-25T09:17:00.631Z"
   },
   {
    "duration": 61,
    "start_time": "2023-10-25T09:17:00.684Z"
   },
   {
    "duration": 48,
    "start_time": "2023-10-25T09:17:00.748Z"
   },
   {
    "duration": 40,
    "start_time": "2023-10-25T09:17:00.797Z"
   },
   {
    "duration": 44,
    "start_time": "2023-10-25T09:17:00.838Z"
   },
   {
    "duration": 60,
    "start_time": "2023-10-25T09:17:00.883Z"
   },
   {
    "duration": 53,
    "start_time": "2023-10-25T09:17:00.944Z"
   },
   {
    "duration": 60,
    "start_time": "2023-10-25T09:17:00.999Z"
   },
   {
    "duration": 205,
    "start_time": "2023-10-25T09:17:01.061Z"
   },
   {
    "duration": 8,
    "start_time": "2023-10-25T09:17:01.268Z"
   },
   {
    "duration": 187,
    "start_time": "2023-10-25T09:17:01.278Z"
   },
   {
    "duration": 170,
    "start_time": "2023-10-25T09:17:01.467Z"
   },
   {
    "duration": 178,
    "start_time": "2023-10-25T09:17:01.638Z"
   },
   {
    "duration": 191,
    "start_time": "2023-10-25T09:17:01.818Z"
   },
   {
    "duration": 35,
    "start_time": "2023-10-25T09:17:02.011Z"
   },
   {
    "duration": 121,
    "start_time": "2023-10-25T09:17:02.048Z"
   },
   {
    "duration": 296,
    "start_time": "2023-10-25T09:17:02.170Z"
   },
   {
    "duration": 11,
    "start_time": "2023-10-25T09:17:02.467Z"
   },
   {
    "duration": 393,
    "start_time": "2023-10-25T09:17:02.480Z"
   },
   {
    "duration": 9,
    "start_time": "2023-10-25T09:17:02.875Z"
   },
   {
    "duration": 277,
    "start_time": "2023-10-25T09:17:02.888Z"
   },
   {
    "duration": 9,
    "start_time": "2023-10-25T09:17:03.166Z"
   },
   {
    "duration": 370,
    "start_time": "2023-10-25T09:17:03.176Z"
   },
   {
    "duration": 8,
    "start_time": "2023-10-25T09:17:03.547Z"
   },
   {
    "duration": 956,
    "start_time": "2023-10-25T09:17:03.557Z"
   },
   {
    "duration": 4,
    "start_time": "2023-10-25T09:17:04.514Z"
   },
   {
    "duration": 65,
    "start_time": "2023-10-25T09:17:04.520Z"
   },
   {
    "duration": 5,
    "start_time": "2023-10-25T09:17:04.587Z"
   },
   {
    "duration": 6,
    "start_time": "2023-10-25T09:25:17.111Z"
   },
   {
    "duration": 6,
    "start_time": "2023-10-25T09:26:34.282Z"
   },
   {
    "duration": 10,
    "start_time": "2023-10-25T09:33:35.617Z"
   },
   {
    "duration": 104,
    "start_time": "2023-10-25T09:35:00.486Z"
   },
   {
    "duration": 13,
    "start_time": "2023-10-25T09:35:24.957Z"
   },
   {
    "duration": 12,
    "start_time": "2023-10-25T09:36:09.524Z"
   },
   {
    "duration": 11,
    "start_time": "2023-10-25T09:36:34.574Z"
   },
   {
    "duration": 10,
    "start_time": "2023-10-25T09:40:13.668Z"
   },
   {
    "duration": 9,
    "start_time": "2023-10-25T09:40:29.522Z"
   },
   {
    "duration": 6,
    "start_time": "2023-10-25T09:48:32.415Z"
   },
   {
    "duration": 5,
    "start_time": "2023-10-25T09:50:08.135Z"
   },
   {
    "duration": 12,
    "start_time": "2023-10-25T09:51:02.606Z"
   },
   {
    "duration": 9,
    "start_time": "2023-10-25T09:51:14.492Z"
   },
   {
    "duration": 5,
    "start_time": "2023-10-25T09:51:19.950Z"
   },
   {
    "duration": 8,
    "start_time": "2023-10-25T09:51:58.323Z"
   },
   {
    "duration": 5,
    "start_time": "2023-10-25T09:52:05.170Z"
   },
   {
    "duration": 11,
    "start_time": "2023-10-25T09:52:19.222Z"
   },
   {
    "duration": 5,
    "start_time": "2023-10-25T09:52:24.334Z"
   },
   {
    "duration": 5,
    "start_time": "2023-10-25T09:52:24.805Z"
   },
   {
    "duration": 7,
    "start_time": "2023-10-25T10:12:43.168Z"
   },
   {
    "duration": 6,
    "start_time": "2023-10-25T10:26:02.091Z"
   },
   {
    "duration": 6,
    "start_time": "2023-10-25T10:26:26.084Z"
   },
   {
    "duration": 10,
    "start_time": "2023-10-25T10:26:54.969Z"
   },
   {
    "duration": 200,
    "start_time": "2023-10-25T10:45:20.859Z"
   },
   {
    "duration": 241,
    "start_time": "2023-10-25T10:45:33.299Z"
   },
   {
    "duration": 335,
    "start_time": "2023-10-25T10:45:44.474Z"
   },
   {
    "duration": 184,
    "start_time": "2023-10-25T10:46:01.206Z"
   },
   {
    "duration": 2118,
    "start_time": "2023-10-25T11:53:18.054Z"
   },
   {
    "duration": 89,
    "start_time": "2023-10-25T11:53:20.175Z"
   },
   {
    "duration": 104,
    "start_time": "2023-10-25T11:53:20.266Z"
   },
   {
    "duration": 73,
    "start_time": "2023-10-25T11:53:20.377Z"
   },
   {
    "duration": 22,
    "start_time": "2023-10-25T11:53:20.456Z"
   },
   {
    "duration": 70,
    "start_time": "2023-10-25T11:53:20.480Z"
   },
   {
    "duration": 10,
    "start_time": "2023-10-25T11:53:20.552Z"
   },
   {
    "duration": 11,
    "start_time": "2023-10-25T11:53:20.565Z"
   },
   {
    "duration": 7,
    "start_time": "2023-10-25T11:53:20.578Z"
   },
   {
    "duration": 80,
    "start_time": "2023-10-25T11:53:20.588Z"
   },
   {
    "duration": 34,
    "start_time": "2023-10-25T11:53:20.672Z"
   },
   {
    "duration": 47,
    "start_time": "2023-10-25T11:53:20.707Z"
   },
   {
    "duration": 37,
    "start_time": "2023-10-25T11:53:20.756Z"
   },
   {
    "duration": 80,
    "start_time": "2023-10-25T11:53:20.795Z"
   },
   {
    "duration": 89,
    "start_time": "2023-10-25T11:53:20.878Z"
   },
   {
    "duration": 506,
    "start_time": "2023-10-25T11:53:20.972Z"
   },
   {
    "duration": 72,
    "start_time": "2023-10-25T11:53:21.481Z"
   },
   {
    "duration": 397,
    "start_time": "2023-10-25T11:53:21.559Z"
   },
   {
    "duration": 434,
    "start_time": "2023-10-25T11:53:21.958Z"
   },
   {
    "duration": 497,
    "start_time": "2023-10-25T11:53:22.393Z"
   },
   {
    "duration": 573,
    "start_time": "2023-10-25T11:53:22.892Z"
   },
   {
    "duration": 92,
    "start_time": "2023-10-25T11:53:23.467Z"
   },
   {
    "duration": 17,
    "start_time": "2023-10-25T11:53:23.567Z"
   },
   {
    "duration": 564,
    "start_time": "2023-10-25T11:53:23.586Z"
   },
   {
    "duration": 17,
    "start_time": "2023-10-25T11:53:24.153Z"
   },
   {
    "duration": 587,
    "start_time": "2023-10-25T11:53:24.172Z"
   },
   {
    "duration": 11,
    "start_time": "2023-10-25T11:53:24.766Z"
   },
   {
    "duration": 789,
    "start_time": "2023-10-25T11:53:24.781Z"
   },
   {
    "duration": 12,
    "start_time": "2023-10-25T11:53:25.576Z"
   },
   {
    "duration": 571,
    "start_time": "2023-10-25T11:53:25.589Z"
   },
   {
    "duration": 17,
    "start_time": "2023-10-25T11:53:26.164Z"
   },
   {
    "duration": 2786,
    "start_time": "2023-10-25T11:53:26.184Z"
   },
   {
    "duration": 5,
    "start_time": "2023-10-25T11:53:28.975Z"
   },
   {
    "duration": 171,
    "start_time": "2023-10-25T11:53:28.982Z"
   },
   {
    "duration": 13,
    "start_time": "2023-10-25T11:53:29.161Z"
   },
   {
    "duration": 21,
    "start_time": "2023-10-25T11:53:29.176Z"
   },
   {
    "duration": 16,
    "start_time": "2023-10-25T11:53:29.246Z"
   },
   {
    "duration": 16,
    "start_time": "2023-10-25T11:53:29.265Z"
   },
   {
    "duration": 76,
    "start_time": "2023-10-25T11:53:29.283Z"
   },
   {
    "duration": 132,
    "start_time": "2023-10-25T12:51:50.677Z"
   },
   {
    "duration": 25,
    "start_time": "2023-10-25T12:54:01.169Z"
   },
   {
    "duration": 10,
    "start_time": "2023-10-25T12:55:43.505Z"
   },
   {
    "duration": 97,
    "start_time": "2023-10-25T13:34:07.207Z"
   },
   {
    "duration": 102,
    "start_time": "2023-10-25T13:34:13.806Z"
   },
   {
    "duration": 163,
    "start_time": "2023-10-25T13:34:20.824Z"
   },
   {
    "duration": 107,
    "start_time": "2023-10-25T13:34:32.628Z"
   },
   {
    "duration": 57,
    "start_time": "2023-10-25T15:48:17.190Z"
   },
   {
    "duration": 1525,
    "start_time": "2023-10-25T15:48:24.621Z"
   },
   {
    "duration": 97,
    "start_time": "2023-10-25T15:48:26.148Z"
   },
   {
    "duration": 87,
    "start_time": "2023-10-25T15:48:26.247Z"
   },
   {
    "duration": 65,
    "start_time": "2023-10-25T15:48:26.336Z"
   },
   {
    "duration": 12,
    "start_time": "2023-10-25T15:48:26.403Z"
   },
   {
    "duration": 20,
    "start_time": "2023-10-25T15:48:26.416Z"
   },
   {
    "duration": 8,
    "start_time": "2023-10-25T15:48:26.438Z"
   },
   {
    "duration": 7,
    "start_time": "2023-10-25T15:48:26.448Z"
   },
   {
    "duration": 5,
    "start_time": "2023-10-25T15:48:26.457Z"
   },
   {
    "duration": 8,
    "start_time": "2023-10-25T15:48:26.464Z"
   },
   {
    "duration": 11,
    "start_time": "2023-10-25T15:48:26.473Z"
   },
   {
    "duration": 4,
    "start_time": "2023-10-25T15:48:26.486Z"
   },
   {
    "duration": 44,
    "start_time": "2023-10-25T15:48:26.491Z"
   },
   {
    "duration": 22,
    "start_time": "2023-10-25T15:48:26.537Z"
   },
   {
    "duration": 16,
    "start_time": "2023-10-25T15:48:26.561Z"
   },
   {
    "duration": 214,
    "start_time": "2023-10-25T15:48:26.578Z"
   },
   {
    "duration": 10,
    "start_time": "2023-10-25T15:48:26.793Z"
   },
   {
    "duration": 95,
    "start_time": "2023-10-25T15:48:26.804Z"
   },
   {
    "duration": 196,
    "start_time": "2023-10-25T15:48:26.901Z"
   },
   {
    "duration": 192,
    "start_time": "2023-10-25T15:48:27.099Z"
   },
   {
    "duration": 202,
    "start_time": "2023-10-25T15:48:27.292Z"
   },
   {
    "duration": 36,
    "start_time": "2023-10-25T15:48:27.495Z"
   },
   {
    "duration": 13,
    "start_time": "2023-10-25T15:48:27.534Z"
   },
   {
    "duration": 208,
    "start_time": "2023-10-25T15:48:27.548Z"
   },
   {
    "duration": 9,
    "start_time": "2023-10-25T15:48:27.758Z"
   },
   {
    "duration": 214,
    "start_time": "2023-10-25T15:48:27.768Z"
   },
   {
    "duration": 8,
    "start_time": "2023-10-25T15:48:27.984Z"
   },
   {
    "duration": 289,
    "start_time": "2023-10-25T15:48:27.995Z"
   },
   {
    "duration": 9,
    "start_time": "2023-10-25T15:48:28.285Z"
   },
   {
    "duration": 204,
    "start_time": "2023-10-25T15:48:28.295Z"
   },
   {
    "duration": 9,
    "start_time": "2023-10-25T15:48:28.501Z"
   },
   {
    "duration": 860,
    "start_time": "2023-10-25T15:48:28.511Z"
   },
   {
    "duration": 5,
    "start_time": "2023-10-25T15:48:29.373Z"
   },
   {
    "duration": 58,
    "start_time": "2023-10-25T15:48:29.379Z"
   },
   {
    "duration": 5,
    "start_time": "2023-10-25T15:48:29.440Z"
   },
   {
    "duration": 8,
    "start_time": "2023-10-25T15:48:29.446Z"
   },
   {
    "duration": 10,
    "start_time": "2023-10-25T15:48:29.456Z"
   },
   {
    "duration": 8,
    "start_time": "2023-10-25T15:48:29.467Z"
   },
   {
    "duration": 9,
    "start_time": "2023-10-25T15:48:29.477Z"
   },
   {
    "duration": 160,
    "start_time": "2023-10-25T15:49:47.836Z"
   },
   {
    "duration": 177,
    "start_time": "2023-10-25T15:50:07.997Z"
   },
   {
    "duration": 188,
    "start_time": "2023-10-25T15:50:27.618Z"
   },
   {
    "duration": 190,
    "start_time": "2023-10-25T15:50:39.586Z"
   },
   {
    "duration": 205,
    "start_time": "2023-10-25T15:51:03.398Z"
   },
   {
    "duration": 324,
    "start_time": "2023-10-25T15:51:20.674Z"
   },
   {
    "duration": 208,
    "start_time": "2023-10-25T15:52:34.270Z"
   },
   {
    "duration": 878,
    "start_time": "2023-10-25T15:54:03.192Z"
   },
   {
    "duration": 816,
    "start_time": "2023-10-25T15:54:19.036Z"
   },
   {
    "duration": 2544,
    "start_time": "2023-10-25T15:55:04.188Z"
   },
   {
    "duration": 1231,
    "start_time": "2023-10-25T15:55:13.964Z"
   },
   {
    "duration": 1162,
    "start_time": "2023-10-25T15:55:45.279Z"
   },
   {
    "duration": 39,
    "start_time": "2023-10-25T15:55:46.443Z"
   },
   {
    "duration": 37,
    "start_time": "2023-10-25T15:55:46.485Z"
   },
   {
    "duration": 23,
    "start_time": "2023-10-25T15:55:46.524Z"
   },
   {
    "duration": 37,
    "start_time": "2023-10-25T15:55:46.549Z"
   },
   {
    "duration": 65,
    "start_time": "2023-10-25T15:55:46.588Z"
   },
   {
    "duration": 109,
    "start_time": "2023-10-25T15:55:46.655Z"
   },
   {
    "duration": 44,
    "start_time": "2023-10-25T15:55:46.766Z"
   },
   {
    "duration": 22,
    "start_time": "2023-10-25T15:55:46.811Z"
   },
   {
    "duration": 36,
    "start_time": "2023-10-25T15:55:46.835Z"
   },
   {
    "duration": 44,
    "start_time": "2023-10-25T15:55:46.873Z"
   },
   {
    "duration": 41,
    "start_time": "2023-10-25T15:55:46.919Z"
   },
   {
    "duration": 47,
    "start_time": "2023-10-25T15:55:46.962Z"
   },
   {
    "duration": 36,
    "start_time": "2023-10-25T15:55:47.012Z"
   },
   {
    "duration": 28,
    "start_time": "2023-10-25T15:55:47.050Z"
   },
   {
    "duration": 176,
    "start_time": "2023-10-25T15:55:47.079Z"
   },
   {
    "duration": 9,
    "start_time": "2023-10-25T15:55:47.257Z"
   },
   {
    "duration": 135,
    "start_time": "2023-10-25T15:55:47.267Z"
   },
   {
    "duration": 199,
    "start_time": "2023-10-25T15:55:47.404Z"
   },
   {
    "duration": 183,
    "start_time": "2023-10-25T15:55:47.604Z"
   },
   {
    "duration": 193,
    "start_time": "2023-10-25T15:55:47.788Z"
   },
   {
    "duration": 24,
    "start_time": "2023-10-25T15:55:47.983Z"
   },
   {
    "duration": 24,
    "start_time": "2023-10-25T15:55:48.009Z"
   },
   {
    "duration": 219,
    "start_time": "2023-10-25T15:55:48.035Z"
   },
   {
    "duration": 8,
    "start_time": "2023-10-25T15:55:48.256Z"
   },
   {
    "duration": 244,
    "start_time": "2023-10-25T15:55:48.266Z"
   },
   {
    "duration": 15,
    "start_time": "2023-10-25T15:55:48.512Z"
   },
   {
    "duration": 303,
    "start_time": "2023-10-25T15:55:48.529Z"
   },
   {
    "duration": 8,
    "start_time": "2023-10-25T15:55:48.833Z"
   },
   {
    "duration": 214,
    "start_time": "2023-10-25T15:55:48.843Z"
   },
   {
    "duration": 8,
    "start_time": "2023-10-25T15:55:49.058Z"
   },
   {
    "duration": 112,
    "start_time": "2023-10-25T15:55:49.068Z"
   },
   {
    "duration": 0,
    "start_time": "2023-10-25T15:55:49.181Z"
   },
   {
    "duration": 0,
    "start_time": "2023-10-25T15:55:49.183Z"
   },
   {
    "duration": 0,
    "start_time": "2023-10-25T15:55:49.184Z"
   },
   {
    "duration": 0,
    "start_time": "2023-10-25T15:55:49.185Z"
   },
   {
    "duration": 0,
    "start_time": "2023-10-25T15:55:49.186Z"
   },
   {
    "duration": 0,
    "start_time": "2023-10-25T15:55:49.187Z"
   },
   {
    "duration": 910,
    "start_time": "2023-10-25T15:57:12.197Z"
   },
   {
    "duration": 47,
    "start_time": "2023-10-25T15:57:18.611Z"
   },
   {
    "duration": 7,
    "start_time": "2023-10-25T15:57:22.399Z"
   },
   {
    "duration": 6,
    "start_time": "2023-10-25T15:57:25.177Z"
   },
   {
    "duration": 13,
    "start_time": "2023-10-25T15:57:42.019Z"
   },
   {
    "duration": 12,
    "start_time": "2023-10-25T15:58:03.999Z"
   },
   {
    "duration": 9,
    "start_time": "2023-10-25T15:58:11.776Z"
   },
   {
    "duration": 47,
    "start_time": "2023-10-27T08:54:17.802Z"
   },
   {
    "duration": 1326,
    "start_time": "2023-10-27T08:54:28.118Z"
   },
   {
    "duration": 87,
    "start_time": "2023-10-27T08:54:29.446Z"
   },
   {
    "duration": 78,
    "start_time": "2023-10-27T08:54:29.535Z"
   },
   {
    "duration": 62,
    "start_time": "2023-10-27T08:54:29.615Z"
   },
   {
    "duration": 11,
    "start_time": "2023-10-27T08:54:29.678Z"
   },
   {
    "duration": 18,
    "start_time": "2023-10-27T08:54:29.690Z"
   },
   {
    "duration": 5,
    "start_time": "2023-10-27T08:54:29.710Z"
   },
   {
    "duration": 8,
    "start_time": "2023-10-27T08:54:29.717Z"
   },
   {
    "duration": 5,
    "start_time": "2023-10-27T08:54:29.727Z"
   },
   {
    "duration": 6,
    "start_time": "2023-10-27T08:54:29.734Z"
   },
   {
    "duration": 12,
    "start_time": "2023-10-27T08:54:29.741Z"
   },
   {
    "duration": 4,
    "start_time": "2023-10-27T08:54:29.754Z"
   },
   {
    "duration": 15,
    "start_time": "2023-10-27T08:54:29.760Z"
   },
   {
    "duration": 48,
    "start_time": "2023-10-27T08:54:29.777Z"
   },
   {
    "duration": 16,
    "start_time": "2023-10-27T08:54:29.827Z"
   },
   {
    "duration": 209,
    "start_time": "2023-10-27T08:54:29.845Z"
   },
   {
    "duration": 7,
    "start_time": "2023-10-27T08:54:30.055Z"
   },
   {
    "duration": 34,
    "start_time": "2023-10-27T08:54:30.064Z"
   },
   {
    "duration": 78,
    "start_time": "2023-10-27T08:54:30.100Z"
   },
   {
    "duration": 206,
    "start_time": "2023-10-27T08:54:30.179Z"
   },
   {
    "duration": 196,
    "start_time": "2023-10-27T08:54:30.387Z"
   },
   {
    "duration": 234,
    "start_time": "2023-10-27T08:54:30.584Z"
   },
   {
    "duration": 178,
    "start_time": "2023-10-27T08:54:30.819Z"
   },
   {
    "duration": 109,
    "start_time": "2023-10-27T08:54:30.999Z"
   },
   {
    "duration": 579,
    "start_time": "2023-10-27T08:54:31.110Z"
   },
   {
    "duration": 33,
    "start_time": "2023-10-27T08:54:31.692Z"
   },
   {
    "duration": 603,
    "start_time": "2023-10-27T08:54:31.727Z"
   },
   {
    "duration": 253,
    "start_time": "2023-10-27T08:54:32.335Z"
   },
   {
    "duration": 443,
    "start_time": "2023-10-27T08:54:32.590Z"
   },
   {
    "duration": 67,
    "start_time": "2023-10-27T08:54:33.035Z"
   },
   {
    "duration": 597,
    "start_time": "2023-10-27T08:54:33.104Z"
   },
   {
    "duration": 313,
    "start_time": "2023-10-27T08:54:33.703Z"
   },
   {
    "duration": 1098,
    "start_time": "2023-10-27T08:54:34.018Z"
   },
   {
    "duration": 44,
    "start_time": "2023-10-27T08:54:35.118Z"
   },
   {
    "duration": 5,
    "start_time": "2023-10-27T08:54:35.163Z"
   },
   {
    "duration": 5,
    "start_time": "2023-10-27T08:54:35.170Z"
   },
   {
    "duration": 12,
    "start_time": "2023-10-27T08:54:35.177Z"
   },
   {
    "duration": 39,
    "start_time": "2023-10-27T08:54:35.191Z"
   },
   {
    "duration": 9,
    "start_time": "2023-10-27T08:54:35.232Z"
   },
   {
    "duration": 5,
    "start_time": "2023-10-27T08:58:29.343Z"
   },
   {
    "duration": 6,
    "start_time": "2023-10-27T08:58:49.892Z"
   },
   {
    "duration": 1181,
    "start_time": "2023-10-27T11:51:12.193Z"
   },
   {
    "duration": 86,
    "start_time": "2023-10-27T11:51:13.376Z"
   },
   {
    "duration": 78,
    "start_time": "2023-10-27T11:51:13.464Z"
   },
   {
    "duration": 62,
    "start_time": "2023-10-27T11:51:13.544Z"
   },
   {
    "duration": 10,
    "start_time": "2023-10-27T11:51:13.607Z"
   },
   {
    "duration": 41,
    "start_time": "2023-10-27T11:51:13.619Z"
   },
   {
    "duration": 34,
    "start_time": "2023-10-27T11:51:13.662Z"
   },
   {
    "duration": 33,
    "start_time": "2023-10-27T11:51:13.698Z"
   },
   {
    "duration": 26,
    "start_time": "2023-10-27T11:51:13.733Z"
   },
   {
    "duration": 47,
    "start_time": "2023-10-27T11:51:13.762Z"
   },
   {
    "duration": 40,
    "start_time": "2023-10-27T11:51:13.811Z"
   },
   {
    "duration": 22,
    "start_time": "2023-10-27T11:51:13.852Z"
   },
   {
    "duration": 40,
    "start_time": "2023-10-27T11:51:13.876Z"
   },
   {
    "duration": 52,
    "start_time": "2023-10-27T11:51:13.918Z"
   },
   {
    "duration": 30,
    "start_time": "2023-10-27T11:51:13.972Z"
   },
   {
    "duration": 197,
    "start_time": "2023-10-27T11:51:14.003Z"
   },
   {
    "duration": 9,
    "start_time": "2023-10-27T11:51:14.201Z"
   },
   {
    "duration": 34,
    "start_time": "2023-10-27T11:51:14.211Z"
   },
   {
    "duration": 106,
    "start_time": "2023-10-27T11:51:14.246Z"
   },
   {
    "duration": 165,
    "start_time": "2023-10-27T11:51:14.354Z"
   },
   {
    "duration": 180,
    "start_time": "2023-10-27T11:51:14.520Z"
   },
   {
    "duration": 180,
    "start_time": "2023-10-27T11:51:14.701Z"
   },
   {
    "duration": 31,
    "start_time": "2023-10-27T11:51:14.882Z"
   },
   {
    "duration": 22,
    "start_time": "2023-10-27T11:51:14.914Z"
   },
   {
    "duration": 195,
    "start_time": "2023-10-27T11:51:14.938Z"
   },
   {
    "duration": 8,
    "start_time": "2023-10-27T11:51:15.135Z"
   },
   {
    "duration": 221,
    "start_time": "2023-10-27T11:51:15.145Z"
   },
   {
    "duration": 8,
    "start_time": "2023-10-27T11:51:15.369Z"
   },
   {
    "duration": 304,
    "start_time": "2023-10-27T11:51:15.379Z"
   },
   {
    "duration": 8,
    "start_time": "2023-10-27T11:51:15.684Z"
   },
   {
    "duration": 211,
    "start_time": "2023-10-27T11:51:15.693Z"
   },
   {
    "duration": 10,
    "start_time": "2023-10-27T11:51:15.905Z"
   },
   {
    "duration": 888,
    "start_time": "2023-10-27T11:51:15.917Z"
   },
   {
    "duration": 42,
    "start_time": "2023-10-27T11:51:16.807Z"
   },
   {
    "duration": 6,
    "start_time": "2023-10-27T11:51:16.850Z"
   },
   {
    "duration": 64,
    "start_time": "2023-10-27T11:51:16.858Z"
   },
   {
    "duration": 53,
    "start_time": "2023-10-27T11:51:16.924Z"
   },
   {
    "duration": 25,
    "start_time": "2023-10-27T11:51:16.979Z"
   },
   {
    "duration": 40,
    "start_time": "2023-10-27T11:51:17.006Z"
   },
   {
    "duration": 1238,
    "start_time": "2023-10-27T11:51:55.052Z"
   },
   {
    "duration": 52,
    "start_time": "2023-10-27T11:51:56.292Z"
   },
   {
    "duration": 36,
    "start_time": "2023-10-27T11:51:56.347Z"
   },
   {
    "duration": 22,
    "start_time": "2023-10-27T11:51:56.384Z"
   },
   {
    "duration": 10,
    "start_time": "2023-10-27T11:51:56.408Z"
   },
   {
    "duration": 17,
    "start_time": "2023-10-27T11:51:56.420Z"
   },
   {
    "duration": 6,
    "start_time": "2023-10-27T11:51:56.439Z"
   },
   {
    "duration": 8,
    "start_time": "2023-10-27T11:51:56.447Z"
   },
   {
    "duration": 5,
    "start_time": "2023-10-27T11:51:56.457Z"
   },
   {
    "duration": 9,
    "start_time": "2023-10-27T11:51:56.463Z"
   },
   {
    "duration": 9,
    "start_time": "2023-10-27T11:51:56.506Z"
   },
   {
    "duration": 32,
    "start_time": "2023-10-27T11:51:56.517Z"
   },
   {
    "duration": 17,
    "start_time": "2023-10-27T11:51:56.551Z"
   },
   {
    "duration": 30,
    "start_time": "2023-10-27T11:51:56.572Z"
   },
   {
    "duration": 25,
    "start_time": "2023-10-27T11:51:56.603Z"
   },
   {
    "duration": 199,
    "start_time": "2023-10-27T11:51:56.630Z"
   },
   {
    "duration": 8,
    "start_time": "2023-10-27T11:51:56.831Z"
   },
   {
    "duration": 21,
    "start_time": "2023-10-27T11:51:56.840Z"
   },
   {
    "duration": 81,
    "start_time": "2023-10-27T11:51:56.862Z"
   },
   {
    "duration": 183,
    "start_time": "2023-10-27T11:51:56.945Z"
   },
   {
    "duration": 188,
    "start_time": "2023-10-27T11:51:57.130Z"
   },
   {
    "duration": 187,
    "start_time": "2023-10-27T11:51:57.320Z"
   },
   {
    "duration": 26,
    "start_time": "2023-10-27T11:51:57.508Z"
   },
   {
    "duration": 12,
    "start_time": "2023-10-27T11:51:57.536Z"
   },
   {
    "duration": 206,
    "start_time": "2023-10-27T11:51:57.549Z"
   },
   {
    "duration": 8,
    "start_time": "2023-10-27T11:51:57.757Z"
   },
   {
    "duration": 219,
    "start_time": "2023-10-27T11:51:57.766Z"
   },
   {
    "duration": 8,
    "start_time": "2023-10-27T11:51:57.986Z"
   },
   {
    "duration": 311,
    "start_time": "2023-10-27T11:51:57.995Z"
   },
   {
    "duration": 8,
    "start_time": "2023-10-27T11:51:58.307Z"
   },
   {
    "duration": 203,
    "start_time": "2023-10-27T11:51:58.316Z"
   },
   {
    "duration": 9,
    "start_time": "2023-10-27T11:51:58.521Z"
   },
   {
    "duration": 849,
    "start_time": "2023-10-27T11:51:58.531Z"
   },
   {
    "duration": 41,
    "start_time": "2023-10-27T11:51:59.382Z"
   },
   {
    "duration": 70,
    "start_time": "2023-10-27T11:51:59.424Z"
   },
   {
    "duration": 7,
    "start_time": "2023-10-27T11:51:59.495Z"
   },
   {
    "duration": 14,
    "start_time": "2023-10-27T11:51:59.503Z"
   },
   {
    "duration": 9,
    "start_time": "2023-10-27T11:51:59.518Z"
   },
   {
    "duration": 9,
    "start_time": "2023-10-27T11:51:59.529Z"
   },
   {
    "duration": 300,
    "start_time": "2023-10-27T13:38:46.214Z"
   },
   {
    "duration": 7,
    "start_time": "2023-10-27T13:39:58.162Z"
   },
   {
    "duration": 1517,
    "start_time": "2023-10-27T13:40:10.212Z"
   },
   {
    "duration": 102,
    "start_time": "2023-10-27T13:40:11.733Z"
   },
   {
    "duration": 218,
    "start_time": "2023-10-27T13:40:11.838Z"
   },
   {
    "duration": 141,
    "start_time": "2023-10-27T13:40:12.059Z"
   },
   {
    "duration": 13,
    "start_time": "2023-10-27T13:40:12.202Z"
   },
   {
    "duration": 39,
    "start_time": "2023-10-27T13:40:12.217Z"
   },
   {
    "duration": 11,
    "start_time": "2023-10-27T13:40:12.259Z"
   },
   {
    "duration": 78,
    "start_time": "2023-10-27T13:40:12.272Z"
   },
   {
    "duration": 42,
    "start_time": "2023-10-27T13:40:12.352Z"
   },
   {
    "duration": 104,
    "start_time": "2023-10-27T13:40:12.397Z"
   },
   {
    "duration": 79,
    "start_time": "2023-10-27T13:40:12.503Z"
   },
   {
    "duration": 32,
    "start_time": "2023-10-27T13:40:12.584Z"
   },
   {
    "duration": 55,
    "start_time": "2023-10-27T13:40:12.617Z"
   },
   {
    "duration": 42,
    "start_time": "2023-10-27T13:40:12.674Z"
   },
   {
    "duration": 44,
    "start_time": "2023-10-27T13:40:12.718Z"
   },
   {
    "duration": 281,
    "start_time": "2023-10-27T13:40:12.764Z"
   },
   {
    "duration": 8,
    "start_time": "2023-10-27T13:40:13.047Z"
   },
   {
    "duration": 35,
    "start_time": "2023-10-27T13:40:13.056Z"
   },
   {
    "duration": 100,
    "start_time": "2023-10-27T13:40:13.093Z"
   },
   {
    "duration": 186,
    "start_time": "2023-10-27T13:40:13.195Z"
   },
   {
    "duration": 213,
    "start_time": "2023-10-27T13:40:13.383Z"
   },
   {
    "duration": 201,
    "start_time": "2023-10-27T13:40:13.598Z"
   },
   {
    "duration": 43,
    "start_time": "2023-10-27T13:40:13.801Z"
   },
   {
    "duration": 14,
    "start_time": "2023-10-27T13:40:13.845Z"
   },
   {
    "duration": 240,
    "start_time": "2023-10-27T13:40:13.861Z"
   },
   {
    "duration": 7,
    "start_time": "2023-10-27T13:40:14.103Z"
   },
   {
    "duration": 280,
    "start_time": "2023-10-27T13:40:14.112Z"
   },
   {
    "duration": 8,
    "start_time": "2023-10-27T13:40:14.395Z"
   },
   {
    "duration": 345,
    "start_time": "2023-10-27T13:40:14.404Z"
   },
   {
    "duration": 9,
    "start_time": "2023-10-27T13:40:14.751Z"
   },
   {
    "duration": 223,
    "start_time": "2023-10-27T13:40:14.761Z"
   },
   {
    "duration": 7,
    "start_time": "2023-10-27T13:40:14.986Z"
   },
   {
    "duration": 1002,
    "start_time": "2023-10-27T13:40:14.995Z"
   },
   {
    "duration": 62,
    "start_time": "2023-10-27T13:40:15.999Z"
   },
   {
    "duration": 86,
    "start_time": "2023-10-27T13:40:16.063Z"
   },
   {
    "duration": 197,
    "start_time": "2023-10-27T13:40:16.151Z"
   },
   {
    "duration": 156,
    "start_time": "2023-10-27T13:40:16.350Z"
   },
   {
    "duration": 187,
    "start_time": "2023-10-27T13:40:16.507Z"
   },
   {
    "duration": 75,
    "start_time": "2023-10-27T13:40:16.696Z"
   },
   {
    "duration": 176,
    "start_time": "2023-10-27T13:42:57.185Z"
   },
   {
    "duration": 7,
    "start_time": "2023-10-27T13:47:34.767Z"
   },
   {
    "duration": 1251,
    "start_time": "2023-10-27T13:50:35.045Z"
   },
   {
    "duration": 44,
    "start_time": "2023-10-27T13:50:36.298Z"
   },
   {
    "duration": 99,
    "start_time": "2023-10-27T13:50:36.344Z"
   },
   {
    "duration": 162,
    "start_time": "2023-10-27T13:50:36.445Z"
   },
   {
    "duration": 71,
    "start_time": "2023-10-27T13:50:36.610Z"
   },
   {
    "duration": 274,
    "start_time": "2023-10-27T13:50:36.683Z"
   },
   {
    "duration": 87,
    "start_time": "2023-10-27T13:50:36.959Z"
   },
   {
    "duration": 216,
    "start_time": "2023-10-27T13:50:37.048Z"
   },
   {
    "duration": 179,
    "start_time": "2023-10-27T13:50:37.266Z"
   },
   {
    "duration": 150,
    "start_time": "2023-10-27T13:50:37.447Z"
   },
   {
    "duration": 182,
    "start_time": "2023-10-27T13:50:37.598Z"
   },
   {
    "duration": 85,
    "start_time": "2023-10-27T13:50:37.782Z"
   },
   {
    "duration": 315,
    "start_time": "2023-10-27T13:50:37.869Z"
   },
   {
    "duration": 176,
    "start_time": "2023-10-27T13:50:38.187Z"
   },
   {
    "duration": 145,
    "start_time": "2023-10-27T13:50:38.365Z"
   },
   {
    "duration": 351,
    "start_time": "2023-10-27T13:50:38.511Z"
   },
   {
    "duration": 6,
    "start_time": "2023-10-27T13:50:38.864Z"
   },
   {
    "duration": 116,
    "start_time": "2023-10-27T13:50:38.872Z"
   },
   {
    "duration": 76,
    "start_time": "2023-10-27T13:50:38.990Z"
   },
   {
    "duration": 195,
    "start_time": "2023-10-27T13:50:39.067Z"
   },
   {
    "duration": 203,
    "start_time": "2023-10-27T13:50:39.264Z"
   },
   {
    "duration": 202,
    "start_time": "2023-10-27T13:50:39.469Z"
   },
   {
    "duration": 25,
    "start_time": "2023-10-27T13:50:39.673Z"
   },
   {
    "duration": 32,
    "start_time": "2023-10-27T13:50:39.700Z"
   },
   {
    "duration": 223,
    "start_time": "2023-10-27T13:50:39.736Z"
   },
   {
    "duration": 10,
    "start_time": "2023-10-27T13:50:39.961Z"
   },
   {
    "duration": 504,
    "start_time": "2023-10-27T13:50:39.972Z"
   },
   {
    "duration": 8,
    "start_time": "2023-10-27T13:50:40.478Z"
   },
   {
    "duration": 382,
    "start_time": "2023-10-27T13:50:40.487Z"
   },
   {
    "duration": 11,
    "start_time": "2023-10-27T13:50:40.871Z"
   },
   {
    "duration": 293,
    "start_time": "2023-10-27T13:50:40.884Z"
   },
   {
    "duration": 9,
    "start_time": "2023-10-27T13:50:41.179Z"
   },
   {
    "duration": 869,
    "start_time": "2023-10-27T13:50:41.191Z"
   },
   {
    "duration": 39,
    "start_time": "2023-10-27T13:50:42.062Z"
   },
   {
    "duration": 33,
    "start_time": "2023-10-27T13:50:42.103Z"
   },
   {
    "duration": 19,
    "start_time": "2023-10-27T13:50:42.139Z"
   },
   {
    "duration": 124,
    "start_time": "2023-10-27T13:50:42.159Z"
   },
   {
    "duration": 107,
    "start_time": "2023-10-27T13:50:42.285Z"
   },
   {
    "duration": 182,
    "start_time": "2023-10-27T13:50:42.394Z"
   },
   {
    "duration": 2097,
    "start_time": "2023-10-27T14:38:26.511Z"
   },
   {
    "duration": 40,
    "start_time": "2023-10-27T14:38:28.610Z"
   },
   {
    "duration": 80,
    "start_time": "2023-10-27T14:38:28.651Z"
   },
   {
    "duration": 81,
    "start_time": "2023-10-27T14:38:28.733Z"
   },
   {
    "duration": 11,
    "start_time": "2023-10-27T14:38:28.822Z"
   },
   {
    "duration": 26,
    "start_time": "2023-10-27T14:38:28.834Z"
   },
   {
    "duration": 14,
    "start_time": "2023-10-27T14:38:28.910Z"
   },
   {
    "duration": 20,
    "start_time": "2023-10-27T14:38:28.925Z"
   },
   {
    "duration": 7,
    "start_time": "2023-10-27T14:38:28.946Z"
   },
   {
    "duration": 67,
    "start_time": "2023-10-27T14:38:28.954Z"
   },
   {
    "duration": 10,
    "start_time": "2023-10-27T14:38:29.023Z"
   },
   {
    "duration": 79,
    "start_time": "2023-10-27T14:38:29.035Z"
   },
   {
    "duration": 215,
    "start_time": "2023-10-27T14:38:29.116Z"
   },
   {
    "duration": 76,
    "start_time": "2023-10-27T14:38:29.334Z"
   },
   {
    "duration": 21,
    "start_time": "2023-10-27T14:38:29.421Z"
   },
   {
    "duration": 397,
    "start_time": "2023-10-27T14:38:29.444Z"
   },
   {
    "duration": 7,
    "start_time": "2023-10-27T14:38:29.843Z"
   },
   {
    "duration": 71,
    "start_time": "2023-10-27T14:38:29.851Z"
   },
   {
    "duration": 187,
    "start_time": "2023-10-27T14:38:29.925Z"
   },
   {
    "duration": 397,
    "start_time": "2023-10-27T14:38:30.115Z"
   },
   {
    "duration": 434,
    "start_time": "2023-10-27T14:38:30.514Z"
   },
   {
    "duration": 462,
    "start_time": "2023-10-27T14:38:30.950Z"
   },
   {
    "duration": 30,
    "start_time": "2023-10-27T14:38:31.413Z"
   },
   {
    "duration": 77,
    "start_time": "2023-10-27T14:38:31.445Z"
   },
   {
    "duration": 515,
    "start_time": "2023-10-27T14:38:31.524Z"
   },
   {
    "duration": 8,
    "start_time": "2023-10-27T14:38:32.040Z"
   },
   {
    "duration": 522,
    "start_time": "2023-10-27T14:38:32.106Z"
   },
   {
    "duration": 9,
    "start_time": "2023-10-27T14:38:32.630Z"
   },
   {
    "duration": 605,
    "start_time": "2023-10-27T14:38:32.640Z"
   },
   {
    "duration": 74,
    "start_time": "2023-10-27T14:38:33.246Z"
   },
   {
    "duration": 494,
    "start_time": "2023-10-27T14:38:33.326Z"
   },
   {
    "duration": 11,
    "start_time": "2023-10-27T14:38:33.822Z"
   },
   {
    "duration": 1500,
    "start_time": "2023-10-27T14:38:33.834Z"
   },
   {
    "duration": 106,
    "start_time": "2023-10-27T14:38:35.336Z"
   },
   {
    "duration": 7,
    "start_time": "2023-10-27T14:38:35.444Z"
   },
   {
    "duration": 15,
    "start_time": "2023-10-27T14:38:35.507Z"
   },
   {
    "duration": 29,
    "start_time": "2023-10-27T14:38:35.525Z"
   },
   {
    "duration": 69,
    "start_time": "2023-10-27T14:38:35.556Z"
   },
   {
    "duration": 75,
    "start_time": "2023-10-27T14:38:35.627Z"
   }
  ],
  "kernelspec": {
   "display_name": "Python 3 (ipykernel)",
   "language": "python",
   "name": "python3"
  },
  "language_info": {
   "codemirror_mode": {
    "name": "ipython",
    "version": 3
   },
   "file_extension": ".py",
   "mimetype": "text/x-python",
   "name": "python",
   "nbconvert_exporter": "python",
   "pygments_lexer": "ipython3",
   "version": "3.9.5"
  },
  "toc": {
   "base_numbering": 1,
   "nav_menu": {},
   "number_sections": true,
   "sideBar": true,
   "skip_h1_title": true,
   "title_cell": "Table of Contents",
   "title_sidebar": "Contents",
   "toc_cell": false,
   "toc_position": {},
   "toc_section_display": true,
   "toc_window_display": false
  }
 },
 "nbformat": 4,
 "nbformat_minor": 5
}
