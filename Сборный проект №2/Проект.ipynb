{
 "cells": [
  {
   "cell_type": "markdown",
   "metadata": {},
   "source": [
    "# Сборный проект №2"
   ]
  },
  {
   "cell_type": "markdown",
   "metadata": {},
   "source": [
    "## Описание проекта"
   ]
  },
  {
   "cell_type": "markdown",
   "metadata": {},
   "source": [
    "Вы работаете в стартапе, который продаёт продукты питания. Нужно разобраться, как ведут себя пользователи вашего мобильного приложения. \n",
    "\n",
    "Изучите воронку продаж. Узнайте, как пользователи доходят до покупки. Сколько пользователей доходит до покупки, а сколько — «застревает» на предыдущих шагах? На каких именно?\n",
    "\n",
    "После этого исследуйте результаты A/A/B-эксперимента. Дизайнеры захотели поменять шрифты во всём приложении, а менеджеры испугались, что пользователям будет непривычно. Договорились принять решение по результатам A/A/B-теста. Пользователей разбили на 3 группы: 2 контрольные со старыми шрифтами и одну экспериментальную — с новыми. Выясните, какой шрифт лучше.\n",
    "\n",
    "Создание двух групп A вместо одной имеет определённые преимущества. Если две контрольные группы окажутся равны, вы можете быть уверены в точности проведенного тестирования. Если же между значениями A и A будут существенные различия, это поможет обнаружить факторы, которые привели к искажению результатов. Сравнение контрольных групп также помогает понять, сколько времени и данных потребуется для дальнейших тестов.\n",
    "\n",
    "В случае общей аналитики и A/A/B-эксперимента работайте с одними и теми же данными. В реальных проектах всегда идут эксперименты. Аналитики исследуют качество работы приложения по общим данным, не учитывая принадлежность пользователей к экспериментам."
   ]
  },
  {
   "cell_type": "markdown",
   "metadata": {},
   "source": [
    "**Содержание работы**\n",
    "- Описание данных\n",
    "- Шаг 1. Откроем файл с данными и изучим общую информацию\n",
    "- Шаг 2. Подготовим данные\n",
    "- Шаг 3. Изучим и проверим данные\n",
    "- Шаг 4. Изучим воронку событий\n",
    "- Шаг 5. Изучим результаты эксперимента\n",
    "- Итоговые выводы"
   ]
  },
  {
   "cell_type": "markdown",
   "metadata": {},
   "source": [
    "## Описание данных"
   ]
  },
  {
   "cell_type": "markdown",
   "metadata": {},
   "source": [
    "Каждая запись в логе — это действие пользователя, или событие.\n",
    "\n",
    "- EventName — название события;\n",
    "- DeviceIDHash — уникальный идентификатор пользователя;\n",
    "- EventTimestamp — время события;\n",
    "- ExpId — номер эксперимента: 246 и 247 — контрольные группы, а 248 — экспериментальная.\n",
    "\n",
    "**Путь к файлу: /datasets/logs_exp.csv**"
   ]
  },
  {
   "cell_type": "markdown",
   "metadata": {},
   "source": [
    "## Шаг 1. Откроем файл с данными и изучим общую информацию"
   ]
  },
  {
   "cell_type": "code",
   "execution_count": 1,
   "metadata": {},
   "outputs": [],
   "source": [
    "#Импорт библиотек\n",
    "import pandas as pd\n",
    "import numpy as np\n",
    "import datetime as dt\n",
    "import matplotlib.pyplot as plt\n",
    "import seaborn as sns\n",
    "from IPython.display import display\n",
    "import math as mth\n",
    "from scipy import stats as st"
   ]
  },
  {
   "cell_type": "code",
   "execution_count": 2,
   "metadata": {},
   "outputs": [
    {
     "name": "stdout",
     "output_type": "stream",
     "text": [
      "<class 'pandas.core.frame.DataFrame'>\n",
      "RangeIndex: 244126 entries, 0 to 244125\n",
      "Data columns (total 4 columns):\n",
      " #   Column          Non-Null Count   Dtype \n",
      "---  ------          --------------   ----- \n",
      " 0   EventName       244126 non-null  object\n",
      " 1   DeviceIDHash    244126 non-null  int64 \n",
      " 2   EventTimestamp  244126 non-null  int64 \n",
      " 3   ExpId           244126 non-null  int64 \n",
      "dtypes: int64(3), object(1)\n",
      "memory usage: 7.5+ MB\n"
     ]
    },
    {
     "data": {
      "text/html": [
       "<div>\n",
       "<style scoped>\n",
       "    .dataframe tbody tr th:only-of-type {\n",
       "        vertical-align: middle;\n",
       "    }\n",
       "\n",
       "    .dataframe tbody tr th {\n",
       "        vertical-align: top;\n",
       "    }\n",
       "\n",
       "    .dataframe thead th {\n",
       "        text-align: right;\n",
       "    }\n",
       "</style>\n",
       "<table border=\"1\" class=\"dataframe\">\n",
       "  <thead>\n",
       "    <tr style=\"text-align: right;\">\n",
       "      <th></th>\n",
       "      <th>EventName</th>\n",
       "      <th>DeviceIDHash</th>\n",
       "      <th>EventTimestamp</th>\n",
       "      <th>ExpId</th>\n",
       "    </tr>\n",
       "  </thead>\n",
       "  <tbody>\n",
       "    <tr>\n",
       "      <th>0</th>\n",
       "      <td>MainScreenAppear</td>\n",
       "      <td>4575588528974610257</td>\n",
       "      <td>1564029816</td>\n",
       "      <td>246</td>\n",
       "    </tr>\n",
       "    <tr>\n",
       "      <th>1</th>\n",
       "      <td>MainScreenAppear</td>\n",
       "      <td>7416695313311560658</td>\n",
       "      <td>1564053102</td>\n",
       "      <td>246</td>\n",
       "    </tr>\n",
       "    <tr>\n",
       "      <th>2</th>\n",
       "      <td>PaymentScreenSuccessful</td>\n",
       "      <td>3518123091307005509</td>\n",
       "      <td>1564054127</td>\n",
       "      <td>248</td>\n",
       "    </tr>\n",
       "    <tr>\n",
       "      <th>3</th>\n",
       "      <td>CartScreenAppear</td>\n",
       "      <td>3518123091307005509</td>\n",
       "      <td>1564054127</td>\n",
       "      <td>248</td>\n",
       "    </tr>\n",
       "    <tr>\n",
       "      <th>4</th>\n",
       "      <td>PaymentScreenSuccessful</td>\n",
       "      <td>6217807653094995999</td>\n",
       "      <td>1564055322</td>\n",
       "      <td>248</td>\n",
       "    </tr>\n",
       "  </tbody>\n",
       "</table>\n",
       "</div>"
      ],
      "text/plain": [
       "                 EventName         DeviceIDHash  EventTimestamp  ExpId\n",
       "0         MainScreenAppear  4575588528974610257      1564029816    246\n",
       "1         MainScreenAppear  7416695313311560658      1564053102    246\n",
       "2  PaymentScreenSuccessful  3518123091307005509      1564054127    248\n",
       "3         CartScreenAppear  3518123091307005509      1564054127    248\n",
       "4  PaymentScreenSuccessful  6217807653094995999      1564055322    248"
      ]
     },
     "execution_count": 2,
     "metadata": {},
     "output_type": "execute_result"
    }
   ],
   "source": [
    "#Объявимм переменную data и прочитаем файл\n",
    "data = pd.read_csv('/datasets/logs_exp.csv', sep = '\\t')\n",
    "data.info()\n",
    "data.head()"
   ]
  },
  {
   "cell_type": "markdown",
   "metadata": {},
   "source": [
    "**Вывод**\n",
    "\n",
    "- названия столбцов записанные некорректно, имеют заглавные буквы\n",
    "- пропусков нет"
   ]
  },
  {
   "cell_type": "markdown",
   "metadata": {},
   "source": [
    "## Шаг 2. Подготовим данные\n"
   ]
  },
  {
   "cell_type": "code",
   "execution_count": 3,
   "metadata": {
    "scrolled": true
   },
   "outputs": [
    {
     "data": {
      "text/html": [
       "<div>\n",
       "<style scoped>\n",
       "    .dataframe tbody tr th:only-of-type {\n",
       "        vertical-align: middle;\n",
       "    }\n",
       "\n",
       "    .dataframe tbody tr th {\n",
       "        vertical-align: top;\n",
       "    }\n",
       "\n",
       "    .dataframe thead th {\n",
       "        text-align: right;\n",
       "    }\n",
       "</style>\n",
       "<table border=\"1\" class=\"dataframe\">\n",
       "  <thead>\n",
       "    <tr style=\"text-align: right;\">\n",
       "      <th></th>\n",
       "      <th>event</th>\n",
       "      <th>device</th>\n",
       "      <th>timestamp</th>\n",
       "      <th>group</th>\n",
       "    </tr>\n",
       "  </thead>\n",
       "  <tbody>\n",
       "    <tr>\n",
       "      <th>0</th>\n",
       "      <td>MainScreenAppear</td>\n",
       "      <td>4575588528974610257</td>\n",
       "      <td>1564029816</td>\n",
       "      <td>246</td>\n",
       "    </tr>\n",
       "    <tr>\n",
       "      <th>1</th>\n",
       "      <td>MainScreenAppear</td>\n",
       "      <td>7416695313311560658</td>\n",
       "      <td>1564053102</td>\n",
       "      <td>246</td>\n",
       "    </tr>\n",
       "  </tbody>\n",
       "</table>\n",
       "</div>"
      ],
      "text/plain": [
       "              event               device   timestamp  group\n",
       "0  MainScreenAppear  4575588528974610257  1564029816    246\n",
       "1  MainScreenAppear  7416695313311560658  1564053102    246"
      ]
     },
     "execution_count": 3,
     "metadata": {},
     "output_type": "execute_result"
    }
   ],
   "source": [
    "#Заменим названия столбцов на удобные\n",
    "data = data.rename(columns={'EventName':'event','DeviceIDHash':'device', 'EventTimestamp':'timestamp', 'ExpId':'group'})\n",
    "data.head(2)"
   ]
  },
  {
   "cell_type": "code",
   "execution_count": 4,
   "metadata": {},
   "outputs": [
    {
     "data": {
      "text/plain": [
       "413"
      ]
     },
     "execution_count": 4,
     "metadata": {},
     "output_type": "execute_result"
    }
   ],
   "source": [
    "#Проверим дубликаты\n",
    "data.duplicated().sum()"
   ]
  },
  {
   "cell_type": "code",
   "execution_count": 5,
   "metadata": {},
   "outputs": [
    {
     "name": "stdout",
     "output_type": "stream",
     "text": [
      "<class 'pandas.core.frame.DataFrame'>\n",
      "Int64Index: 243713 entries, 0 to 244125\n",
      "Data columns (total 4 columns):\n",
      " #   Column     Non-Null Count   Dtype \n",
      "---  ------     --------------   ----- \n",
      " 0   event      243713 non-null  object\n",
      " 1   device     243713 non-null  int64 \n",
      " 2   timestamp  243713 non-null  int64 \n",
      " 3   group      243713 non-null  int64 \n",
      "dtypes: int64(3), object(1)\n",
      "memory usage: 9.3+ MB\n"
     ]
    }
   ],
   "source": [
    "# Удалим дубликаты\n",
    "data = data.drop_duplicates()\n",
    "data.info()"
   ]
  },
  {
   "cell_type": "code",
   "execution_count": 6,
   "metadata": {},
   "outputs": [
    {
     "data": {
      "text/html": [
       "<div>\n",
       "<style scoped>\n",
       "    .dataframe tbody tr th:only-of-type {\n",
       "        vertical-align: middle;\n",
       "    }\n",
       "\n",
       "    .dataframe tbody tr th {\n",
       "        vertical-align: top;\n",
       "    }\n",
       "\n",
       "    .dataframe thead th {\n",
       "        text-align: right;\n",
       "    }\n",
       "</style>\n",
       "<table border=\"1\" class=\"dataframe\">\n",
       "  <thead>\n",
       "    <tr style=\"text-align: right;\">\n",
       "      <th></th>\n",
       "      <th>event</th>\n",
       "      <th>device</th>\n",
       "      <th>timestamp</th>\n",
       "      <th>group</th>\n",
       "      <th>datetime</th>\n",
       "      <th>date</th>\n",
       "    </tr>\n",
       "  </thead>\n",
       "  <tbody>\n",
       "    <tr>\n",
       "      <th>0</th>\n",
       "      <td>MainScreenAppear</td>\n",
       "      <td>4575588528974610257</td>\n",
       "      <td>1564029816</td>\n",
       "      <td>246</td>\n",
       "      <td>2019-07-25 04:43:36</td>\n",
       "      <td>2019-07-25</td>\n",
       "    </tr>\n",
       "    <tr>\n",
       "      <th>1</th>\n",
       "      <td>MainScreenAppear</td>\n",
       "      <td>7416695313311560658</td>\n",
       "      <td>1564053102</td>\n",
       "      <td>246</td>\n",
       "      <td>2019-07-25 11:11:42</td>\n",
       "      <td>2019-07-25</td>\n",
       "    </tr>\n",
       "    <tr>\n",
       "      <th>2</th>\n",
       "      <td>PaymentScreenSuccessful</td>\n",
       "      <td>3518123091307005509</td>\n",
       "      <td>1564054127</td>\n",
       "      <td>248</td>\n",
       "      <td>2019-07-25 11:28:47</td>\n",
       "      <td>2019-07-25</td>\n",
       "    </tr>\n",
       "    <tr>\n",
       "      <th>3</th>\n",
       "      <td>CartScreenAppear</td>\n",
       "      <td>3518123091307005509</td>\n",
       "      <td>1564054127</td>\n",
       "      <td>248</td>\n",
       "      <td>2019-07-25 11:28:47</td>\n",
       "      <td>2019-07-25</td>\n",
       "    </tr>\n",
       "    <tr>\n",
       "      <th>4</th>\n",
       "      <td>PaymentScreenSuccessful</td>\n",
       "      <td>6217807653094995999</td>\n",
       "      <td>1564055322</td>\n",
       "      <td>248</td>\n",
       "      <td>2019-07-25 11:48:42</td>\n",
       "      <td>2019-07-25</td>\n",
       "    </tr>\n",
       "    <tr>\n",
       "      <th>5</th>\n",
       "      <td>CartScreenAppear</td>\n",
       "      <td>6217807653094995999</td>\n",
       "      <td>1564055323</td>\n",
       "      <td>248</td>\n",
       "      <td>2019-07-25 11:48:43</td>\n",
       "      <td>2019-07-25</td>\n",
       "    </tr>\n",
       "    <tr>\n",
       "      <th>6</th>\n",
       "      <td>OffersScreenAppear</td>\n",
       "      <td>8351860793733343758</td>\n",
       "      <td>1564066242</td>\n",
       "      <td>246</td>\n",
       "      <td>2019-07-25 14:50:42</td>\n",
       "      <td>2019-07-25</td>\n",
       "    </tr>\n",
       "    <tr>\n",
       "      <th>7</th>\n",
       "      <td>MainScreenAppear</td>\n",
       "      <td>5682100281902512875</td>\n",
       "      <td>1564085677</td>\n",
       "      <td>246</td>\n",
       "      <td>2019-07-25 20:14:37</td>\n",
       "      <td>2019-07-25</td>\n",
       "    </tr>\n",
       "    <tr>\n",
       "      <th>8</th>\n",
       "      <td>MainScreenAppear</td>\n",
       "      <td>1850981295691852772</td>\n",
       "      <td>1564086702</td>\n",
       "      <td>247</td>\n",
       "      <td>2019-07-25 20:31:42</td>\n",
       "      <td>2019-07-25</td>\n",
       "    </tr>\n",
       "    <tr>\n",
       "      <th>9</th>\n",
       "      <td>MainScreenAppear</td>\n",
       "      <td>5407636962369102641</td>\n",
       "      <td>1564112112</td>\n",
       "      <td>246</td>\n",
       "      <td>2019-07-26 03:35:12</td>\n",
       "      <td>2019-07-26</td>\n",
       "    </tr>\n",
       "  </tbody>\n",
       "</table>\n",
       "</div>"
      ],
      "text/plain": [
       "                     event               device   timestamp  group  \\\n",
       "0         MainScreenAppear  4575588528974610257  1564029816    246   \n",
       "1         MainScreenAppear  7416695313311560658  1564053102    246   \n",
       "2  PaymentScreenSuccessful  3518123091307005509  1564054127    248   \n",
       "3         CartScreenAppear  3518123091307005509  1564054127    248   \n",
       "4  PaymentScreenSuccessful  6217807653094995999  1564055322    248   \n",
       "5         CartScreenAppear  6217807653094995999  1564055323    248   \n",
       "6       OffersScreenAppear  8351860793733343758  1564066242    246   \n",
       "7         MainScreenAppear  5682100281902512875  1564085677    246   \n",
       "8         MainScreenAppear  1850981295691852772  1564086702    247   \n",
       "9         MainScreenAppear  5407636962369102641  1564112112    246   \n",
       "\n",
       "             datetime       date  \n",
       "0 2019-07-25 04:43:36 2019-07-25  \n",
       "1 2019-07-25 11:11:42 2019-07-25  \n",
       "2 2019-07-25 11:28:47 2019-07-25  \n",
       "3 2019-07-25 11:28:47 2019-07-25  \n",
       "4 2019-07-25 11:48:42 2019-07-25  \n",
       "5 2019-07-25 11:48:43 2019-07-25  \n",
       "6 2019-07-25 14:50:42 2019-07-25  \n",
       "7 2019-07-25 20:14:37 2019-07-25  \n",
       "8 2019-07-25 20:31:42 2019-07-25  \n",
       "9 2019-07-26 03:35:12 2019-07-26  "
      ]
     },
     "execution_count": 6,
     "metadata": {},
     "output_type": "execute_result"
    }
   ],
   "source": [
    "#Добавим столбец даты и времени, а также отдельный столбец дат\n",
    "data['datetime'] = pd.to_datetime(data['timestamp'], unit='s')\n",
    "data['date'] = data['datetime'].dt.date.astype('datetime64')\n",
    "data.head(10)"
   ]
  },
  {
   "cell_type": "code",
   "execution_count": 7,
   "metadata": {},
   "outputs": [
    {
     "data": {
      "text/plain": [
       "7551"
      ]
     },
     "execution_count": 7,
     "metadata": {},
     "output_type": "execute_result"
    }
   ],
   "source": [
    "devices = data['device'].nunique()\n",
    "devices"
   ]
  },
  {
   "cell_type": "code",
   "execution_count": 8,
   "metadata": {},
   "outputs": [
    {
     "name": "stdout",
     "output_type": "stream",
     "text": [
      "в группе \"246\" : 2489 уникальных пользоватлей\n",
      "в группе \"247\" : 2520 уникальных пользоватлей\n",
      "в группе \"248\" : 2542 уникальных пользоватлей\n",
      "Всего: 7551\n"
     ]
    }
   ],
   "source": [
    "#проверим попадание пользователей в несколько групп одновременно\n",
    "a_one= data.query('group == 246')['device'].nunique()\n",
    "a_two= data.query('group == 247')['device'].nunique()\n",
    "b_group= data.query('group == 248')['device'].nunique()\n",
    "print('в группе \"246\" :', a_one, 'уникальных пользоватлей')\n",
    "print('в группе \"247\" :', a_two, 'уникальных пользоватлей')\n",
    "print('в группе \"248\" :', b_group, 'уникальных пользоватлей')\n",
    "print('Всего:', a_one + a_two + b_group)"
   ]
  },
  {
   "cell_type": "markdown",
   "metadata": {},
   "source": [
    "**Вывод**\n",
    "\n",
    "- заменили названия столбцов\n",
    "- удалили дубликаты, проверили пропуски\n",
    "- добавили столбец даты и времени, также отдельный столбец для дат\n",
    "\n",
    "- Сумма уникальных пользователей по группам совпадает с количеством уникальных пользователей во всём датасете, значит каждый пользователь находится только в одной группе."
   ]
  },
  {
   "cell_type": "markdown",
   "metadata": {},
   "source": [
    "## Шаг 3. Изучим и проверим данные\n"
   ]
  },
  {
   "cell_type": "markdown",
   "metadata": {},
   "source": [
    "**1. Сколько всего событий в логе?**"
   ]
  },
  {
   "cell_type": "code",
   "execution_count": 9,
   "metadata": {},
   "outputs": [
    {
     "name": "stdout",
     "output_type": "stream",
     "text": [
      "5\n"
     ]
    }
   ],
   "source": [
    "#найдем количетво вариантов событий\n",
    "print(len(data['event'].value_counts()))"
   ]
  },
  {
   "cell_type": "code",
   "execution_count": 10,
   "metadata": {},
   "outputs": [
    {
     "name": "stdout",
     "output_type": "stream",
     "text": [
      "243713\n"
     ]
    }
   ],
   "source": [
    "#найдем количество событий в логе\n",
    "print(len(data['event']))"
   ]
  },
  {
   "cell_type": "code",
   "execution_count": 11,
   "metadata": {},
   "outputs": [
    {
     "data": {
      "text/plain": [
       "MainScreenAppear           119101\n",
       "OffersScreenAppear          46808\n",
       "CartScreenAppear            42668\n",
       "PaymentScreenSuccessful     34118\n",
       "Tutorial                     1018\n",
       "Name: event, dtype: int64"
      ]
     },
     "execution_count": 11,
     "metadata": {},
     "output_type": "execute_result"
    }
   ],
   "source": [
    "#посмотрим на количество событий каждого вида\n",
    "data['event'].value_counts()"
   ]
  },
  {
   "cell_type": "markdown",
   "metadata": {},
   "source": [
    "**2. Сколько всего пользователей в логе?**"
   ]
  },
  {
   "cell_type": "code",
   "execution_count": 12,
   "metadata": {},
   "outputs": [
    {
     "name": "stdout",
     "output_type": "stream",
     "text": [
      "7551\n"
     ]
    }
   ],
   "source": [
    "print(len(data['device'].value_counts()))"
   ]
  },
  {
   "cell_type": "markdown",
   "metadata": {},
   "source": [
    "**3. Сколько в среднем событий приходится на пользователя?**"
   ]
  },
  {
   "cell_type": "code",
   "execution_count": 13,
   "metadata": {},
   "outputs": [
    {
     "name": "stdout",
     "output_type": "stream",
     "text": [
      "32.3\n"
     ]
    }
   ],
   "source": [
    "data_events = data.pivot_table(index='device',values='event',aggfunc='count')\n",
    "print(round(data_events['event'].mean(), 1))"
   ]
  },
  {
   "cell_type": "code",
   "execution_count": 14,
   "metadata": {},
   "outputs": [
    {
     "data": {
      "text/plain": [
       "count    7551.000000\n",
       "mean       32.275593\n",
       "std        65.154219\n",
       "min         1.000000\n",
       "25%         9.000000\n",
       "50%        20.000000\n",
       "75%        37.000000\n",
       "max      2307.000000\n",
       "Name: event, dtype: float64"
      ]
     },
     "execution_count": 14,
     "metadata": {},
     "output_type": "execute_result"
    }
   ],
   "source": [
    "#посмотрим распределение Кол-ва событий на пользователя:\n",
    "event_per_user = data.groupby('device')['event'].count()\n",
    "event_per_user.describe()"
   ]
  },
  {
   "cell_type": "code",
   "execution_count": 15,
   "metadata": {
    "scrolled": true
   },
   "outputs": [
    {
     "data": {
      "image/png": "[encoded data removed]",
      "text/plain": [
       "<Figure size 1080x288 with 1 Axes>"
      ]
     },
     "metadata": {
      "needs_background": "light"
     },
     "output_type": "display_data"
    }
   ],
   "source": [
    "plt.figure(figsize=(15,4))\n",
    "plt.hist(event_per_user, bins=100, range=(200,2310)) \n",
    "plt.xlabel('Кол-во пользователей')\n",
    "plt.grid()\n",
    "plt.ylabel('Кол-во событий')\n",
    "plt.title('Кол-ва событий на пользователя')\n",
    "plt.show()"
   ]
  },
  {
   "cell_type": "markdown",
   "metadata": {},
   "source": [
    "Есть выбросы, которые искажают средний показатель. Рациональнее будет взять медианое значение, а именно 20.\n",
    "\n",
    "Значит 20 событий приходится на пользователя"
   ]
  },
  {
   "cell_type": "markdown",
   "metadata": {},
   "source": [
    "**4. Данными за какой период вы располагаете? Найдите максимальную и минимальную дату. Изучите, как меняется количество данных: постройте столбчатую диаграмму, которая отобразит количество событий в зависимости от времени в разрезе групп. Можно ли быть уверенным, что у вас одинаково полные данные за весь период? Технически в логи новых дней по некоторым пользователям могут «доезжать» события из прошлого — это может «перекашивать данные». Определите, с какого момента данные полные и отбросьте более старые. Данными за какой период времени вы располагаете на самом деле?**"
   ]
  },
  {
   "cell_type": "code",
   "execution_count": 16,
   "metadata": {},
   "outputs": [
    {
     "name": "stdout",
     "output_type": "stream",
     "text": [
      "Минимальная дата 2019-07-25 00:00:00\n",
      "Максимальная дата 2019-08-07 00:00:00\n"
     ]
    }
   ],
   "source": [
    "print('Минимальная дата', data['date'].min())\n",
    "print('Максимальная дата', data['date'].max())"
   ]
  },
  {
   "cell_type": "code",
   "execution_count": 17,
   "metadata": {},
   "outputs": [
    {
     "data": {
      "image/png": "[encoded data removed]",
      "text/plain": [
       "<Figure size 432x288 with 1 Axes>"
      ]
     },
     "metadata": {
      "needs_background": "light"
     },
     "output_type": "display_data"
    }
   ],
   "source": [
    "# Посмотрим гистограмму событий по дате\n",
    "data['date'].hist(bins = 14).set_title('Гистограмма по дате')\n",
    "plt.xlabel(\"Дата\")\n",
    "plt.xticks(rotation=50) \n",
    "plt.show()"
   ]
  },
  {
   "cell_type": "code",
   "execution_count": 18,
   "metadata": {},
   "outputs": [
    {
     "data": {
      "image/png": "[encoded data removed]",
      "text/plain": [
       "<Figure size 432x288 with 1 Axes>"
      ]
     },
     "metadata": {
      "needs_background": "light"
     },
     "output_type": "display_data"
    }
   ],
   "source": [
    "# Посмотрим гистограмму событий по дате, начиная с 01.08.2019\n",
    "data['date'] = pd.to_datetime(data['date'])\n",
    "data_new = data.query('date > \"2019-07-31\"')\n",
    "data_new['date'].hist(bins = 7).set_title('Гистограмма по дате')\n",
    "plt.xlabel(\"Дата\")\n",
    "plt.xticks(rotation=50) \n",
    "plt.show()"
   ]
  },
  {
   "cell_type": "markdown",
   "metadata": {},
   "source": [
    "**Вывод**\n",
    "\n",
    "До 01.08.2019 совершается очень мало событий - скорее всего, как раз с этой даты все данные доехали, а значит можно оценивать результаты экспериментов."
   ]
  },
  {
   "cell_type": "markdown",
   "metadata": {},
   "source": [
    "**5. Много ли событий и пользователей вы потеряли, отбросив старые данные?**"
   ]
  },
  {
   "cell_type": "code",
   "execution_count": 19,
   "metadata": {},
   "outputs": [
    {
     "name": "stdout",
     "output_type": "stream",
     "text": [
      "Было пользователей = 7551 / Стало = 7534\n",
      "Количество пользователей уменьшилось на 17\n",
      "Потеря составила 0.23%\n",
      "Было событий = 243713 / Стало = 240887\n",
      "Количество событий уменьшилось на 2826\n",
      "Потеря составила 1.16%\n"
     ]
    }
   ],
   "source": [
    "devices = len(data['device'].value_counts())\n",
    "all_events = len(data['event'])\n",
    "\n",
    "new_devices = data_new['device'].nunique()\n",
    "print(f'Было пользователей = {devices} / Стало = {new_devices}')\n",
    "print(f'Количество пользователей уменьшилось на {devices-new_devices}')\n",
    "print(f'Потеря составила {round((devices-new_devices)/devices*100,2)}%')\n",
    "\n",
    "new_events = data_new['event'].count()\n",
    "print(f'Было событий = {all_events} / Стало = {new_events}')\n",
    "print(f'Количество событий уменьшилось на {all_events-new_events}')\n",
    "print(f'Потеря составила {round((all_events-new_events)/all_events*100,2)}%')"
   ]
  },
  {
   "cell_type": "markdown",
   "metadata": {},
   "source": [
    "**6. Проверьте, что у вас есть пользователи из всех трёх экспериментальных групп.**"
   ]
  },
  {
   "cell_type": "code",
   "execution_count": 20,
   "metadata": {},
   "outputs": [
    {
     "data": {
      "text/plain": [
       "248    84563\n",
       "246    79302\n",
       "247    77022\n",
       "Name: group, dtype: int64"
      ]
     },
     "execution_count": 20,
     "metadata": {},
     "output_type": "execute_result"
    }
   ],
   "source": [
    "data_new['group'].value_counts()"
   ]
  },
  {
   "cell_type": "markdown",
   "metadata": {},
   "source": [
    "На каждую группу приходится по 77-84к событий."
   ]
  },
  {
   "cell_type": "markdown",
   "metadata": {},
   "source": [
    "**Общий вывод**\n",
    "\n",
    "В ходе проверки данных выяснилось, что данные предоставлены с 25 июля по 7 августа.\n",
    "\n",
    "- Всего у нас 5 вариантов событий с общим количеством логов 243713\n",
    "- Среднее кол-во событий пользователя равно 32, ноесть выбросы поэтому рациональней использовать медиану равную 20 \n",
    "- Данные, которыми мы располагаем на самом деле, идут начиная с 01.08.2019\n",
    "- При отсечении старых данных, были утеряны 2826 событий и 17 пользователей"
   ]
  },
  {
   "cell_type": "markdown",
   "metadata": {},
   "source": [
    "## Шаг 4. Изучим воронку событий\n"
   ]
  },
  {
   "cell_type": "markdown",
   "metadata": {},
   "source": [
    "**1. Посмотрите, какие события есть в логах, как часто они встречаются. Отсортируйте события по частоте.**"
   ]
  },
  {
   "cell_type": "code",
   "execution_count": 21,
   "metadata": {},
   "outputs": [
    {
     "data": {
      "text/plain": [
       "MainScreenAppear           119101\n",
       "OffersScreenAppear          46808\n",
       "CartScreenAppear            42668\n",
       "PaymentScreenSuccessful     34118\n",
       "Tutorial                     1018\n",
       "Name: event, dtype: int64"
      ]
     },
     "execution_count": 21,
     "metadata": {},
     "output_type": "execute_result"
    }
   ],
   "source": [
    "#События в порядке убывания повторяемости\n",
    "data['event'].value_counts()"
   ]
  },
  {
   "cell_type": "markdown",
   "metadata": {},
   "source": [
    "**2. Посчитайте, сколько пользователей совершали каждое из этих событий. Отсортируйте события по числу пользователей. Посчитайте долю пользователей, которые хоть раз совершали событие.**"
   ]
  },
  {
   "cell_type": "code",
   "execution_count": 22,
   "metadata": {},
   "outputs": [
    {
     "data": {
      "text/html": [
       "<div>\n",
       "<style scoped>\n",
       "    .dataframe tbody tr th:only-of-type {\n",
       "        vertical-align: middle;\n",
       "    }\n",
       "\n",
       "    .dataframe tbody tr th {\n",
       "        vertical-align: top;\n",
       "    }\n",
       "\n",
       "    .dataframe thead th {\n",
       "        text-align: right;\n",
       "    }\n",
       "</style>\n",
       "<table border=\"1\" class=\"dataframe\">\n",
       "  <thead>\n",
       "    <tr style=\"text-align: right;\">\n",
       "      <th></th>\n",
       "      <th>event</th>\n",
       "      <th>n_events</th>\n",
       "      <th>device</th>\n",
       "      <th>users_event</th>\n",
       "    </tr>\n",
       "  </thead>\n",
       "  <tbody>\n",
       "    <tr>\n",
       "      <th>0</th>\n",
       "      <td>MainScreenAppear</td>\n",
       "      <td>117328</td>\n",
       "      <td>7419</td>\n",
       "      <td>98.5</td>\n",
       "    </tr>\n",
       "    <tr>\n",
       "      <th>1</th>\n",
       "      <td>OffersScreenAppear</td>\n",
       "      <td>46333</td>\n",
       "      <td>4593</td>\n",
       "      <td>61.0</td>\n",
       "    </tr>\n",
       "    <tr>\n",
       "      <th>2</th>\n",
       "      <td>CartScreenAppear</td>\n",
       "      <td>42303</td>\n",
       "      <td>3734</td>\n",
       "      <td>49.6</td>\n",
       "    </tr>\n",
       "    <tr>\n",
       "      <th>3</th>\n",
       "      <td>PaymentScreenSuccessful</td>\n",
       "      <td>33918</td>\n",
       "      <td>3539</td>\n",
       "      <td>47.0</td>\n",
       "    </tr>\n",
       "  </tbody>\n",
       "</table>\n",
       "</div>"
      ],
      "text/plain": [
       "                     event  n_events  device  users_event\n",
       "0         MainScreenAppear    117328    7419         98.5\n",
       "1       OffersScreenAppear     46333    4593         61.0\n",
       "2         CartScreenAppear     42303    3734         49.6\n",
       "3  PaymentScreenSuccessful     33918    3539         47.0"
      ]
     },
     "execution_count": 22,
     "metadata": {},
     "output_type": "execute_result"
    }
   ],
   "source": [
    "events_users = data_new.groupby('event').agg({'event':'count', 'device':'nunique'}).sort_values(by='device', ascending=False)\n",
    "events_users.drop(['Tutorial'], inplace=True)\n",
    "events_users.columns = ['n_events', 'device']\n",
    "events_users = events_users.reset_index()\n",
    "events_users['users_event'] = (events_users['device'] / (data_new['device'].nunique()) * 100).round(1) # доля хотя бы раз совершивших событие\n",
    "events_users"
   ]
  },
  {
   "cell_type": "code",
   "execution_count": 23,
   "metadata": {},
   "outputs": [
    {
     "data": {
      "image/png": "[encoded data removed]",
      "text/plain": [
       "<Figure size 864x432 with 1 Axes>"
      ]
     },
     "metadata": {
      "needs_background": "light"
     },
     "output_type": "display_data"
    }
   ],
   "source": [
    "#построим график \"События по числу пользователей\"\n",
    "plt.figure(figsize=(12,6))\n",
    "sns.barplot(y='device', x='event', data=events_users, palette='gnuplot_r');\n",
    "plt.xlabel('СОБЫТИЕ')\n",
    "plt.ylabel('Кол-во пользователей')\n",
    "plt.title('События по числу пользователей')\n",
    "plt.show()"
   ]
  },
  {
   "cell_type": "code",
   "execution_count": 24,
   "metadata": {},
   "outputs": [
    {
     "data": {
      "image/png": "[encoded data removed]",
      "text/plain": [
       "<Figure size 864x432 with 1 Axes>"
      ]
     },
     "metadata": {
      "needs_background": "light"
     },
     "output_type": "display_data"
    }
   ],
   "source": [
    "#построим график по долям пользователей\n",
    "plt.figure(figsize=(12,6))\n",
    "sns.barplot(y=('users_event'), x='event', data=events_users, palette='gnuplot_r');\n",
    "plt.xlabel('СОБЫТИЕ')\n",
    "plt.ylabel('ДОЛЯ, %')\n",
    "plt.title('Доли пользователей совершивших хоть одно событие от всех пользователей')\n",
    "plt.show()"
   ]
  },
  {
   "cell_type": "markdown",
   "metadata": {},
   "source": [
    "**Вывод**\n",
    "\n",
    "Судя по всему, события складываются в воронку продаж. Самое популярное событие - показ главного экрана, а самое непопулярное - экран оплаты, не учитывая показ руководства пользователя"
   ]
  },
  {
   "cell_type": "markdown",
   "metadata": {},
   "source": [
    "**3. Предположите, в каком порядке происходят события. Все ли они выстраиваются в последовательную цепочку? Их не нужно учитывать при расчёте воронки.**"
   ]
  },
  {
   "cell_type": "markdown",
   "metadata": {},
   "source": [
    "Воронка выглядит следующим образом:\n",
    "1. MainScreenAppear - Появление Главного экрана - Зашли на сайт\n",
    "2. OffersScreenAppear - Появление Экрана Предложений - Искали товар по каталогу\n",
    "3. CartScreenAppear - Появление Экрана Корзины - Добавили в корзину\n",
    "4. PaymentScreenSuccessful - Экран Платеж Успешен - Оплатили\n"
   ]
  },
  {
   "cell_type": "markdown",
   "metadata": {},
   "source": [
    "**4. По воронке событий посчитайте, какая доля пользователей проходит на следующий шаг воронки (от числа пользователей на предыдущем). То есть для последовательности событий A → B → C посчитайте отношение числа пользователей с событием B к количеству пользователей с событием A, а также отношение числа пользователей с событием C к количеству пользователей с событием B.**"
   ]
  },
  {
   "cell_type": "code",
   "execution_count": 25,
   "metadata": {},
   "outputs": [
    {
     "name": "stderr",
     "output_type": "stream",
     "text": [
      "/opt/conda/lib/python3.9/site-packages/pandas/core/indexing.py:1637: SettingWithCopyWarning: \n",
      "A value is trying to be set on a copy of a slice from a DataFrame\n",
      "\n",
      "See the caveats in the documentation: https://pandas.pydata.org/pandas-docs/stable/user_guide/indexing.html#returning-a-view-versus-a-copy\n",
      "  self._setitem_single_block(indexer, value, name)\n"
     ]
    },
    {
     "data": {
      "text/html": [
       "<div>\n",
       "<style scoped>\n",
       "    .dataframe tbody tr th:only-of-type {\n",
       "        vertical-align: middle;\n",
       "    }\n",
       "\n",
       "    .dataframe tbody tr th {\n",
       "        vertical-align: top;\n",
       "    }\n",
       "\n",
       "    .dataframe thead th {\n",
       "        text-align: right;\n",
       "    }\n",
       "</style>\n",
       "<table border=\"1\" class=\"dataframe\">\n",
       "  <thead>\n",
       "    <tr style=\"text-align: right;\">\n",
       "      <th></th>\n",
       "      <th>event</th>\n",
       "      <th>n_events</th>\n",
       "      <th>device</th>\n",
       "      <th>users_event</th>\n",
       "      <th>conversion</th>\n",
       "    </tr>\n",
       "  </thead>\n",
       "  <tbody>\n",
       "    <tr>\n",
       "      <th>0</th>\n",
       "      <td>MainScreenAppear</td>\n",
       "      <td>117328</td>\n",
       "      <td>7419</td>\n",
       "      <td>98.5</td>\n",
       "      <td>100</td>\n",
       "    </tr>\n",
       "    <tr>\n",
       "      <th>1</th>\n",
       "      <td>OffersScreenAppear</td>\n",
       "      <td>46333</td>\n",
       "      <td>4593</td>\n",
       "      <td>61.0</td>\n",
       "      <td>62</td>\n",
       "    </tr>\n",
       "    <tr>\n",
       "      <th>2</th>\n",
       "      <td>CartScreenAppear</td>\n",
       "      <td>42303</td>\n",
       "      <td>3734</td>\n",
       "      <td>49.6</td>\n",
       "      <td>81</td>\n",
       "    </tr>\n",
       "    <tr>\n",
       "      <th>3</th>\n",
       "      <td>PaymentScreenSuccessful</td>\n",
       "      <td>33918</td>\n",
       "      <td>3539</td>\n",
       "      <td>47.0</td>\n",
       "      <td>95</td>\n",
       "    </tr>\n",
       "  </tbody>\n",
       "</table>\n",
       "</div>"
      ],
      "text/plain": [
       "                     event  n_events  device  users_event  conversion\n",
       "0         MainScreenAppear    117328    7419         98.5         100\n",
       "1       OffersScreenAppear     46333    4593         61.0          62\n",
       "2         CartScreenAppear     42303    3734         49.6          81\n",
       "3  PaymentScreenSuccessful     33918    3539         47.0          95"
      ]
     },
     "metadata": {},
     "output_type": "display_data"
    }
   ],
   "source": [
    "#Создадим столбец конверсий и рассчитаем их в цикле\n",
    "events_users['conversion'] = 0\n",
    "for i in range(0, len(events_users['users_event'] )):\n",
    "    if i == 0:\n",
    "        events_users['conversion'].iloc[i] = 100\n",
    "    else:\n",
    "        events_users['conversion'].iloc[i] = round(int(events_users['device'].iloc[i]) / int(events_users['device'].iloc[i-1]), 2)*100\n",
    "display(events_users)"
   ]
  },
  {
   "cell_type": "markdown",
   "metadata": {},
   "source": [
    "**Вывод**\n",
    "\n",
    "Было подсчитано, какой процент пользователей проходит на каждый из этапов воронки, от предыдущего шага. На экран с предложением проходит 62% пользователей, посмотревших главный экран. На экран с корзиной переходит 81% пользователей. На экран с успешной оплатой переходит 95% пользователей."
   ]
  },
  {
   "cell_type": "markdown",
   "metadata": {},
   "source": [
    "**5. На каком шаге теряете больше всего пользователей?**"
   ]
  },
  {
   "cell_type": "markdown",
   "metadata": {},
   "source": [
    "К оплате переходит 95% пользователей от предыдущего шага, а вот к экрану с предложением проходит только 62% пользователей. Возможно, главный экран сайта не самый удобный для пользователей, или имеются другие проблемы. Наименее популярным событием в воронке продаж - событие перехода к оплате. Но если смотреть на конверсию, то большой процент пользователей теряется при переходе от главного экрана к экрану с предложением.\n",
    "\n",
    "Больше всего пользователей теряется на шаге \"OffersScreenAppear\". Событие \"Tutorial\" не несет полезной нагрузки, поэтому его можно не принимать во внимание."
   ]
  },
  {
   "cell_type": "markdown",
   "metadata": {},
   "source": [
    "**6. Какая доля пользователей доходит от первого события до оплаты?**"
   ]
  },
  {
   "cell_type": "code",
   "execution_count": 26,
   "metadata": {},
   "outputs": [
    {
     "name": "stdout",
     "output_type": "stream",
     "text": [
      "48.0\n"
     ]
    }
   ],
   "source": [
    "print(round(events_users['device'].iloc[3]/events_users['device'].iloc[0], 2)*100)"
   ]
  },
  {
   "cell_type": "markdown",
   "metadata": {},
   "source": [
    "До оплаты доходит 48% пользователей"
   ]
  },
  {
   "cell_type": "markdown",
   "metadata": {},
   "source": [
    "**Общий вывод:**\n",
    "\n",
    "Воронка продаж идет по следующему порядку:\n",
    "\n",
    "1. MainScreenAppear - Появление Главного экрана - Зашли на сайт\n",
    "2. OffersScreenAppear - Появление Экрана Предложений - Искали товар по каталогу\n",
    "3. CartScreenAppear - Появление Экрана Корзины - Добавили в корзину\n",
    "4. PaymentScreenSuccessful - Экран Платеж Успешен - Оплатили\n",
    "\n",
    "Больше всего пользователей теряется на шаге \"OffersScreenAppear\". Событие \"Tutorial\" не несет полезной нагрузки, поэтому его можно не принимать во внимание.\n",
    "\n",
    "До оплаты \"PaymentScreenSuccessful\" доходит 48% пользователей."
   ]
  },
  {
   "cell_type": "markdown",
   "metadata": {},
   "source": [
    "## Шаг 5. Изучим результаты эксперимента"
   ]
  },
  {
   "cell_type": "markdown",
   "metadata": {},
   "source": [
    "**1. Сколько пользователей в каждой экспериментальной группе?**"
   ]
  },
  {
   "cell_type": "code",
   "execution_count": 27,
   "metadata": {},
   "outputs": [
    {
     "data": {
      "text/html": [
       "<div>\n",
       "<style scoped>\n",
       "    .dataframe tbody tr th:only-of-type {\n",
       "        vertical-align: middle;\n",
       "    }\n",
       "\n",
       "    .dataframe tbody tr th {\n",
       "        vertical-align: top;\n",
       "    }\n",
       "\n",
       "    .dataframe thead th {\n",
       "        text-align: right;\n",
       "    }\n",
       "</style>\n",
       "<table border=\"1\" class=\"dataframe\">\n",
       "  <thead>\n",
       "    <tr style=\"text-align: right;\">\n",
       "      <th></th>\n",
       "      <th>group</th>\n",
       "      <th>users</th>\n",
       "    </tr>\n",
       "  </thead>\n",
       "  <tbody>\n",
       "    <tr>\n",
       "      <th>0</th>\n",
       "      <td>246</td>\n",
       "      <td>2484</td>\n",
       "    </tr>\n",
       "    <tr>\n",
       "      <th>1</th>\n",
       "      <td>247</td>\n",
       "      <td>2513</td>\n",
       "    </tr>\n",
       "    <tr>\n",
       "      <th>2</th>\n",
       "      <td>248</td>\n",
       "      <td>2537</td>\n",
       "    </tr>\n",
       "  </tbody>\n",
       "</table>\n",
       "</div>"
      ],
      "text/plain": [
       "   group  users\n",
       "0    246   2484\n",
       "1    247   2513\n",
       "2    248   2537"
      ]
     },
     "execution_count": 27,
     "metadata": {},
     "output_type": "execute_result"
    }
   ],
   "source": [
    "# проверим сколько пользователей в каждой группе\n",
    "new_data_groups = (\n",
    "    data_new\n",
    "    .groupby('group')\n",
    "    .agg({'device': 'nunique'})\n",
    "    .reset_index()\n",
    "    .rename(columns={'device':'users'})\n",
    ")\n",
    "new_data_groups"
   ]
  },
  {
   "cell_type": "markdown",
   "metadata": {},
   "source": [
    "**Вывод**\n",
    "\n",
    "- В 246 группе 2484 пользователя\n",
    "- В 247 группе 2513 пользователей\n",
    "- В 248 группе 2537 пользователей"
   ]
  },
  {
   "cell_type": "markdown",
   "metadata": {},
   "source": [
    "**2. Есть 2 контрольные группы для А/А-эксперимента, чтобы проверить корректность всех механизмов и расчётов. Проверьте, находят ли статистические критерии разницу между выборками 246 и 247.**"
   ]
  },
  {
   "cell_type": "markdown",
   "metadata": {},
   "source": [
    "**3.  Выберите самое популярное событие. Посчитайте число пользователей, совершивших это событие в каждой из контрольных групп. Посчитайте долю пользователей, совершивших это событие. Проверьте, будет ли отличие между группами статистически достоверным. Проделайте то же самое для всех других событий (удобно обернуть проверку в отдельную функцию). Можно ли сказать, что разбиение на группы работает корректно?**"
   ]
  },
  {
   "cell_type": "markdown",
   "metadata": {},
   "source": [
    "**4. Аналогично поступите с группой с изменённым шрифтом. Сравните результаты с каждой из контрольных групп в отдельности по каждому событию. Сравните результаты с объединённой контрольной группой. Какие выводы из эксперимента можно сделать?**"
   ]
  },
  {
   "cell_type": "code",
   "execution_count": 28,
   "metadata": {},
   "outputs": [
    {
     "data": {
      "text/html": [
       "<div>\n",
       "<style scoped>\n",
       "    .dataframe tbody tr th:only-of-type {\n",
       "        vertical-align: middle;\n",
       "    }\n",
       "\n",
       "    .dataframe tbody tr th {\n",
       "        vertical-align: top;\n",
       "    }\n",
       "\n",
       "    .dataframe thead th {\n",
       "        text-align: right;\n",
       "    }\n",
       "</style>\n",
       "<table border=\"1\" class=\"dataframe\">\n",
       "  <thead>\n",
       "    <tr style=\"text-align: right;\">\n",
       "      <th>event</th>\n",
       "      <th>group</th>\n",
       "      <th>CartScreenAppear</th>\n",
       "      <th>MainScreenAppear</th>\n",
       "      <th>OffersScreenAppear</th>\n",
       "      <th>PaymentScreenSuccessful</th>\n",
       "      <th>Tutorial</th>\n",
       "      <th>users</th>\n",
       "    </tr>\n",
       "  </thead>\n",
       "  <tbody>\n",
       "    <tr>\n",
       "      <th>0</th>\n",
       "      <td>246</td>\n",
       "      <td>1266</td>\n",
       "      <td>2450</td>\n",
       "      <td>1542</td>\n",
       "      <td>1200</td>\n",
       "      <td>278</td>\n",
       "      <td>2484</td>\n",
       "    </tr>\n",
       "    <tr>\n",
       "      <th>1</th>\n",
       "      <td>247</td>\n",
       "      <td>1238</td>\n",
       "      <td>2476</td>\n",
       "      <td>1520</td>\n",
       "      <td>1158</td>\n",
       "      <td>283</td>\n",
       "      <td>2513</td>\n",
       "    </tr>\n",
       "    <tr>\n",
       "      <th>2</th>\n",
       "      <td>248</td>\n",
       "      <td>1230</td>\n",
       "      <td>2493</td>\n",
       "      <td>1531</td>\n",
       "      <td>1181</td>\n",
       "      <td>279</td>\n",
       "      <td>2537</td>\n",
       "    </tr>\n",
       "  </tbody>\n",
       "</table>\n",
       "</div>"
      ],
      "text/plain": [
       "event  group  CartScreenAppear  MainScreenAppear  OffersScreenAppear  \\\n",
       "0        246              1266              2450                1542   \n",
       "1        247              1238              2476                1520   \n",
       "2        248              1230              2493                1531   \n",
       "\n",
       "event  PaymentScreenSuccessful  Tutorial  users  \n",
       "0                         1200       278   2484  \n",
       "1                         1158       283   2513  \n",
       "2                         1181       279   2537  "
      ]
     },
     "execution_count": 28,
     "metadata": {},
     "output_type": "execute_result"
    }
   ],
   "source": [
    "# Проверим находят ли статистические критерии разницу между выборками 246 и 247\n",
    "users_by_events = (\n",
    "data_new\n",
    "    .pivot_table(index = 'group',\n",
    "                 columns = 'event',\n",
    "                 values = 'device',\n",
    "                 aggfunc = 'nunique')\n",
    "    .reset_index()\n",
    ")\n",
    "\n",
    "#и добавим столбец с количеством пользователей в группах\n",
    "users_by_events['users'] = new_data_groups['users']\n",
    "\n",
    "users_by_events"
   ]
  },
  {
   "cell_type": "markdown",
   "metadata": {},
   "source": [
    "Cравним доли оплативших заказ клиентов групп 246 и 247:\n",
    "- из 2484 пользователей группы 246, заказ оплатили 1200 человек\n",
    "- из 2513 пользователей группы 247 заказ оплатили 1158. \n",
    "\n",
    "Попробуем сделать вывод о разнице в конверсии для этих групп."
   ]
  },
  {
   "cell_type": "code",
   "execution_count": 29,
   "metadata": {},
   "outputs": [],
   "source": [
    "# формирование вспомогательной функции для вывода результатов теста\n",
    "def test_result(value_1, value_2):\n",
    "    if value_1 < value_2:\n",
    "        print('Отвергаем нулевую гипотезу: между долями есть значимая разница')\n",
    "    else:\n",
    "        print('Не получилось отвергнуть нулевую гипотезу, нет оснований считать доли разными')\n",
    "        \n",
    "def hypo_test (trials_1, trials_2, successes_1, successes_2, alpha):\n",
    "    \n",
    "    p1 = successes_1/trials_1\n",
    "    p2 = successes_2/trials_2\n",
    "    p_combined = (successes_1 + successes_2) / (trials_1 + trials_2)\n",
    "\n",
    "    difference = p1 - p2 \n",
    "    z_value = difference / mth.sqrt(p_combined * (1 - p_combined) * (1 / trials_1 + 1 / trials_2))\n",
    "    distr = st.norm(0, 1)\n",
    "\n",
    "    p_value = (1 - distr.cdf(abs(z_value))) * 2\n",
    "    \n",
    "    pr_1 = print('p-значение: ', p_value)\n",
    "    \n",
    "    pr_2 = test_result(p_value, alpha)\n",
    "    \n",
    "    return pr_1, pr_2"
   ]
  },
  {
   "cell_type": "markdown",
   "metadata": {},
   "source": [
    "Сформулируем гипотезы:\n",
    "\n",
    "- Нулева гипотеза - различий в долях клиентов, оплативших заказ между группами нет\n",
    "- Альтернативная гипотеза - различия в долях клиентов, оплативших заказ между группами есть.\n",
    "\n",
    "Уровень статистической значимости = 0.05.\n",
    "\n",
    "Проверяем гипотезы с помощью z-test"
   ]
  },
  {
   "cell_type": "code",
   "execution_count": 30,
   "metadata": {},
   "outputs": [
    {
     "name": "stdout",
     "output_type": "stream",
     "text": [
      "Проверка гипотезы о различиях в долях клиентов по событию PaymentScreenSuccessful в группах 246 и 247\n",
      "p-значение:  0.11456679313141849\n",
      "Не получилось отвергнуть нулевую гипотезу, нет оснований считать доли разными\n"
     ]
    },
    {
     "data": {
      "text/plain": [
       "(None, None)"
      ]
     },
     "execution_count": 30,
     "metadata": {},
     "output_type": "execute_result"
    }
   ],
   "source": [
    "print('Проверка гипотезы о различиях в долях клиентов по событию', \n",
    "      users_by_events.columns[4], 'в группах 246 и 247')\n",
    "hypo_test (users_by_events.iloc[0,6],\n",
    "           users_by_events.iloc[1,6],\n",
    "           users_by_events.iloc[0,4],\n",
    "           users_by_events.iloc[1,4], 0.05)"
   ]
  },
  {
   "cell_type": "markdown",
   "metadata": {},
   "source": [
    "**Вывод**\n",
    "\n",
    "Cтатистически значимых различий между двумя А-группами не обнаружено."
   ]
  },
  {
   "cell_type": "markdown",
   "metadata": {},
   "source": [
    "**Посчитаем доли от общего количества пользователей по группа. Выберем самое популярное событие - MainScreenAppear.**"
   ]
  },
  {
   "cell_type": "code",
   "execution_count": 31,
   "metadata": {},
   "outputs": [
    {
     "data": {
      "text/html": [
       "<div>\n",
       "<style scoped>\n",
       "    .dataframe tbody tr th:only-of-type {\n",
       "        vertical-align: middle;\n",
       "    }\n",
       "\n",
       "    .dataframe tbody tr th {\n",
       "        vertical-align: top;\n",
       "    }\n",
       "\n",
       "    .dataframe thead th {\n",
       "        text-align: right;\n",
       "    }\n",
       "</style>\n",
       "<table border=\"1\" class=\"dataframe\">\n",
       "  <thead>\n",
       "    <tr style=\"text-align: right;\">\n",
       "      <th>event</th>\n",
       "      <th>group</th>\n",
       "      <th>MainScreenAppear</th>\n",
       "      <th>users</th>\n",
       "      <th>share</th>\n",
       "    </tr>\n",
       "  </thead>\n",
       "  <tbody>\n",
       "    <tr>\n",
       "      <th>0</th>\n",
       "      <td>246</td>\n",
       "      <td>2450</td>\n",
       "      <td>2484</td>\n",
       "      <td>0.986</td>\n",
       "    </tr>\n",
       "    <tr>\n",
       "      <th>1</th>\n",
       "      <td>247</td>\n",
       "      <td>2476</td>\n",
       "      <td>2513</td>\n",
       "      <td>0.985</td>\n",
       "    </tr>\n",
       "    <tr>\n",
       "      <th>2</th>\n",
       "      <td>248</td>\n",
       "      <td>2493</td>\n",
       "      <td>2537</td>\n",
       "      <td>0.983</td>\n",
       "    </tr>\n",
       "  </tbody>\n",
       "</table>\n",
       "</div>"
      ],
      "text/plain": [
       "event  group  MainScreenAppear  users  share\n",
       "0        246              2450   2484  0.986\n",
       "1        247              2476   2513  0.985\n",
       "2        248              2493   2537  0.983"
      ]
     },
     "execution_count": 31,
     "metadata": {},
     "output_type": "execute_result"
    }
   ],
   "source": [
    "# формирование вспомогательной таблицы\n",
    "top_event = users_by_events[['group', 'MainScreenAppear', 'users']].copy()\n",
    "top_event['share'] = round(top_event['MainScreenAppear'] / top_event['users'], 3)\n",
    "top_event"
   ]
  },
  {
   "cell_type": "markdown",
   "metadata": {},
   "source": [
    "98-99% пользователей в каждой из групп проходили через главный экран приложения."
   ]
  },
  {
   "cell_type": "code",
   "execution_count": 32,
   "metadata": {
    "scrolled": true
   },
   "outputs": [
    {
     "name": "stdout",
     "output_type": "stream",
     "text": [
      "Проверка гипотезы о различиях в долях клиентов по событию MainScreenAppear в группах 246 и 247\n",
      "p-значение:  0.7570597232046099\n",
      "Не получилось отвергнуть нулевую гипотезу, нет оснований считать доли разными\n"
     ]
    },
    {
     "data": {
      "text/plain": [
       "(None, None)"
      ]
     },
     "execution_count": 32,
     "metadata": {},
     "output_type": "execute_result"
    }
   ],
   "source": [
    "#Проверим, будет ли отличие между группами 246 и 247 статистически достоверным.\n",
    "print('Проверка гипотезы о различиях в долях клиентов по событию', \n",
    "      users_by_events.columns[2], 'в группах 246 и 247')\n",
    "hypo_test (users_by_events.iloc[0,6], \n",
    "           users_by_events.iloc[1,6], \n",
    "           users_by_events.iloc[0,2], \n",
    "           users_by_events.iloc[1,2], 0.05)"
   ]
  },
  {
   "cell_type": "markdown",
   "metadata": {},
   "source": [
    "**Вывод**\n",
    "\n",
    "Cтатистически значимых различий между группами 246 и 247 по результатам проверки различий в долях клиентов, взаимодействующих с главным экраном, не обнаружено."
   ]
  },
  {
   "cell_type": "code",
   "execution_count": 33,
   "metadata": {},
   "outputs": [
    {
     "name": "stdout",
     "output_type": "stream",
     "text": [
      "**Проверка гипотезы о различиях в долях клиентов по событию OffersScreenAppear в группах 246 и 247\n",
      "p-значение:  0.2480954578522181\n",
      "Не получилось отвергнуть нулевую гипотезу, нет оснований считать доли разными\n",
      "\n",
      "\n",
      "**Проверка гипотезы о различиях в долях клиентов по событию CartScreenAppear в группах 246 и 247\n",
      "p-значение:  0.22883372237997213\n",
      "Не получилось отвергнуть нулевую гипотезу, нет оснований считать доли разными\n",
      "\n",
      "\n",
      "**Проверка гипотезы о различиях в долях клиентов по событию Tutorial в группах 246 и 247\n",
      "p-значение:  0.9376996189257114\n",
      "Не получилось отвергнуть нулевую гипотезу, нет оснований считать доли разными\n",
      "\n",
      "\n"
     ]
    }
   ],
   "source": [
    "#Проведем проверку по остальным событиям: OffersScreenAppear, CartScreenAppear и Tutorial.\n",
    "\n",
    "# пробежимся циклом по листу с событиями\n",
    "column_list = [3, 1, 5]\n",
    "for column_number in column_list:\n",
    "    print('**Проверка гипотезы о различиях в долях клиентов по событию', \n",
    "      users_by_events.columns[column_number], 'в группах 246 и 247')\n",
    "    hypo_test (users_by_events.iloc[0,6],\n",
    "               users_by_events.iloc[1,6],\n",
    "               users_by_events.iloc[0,column_number],\n",
    "               users_by_events.iloc[1,column_number], 0.05)\n",
    "    print('\\n')"
   ]
  },
  {
   "cell_type": "markdown",
   "metadata": {},
   "source": [
    "**Вывод**\n",
    "\n",
    "По результатам проверок видно, что статистически значимых различий между группами 246 и 247 нет и группы разбиты корректно."
   ]
  },
  {
   "cell_type": "code",
   "execution_count": 34,
   "metadata": {},
   "outputs": [
    {
     "name": "stdout",
     "output_type": "stream",
     "text": [
      "Проверка гипотезы о различиях в долях клиентов по событию MainScreenAppear в группах 246 и 248\n",
      "p-значение:  0.2949721933554552\n",
      "Не получилось отвергнуть нулевую гипотезу, нет оснований считать доли разными\n",
      "\n",
      "\n",
      "Проверка гипотезы о различиях в долях клиентов по событию MainScreenAppear в группах 247 и 248\n",
      "p-значение:  0.4587053616621515\n",
      "Не получилось отвергнуть нулевую гипотезу, нет оснований считать доли разными\n",
      "\n",
      "\n",
      "\n",
      "\n",
      "Проверка гипотезы о различиях в долях клиентов по событию OffersScreenAppear в группах 246 и 248\n",
      "p-значение:  0.20836205402738917\n",
      "Не получилось отвергнуть нулевую гипотезу, нет оснований считать доли разными\n",
      "\n",
      "\n",
      "Проверка гипотезы о различиях в долях клиентов по событию OffersScreenAppear в группах 247 и 248\n",
      "p-значение:  0.9197817830592261\n",
      "Не получилось отвергнуть нулевую гипотезу, нет оснований считать доли разными\n",
      "\n",
      "\n",
      "\n",
      "\n",
      "Проверка гипотезы о различиях в долях клиентов по событию CartScreenAppear в группах 246 и 248\n",
      "p-значение:  0.07842923237520116\n",
      "Не получилось отвергнуть нулевую гипотезу, нет оснований считать доли разными\n",
      "\n",
      "\n",
      "Проверка гипотезы о различиях в долях клиентов по событию CartScreenAppear в группах 247 и 248\n",
      "p-значение:  0.5786197879539783\n",
      "Не получилось отвергнуть нулевую гипотезу, нет оснований считать доли разными\n",
      "\n",
      "\n",
      "\n",
      "\n",
      "Проверка гипотезы о различиях в долях клиентов по событию PaymentScreenSuccessful в группах 246 и 248\n",
      "p-значение:  0.2122553275697796\n",
      "Не получилось отвергнуть нулевую гипотезу, нет оснований считать доли разными\n",
      "\n",
      "\n",
      "Проверка гипотезы о различиях в долях клиентов по событию PaymentScreenSuccessful в группах 247 и 248\n",
      "p-значение:  0.7373415053803964\n",
      "Не получилось отвергнуть нулевую гипотезу, нет оснований считать доли разными\n",
      "\n",
      "\n",
      "\n",
      "\n",
      "Проверка гипотезы о различиях в долях клиентов по событию Tutorial в группах 246 и 248\n",
      "p-значение:  0.8264294010087645\n",
      "Не получилось отвергнуть нулевую гипотезу, нет оснований считать доли разными\n",
      "\n",
      "\n",
      "Проверка гипотезы о различиях в долях клиентов по событию Tutorial в группах 247 и 248\n",
      "p-значение:  0.765323922474501\n",
      "Не получилось отвергнуть нулевую гипотезу, нет оснований считать доли разными\n",
      "\n",
      "\n",
      "\n",
      "\n"
     ]
    }
   ],
   "source": [
    "# Сравним результаты группы 248 с каждой из групп 246 и 247 в отдельности по каждому событию\n",
    "\n",
    "column_list = [2, 3, 1, 4, 5]\n",
    "for column_number in column_list:\n",
    "    print('Проверка гипотезы о различиях в долях клиентов по событию', \n",
    "      users_by_events.columns[column_number], 'в группах 246 и 248')\n",
    "    hypo_test (users_by_events.iloc[0,6],\n",
    "               users_by_events.iloc[2,6],\n",
    "               users_by_events.iloc[0,column_number],\n",
    "               users_by_events.iloc[2,column_number], 0.05)\n",
    "    print('\\n')\n",
    "    print('Проверка гипотезы о различиях в долях клиентов по событию', \n",
    "      users_by_events.columns[column_number], 'в группах 247 и 248')\n",
    "    hypo_test (users_by_events.iloc[1,6],\n",
    "               users_by_events.iloc[2,6],\n",
    "               users_by_events.iloc[1,column_number],\n",
    "               users_by_events.iloc[2,column_number], 0.05)\n",
    "    print('\\n')\n",
    "    print('\\n')"
   ]
  },
  {
   "cell_type": "markdown",
   "metadata": {},
   "source": [
    "**Вывод:**\n",
    "\n",
    "По результатам проверок видно, что статистически значимых различий между группами 246, 247 и 248 нет."
   ]
  },
  {
   "cell_type": "code",
   "execution_count": 35,
   "metadata": {},
   "outputs": [
    {
     "data": {
      "text/html": [
       "<div>\n",
       "<style scoped>\n",
       "    .dataframe tbody tr th:only-of-type {\n",
       "        vertical-align: middle;\n",
       "    }\n",
       "\n",
       "    .dataframe tbody tr th {\n",
       "        vertical-align: top;\n",
       "    }\n",
       "\n",
       "    .dataframe thead th {\n",
       "        text-align: right;\n",
       "    }\n",
       "</style>\n",
       "<table border=\"1\" class=\"dataframe\">\n",
       "  <thead>\n",
       "    <tr style=\"text-align: right;\">\n",
       "      <th>event</th>\n",
       "      <th>group</th>\n",
       "      <th>CartScreenAppear</th>\n",
       "      <th>MainScreenAppear</th>\n",
       "      <th>OffersScreenAppear</th>\n",
       "      <th>PaymentScreenSuccessful</th>\n",
       "      <th>Tutorial</th>\n",
       "      <th>users</th>\n",
       "    </tr>\n",
       "  </thead>\n",
       "  <tbody>\n",
       "    <tr>\n",
       "      <th>0</th>\n",
       "      <td>246</td>\n",
       "      <td>1266</td>\n",
       "      <td>2450</td>\n",
       "      <td>1542</td>\n",
       "      <td>1200</td>\n",
       "      <td>278</td>\n",
       "      <td>2484</td>\n",
       "    </tr>\n",
       "    <tr>\n",
       "      <th>1</th>\n",
       "      <td>247</td>\n",
       "      <td>1238</td>\n",
       "      <td>2476</td>\n",
       "      <td>1520</td>\n",
       "      <td>1158</td>\n",
       "      <td>283</td>\n",
       "      <td>2513</td>\n",
       "    </tr>\n",
       "    <tr>\n",
       "      <th>2</th>\n",
       "      <td>248</td>\n",
       "      <td>1230</td>\n",
       "      <td>2493</td>\n",
       "      <td>1531</td>\n",
       "      <td>1181</td>\n",
       "      <td>279</td>\n",
       "      <td>2537</td>\n",
       "    </tr>\n",
       "    <tr>\n",
       "      <th>3</th>\n",
       "      <td>246, 247</td>\n",
       "      <td>2504</td>\n",
       "      <td>4926</td>\n",
       "      <td>3062</td>\n",
       "      <td>2358</td>\n",
       "      <td>561</td>\n",
       "      <td>4997</td>\n",
       "    </tr>\n",
       "  </tbody>\n",
       "</table>\n",
       "</div>"
      ],
      "text/plain": [
       "event     group  CartScreenAppear  MainScreenAppear  OffersScreenAppear  \\\n",
       "0           246              1266              2450                1542   \n",
       "1           247              1238              2476                1520   \n",
       "2           248              1230              2493                1531   \n",
       "3      246, 247              2504              4926                3062   \n",
       "\n",
       "event  PaymentScreenSuccessful  Tutorial  users  \n",
       "0                         1200       278   2484  \n",
       "1                         1158       283   2513  \n",
       "2                         1181       279   2537  \n",
       "3                         2358       561   4997  "
      ]
     },
     "execution_count": 35,
     "metadata": {},
     "output_type": "execute_result"
    }
   ],
   "source": [
    "# Добавим в таблицу users_by_events строку с данными по объединённой контрольной группе 246_247 \n",
    "#для сравнения результатов с группой 248\n",
    "row_246_247 = users_by_events.loc[0] + users_by_events.loc[1]\n",
    "users_all = users_by_events.copy()\n",
    "users_all = users_all.append([row_246_247]).reset_index(drop=True)\n",
    "users_all.iloc[3,0] = '246, 247'\n",
    "users_all"
   ]
  },
  {
   "cell_type": "code",
   "execution_count": 36,
   "metadata": {},
   "outputs": [
    {
     "name": "stdout",
     "output_type": "stream",
     "text": [
      "**Проверка гипотезы о различиях в долях клиентов по событию MainScreenAppear в группах 246, 247 и 248**\n",
      "p-значение:  0.29424526837179577\n",
      "Не получилось отвергнуть нулевую гипотезу, нет оснований считать доли разными\n",
      "\n",
      "\n",
      "**Проверка гипотезы о различиях в долях клиентов по событию OffersScreenAppear в группах 246, 247 и 248**\n",
      "p-значение:  0.43425549655188256\n",
      "Не получилось отвергнуть нулевую гипотезу, нет оснований считать доли разными\n",
      "\n",
      "\n",
      "**Проверка гипотезы о различиях в долях клиентов по событию CartScreenAppear в группах 246, 247 и 248**\n",
      "p-значение:  0.18175875284404386\n",
      "Не получилось отвергнуть нулевую гипотезу, нет оснований считать доли разными\n",
      "\n",
      "\n",
      "**Проверка гипотезы о различиях в долях клиентов по событию PaymentScreenSuccessful в группах 246, 247 и 248**\n",
      "p-значение:  0.6004294282308704\n",
      "Не получилось отвергнуть нулевую гипотезу, нет оснований считать доли разными\n",
      "\n",
      "\n",
      "**Проверка гипотезы о различиях в долях клиентов по событию Tutorial в группах 246, 247 и 248**\n",
      "p-значение:  0.764862472531507\n",
      "Не получилось отвергнуть нулевую гипотезу, нет оснований считать доли разными\n",
      "\n",
      "\n"
     ]
    }
   ],
   "source": [
    "# Сравним результаты группы 248 с объединённой контрольной группой 246, 247 в отдельности по каждому событию\n",
    "column_list = [2, 3, 1, 4, 5]\n",
    "for column_number in column_list:\n",
    "    print('**Проверка гипотезы о различиях в долях клиентов по событию', \n",
    "      users_all.columns[column_number], 'в группах 246, 247 и 248**')\n",
    "    hypo_test (users_all.iloc[3,6],\n",
    "               users_all.iloc[2,6],\n",
    "               users_all.iloc[3,column_number],\n",
    "               users_all.iloc[2,column_number], 0.05)\n",
    "    print('\\n')"
   ]
  },
  {
   "cell_type": "markdown",
   "metadata": {},
   "source": [
    "**Вывод:**\n",
    "\n",
    "По результатам проверок можно сделать общий вывод, что статистически значимых различий между группами 246, 247 и 248 также нет. Замена шрифта не повлияла на пользователей."
   ]
  },
  {
   "cell_type": "markdown",
   "metadata": {},
   "source": [
    "**5. Какой уровень значимости вы выбрали при проверке статистических гипотез выше? Посчитайте, сколько проверок статистических гипотез вы сделали. При уровне значимости 0.1 в 10% случаев можно ошибочно отклонить нулевую гипотезу при условии, что она верна. Какой уровень значимости стоит применить? Если вы хотите изменить его, проделайте предыдущие пункты и проверьте свои выводы.**"
   ]
  },
  {
   "cell_type": "markdown",
   "metadata": {},
   "source": [
    "При проверке статистических гипотез выше мы выбрали уровень значимости равный 0.05. Посчитаем, сколько проверок статистических гипотез мы сделали. Мы провели множественный тест, т.е. брали несколько выборок из одного и того же набора данных. Его особенность в том, что с каждой новой проверкой гипотезы растёт вероятность ошибки первого рода. При уровне значимости 0.1 каждый десятый раз можно получать ложный результат."
   ]
  },
  {
   "cell_type": "code",
   "execution_count": 37,
   "metadata": {},
   "outputs": [
    {
     "name": "stdout",
     "output_type": "stream",
     "text": [
      "20\n"
     ]
    }
   ],
   "source": [
    "#сколько проверок статистических гипотез мы сделали\n",
    "count = len(users_all['group'].unique()) * len(data_new['event'].unique())\n",
    "print(count)"
   ]
  },
  {
   "cell_type": "code",
   "execution_count": 38,
   "metadata": {},
   "outputs": [
    {
     "name": "stdout",
     "output_type": "stream",
     "text": [
      "Уточненый p-value: 0.0025613787765302876\n"
     ]
    }
   ],
   "source": [
    "p_value = 1 - (1 - 0.05)**(1 / count)\n",
    "print('Уточненый p-value:', p_value)"
   ]
  },
  {
   "cell_type": "markdown",
   "metadata": {},
   "source": [
    "**Вывод**\n",
    "\n",
    "Результаты не изменятся, уточненный p-value получился еще меньше. Внесённые нами изменения никак не повлияли на метрики и на поведения пользователей. Поэтому смысла в их применении ко всему ресурсу нет - они не принесут никакой выгоды бизнесу."
   ]
  },
  {
   "cell_type": "markdown",
   "metadata": {},
   "source": [
    "## Итоговые выводы"
   ]
  },
  {
   "cell_type": "markdown",
   "metadata": {},
   "source": [
    "**В датасете** обозначены столбцы с названием события, ID девайса пользователя, временем события и номером экспериментальной группы. Представлены следубщие события: MainScreenAppear, OffersScreenAppear, CartScreenAppear, PaymentScreenSuccessful, Tutorial. События являются частью воронки продаж на сайте. В ходе предобработки данных мы:\n",
    "- заменили названия столбцов\n",
    "- удалили дубликаты, проверили пропуски\n",
    "- добавили столбец даты и времени, также отдельный столбец для дат\n",
    "\n",
    "**В логе есть 5 событий**, по убыванию их популярности: показ пользователю главного экрана, показ экрана с предложением, показ экрана корзины, показ экрана с подтверждением оплаты, показ обучения. В логе всего 7551 пользователь. В среднем на пользователя приходится 32 события, однако это число завышено из за больших выбросов. Чаще всего на пользователей приходится 20 событий.\n",
    "\n",
    "**До 01.08.201 совершается очень мало событий.** Скорее всего как раз с этой даты все данные доехали, и можно оценивать результаты экспериментов. После удаления ранних данных были потеряно 2826 событий, что составляет около 1% от общего числа, 6 пользователей.\n",
    "\n",
    "По 77-84к событий приходится на каждую эксперименальную группу.\n",
    "\n",
    "**Cобытия складываются в воронку продаж.** Самое популярное событие - показ главного экрана, а самое непопулярное, которое входит в воронку продаж, - показ экрана оплаты, не учитывая руководство пользования. Предположительно, воронка продаж следующая:\n",
    "1. MainScreenAppear - Появление Главного экрана - Зашли на сайт\n",
    "2. OffersScreenAppear - Появление Экрана Предложений - Искали товар по каталогу\n",
    "3. CartScreenAppear - Появление Экрана Корзины - Добавили в корзину\n",
    "4. PaymentScreenSuccessful - Экран Платеж Успешен - Оплатили\n",
    "5. Tutorial - Руководство пользователя - Изучали инструкцию\n",
    "\n",
    "**Было подсчитано, какой процент** пользователей проходит на каждый из этапов воронки, от предыдущего шага. На экран с предложением проходит 62% пользователей, посмотревших главный экран. На экран с корзиной переходит 81% пользователей. На экран с успешной оплатой переходит 95% пользователей. К оплате переходит 95% пользователей от предыдущего шага. На руководство пользования 24%. От первого события до оплаты доходит 48% пользователей.\n",
    "\n",
    "**В 246 группе 2484 пользователя**, в 247 группе 2513 пользователей, в группе 248, с увеличенными шрифтами, 2537 пользователей. Как видно из проверги гипотез о равенстве долей, нет оснований считать контрольные выборки групп 246 и 247 разными.Самым популярным событием, как и ожидалось, становится показ главного экрана сайта. С этого и начинается воронка продаж.\n",
    "\n",
    "**Исходя из результатов A/A/B-эксперимента**, можно сделать вывод, что изменение шрифта не оказало значимого эффекта на поведение пользователей - что можно считать успехом, так как целью было узнать не отпугнут ли изменения пользователей. В то же время учитывая результаты эксперимента, если изменение шрифта не продиктовано проблемами в работе приложения, его можно не менять."
   ]
  }
 ],
 "metadata": {
  "ExecuteTimeLog": [
   {
    "duration": 44,
    "start_time": "2024-01-18T13:06:01.291Z"
   },
   {
    "duration": 10,
    "start_time": "2024-01-18T13:06:24.379Z"
   },
   {
    "duration": 1486,
    "start_time": "2024-01-18T13:07:50.162Z"
   },
   {
    "duration": 3,
    "start_time": "2024-01-18T13:07:55.434Z"
   },
   {
    "duration": 545,
    "start_time": "2024-01-18T13:07:56.423Z"
   },
   {
    "duration": 204,
    "start_time": "2024-01-18T13:08:28.018Z"
   },
   {
    "duration": 219,
    "start_time": "2024-01-18T13:10:06.935Z"
   },
   {
    "duration": 270,
    "start_time": "2024-01-18T13:18:56.461Z"
   },
   {
    "duration": 233,
    "start_time": "2024-01-18T13:19:03.264Z"
   },
   {
    "duration": 5,
    "start_time": "2024-01-18T13:21:02.965Z"
   },
   {
    "duration": 9,
    "start_time": "2024-01-18T13:21:15.091Z"
   },
   {
    "duration": 3,
    "start_time": "2024-01-18T13:23:18.415Z"
   },
   {
    "duration": 2,
    "start_time": "2024-01-18T13:23:20.510Z"
   },
   {
    "duration": 7,
    "start_time": "2024-01-18T13:23:53.211Z"
   },
   {
    "duration": 1703,
    "start_time": "2024-01-18T13:24:07.188Z"
   },
   {
    "duration": 16,
    "start_time": "2024-01-18T13:25:07.963Z"
   },
   {
    "duration": 43,
    "start_time": "2024-01-18T13:25:15.044Z"
   },
   {
    "duration": 1183,
    "start_time": "2024-01-18T13:25:29.099Z"
   },
   {
    "duration": 343,
    "start_time": "2024-01-18T13:25:30.284Z"
   },
   {
    "duration": 0,
    "start_time": "2024-01-18T13:25:30.628Z"
   },
   {
    "duration": 0,
    "start_time": "2024-01-18T13:25:30.629Z"
   },
   {
    "duration": 1392,
    "start_time": "2024-01-18T13:25:33.599Z"
   },
   {
    "duration": 14,
    "start_time": "2024-01-18T13:26:48.850Z"
   },
   {
    "duration": 215,
    "start_time": "2024-01-18T13:28:50.911Z"
   },
   {
    "duration": 1586,
    "start_time": "2024-01-18T13:29:00.489Z"
   },
   {
    "duration": 321,
    "start_time": "2024-01-18T13:29:02.081Z"
   },
   {
    "duration": 0,
    "start_time": "2024-01-18T13:29:02.403Z"
   },
   {
    "duration": 0,
    "start_time": "2024-01-18T13:29:02.404Z"
   },
   {
    "duration": 9,
    "start_time": "2024-01-18T13:29:54.889Z"
   },
   {
    "duration": 233,
    "start_time": "2024-01-18T13:30:00.670Z"
   },
   {
    "duration": 75,
    "start_time": "2024-01-18T13:31:27.438Z"
   },
   {
    "duration": 78,
    "start_time": "2024-01-18T13:31:50.294Z"
   },
   {
    "duration": 1638,
    "start_time": "2024-01-18T13:33:01.952Z"
   },
   {
    "duration": 8,
    "start_time": "2024-01-18T13:34:48.673Z"
   },
   {
    "duration": 231,
    "start_time": "2024-01-18T13:34:50.962Z"
   },
   {
    "duration": 15,
    "start_time": "2024-01-18T13:34:53.769Z"
   },
   {
    "duration": 64,
    "start_time": "2024-01-18T13:34:54.402Z"
   },
   {
    "duration": 79,
    "start_time": "2024-01-18T13:34:55.021Z"
   },
   {
    "duration": 14,
    "start_time": "2024-01-18T13:34:55.804Z"
   },
   {
    "duration": 9,
    "start_time": "2024-01-18T13:41:46.286Z"
   },
   {
    "duration": 92,
    "start_time": "2024-01-18T13:41:54.629Z"
   },
   {
    "duration": 1250,
    "start_time": "2024-01-18T13:42:23.931Z"
   },
   {
    "duration": 318,
    "start_time": "2024-01-18T13:42:25.188Z"
   },
   {
    "duration": 0,
    "start_time": "2024-01-18T13:42:25.508Z"
   },
   {
    "duration": 0,
    "start_time": "2024-01-18T13:42:25.509Z"
   },
   {
    "duration": 0,
    "start_time": "2024-01-18T13:42:25.510Z"
   },
   {
    "duration": 0,
    "start_time": "2024-01-18T13:42:25.511Z"
   },
   {
    "duration": 1574,
    "start_time": "2024-01-18T13:42:28.361Z"
   },
   {
    "duration": 212,
    "start_time": "2024-01-18T13:42:57.684Z"
   },
   {
    "duration": 198,
    "start_time": "2024-01-18T13:43:01.830Z"
   },
   {
    "duration": 79,
    "start_time": "2024-01-18T13:43:08.626Z"
   },
   {
    "duration": 13,
    "start_time": "2024-01-18T13:43:11.661Z"
   },
   {
    "duration": 63,
    "start_time": "2024-01-18T13:43:13.867Z"
   },
   {
    "duration": 2799,
    "start_time": "2024-01-18T13:43:15.988Z"
   },
   {
    "duration": 16,
    "start_time": "2024-01-18T13:43:38.269Z"
   },
   {
    "duration": 97,
    "start_time": "2024-01-18T13:43:59.810Z"
   },
   {
    "duration": 88,
    "start_time": "2024-01-18T13:45:53.273Z"
   },
   {
    "duration": 193,
    "start_time": "2024-01-18T13:46:08.149Z"
   },
   {
    "duration": 90,
    "start_time": "2024-01-18T13:53:26.170Z"
   },
   {
    "duration": 85,
    "start_time": "2024-01-22T10:00:32.522Z"
   },
   {
    "duration": 44,
    "start_time": "2024-01-22T10:00:39.413Z"
   },
   {
    "duration": 7,
    "start_time": "2024-01-22T10:00:44.809Z"
   },
   {
    "duration": 1346,
    "start_time": "2024-01-22T10:00:52.289Z"
   },
   {
    "duration": 735,
    "start_time": "2024-01-22T10:00:53.637Z"
   },
   {
    "duration": 9,
    "start_time": "2024-01-22T10:00:54.374Z"
   },
   {
    "duration": 96,
    "start_time": "2024-01-22T10:00:54.385Z"
   },
   {
    "duration": 105,
    "start_time": "2024-01-22T10:00:54.484Z"
   },
   {
    "duration": 106,
    "start_time": "2024-01-22T10:00:54.591Z"
   },
   {
    "duration": 1808,
    "start_time": "2024-01-22T10:00:54.699Z"
   },
   {
    "duration": 26,
    "start_time": "2024-01-22T10:01:17.714Z"
   },
   {
    "duration": 97,
    "start_time": "2024-01-22T10:02:01.493Z"
   },
   {
    "duration": 4,
    "start_time": "2024-01-22T10:02:11.042Z"
   },
   {
    "duration": 34,
    "start_time": "2024-01-22T10:02:40.501Z"
   },
   {
    "duration": 8,
    "start_time": "2024-01-22T10:05:21.156Z"
   },
   {
    "duration": 41,
    "start_time": "2024-01-22T10:07:50.963Z"
   },
   {
    "duration": 16,
    "start_time": "2024-01-22T10:31:15.315Z"
   },
   {
    "duration": 25,
    "start_time": "2024-01-22T10:31:49.879Z"
   },
   {
    "duration": 279,
    "start_time": "2024-01-22T10:32:52.621Z"
   },
   {
    "duration": 250,
    "start_time": "2024-01-22T10:33:03.758Z"
   },
   {
    "duration": 78,
    "start_time": "2024-01-22T10:34:33.466Z"
   },
   {
    "duration": 4,
    "start_time": "2024-01-22T10:34:58.774Z"
   },
   {
    "duration": 32,
    "start_time": "2024-01-22T10:37:07.759Z"
   },
   {
    "duration": 11,
    "start_time": "2024-01-22T10:37:23.052Z"
   },
   {
    "duration": 521,
    "start_time": "2024-01-22T10:37:29.450Z"
   },
   {
    "duration": 264,
    "start_time": "2024-01-22T10:38:01.940Z"
   },
   {
    "duration": 82,
    "start_time": "2024-01-22T10:38:25.225Z"
   },
   {
    "duration": 276,
    "start_time": "2024-01-22T10:41:31.979Z"
   },
   {
    "duration": 195,
    "start_time": "2024-01-22T10:41:37.741Z"
   },
   {
    "duration": 10,
    "start_time": "2024-01-22T10:45:32.088Z"
   },
   {
    "duration": 5,
    "start_time": "2024-01-22T10:45:59.537Z"
   },
   {
    "duration": 5,
    "start_time": "2024-01-22T10:46:25.165Z"
   },
   {
    "duration": 6,
    "start_time": "2024-01-22T10:48:43.838Z"
   },
   {
    "duration": 11,
    "start_time": "2024-01-22T10:50:03.271Z"
   },
   {
    "duration": 6,
    "start_time": "2024-01-22T10:50:07.598Z"
   },
   {
    "duration": 81,
    "start_time": "2024-01-22T10:52:03.803Z"
   },
   {
    "duration": 3,
    "start_time": "2024-01-22T11:00:05.506Z"
   },
   {
    "duration": 27,
    "start_time": "2024-01-22T11:25:41.067Z"
   },
   {
    "duration": 10,
    "start_time": "2024-01-22T11:26:39.455Z"
   },
   {
    "duration": 1610,
    "start_time": "2024-01-22T11:28:51.502Z"
   },
   {
    "duration": 1640,
    "start_time": "2024-01-22T11:30:52.098Z"
   },
   {
    "duration": 512,
    "start_time": "2024-01-22T11:31:01.172Z"
   },
   {
    "duration": 256,
    "start_time": "2024-01-22T11:49:17.915Z"
   },
   {
    "duration": 260,
    "start_time": "2024-01-22T11:50:29.933Z"
   },
   {
    "duration": 71,
    "start_time": "2024-01-22T12:18:03.496Z"
   },
   {
    "duration": 1229,
    "start_time": "2024-01-22T12:20:12.862Z"
   },
   {
    "duration": 211,
    "start_time": "2024-01-22T12:20:14.092Z"
   },
   {
    "duration": 7,
    "start_time": "2024-01-22T12:20:14.305Z"
   },
   {
    "duration": 135,
    "start_time": "2024-01-22T12:20:14.314Z"
   },
   {
    "duration": 105,
    "start_time": "2024-01-22T12:20:14.451Z"
   },
   {
    "duration": 96,
    "start_time": "2024-01-22T12:20:14.558Z"
   },
   {
    "duration": 33,
    "start_time": "2024-01-22T12:20:14.656Z"
   },
   {
    "duration": 27,
    "start_time": "2024-01-22T12:20:14.691Z"
   },
   {
    "duration": 54,
    "start_time": "2024-01-22T12:20:14.719Z"
   },
   {
    "duration": 50,
    "start_time": "2024-01-22T12:20:14.776Z"
   },
   {
    "duration": 61,
    "start_time": "2024-01-22T12:20:14.827Z"
   },
   {
    "duration": 25,
    "start_time": "2024-01-22T12:20:14.889Z"
   },
   {
    "duration": 278,
    "start_time": "2024-01-22T12:20:14.916Z"
   },
   {
    "duration": 4,
    "start_time": "2024-01-22T12:20:15.195Z"
   },
   {
    "duration": 92,
    "start_time": "2024-01-22T12:20:15.200Z"
   },
   {
    "duration": 622,
    "start_time": "2024-01-22T12:20:15.294Z"
   },
   {
    "duration": 237,
    "start_time": "2024-01-22T12:20:15.918Z"
   },
   {
    "duration": 115,
    "start_time": "2024-01-22T12:20:16.157Z"
   },
   {
    "duration": 0,
    "start_time": "2024-01-22T12:20:16.274Z"
   },
   {
    "duration": 0,
    "start_time": "2024-01-22T12:20:16.275Z"
   },
   {
    "duration": 0,
    "start_time": "2024-01-22T12:20:16.276Z"
   },
   {
    "duration": 0,
    "start_time": "2024-01-22T12:20:16.280Z"
   },
   {
    "duration": 6,
    "start_time": "2024-01-22T12:20:29.249Z"
   },
   {
    "duration": 7,
    "start_time": "2024-01-22T12:20:31.782Z"
   },
   {
    "duration": 5,
    "start_time": "2024-01-22T12:20:31.935Z"
   },
   {
    "duration": 6,
    "start_time": "2024-01-22T12:20:32.286Z"
   },
   {
    "duration": 28,
    "start_time": "2024-01-22T12:20:33.359Z"
   },
   {
    "duration": 94,
    "start_time": "2024-01-22T12:20:33.743Z"
   },
   {
    "duration": 67,
    "start_time": "2024-01-22T12:26:55.267Z"
   },
   {
    "duration": 11,
    "start_time": "2024-01-22T12:27:44.837Z"
   },
   {
    "duration": 200,
    "start_time": "2024-01-22T12:28:34.534Z"
   },
   {
    "duration": 215,
    "start_time": "2024-01-22T12:28:56.467Z"
   },
   {
    "duration": 201,
    "start_time": "2024-01-22T12:31:18.013Z"
   },
   {
    "duration": 270,
    "start_time": "2024-01-22T12:31:22.816Z"
   },
   {
    "duration": 218,
    "start_time": "2024-01-22T12:31:27.480Z"
   },
   {
    "duration": 236,
    "start_time": "2024-01-22T12:31:35.563Z"
   },
   {
    "duration": 202,
    "start_time": "2024-01-22T12:31:43.214Z"
   },
   {
    "duration": 17,
    "start_time": "2024-01-22T12:45:53.571Z"
   },
   {
    "duration": 14,
    "start_time": "2024-01-22T12:46:08.724Z"
   },
   {
    "duration": 14,
    "start_time": "2024-01-22T12:46:19.332Z"
   },
   {
    "duration": 19,
    "start_time": "2024-01-22T12:46:28.919Z"
   },
   {
    "duration": 73,
    "start_time": "2024-01-22T12:46:41.564Z"
   },
   {
    "duration": 112,
    "start_time": "2024-01-22T12:47:01.002Z"
   },
   {
    "duration": 86,
    "start_time": "2024-01-22T12:52:45.974Z"
   },
   {
    "duration": 165,
    "start_time": "2024-01-22T12:54:31.497Z"
   },
   {
    "duration": 152,
    "start_time": "2024-01-22T12:55:10.006Z"
   },
   {
    "duration": 1728,
    "start_time": "2024-01-22T12:55:55.062Z"
   },
   {
    "duration": 167,
    "start_time": "2024-01-22T12:56:08.825Z"
   },
   {
    "duration": 52,
    "start_time": "2024-01-22T16:17:55.266Z"
   },
   {
    "duration": 1368,
    "start_time": "2024-01-22T16:18:51.639Z"
   },
   {
    "duration": 732,
    "start_time": "2024-01-22T16:18:53.009Z"
   },
   {
    "duration": 7,
    "start_time": "2024-01-22T16:18:53.742Z"
   },
   {
    "duration": 68,
    "start_time": "2024-01-22T16:18:53.751Z"
   },
   {
    "duration": 102,
    "start_time": "2024-01-22T16:18:53.821Z"
   },
   {
    "duration": 93,
    "start_time": "2024-01-22T16:18:53.924Z"
   },
   {
    "duration": 25,
    "start_time": "2024-01-22T16:18:54.018Z"
   },
   {
    "duration": 3,
    "start_time": "2024-01-22T16:18:54.045Z"
   },
   {
    "duration": 49,
    "start_time": "2024-01-22T16:18:54.049Z"
   },
   {
    "duration": 14,
    "start_time": "2024-01-22T16:18:54.101Z"
   },
   {
    "duration": 40,
    "start_time": "2024-01-22T16:18:54.116Z"
   },
   {
    "duration": 25,
    "start_time": "2024-01-22T16:18:54.172Z"
   },
   {
    "duration": 289,
    "start_time": "2024-01-22T16:18:54.199Z"
   },
   {
    "duration": 4,
    "start_time": "2024-01-22T16:18:54.490Z"
   },
   {
    "duration": 35,
    "start_time": "2024-01-22T16:18:54.495Z"
   },
   {
    "duration": 548,
    "start_time": "2024-01-22T16:18:54.532Z"
   },
   {
    "duration": 240,
    "start_time": "2024-01-22T16:18:55.082Z"
   },
   {
    "duration": 6,
    "start_time": "2024-01-22T16:18:55.324Z"
   },
   {
    "duration": 5,
    "start_time": "2024-01-22T16:18:55.332Z"
   },
   {
    "duration": 9,
    "start_time": "2024-01-22T16:18:55.339Z"
   },
   {
    "duration": 48,
    "start_time": "2024-01-22T16:18:55.349Z"
   },
   {
    "duration": 89,
    "start_time": "2024-01-22T16:18:55.399Z"
   },
   {
    "duration": 165,
    "start_time": "2024-01-22T16:18:55.489Z"
   },
   {
    "duration": 165,
    "start_time": "2024-01-22T16:18:55.655Z"
   },
   {
    "duration": 1679,
    "start_time": "2024-01-22T16:18:55.822Z"
   },
   {
    "duration": 1584,
    "start_time": "2024-01-22T16:20:26.245Z"
   },
   {
    "duration": 15,
    "start_time": "2024-01-22T16:21:43.725Z"
   },
   {
    "duration": 3,
    "start_time": "2024-01-22T16:32:56.785Z"
   },
   {
    "duration": 4,
    "start_time": "2024-01-22T16:38:42.501Z"
   },
   {
    "duration": 15,
    "start_time": "2024-01-22T16:39:14.554Z"
   },
   {
    "duration": 60,
    "start_time": "2024-01-23T11:17:18.593Z"
   },
   {
    "duration": 1311,
    "start_time": "2024-01-23T11:17:32.517Z"
   },
   {
    "duration": 544,
    "start_time": "2024-01-23T11:17:33.830Z"
   },
   {
    "duration": 7,
    "start_time": "2024-01-23T11:17:34.375Z"
   },
   {
    "duration": 108,
    "start_time": "2024-01-23T11:17:34.384Z"
   },
   {
    "duration": 102,
    "start_time": "2024-01-23T11:17:34.495Z"
   },
   {
    "duration": 87,
    "start_time": "2024-01-23T11:17:34.598Z"
   },
   {
    "duration": 33,
    "start_time": "2024-01-23T11:17:34.687Z"
   },
   {
    "duration": 21,
    "start_time": "2024-01-23T11:17:34.721Z"
   },
   {
    "duration": 44,
    "start_time": "2024-01-23T11:17:34.744Z"
   },
   {
    "duration": 18,
    "start_time": "2024-01-23T11:17:34.790Z"
   },
   {
    "duration": 40,
    "start_time": "2024-01-23T11:17:34.810Z"
   },
   {
    "duration": 35,
    "start_time": "2024-01-23T11:17:34.852Z"
   },
   {
    "duration": 283,
    "start_time": "2024-01-23T11:17:34.889Z"
   },
   {
    "duration": 4,
    "start_time": "2024-01-23T11:17:35.176Z"
   },
   {
    "duration": 56,
    "start_time": "2024-01-23T11:17:35.182Z"
   },
   {
    "duration": 526,
    "start_time": "2024-01-23T11:17:35.239Z"
   },
   {
    "duration": 277,
    "start_time": "2024-01-23T11:17:35.767Z"
   },
   {
    "duration": 19,
    "start_time": "2024-01-23T11:17:36.046Z"
   },
   {
    "duration": 8,
    "start_time": "2024-01-23T11:17:36.067Z"
   },
   {
    "duration": 54,
    "start_time": "2024-01-23T11:17:36.076Z"
   },
   {
    "duration": 48,
    "start_time": "2024-01-23T11:17:36.132Z"
   },
   {
    "duration": 92,
    "start_time": "2024-01-23T11:17:36.182Z"
   },
   {
    "duration": 156,
    "start_time": "2024-01-23T11:17:36.276Z"
   },
   {
    "duration": 158,
    "start_time": "2024-01-23T11:17:36.433Z"
   },
   {
    "duration": 15,
    "start_time": "2024-01-23T11:17:36.592Z"
   },
   {
    "duration": 4,
    "start_time": "2024-01-23T11:17:36.608Z"
   },
   {
    "duration": 132,
    "start_time": "2024-01-23T11:17:36.613Z"
   },
   {
    "duration": 1503,
    "start_time": "2024-01-23T11:19:01.531Z"
   },
   {
    "duration": 7,
    "start_time": "2024-01-23T11:19:23.004Z"
   },
   {
    "duration": 11,
    "start_time": "2024-01-23T11:29:06.720Z"
   },
   {
    "duration": 112,
    "start_time": "2024-01-23T11:30:20.755Z"
   },
   {
    "duration": 129,
    "start_time": "2024-01-23T12:23:28.071Z"
   },
   {
    "duration": 116,
    "start_time": "2024-01-23T12:23:31.938Z"
   },
   {
    "duration": 1239,
    "start_time": "2024-01-23T12:23:47.862Z"
   },
   {
    "duration": 229,
    "start_time": "2024-01-23T12:23:49.103Z"
   },
   {
    "duration": 7,
    "start_time": "2024-01-23T12:23:49.334Z"
   },
   {
    "duration": 96,
    "start_time": "2024-01-23T12:23:49.343Z"
   },
   {
    "duration": 108,
    "start_time": "2024-01-23T12:23:49.440Z"
   },
   {
    "duration": 88,
    "start_time": "2024-01-23T12:23:49.549Z"
   },
   {
    "duration": 33,
    "start_time": "2024-01-23T12:23:49.639Z"
   },
   {
    "duration": 20,
    "start_time": "2024-01-23T12:23:49.674Z"
   },
   {
    "duration": 71,
    "start_time": "2024-01-23T12:23:49.696Z"
   },
   {
    "duration": 26,
    "start_time": "2024-01-23T12:23:49.770Z"
   },
   {
    "duration": 40,
    "start_time": "2024-01-23T12:23:49.798Z"
   },
   {
    "duration": 30,
    "start_time": "2024-01-23T12:23:49.840Z"
   },
   {
    "duration": 298,
    "start_time": "2024-01-23T12:23:49.872Z"
   },
   {
    "duration": 4,
    "start_time": "2024-01-23T12:23:50.172Z"
   },
   {
    "duration": 40,
    "start_time": "2024-01-23T12:23:50.178Z"
   },
   {
    "duration": 585,
    "start_time": "2024-01-23T12:23:50.220Z"
   },
   {
    "duration": 228,
    "start_time": "2024-01-23T12:23:50.807Z"
   },
   {
    "duration": 8,
    "start_time": "2024-01-23T12:23:51.037Z"
   },
   {
    "duration": 22,
    "start_time": "2024-01-23T12:23:51.046Z"
   },
   {
    "duration": 17,
    "start_time": "2024-01-23T12:23:51.070Z"
   },
   {
    "duration": 44,
    "start_time": "2024-01-23T12:23:51.089Z"
   },
   {
    "duration": 110,
    "start_time": "2024-01-23T12:23:51.134Z"
   },
   {
    "duration": 171,
    "start_time": "2024-01-23T12:23:51.246Z"
   },
   {
    "duration": 166,
    "start_time": "2024-01-23T12:23:51.419Z"
   },
   {
    "duration": 16,
    "start_time": "2024-01-23T12:23:51.586Z"
   },
   {
    "duration": 30,
    "start_time": "2024-01-23T12:23:51.603Z"
   },
   {
    "duration": 150,
    "start_time": "2024-01-23T12:23:51.635Z"
   },
   {
    "duration": 95,
    "start_time": "2024-01-23T12:29:07.803Z"
   },
   {
    "duration": 43,
    "start_time": "2024-01-23T12:29:30.050Z"
   },
   {
    "duration": 1687,
    "start_time": "2024-01-23T12:40:34.150Z"
   },
   {
    "duration": 1694,
    "start_time": "2024-01-23T12:42:49.778Z"
   },
   {
    "duration": 77,
    "start_time": "2024-01-23T12:43:01.743Z"
   },
   {
    "duration": 11,
    "start_time": "2024-01-23T12:47:52.421Z"
   },
   {
    "duration": 1681,
    "start_time": "2024-01-23T12:48:05.241Z"
   },
   {
    "duration": 1962,
    "start_time": "2024-01-23T12:48:25.251Z"
   },
   {
    "duration": 82,
    "start_time": "2024-01-23T12:55:30.437Z"
   },
   {
    "duration": 35,
    "start_time": "2024-01-23T12:56:53.642Z"
   },
   {
    "duration": 1543,
    "start_time": "2024-01-23T12:56:56.883Z"
   },
   {
    "duration": 77,
    "start_time": "2024-01-23T12:57:10.777Z"
   },
   {
    "duration": 5,
    "start_time": "2024-01-23T13:00:44.348Z"
   },
   {
    "duration": 8,
    "start_time": "2024-01-23T13:00:57.947Z"
   },
   {
    "duration": 1535,
    "start_time": "2024-01-23T13:03:44.321Z"
   },
   {
    "duration": 34,
    "start_time": "2024-01-23T13:03:49.318Z"
   },
   {
    "duration": 74,
    "start_time": "2024-01-23T13:03:57.134Z"
   },
   {
    "duration": 10,
    "start_time": "2024-01-23T13:05:54.188Z"
   },
   {
    "duration": 7,
    "start_time": "2024-01-23T13:07:23.951Z"
   },
   {
    "duration": 10,
    "start_time": "2024-01-23T13:45:54.779Z"
   },
   {
    "duration": 23,
    "start_time": "2024-01-23T13:47:09.288Z"
   },
   {
    "duration": 12,
    "start_time": "2024-01-23T13:56:42.983Z"
   },
   {
    "duration": 14,
    "start_time": "2024-01-23T13:57:22.461Z"
   },
   {
    "duration": 12,
    "start_time": "2024-01-23T14:09:50.636Z"
   },
   {
    "duration": 10,
    "start_time": "2024-01-23T14:10:17.576Z"
   },
   {
    "duration": 19,
    "start_time": "2024-01-23T14:10:26.348Z"
   },
   {
    "duration": 18,
    "start_time": "2024-01-23T14:11:05.073Z"
   },
   {
    "duration": 4,
    "start_time": "2024-01-23T14:11:06.344Z"
   },
   {
    "duration": 45,
    "start_time": "2024-01-24T12:52:18.607Z"
   },
   {
    "duration": 6,
    "start_time": "2024-01-24T12:52:24.052Z"
   },
   {
    "duration": 1361,
    "start_time": "2024-01-24T12:52:29.692Z"
   },
   {
    "duration": 743,
    "start_time": "2024-01-24T12:52:31.055Z"
   },
   {
    "duration": 7,
    "start_time": "2024-01-24T12:52:31.800Z"
   },
   {
    "duration": 91,
    "start_time": "2024-01-24T12:52:31.809Z"
   },
   {
    "duration": 84,
    "start_time": "2024-01-24T12:52:31.902Z"
   },
   {
    "duration": 79,
    "start_time": "2024-01-24T12:52:31.988Z"
   },
   {
    "duration": 34,
    "start_time": "2024-01-24T12:52:32.068Z"
   },
   {
    "duration": 20,
    "start_time": "2024-01-24T12:52:32.104Z"
   },
   {
    "duration": 32,
    "start_time": "2024-01-24T12:52:32.125Z"
   },
   {
    "duration": 13,
    "start_time": "2024-01-24T12:52:32.159Z"
   },
   {
    "duration": 41,
    "start_time": "2024-01-24T12:52:32.174Z"
   },
   {
    "duration": 25,
    "start_time": "2024-01-24T12:52:32.216Z"
   },
   {
    "duration": 112,
    "start_time": "2024-01-24T12:52:32.242Z"
   },
   {
    "duration": 0,
    "start_time": "2024-01-24T12:52:32.357Z"
   },
   {
    "duration": 0,
    "start_time": "2024-01-24T12:52:32.359Z"
   },
   {
    "duration": 0,
    "start_time": "2024-01-24T12:52:32.360Z"
   },
   {
    "duration": 0,
    "start_time": "2024-01-24T12:52:32.361Z"
   },
   {
    "duration": 0,
    "start_time": "2024-01-24T12:52:32.363Z"
   },
   {
    "duration": 0,
    "start_time": "2024-01-24T12:52:32.364Z"
   },
   {
    "duration": 0,
    "start_time": "2024-01-24T12:52:32.366Z"
   },
   {
    "duration": 0,
    "start_time": "2024-01-24T12:52:32.367Z"
   },
   {
    "duration": 0,
    "start_time": "2024-01-24T12:52:32.388Z"
   },
   {
    "duration": 0,
    "start_time": "2024-01-24T12:52:32.390Z"
   },
   {
    "duration": 0,
    "start_time": "2024-01-24T12:52:32.391Z"
   },
   {
    "duration": 0,
    "start_time": "2024-01-24T12:52:32.392Z"
   },
   {
    "duration": 0,
    "start_time": "2024-01-24T12:52:32.394Z"
   },
   {
    "duration": 0,
    "start_time": "2024-01-24T12:52:32.396Z"
   },
   {
    "duration": 0,
    "start_time": "2024-01-24T12:52:32.397Z"
   },
   {
    "duration": 0,
    "start_time": "2024-01-24T12:52:32.399Z"
   },
   {
    "duration": 0,
    "start_time": "2024-01-24T12:52:32.400Z"
   },
   {
    "duration": 0,
    "start_time": "2024-01-24T12:52:32.402Z"
   },
   {
    "duration": 0,
    "start_time": "2024-01-24T12:52:32.403Z"
   },
   {
    "duration": 0,
    "start_time": "2024-01-24T12:52:32.404Z"
   },
   {
    "duration": 0,
    "start_time": "2024-01-24T12:52:32.406Z"
   },
   {
    "duration": 0,
    "start_time": "2024-01-24T12:52:32.407Z"
   },
   {
    "duration": 0,
    "start_time": "2024-01-24T12:52:32.408Z"
   },
   {
    "duration": 0,
    "start_time": "2024-01-24T12:52:32.410Z"
   },
   {
    "duration": 0,
    "start_time": "2024-01-24T12:52:32.411Z"
   },
   {
    "duration": 250,
    "start_time": "2024-01-24T12:54:28.473Z"
   },
   {
    "duration": 1148,
    "start_time": "2024-01-24T12:54:33.919Z"
   },
   {
    "duration": 197,
    "start_time": "2024-01-24T12:54:35.068Z"
   },
   {
    "duration": 8,
    "start_time": "2024-01-24T12:54:35.266Z"
   },
   {
    "duration": 68,
    "start_time": "2024-01-24T12:54:35.275Z"
   },
   {
    "duration": 92,
    "start_time": "2024-01-24T12:54:35.345Z"
   },
   {
    "duration": 89,
    "start_time": "2024-01-24T12:54:35.439Z"
   },
   {
    "duration": 23,
    "start_time": "2024-01-24T12:54:35.530Z"
   },
   {
    "duration": 14,
    "start_time": "2024-01-24T12:54:35.554Z"
   },
   {
    "duration": 36,
    "start_time": "2024-01-24T12:54:35.569Z"
   },
   {
    "duration": 14,
    "start_time": "2024-01-24T12:54:35.606Z"
   },
   {
    "duration": 36,
    "start_time": "2024-01-24T12:54:35.621Z"
   },
   {
    "duration": 31,
    "start_time": "2024-01-24T12:54:35.658Z"
   },
   {
    "duration": 256,
    "start_time": "2024-01-24T12:54:35.690Z"
   },
   {
    "duration": 3,
    "start_time": "2024-01-24T12:54:35.949Z"
   },
   {
    "duration": 43,
    "start_time": "2024-01-24T12:54:35.953Z"
   },
   {
    "duration": 478,
    "start_time": "2024-01-24T12:54:35.998Z"
   },
   {
    "duration": 219,
    "start_time": "2024-01-24T12:54:36.478Z"
   },
   {
    "duration": 8,
    "start_time": "2024-01-24T12:54:36.699Z"
   },
   {
    "duration": 5,
    "start_time": "2024-01-24T12:54:36.708Z"
   },
   {
    "duration": 7,
    "start_time": "2024-01-24T12:54:36.715Z"
   },
   {
    "duration": 24,
    "start_time": "2024-01-24T12:54:36.723Z"
   },
   {
    "duration": 104,
    "start_time": "2024-01-24T12:54:36.749Z"
   },
   {
    "duration": 165,
    "start_time": "2024-01-24T12:54:36.854Z"
   },
   {
    "duration": 159,
    "start_time": "2024-01-24T12:54:37.020Z"
   },
   {
    "duration": 18,
    "start_time": "2024-01-24T12:54:37.180Z"
   },
   {
    "duration": 3,
    "start_time": "2024-01-24T12:54:37.200Z"
   },
   {
    "duration": 41,
    "start_time": "2024-01-24T12:54:37.204Z"
   },
   {
    "duration": 101,
    "start_time": "2024-01-24T12:54:37.247Z"
   },
   {
    "duration": 4,
    "start_time": "2024-01-24T12:54:37.350Z"
   },
   {
    "duration": 14,
    "start_time": "2024-01-24T12:54:37.356Z"
   },
   {
    "duration": 18,
    "start_time": "2024-01-24T12:54:37.372Z"
   },
   {
    "duration": 18,
    "start_time": "2024-01-24T12:54:37.391Z"
   },
   {
    "duration": 13,
    "start_time": "2024-01-24T12:54:37.410Z"
   },
   {
    "duration": 24,
    "start_time": "2024-01-24T12:54:37.425Z"
   },
   {
    "duration": 10,
    "start_time": "2024-01-24T12:54:37.450Z"
   },
   {
    "duration": 29,
    "start_time": "2024-01-24T12:54:37.462Z"
   },
   {
    "duration": 16,
    "start_time": "2024-01-24T12:54:37.493Z"
   },
   {
    "duration": 21,
    "start_time": "2024-01-24T12:54:37.511Z"
   },
   {
    "duration": 13,
    "start_time": "2024-01-24T13:33:22.533Z"
   },
   {
    "duration": 51,
    "start_time": "2024-01-24T16:37:14.471Z"
   },
   {
    "duration": 1482,
    "start_time": "2024-01-24T16:37:21.285Z"
   },
   {
    "duration": 559,
    "start_time": "2024-01-24T16:37:22.769Z"
   },
   {
    "duration": 9,
    "start_time": "2024-01-24T16:37:23.330Z"
   },
   {
    "duration": 89,
    "start_time": "2024-01-24T16:37:23.340Z"
   },
   {
    "duration": 109,
    "start_time": "2024-01-24T16:37:23.431Z"
   },
   {
    "duration": 103,
    "start_time": "2024-01-24T16:37:23.542Z"
   },
   {
    "duration": 26,
    "start_time": "2024-01-24T16:37:23.647Z"
   },
   {
    "duration": 27,
    "start_time": "2024-01-24T16:37:23.675Z"
   },
   {
    "duration": 55,
    "start_time": "2024-01-24T16:37:23.704Z"
   },
   {
    "duration": 12,
    "start_time": "2024-01-24T16:37:23.761Z"
   },
   {
    "duration": 53,
    "start_time": "2024-01-24T16:37:23.775Z"
   },
   {
    "duration": 24,
    "start_time": "2024-01-24T16:37:23.830Z"
   },
   {
    "duration": 291,
    "start_time": "2024-01-24T16:37:23.855Z"
   },
   {
    "duration": 35,
    "start_time": "2024-01-24T16:37:24.149Z"
   },
   {
    "duration": 577,
    "start_time": "2024-01-24T16:37:24.185Z"
   },
   {
    "duration": 260,
    "start_time": "2024-01-24T16:37:24.764Z"
   },
   {
    "duration": 7,
    "start_time": "2024-01-24T16:37:25.026Z"
   },
   {
    "duration": 15,
    "start_time": "2024-01-24T16:37:25.034Z"
   },
   {
    "duration": 31,
    "start_time": "2024-01-24T16:37:25.050Z"
   },
   {
    "duration": 28,
    "start_time": "2024-01-24T16:37:25.083Z"
   },
   {
    "duration": 106,
    "start_time": "2024-01-24T16:37:25.112Z"
   },
   {
    "duration": 167,
    "start_time": "2024-01-24T16:37:25.219Z"
   },
   {
    "duration": 174,
    "start_time": "2024-01-24T16:37:25.388Z"
   },
   {
    "duration": 16,
    "start_time": "2024-01-24T16:37:25.564Z"
   },
   {
    "duration": 4,
    "start_time": "2024-01-24T16:37:25.582Z"
   },
   {
    "duration": 62,
    "start_time": "2024-01-24T16:37:25.588Z"
   },
   {
    "duration": 108,
    "start_time": "2024-01-24T16:37:25.652Z"
   },
   {
    "duration": 7,
    "start_time": "2024-01-24T16:37:25.762Z"
   },
   {
    "duration": 10,
    "start_time": "2024-01-24T16:37:25.770Z"
   },
   {
    "duration": 13,
    "start_time": "2024-01-24T16:37:25.782Z"
   },
   {
    "duration": 16,
    "start_time": "2024-01-24T16:37:25.822Z"
   },
   {
    "duration": 39,
    "start_time": "2024-01-24T16:37:25.839Z"
   },
   {
    "duration": 28,
    "start_time": "2024-01-24T16:37:25.880Z"
   },
   {
    "duration": 13,
    "start_time": "2024-01-24T16:37:25.909Z"
   },
   {
    "duration": 54,
    "start_time": "2024-01-24T16:37:25.924Z"
   },
   {
    "duration": 65,
    "start_time": "2024-01-24T16:37:25.980Z"
   },
   {
    "duration": 13,
    "start_time": "2024-01-24T16:37:26.046Z"
   },
   {
    "duration": 1274,
    "start_time": "2024-01-25T14:22:46.212Z"
   },
   {
    "duration": 547,
    "start_time": "2024-01-25T14:22:47.488Z"
   },
   {
    "duration": 8,
    "start_time": "2024-01-25T14:22:48.036Z"
   },
   {
    "duration": 83,
    "start_time": "2024-01-25T14:22:48.045Z"
   },
   {
    "duration": 90,
    "start_time": "2024-01-25T14:22:48.130Z"
   },
   {
    "duration": 95,
    "start_time": "2024-01-25T14:22:48.222Z"
   },
   {
    "duration": 24,
    "start_time": "2024-01-25T14:22:48.318Z"
   },
   {
    "duration": 13,
    "start_time": "2024-01-25T14:22:48.343Z"
   },
   {
    "duration": 30,
    "start_time": "2024-01-25T14:22:48.357Z"
   },
   {
    "duration": 22,
    "start_time": "2024-01-25T14:22:48.388Z"
   },
   {
    "duration": 47,
    "start_time": "2024-01-25T14:22:48.412Z"
   },
   {
    "duration": 23,
    "start_time": "2024-01-25T14:22:48.467Z"
   },
   {
    "duration": 292,
    "start_time": "2024-01-25T14:22:48.491Z"
   },
   {
    "duration": 46,
    "start_time": "2024-01-25T14:22:48.786Z"
   },
   {
    "duration": 594,
    "start_time": "2024-01-25T14:22:48.836Z"
   },
   {
    "duration": 253,
    "start_time": "2024-01-25T14:22:49.432Z"
   },
   {
    "duration": 7,
    "start_time": "2024-01-25T14:22:49.687Z"
   },
   {
    "duration": 7,
    "start_time": "2024-01-25T14:22:49.696Z"
   },
   {
    "duration": 11,
    "start_time": "2024-01-25T14:22:49.704Z"
   },
   {
    "duration": 51,
    "start_time": "2024-01-25T14:22:49.717Z"
   },
   {
    "duration": 111,
    "start_time": "2024-01-25T14:22:49.770Z"
   },
   {
    "duration": 185,
    "start_time": "2024-01-25T14:22:49.883Z"
   },
   {
    "duration": 171,
    "start_time": "2024-01-25T14:22:50.070Z"
   },
   {
    "duration": 26,
    "start_time": "2024-01-25T14:22:50.243Z"
   },
   {
    "duration": 5,
    "start_time": "2024-01-25T14:22:50.273Z"
   },
   {
    "duration": 62,
    "start_time": "2024-01-25T14:22:50.280Z"
   },
   {
    "duration": 100,
    "start_time": "2024-01-25T14:22:50.344Z"
   },
   {
    "duration": 16,
    "start_time": "2024-01-25T14:22:50.445Z"
   },
   {
    "duration": 30,
    "start_time": "2024-01-25T14:22:50.467Z"
   },
   {
    "duration": 12,
    "start_time": "2024-01-25T14:22:50.498Z"
   },
   {
    "duration": 8,
    "start_time": "2024-01-25T14:22:50.511Z"
   },
   {
    "duration": 16,
    "start_time": "2024-01-25T14:22:50.521Z"
   },
   {
    "duration": 33,
    "start_time": "2024-01-25T14:22:50.538Z"
   },
   {
    "duration": 13,
    "start_time": "2024-01-25T14:22:50.573Z"
   },
   {
    "duration": 22,
    "start_time": "2024-01-25T14:22:50.587Z"
   },
   {
    "duration": 22,
    "start_time": "2024-01-25T14:22:50.610Z"
   },
   {
    "duration": 3,
    "start_time": "2024-01-25T14:22:50.634Z"
   },
   {
    "duration": 16,
    "start_time": "2024-01-25T14:40:26.677Z"
   },
   {
    "duration": 1196,
    "start_time": "2024-01-25T14:55:36.539Z"
   },
   {
    "duration": 214,
    "start_time": "2024-01-25T14:55:37.737Z"
   },
   {
    "duration": 12,
    "start_time": "2024-01-25T14:55:37.954Z"
   },
   {
    "duration": 69,
    "start_time": "2024-01-25T14:55:37.967Z"
   },
   {
    "duration": 108,
    "start_time": "2024-01-25T14:55:38.038Z"
   },
   {
    "duration": 87,
    "start_time": "2024-01-25T14:55:38.152Z"
   },
   {
    "duration": 38,
    "start_time": "2024-01-25T14:55:38.240Z"
   },
   {
    "duration": 6,
    "start_time": "2024-01-25T14:55:38.279Z"
   },
   {
    "duration": 31,
    "start_time": "2024-01-25T14:55:38.286Z"
   },
   {
    "duration": 10,
    "start_time": "2024-01-25T14:55:38.318Z"
   },
   {
    "duration": 56,
    "start_time": "2024-01-25T14:55:38.330Z"
   },
   {
    "duration": 21,
    "start_time": "2024-01-25T14:55:38.388Z"
   },
   {
    "duration": 278,
    "start_time": "2024-01-25T14:55:38.411Z"
   },
   {
    "duration": 31,
    "start_time": "2024-01-25T14:55:38.692Z"
   },
   {
    "duration": 551,
    "start_time": "2024-01-25T14:55:38.724Z"
   },
   {
    "duration": 218,
    "start_time": "2024-01-25T14:55:39.277Z"
   },
   {
    "duration": 7,
    "start_time": "2024-01-25T14:55:39.496Z"
   },
   {
    "duration": 14,
    "start_time": "2024-01-25T14:55:39.504Z"
   },
   {
    "duration": 7,
    "start_time": "2024-01-25T14:55:39.520Z"
   },
   {
    "duration": 42,
    "start_time": "2024-01-25T14:55:39.529Z"
   },
   {
    "duration": 99,
    "start_time": "2024-01-25T14:55:39.573Z"
   },
   {
    "duration": 156,
    "start_time": "2024-01-25T14:55:39.674Z"
   },
   {
    "duration": 137,
    "start_time": "2024-01-25T14:55:39.832Z"
   },
   {
    "duration": 14,
    "start_time": "2024-01-25T14:55:39.970Z"
   },
   {
    "duration": 4,
    "start_time": "2024-01-25T14:55:39.986Z"
   },
   {
    "duration": 48,
    "start_time": "2024-01-25T14:55:39.991Z"
   },
   {
    "duration": 84,
    "start_time": "2024-01-25T14:55:40.056Z"
   },
   {
    "duration": 5,
    "start_time": "2024-01-25T14:55:40.141Z"
   },
   {
    "duration": 26,
    "start_time": "2024-01-25T14:55:40.147Z"
   },
   {
    "duration": 14,
    "start_time": "2024-01-25T14:55:40.175Z"
   },
   {
    "duration": 21,
    "start_time": "2024-01-25T14:55:40.191Z"
   },
   {
    "duration": 19,
    "start_time": "2024-01-25T14:55:40.214Z"
   },
   {
    "duration": 31,
    "start_time": "2024-01-25T14:55:40.234Z"
   },
   {
    "duration": 16,
    "start_time": "2024-01-25T14:55:40.267Z"
   },
   {
    "duration": 15,
    "start_time": "2024-01-25T14:55:40.284Z"
   },
   {
    "duration": 21,
    "start_time": "2024-01-25T14:55:40.300Z"
   },
   {
    "duration": 10,
    "start_time": "2024-01-25T14:55:40.322Z"
   },
   {
    "duration": 1239,
    "start_time": "2024-01-26T13:57:47.313Z"
   },
   {
    "duration": 740,
    "start_time": "2024-01-26T13:57:48.554Z"
   },
   {
    "duration": 11,
    "start_time": "2024-01-26T13:57:49.295Z"
   },
   {
    "duration": 70,
    "start_time": "2024-01-26T13:57:49.307Z"
   },
   {
    "duration": 90,
    "start_time": "2024-01-26T13:57:49.380Z"
   },
   {
    "duration": 78,
    "start_time": "2024-01-26T13:57:49.471Z"
   },
   {
    "duration": 27,
    "start_time": "2024-01-26T13:57:49.550Z"
   },
   {
    "duration": 51,
    "start_time": "2024-01-26T13:57:49.578Z"
   },
   {
    "duration": 42,
    "start_time": "2024-01-26T13:57:49.631Z"
   },
   {
    "duration": 10,
    "start_time": "2024-01-26T13:57:49.675Z"
   },
   {
    "duration": 36,
    "start_time": "2024-01-26T13:57:49.687Z"
   },
   {
    "duration": 35,
    "start_time": "2024-01-26T13:57:49.724Z"
   },
   {
    "duration": 259,
    "start_time": "2024-01-26T13:57:49.761Z"
   },
   {
    "duration": 41,
    "start_time": "2024-01-26T13:57:50.023Z"
   },
   {
    "duration": 510,
    "start_time": "2024-01-26T13:57:50.066Z"
   },
   {
    "duration": 217,
    "start_time": "2024-01-26T13:57:50.578Z"
   },
   {
    "duration": 7,
    "start_time": "2024-01-26T13:57:50.796Z"
   },
   {
    "duration": 25,
    "start_time": "2024-01-26T13:57:50.804Z"
   },
   {
    "duration": 10,
    "start_time": "2024-01-26T13:57:50.830Z"
   },
   {
    "duration": 37,
    "start_time": "2024-01-26T13:57:50.841Z"
   },
   {
    "duration": 115,
    "start_time": "2024-01-26T13:57:50.880Z"
   },
   {
    "duration": 151,
    "start_time": "2024-01-26T13:57:50.996Z"
   },
   {
    "duration": 159,
    "start_time": "2024-01-26T13:57:51.149Z"
   },
   {
    "duration": 13,
    "start_time": "2024-01-26T13:57:51.310Z"
   },
   {
    "duration": 12,
    "start_time": "2024-01-26T13:57:51.324Z"
   },
   {
    "duration": 51,
    "start_time": "2024-01-26T13:57:51.338Z"
   },
   {
    "duration": 81,
    "start_time": "2024-01-26T13:57:51.390Z"
   },
   {
    "duration": 5,
    "start_time": "2024-01-26T13:57:51.473Z"
   },
   {
    "duration": 14,
    "start_time": "2024-01-26T13:57:51.479Z"
   },
   {
    "duration": 12,
    "start_time": "2024-01-26T13:57:51.495Z"
   },
   {
    "duration": 9,
    "start_time": "2024-01-26T13:57:51.508Z"
   },
   {
    "duration": 13,
    "start_time": "2024-01-26T13:57:51.519Z"
   },
   {
    "duration": 46,
    "start_time": "2024-01-26T13:57:51.533Z"
   },
   {
    "duration": 11,
    "start_time": "2024-01-26T13:57:51.580Z"
   },
   {
    "duration": 18,
    "start_time": "2024-01-26T13:57:51.592Z"
   },
   {
    "duration": 21,
    "start_time": "2024-01-26T13:57:51.612Z"
   },
   {
    "duration": 25,
    "start_time": "2024-01-26T13:57:51.635Z"
   },
   {
    "duration": 118,
    "start_time": "2024-01-26T13:58:44.728Z"
   },
   {
    "duration": 1718,
    "start_time": "2024-01-26T13:59:49.199Z"
   },
   {
    "duration": 26,
    "start_time": "2024-01-26T14:00:08.988Z"
   },
   {
    "duration": 7,
    "start_time": "2024-01-26T14:00:36.435Z"
   },
   {
    "duration": 8,
    "start_time": "2024-01-26T14:04:04.446Z"
   },
   {
    "duration": 192,
    "start_time": "2024-01-26T14:09:41.002Z"
   },
   {
    "duration": 258,
    "start_time": "2024-01-26T14:09:45.113Z"
   },
   {
    "duration": 192,
    "start_time": "2024-01-26T14:09:49.503Z"
   },
   {
    "duration": 207,
    "start_time": "2024-01-26T14:09:54.100Z"
   },
   {
    "duration": 186,
    "start_time": "2024-01-26T14:10:00.757Z"
   },
   {
    "duration": 50,
    "start_time": "2024-01-28T09:44:09.697Z"
   },
   {
    "duration": 1305,
    "start_time": "2024-01-28T09:44:21.030Z"
   },
   {
    "duration": 721,
    "start_time": "2024-01-28T09:44:22.337Z"
   },
   {
    "duration": 15,
    "start_time": "2024-01-28T09:44:23.060Z"
   },
   {
    "duration": 66,
    "start_time": "2024-01-28T09:44:23.077Z"
   },
   {
    "duration": 104,
    "start_time": "2024-01-28T09:44:23.145Z"
   },
   {
    "duration": 150,
    "start_time": "2024-01-28T09:44:23.251Z"
   },
   {
    "duration": 9,
    "start_time": "2024-01-28T09:44:23.403Z"
   },
   {
    "duration": 34,
    "start_time": "2024-01-28T09:44:23.414Z"
   },
   {
    "duration": 61,
    "start_time": "2024-01-28T09:44:23.449Z"
   },
   {
    "duration": 3,
    "start_time": "2024-01-28T09:44:23.514Z"
   },
   {
    "duration": 30,
    "start_time": "2024-01-28T09:44:23.519Z"
   },
   {
    "duration": 23,
    "start_time": "2024-01-28T09:44:23.550Z"
   },
   {
    "duration": 36,
    "start_time": "2024-01-28T09:44:23.575Z"
   },
   {
    "duration": 25,
    "start_time": "2024-01-28T09:44:23.613Z"
   },
   {
    "duration": 297,
    "start_time": "2024-01-28T09:44:23.640Z"
   },
   {
    "duration": 7,
    "start_time": "2024-01-28T09:44:23.939Z"
   },
   {
    "duration": 297,
    "start_time": "2024-01-28T09:44:23.947Z"
   },
   {
    "duration": 219,
    "start_time": "2024-01-28T09:44:24.246Z"
   },
   {
    "duration": 11,
    "start_time": "2024-01-28T09:44:24.466Z"
   },
   {
    "duration": 5,
    "start_time": "2024-01-28T09:44:24.479Z"
   },
   {
    "duration": 7,
    "start_time": "2024-01-28T09:44:24.485Z"
   },
   {
    "duration": 30,
    "start_time": "2024-01-28T09:44:24.493Z"
   },
   {
    "duration": 104,
    "start_time": "2024-01-28T09:44:24.525Z"
   },
   {
    "duration": 161,
    "start_time": "2024-01-28T09:44:24.631Z"
   },
   {
    "duration": 157,
    "start_time": "2024-01-28T09:44:24.793Z"
   },
   {
    "duration": 23,
    "start_time": "2024-01-28T09:44:24.951Z"
   },
   {
    "duration": 3,
    "start_time": "2024-01-28T09:44:24.976Z"
   },
   {
    "duration": 51,
    "start_time": "2024-01-28T09:44:24.982Z"
   },
   {
    "duration": 107,
    "start_time": "2024-01-28T09:44:25.034Z"
   },
   {
    "duration": 5,
    "start_time": "2024-01-28T09:44:25.143Z"
   },
   {
    "duration": 12,
    "start_time": "2024-01-28T09:44:25.149Z"
   },
   {
    "duration": 89,
    "start_time": "2024-01-28T09:44:25.162Z"
   },
   {
    "duration": 20,
    "start_time": "2024-01-28T09:44:25.253Z"
   },
   {
    "duration": 10,
    "start_time": "2024-01-28T09:44:25.274Z"
   },
   {
    "duration": 40,
    "start_time": "2024-01-28T09:44:25.286Z"
   },
   {
    "duration": 16,
    "start_time": "2024-01-28T09:44:25.327Z"
   },
   {
    "duration": 27,
    "start_time": "2024-01-28T09:44:25.345Z"
   },
   {
    "duration": 23,
    "start_time": "2024-01-28T09:44:25.374Z"
   },
   {
    "duration": 4,
    "start_time": "2024-01-28T09:44:25.399Z"
   },
   {
    "duration": 84,
    "start_time": "2024-01-28T09:45:38.047Z"
   },
   {
    "duration": 82,
    "start_time": "2024-01-28T09:45:45.116Z"
   },
   {
    "duration": 153,
    "start_time": "2024-01-28T09:45:47.506Z"
   },
   {
    "duration": 143,
    "start_time": "2024-01-28T09:45:48.989Z"
   },
   {
    "duration": 4,
    "start_time": "2024-01-28T09:48:52.002Z"
   },
   {
    "duration": 154,
    "start_time": "2024-01-28T09:49:03.645Z"
   },
   {
    "duration": 15,
    "start_time": "2024-01-28T09:49:05.973Z"
   },
   {
    "duration": 4,
    "start_time": "2024-01-28T09:49:08.649Z"
   },
   {
    "duration": 1224,
    "start_time": "2024-01-28T09:51:19.863Z"
   },
   {
    "duration": 214,
    "start_time": "2024-01-28T09:51:21.089Z"
   },
   {
    "duration": 11,
    "start_time": "2024-01-28T09:51:21.304Z"
   },
   {
    "duration": 80,
    "start_time": "2024-01-28T09:51:21.317Z"
   },
   {
    "duration": 94,
    "start_time": "2024-01-28T09:51:21.399Z"
   },
   {
    "duration": 148,
    "start_time": "2024-01-28T09:51:21.495Z"
   },
   {
    "duration": 8,
    "start_time": "2024-01-28T09:51:21.645Z"
   },
   {
    "duration": 41,
    "start_time": "2024-01-28T09:51:21.655Z"
   },
   {
    "duration": 28,
    "start_time": "2024-01-28T09:51:21.697Z"
   },
   {
    "duration": 4,
    "start_time": "2024-01-28T09:51:21.727Z"
   },
   {
    "duration": 48,
    "start_time": "2024-01-28T09:51:21.733Z"
   },
   {
    "duration": 7,
    "start_time": "2024-01-28T09:51:21.783Z"
   },
   {
    "duration": 29,
    "start_time": "2024-01-28T09:51:21.792Z"
   },
   {
    "duration": 24,
    "start_time": "2024-01-28T09:51:21.824Z"
   },
   {
    "duration": 303,
    "start_time": "2024-01-28T09:51:21.849Z"
   },
   {
    "duration": 5,
    "start_time": "2024-01-28T09:51:22.154Z"
   },
   {
    "duration": 290,
    "start_time": "2024-01-28T09:51:22.160Z"
   },
   {
    "duration": 207,
    "start_time": "2024-01-28T09:51:22.452Z"
   },
   {
    "duration": 15,
    "start_time": "2024-01-28T09:51:22.660Z"
   },
   {
    "duration": 6,
    "start_time": "2024-01-28T09:51:22.677Z"
   },
   {
    "duration": 7,
    "start_time": "2024-01-28T09:51:22.684Z"
   },
   {
    "duration": 28,
    "start_time": "2024-01-28T09:51:22.693Z"
   },
   {
    "duration": 119,
    "start_time": "2024-01-28T09:51:22.723Z"
   },
   {
    "duration": 149,
    "start_time": "2024-01-28T09:51:22.844Z"
   },
   {
    "duration": 154,
    "start_time": "2024-01-28T09:51:22.994Z"
   },
   {
    "duration": 23,
    "start_time": "2024-01-28T09:51:23.150Z"
   },
   {
    "duration": 3,
    "start_time": "2024-01-28T09:51:23.175Z"
   },
   {
    "duration": 56,
    "start_time": "2024-01-28T09:51:23.180Z"
   },
   {
    "duration": 165,
    "start_time": "2024-01-28T09:51:23.238Z"
   },
   {
    "duration": 6,
    "start_time": "2024-01-28T09:51:23.404Z"
   },
   {
    "duration": 11,
    "start_time": "2024-01-28T09:51:23.412Z"
   },
   {
    "duration": 12,
    "start_time": "2024-01-28T09:51:23.425Z"
   },
   {
    "duration": 11,
    "start_time": "2024-01-28T09:51:23.439Z"
   },
   {
    "duration": 28,
    "start_time": "2024-01-28T09:51:23.452Z"
   },
   {
    "duration": 28,
    "start_time": "2024-01-28T09:51:23.482Z"
   },
   {
    "duration": 12,
    "start_time": "2024-01-28T09:51:23.511Z"
   },
   {
    "duration": 49,
    "start_time": "2024-01-28T09:51:23.524Z"
   },
   {
    "duration": 20,
    "start_time": "2024-01-28T09:51:23.574Z"
   },
   {
    "duration": 4,
    "start_time": "2024-01-28T09:51:23.595Z"
   },
   {
    "duration": 1784,
    "start_time": "2024-01-28T10:11:42.893Z"
   },
   {
    "duration": 15,
    "start_time": "2024-01-28T10:12:00.378Z"
   },
   {
    "duration": 29,
    "start_time": "2024-01-28T10:13:01.923Z"
   },
   {
    "duration": 21,
    "start_time": "2024-01-28T10:14:49.527Z"
   },
   {
    "duration": 22,
    "start_time": "2024-01-28T10:15:05.929Z"
   },
   {
    "duration": 1164,
    "start_time": "2024-01-28T10:15:15.328Z"
   },
   {
    "duration": 213,
    "start_time": "2024-01-28T10:15:16.495Z"
   },
   {
    "duration": 12,
    "start_time": "2024-01-28T10:15:16.710Z"
   },
   {
    "duration": 86,
    "start_time": "2024-01-28T10:15:16.723Z"
   },
   {
    "duration": 104,
    "start_time": "2024-01-28T10:15:16.812Z"
   },
   {
    "duration": 172,
    "start_time": "2024-01-28T10:15:16.918Z"
   },
   {
    "duration": 11,
    "start_time": "2024-01-28T10:15:17.091Z"
   },
   {
    "duration": 37,
    "start_time": "2024-01-28T10:15:17.104Z"
   },
   {
    "duration": 47,
    "start_time": "2024-01-28T10:15:17.142Z"
   },
   {
    "duration": 4,
    "start_time": "2024-01-28T10:15:17.190Z"
   },
   {
    "duration": 30,
    "start_time": "2024-01-28T10:15:17.195Z"
   },
   {
    "duration": 9,
    "start_time": "2024-01-28T10:15:17.227Z"
   },
   {
    "duration": 51,
    "start_time": "2024-01-28T10:15:17.238Z"
   },
   {
    "duration": 25,
    "start_time": "2024-01-28T10:15:17.293Z"
   },
   {
    "duration": 297,
    "start_time": "2024-01-28T10:15:17.319Z"
   },
   {
    "duration": 6,
    "start_time": "2024-01-28T10:15:17.618Z"
   },
   {
    "duration": 647,
    "start_time": "2024-01-28T10:15:17.626Z"
   },
   {
    "duration": 412,
    "start_time": "2024-01-28T10:15:18.275Z"
   },
   {
    "duration": 22,
    "start_time": "2024-01-28T10:15:18.689Z"
   },
   {
    "duration": 64,
    "start_time": "2024-01-28T10:15:18.712Z"
   },
   {
    "duration": 5,
    "start_time": "2024-01-28T10:15:18.778Z"
   },
   {
    "duration": 7,
    "start_time": "2024-01-28T10:15:18.784Z"
   },
   {
    "duration": 81,
    "start_time": "2024-01-28T10:15:18.793Z"
   },
   {
    "duration": 141,
    "start_time": "2024-01-28T10:15:18.876Z"
   },
   {
    "duration": 226,
    "start_time": "2024-01-28T10:15:19.073Z"
   },
   {
    "duration": 186,
    "start_time": "2024-01-28T10:15:19.302Z"
   },
   {
    "duration": 15,
    "start_time": "2024-01-28T10:15:19.489Z"
   },
   {
    "duration": 5,
    "start_time": "2024-01-28T10:15:19.506Z"
   },
   {
    "duration": 62,
    "start_time": "2024-01-28T10:15:19.512Z"
   },
   {
    "duration": 164,
    "start_time": "2024-01-28T10:15:19.576Z"
   },
   {
    "duration": 5,
    "start_time": "2024-01-28T10:15:19.741Z"
   },
   {
    "duration": 13,
    "start_time": "2024-01-28T10:15:19.747Z"
   },
   {
    "duration": 15,
    "start_time": "2024-01-28T10:15:19.772Z"
   },
   {
    "duration": 10,
    "start_time": "2024-01-28T10:15:19.789Z"
   },
   {
    "duration": 12,
    "start_time": "2024-01-28T10:15:19.801Z"
   },
   {
    "duration": 63,
    "start_time": "2024-01-28T10:15:19.815Z"
   },
   {
    "duration": 13,
    "start_time": "2024-01-28T10:15:19.879Z"
   },
   {
    "duration": 17,
    "start_time": "2024-01-28T10:15:19.893Z"
   },
   {
    "duration": 19,
    "start_time": "2024-01-28T10:15:19.911Z"
   },
   {
    "duration": 3,
    "start_time": "2024-01-28T10:15:19.932Z"
   },
   {
    "duration": 21,
    "start_time": "2024-01-28T10:16:24.161Z"
   },
   {
    "duration": 22,
    "start_time": "2024-01-28T10:17:04.641Z"
   },
   {
    "duration": 6,
    "start_time": "2024-01-28T10:17:05.182Z"
   },
   {
    "duration": 6,
    "start_time": "2024-01-28T10:17:05.873Z"
   },
   {
    "duration": 1520,
    "start_time": "2024-01-28T10:17:42.580Z"
   },
   {
    "duration": 403,
    "start_time": "2024-01-28T10:17:44.102Z"
   },
   {
    "duration": 11,
    "start_time": "2024-01-28T10:17:44.506Z"
   },
   {
    "duration": 121,
    "start_time": "2024-01-28T10:17:44.573Z"
   },
   {
    "duration": 194,
    "start_time": "2024-01-28T10:17:44.696Z"
   },
   {
    "duration": 189,
    "start_time": "2024-01-28T10:17:44.892Z"
   },
   {
    "duration": 8,
    "start_time": "2024-01-28T10:17:45.083Z"
   },
   {
    "duration": 49,
    "start_time": "2024-01-28T10:17:45.092Z"
   },
   {
    "duration": 37,
    "start_time": "2024-01-28T10:17:45.143Z"
   },
   {
    "duration": 52,
    "start_time": "2024-01-28T10:17:45.182Z"
   },
   {
    "duration": 56,
    "start_time": "2024-01-28T10:17:45.236Z"
   },
   {
    "duration": 17,
    "start_time": "2024-01-28T10:17:45.294Z"
   },
   {
    "duration": 31,
    "start_time": "2024-01-28T10:17:45.313Z"
   },
   {
    "duration": 37,
    "start_time": "2024-01-28T10:17:45.347Z"
   },
   {
    "duration": 288,
    "start_time": "2024-01-28T10:17:45.385Z"
   },
   {
    "duration": 5,
    "start_time": "2024-01-28T10:17:45.674Z"
   },
   {
    "duration": 283,
    "start_time": "2024-01-28T10:17:45.680Z"
   },
   {
    "duration": 211,
    "start_time": "2024-01-28T10:17:45.972Z"
   },
   {
    "duration": 23,
    "start_time": "2024-01-28T10:17:46.185Z"
   },
   {
    "duration": 7,
    "start_time": "2024-01-28T10:17:46.209Z"
   },
   {
    "duration": 56,
    "start_time": "2024-01-28T10:17:46.217Z"
   },
   {
    "duration": 87,
    "start_time": "2024-01-28T10:17:46.275Z"
   },
   {
    "duration": 161,
    "start_time": "2024-01-28T10:17:46.374Z"
   },
   {
    "duration": 150,
    "start_time": "2024-01-28T10:17:46.537Z"
   },
   {
    "duration": 14,
    "start_time": "2024-01-28T10:17:46.688Z"
   },
   {
    "duration": 5,
    "start_time": "2024-01-28T10:17:46.703Z"
   },
   {
    "duration": 39,
    "start_time": "2024-01-28T10:17:46.710Z"
   },
   {
    "duration": 185,
    "start_time": "2024-01-28T10:17:46.751Z"
   },
   {
    "duration": 5,
    "start_time": "2024-01-28T10:17:46.937Z"
   },
   {
    "duration": 107,
    "start_time": "2024-01-28T10:17:46.943Z"
   },
   {
    "duration": 14,
    "start_time": "2024-01-28T10:17:47.052Z"
   },
   {
    "duration": 11,
    "start_time": "2024-01-28T10:17:47.069Z"
   },
   {
    "duration": 14,
    "start_time": "2024-01-28T10:17:47.082Z"
   },
   {
    "duration": 30,
    "start_time": "2024-01-28T10:17:47.098Z"
   },
   {
    "duration": 11,
    "start_time": "2024-01-28T10:17:47.130Z"
   },
   {
    "duration": 31,
    "start_time": "2024-01-28T10:17:47.143Z"
   },
   {
    "duration": 23,
    "start_time": "2024-01-28T10:17:47.175Z"
   },
   {
    "duration": 5,
    "start_time": "2024-01-28T10:17:47.200Z"
   },
   {
    "duration": 25,
    "start_time": "2024-01-28T10:20:22.469Z"
   },
   {
    "duration": 21,
    "start_time": "2024-01-28T10:20:39.226Z"
   },
   {
    "duration": 1205,
    "start_time": "2024-01-28T10:21:09.080Z"
   },
   {
    "duration": 211,
    "start_time": "2024-01-28T10:21:10.287Z"
   },
   {
    "duration": 10,
    "start_time": "2024-01-28T10:21:10.500Z"
   },
   {
    "duration": 78,
    "start_time": "2024-01-28T10:21:10.512Z"
   },
   {
    "duration": 100,
    "start_time": "2024-01-28T10:21:10.592Z"
   },
   {
    "duration": 138,
    "start_time": "2024-01-28T10:21:10.694Z"
   },
   {
    "duration": 7,
    "start_time": "2024-01-28T10:21:10.834Z"
   },
   {
    "duration": 48,
    "start_time": "2024-01-28T10:21:10.843Z"
   },
   {
    "duration": 25,
    "start_time": "2024-01-28T10:21:10.892Z"
   },
   {
    "duration": 12,
    "start_time": "2024-01-28T10:21:10.919Z"
   },
   {
    "duration": 30,
    "start_time": "2024-01-28T10:21:10.932Z"
   },
   {
    "duration": 7,
    "start_time": "2024-01-28T10:21:10.973Z"
   },
   {
    "duration": 31,
    "start_time": "2024-01-28T10:21:10.982Z"
   },
   {
    "duration": 24,
    "start_time": "2024-01-28T10:21:11.016Z"
   },
   {
    "duration": 301,
    "start_time": "2024-01-28T10:21:11.041Z"
   },
   {
    "duration": 6,
    "start_time": "2024-01-28T10:21:11.344Z"
   },
   {
    "duration": 290,
    "start_time": "2024-01-28T10:21:11.353Z"
   },
   {
    "duration": 214,
    "start_time": "2024-01-28T10:21:11.644Z"
   },
   {
    "duration": 30,
    "start_time": "2024-01-28T10:21:11.859Z"
   },
   {
    "duration": 6,
    "start_time": "2024-01-28T10:21:11.891Z"
   },
   {
    "duration": 27,
    "start_time": "2024-01-28T10:21:11.898Z"
   },
   {
    "duration": 102,
    "start_time": "2024-01-28T10:21:11.926Z"
   },
   {
    "duration": 169,
    "start_time": "2024-01-28T10:21:12.029Z"
   },
   {
    "duration": 168,
    "start_time": "2024-01-28T10:21:12.200Z"
   },
   {
    "duration": 14,
    "start_time": "2024-01-28T10:21:12.372Z"
   },
   {
    "duration": 12,
    "start_time": "2024-01-28T10:21:12.388Z"
   },
   {
    "duration": 41,
    "start_time": "2024-01-28T10:21:12.402Z"
   },
   {
    "duration": 176,
    "start_time": "2024-01-28T10:21:12.445Z"
   },
   {
    "duration": 5,
    "start_time": "2024-01-28T10:21:12.623Z"
   },
   {
    "duration": 14,
    "start_time": "2024-01-28T10:21:12.630Z"
   },
   {
    "duration": 19,
    "start_time": "2024-01-28T10:21:12.646Z"
   },
   {
    "duration": 9,
    "start_time": "2024-01-28T10:21:12.673Z"
   },
   {
    "duration": 24,
    "start_time": "2024-01-28T10:21:12.683Z"
   },
   {
    "duration": 25,
    "start_time": "2024-01-28T10:21:12.708Z"
   },
   {
    "duration": 18,
    "start_time": "2024-01-28T10:21:12.734Z"
   },
   {
    "duration": 31,
    "start_time": "2024-01-28T10:21:12.753Z"
   },
   {
    "duration": 28,
    "start_time": "2024-01-28T10:21:12.785Z"
   },
   {
    "duration": 3,
    "start_time": "2024-01-28T10:21:12.814Z"
   },
   {
    "duration": 24,
    "start_time": "2024-01-28T11:41:00.292Z"
   },
   {
    "duration": 22,
    "start_time": "2024-01-28T11:41:07.925Z"
   },
   {
    "duration": 23,
    "start_time": "2024-01-28T11:42:55.453Z"
   },
   {
    "duration": 23,
    "start_time": "2024-01-28T11:43:02.019Z"
   },
   {
    "duration": 23,
    "start_time": "2024-01-28T11:43:41.057Z"
   },
   {
    "duration": 23,
    "start_time": "2024-01-28T11:43:49.010Z"
   },
   {
    "duration": 1256,
    "start_time": "2024-01-28T11:44:23.940Z"
   },
   {
    "duration": 215,
    "start_time": "2024-01-28T11:44:25.198Z"
   },
   {
    "duration": 11,
    "start_time": "2024-01-28T11:44:25.414Z"
   },
   {
    "duration": 89,
    "start_time": "2024-01-28T11:44:25.427Z"
   },
   {
    "duration": 103,
    "start_time": "2024-01-28T11:44:25.518Z"
   },
   {
    "duration": 141,
    "start_time": "2024-01-28T11:44:25.623Z"
   },
   {
    "duration": 12,
    "start_time": "2024-01-28T11:44:25.766Z"
   },
   {
    "duration": 31,
    "start_time": "2024-01-28T11:44:25.779Z"
   },
   {
    "duration": 26,
    "start_time": "2024-01-28T11:44:25.812Z"
   },
   {
    "duration": 11,
    "start_time": "2024-01-28T11:44:25.840Z"
   },
   {
    "duration": 52,
    "start_time": "2024-01-28T11:44:25.853Z"
   },
   {
    "duration": 7,
    "start_time": "2024-01-28T11:44:25.907Z"
   },
   {
    "duration": 31,
    "start_time": "2024-01-28T11:44:25.915Z"
   },
   {
    "duration": 39,
    "start_time": "2024-01-28T11:44:25.948Z"
   },
   {
    "duration": 287,
    "start_time": "2024-01-28T11:44:25.989Z"
   },
   {
    "duration": 6,
    "start_time": "2024-01-28T11:44:26.278Z"
   },
   {
    "duration": 297,
    "start_time": "2024-01-28T11:44:26.286Z"
   },
   {
    "duration": 224,
    "start_time": "2024-01-28T11:44:26.584Z"
   },
   {
    "duration": 23,
    "start_time": "2024-01-28T11:44:26.810Z"
   },
   {
    "duration": 7,
    "start_time": "2024-01-28T11:44:26.834Z"
   },
   {
    "duration": 47,
    "start_time": "2024-01-28T11:44:26.842Z"
   },
   {
    "duration": 91,
    "start_time": "2024-01-28T11:44:26.891Z"
   },
   {
    "duration": 170,
    "start_time": "2024-01-28T11:44:26.984Z"
   },
   {
    "duration": 149,
    "start_time": "2024-01-28T11:44:27.156Z"
   },
   {
    "duration": 15,
    "start_time": "2024-01-28T11:44:27.307Z"
   },
   {
    "duration": 3,
    "start_time": "2024-01-28T11:44:27.323Z"
   },
   {
    "duration": 59,
    "start_time": "2024-01-28T11:44:27.327Z"
   },
   {
    "duration": 97,
    "start_time": "2024-01-28T11:44:27.389Z"
   },
   {
    "duration": 5,
    "start_time": "2024-01-28T11:44:27.487Z"
   },
   {
    "duration": 10,
    "start_time": "2024-01-28T11:44:27.494Z"
   },
   {
    "duration": 91,
    "start_time": "2024-01-28T11:44:27.505Z"
   },
   {
    "duration": 7,
    "start_time": "2024-01-28T11:44:27.598Z"
   },
   {
    "duration": 11,
    "start_time": "2024-01-28T11:44:27.606Z"
   },
   {
    "duration": 22,
    "start_time": "2024-01-28T11:44:27.619Z"
   },
   {
    "duration": 12,
    "start_time": "2024-01-28T11:44:27.673Z"
   },
   {
    "duration": 19,
    "start_time": "2024-01-28T11:44:27.687Z"
   },
   {
    "duration": 19,
    "start_time": "2024-01-28T11:44:27.708Z"
   },
   {
    "duration": 20,
    "start_time": "2024-01-28T11:44:27.729Z"
   },
   {
    "duration": 77,
    "start_time": "2024-01-28T12:06:54.708Z"
   },
   {
    "duration": 82,
    "start_time": "2024-01-28T12:07:05.031Z"
   },
   {
    "duration": 75,
    "start_time": "2024-01-28T12:07:09.452Z"
   },
   {
    "duration": 1291,
    "start_time": "2024-01-29T13:17:15.954Z"
   },
   {
    "duration": 516,
    "start_time": "2024-01-29T13:17:17.248Z"
   },
   {
    "duration": 9,
    "start_time": "2024-01-29T13:17:17.766Z"
   },
   {
    "duration": 70,
    "start_time": "2024-01-29T13:17:17.777Z"
   },
   {
    "duration": 77,
    "start_time": "2024-01-29T13:17:17.849Z"
   },
   {
    "duration": 132,
    "start_time": "2024-01-29T13:17:17.928Z"
   },
   {
    "duration": 6,
    "start_time": "2024-01-29T13:17:18.062Z"
   },
   {
    "duration": 42,
    "start_time": "2024-01-29T13:17:18.070Z"
   },
   {
    "duration": 22,
    "start_time": "2024-01-29T13:17:18.113Z"
   },
   {
    "duration": 6,
    "start_time": "2024-01-29T13:17:18.137Z"
   },
   {
    "duration": 29,
    "start_time": "2024-01-29T13:17:18.144Z"
   },
   {
    "duration": 19,
    "start_time": "2024-01-29T13:17:18.175Z"
   },
   {
    "duration": 41,
    "start_time": "2024-01-29T13:17:18.195Z"
   },
   {
    "duration": 27,
    "start_time": "2024-01-29T13:17:18.237Z"
   },
   {
    "duration": 249,
    "start_time": "2024-01-29T13:17:18.266Z"
   },
   {
    "duration": 5,
    "start_time": "2024-01-29T13:17:18.516Z"
   },
   {
    "duration": 242,
    "start_time": "2024-01-29T13:17:18.523Z"
   },
   {
    "duration": 181,
    "start_time": "2024-01-29T13:17:18.767Z"
   },
   {
    "duration": 19,
    "start_time": "2024-01-29T13:17:18.950Z"
   },
   {
    "duration": 20,
    "start_time": "2024-01-29T13:17:18.970Z"
   },
   {
    "duration": 46,
    "start_time": "2024-01-29T13:17:18.991Z"
   },
   {
    "duration": 73,
    "start_time": "2024-01-29T13:17:19.038Z"
   },
   {
    "duration": 141,
    "start_time": "2024-01-29T13:17:19.112Z"
   },
   {
    "duration": 126,
    "start_time": "2024-01-29T13:17:19.254Z"
   },
   {
    "duration": 13,
    "start_time": "2024-01-29T13:17:19.381Z"
   },
   {
    "duration": 5,
    "start_time": "2024-01-29T13:17:19.395Z"
   },
   {
    "duration": 59,
    "start_time": "2024-01-29T13:17:19.401Z"
   },
   {
    "duration": 81,
    "start_time": "2024-01-29T13:17:19.464Z"
   },
   {
    "duration": 5,
    "start_time": "2024-01-29T13:17:19.546Z"
   },
   {
    "duration": 18,
    "start_time": "2024-01-29T13:17:19.552Z"
   },
   {
    "duration": 75,
    "start_time": "2024-01-29T13:17:19.571Z"
   },
   {
    "duration": 30,
    "start_time": "2024-01-29T13:17:19.648Z"
   },
   {
    "duration": 11,
    "start_time": "2024-01-29T13:17:19.679Z"
   },
   {
    "duration": 41,
    "start_time": "2024-01-29T13:17:19.691Z"
   },
   {
    "duration": 11,
    "start_time": "2024-01-29T13:17:19.733Z"
   },
   {
    "duration": 20,
    "start_time": "2024-01-29T13:17:19.745Z"
   },
   {
    "duration": 18,
    "start_time": "2024-01-29T13:17:19.766Z"
   },
   {
    "duration": 3,
    "start_time": "2024-01-29T13:17:19.785Z"
   },
   {
    "duration": 1041,
    "start_time": "2024-01-29T13:27:49.182Z"
   },
   {
    "duration": 191,
    "start_time": "2024-01-29T13:27:50.225Z"
   },
   {
    "duration": 9,
    "start_time": "2024-01-29T13:27:50.418Z"
   },
   {
    "duration": 166,
    "start_time": "2024-01-29T13:27:50.428Z"
   },
   {
    "duration": 131,
    "start_time": "2024-01-29T13:27:50.595Z"
   },
   {
    "duration": 148,
    "start_time": "2024-01-29T13:27:50.728Z"
   },
   {
    "duration": 7,
    "start_time": "2024-01-29T13:27:50.877Z"
   },
   {
    "duration": 74,
    "start_time": "2024-01-29T13:27:50.885Z"
   },
   {
    "duration": 42,
    "start_time": "2024-01-29T13:27:50.960Z"
   },
   {
    "duration": 35,
    "start_time": "2024-01-29T13:27:51.004Z"
   },
   {
    "duration": 42,
    "start_time": "2024-01-29T13:27:51.041Z"
   },
   {
    "duration": 29,
    "start_time": "2024-01-29T13:27:51.084Z"
   },
   {
    "duration": 39,
    "start_time": "2024-01-29T13:27:51.115Z"
   },
   {
    "duration": 20,
    "start_time": "2024-01-29T13:27:51.155Z"
   },
   {
    "duration": 254,
    "start_time": "2024-01-29T13:27:51.177Z"
   },
   {
    "duration": 13,
    "start_time": "2024-01-29T13:27:51.433Z"
   },
   {
    "duration": 248,
    "start_time": "2024-01-29T13:27:51.447Z"
   },
   {
    "duration": 178,
    "start_time": "2024-01-29T13:27:51.697Z"
   },
   {
    "duration": 19,
    "start_time": "2024-01-29T13:27:51.877Z"
   },
   {
    "duration": 46,
    "start_time": "2024-01-29T13:27:51.897Z"
   },
   {
    "duration": 51,
    "start_time": "2024-01-29T13:27:51.945Z"
   },
   {
    "duration": 155,
    "start_time": "2024-01-29T13:27:51.997Z"
   },
   {
    "duration": 137,
    "start_time": "2024-01-29T13:27:52.153Z"
   },
   {
    "duration": 130,
    "start_time": "2024-01-29T13:27:52.292Z"
   },
   {
    "duration": 88,
    "start_time": "2024-01-29T13:27:52.423Z"
   },
   {
    "duration": 97,
    "start_time": "2024-01-29T13:27:52.512Z"
   },
   {
    "duration": 38,
    "start_time": "2024-01-29T13:27:52.610Z"
   },
   {
    "duration": 77,
    "start_time": "2024-01-29T13:27:52.650Z"
   },
   {
    "duration": 5,
    "start_time": "2024-01-29T13:27:52.728Z"
   },
   {
    "duration": 12,
    "start_time": "2024-01-29T13:27:52.744Z"
   },
   {
    "duration": 76,
    "start_time": "2024-01-29T13:27:52.758Z"
   },
   {
    "duration": 14,
    "start_time": "2024-01-29T13:27:52.835Z"
   },
   {
    "duration": 13,
    "start_time": "2024-01-29T13:27:52.850Z"
   },
   {
    "duration": 29,
    "start_time": "2024-01-29T13:27:52.865Z"
   },
   {
    "duration": 21,
    "start_time": "2024-01-29T13:27:52.895Z"
   },
   {
    "duration": 17,
    "start_time": "2024-01-29T13:27:52.918Z"
   },
   {
    "duration": 20,
    "start_time": "2024-01-29T13:27:52.936Z"
   },
   {
    "duration": 12,
    "start_time": "2024-01-29T13:27:52.957Z"
   }
  ],
  "kernelspec": {
   "display_name": "Python 3 (ipykernel)",
   "language": "python",
   "name": "python3"
  },
  "language_info": {
   "codemirror_mode": {
    "name": "ipython",
    "version": 3
   },
   "file_extension": ".py",
   "mimetype": "text/x-python",
   "name": "python",
   "nbconvert_exporter": "python",
   "pygments_lexer": "ipython3",
   "version": "3.9.5"
  },
  "toc": {
   "base_numbering": 1,
   "nav_menu": {},
   "number_sections": true,
   "sideBar": true,
   "skip_h1_title": true,
   "title_cell": "Table of Contents",
   "title_sidebar": "Contents",
   "toc_cell": false,
   "toc_position": {
    "height": "calc(100% - 180px)",
    "left": "10px",
    "top": "150px",
    "width": "192.4px"
   },
   "toc_section_display": true,
   "toc_window_display": true
  }
 },
 "nbformat": 4,
 "nbformat_minor": 2
}
