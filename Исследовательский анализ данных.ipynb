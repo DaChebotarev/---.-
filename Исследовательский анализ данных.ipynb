{
 "cells": [
  {
   "cell_type": "markdown",
   "metadata": {},
   "source": [
    "<div class=\"alert alert-success\">\n",
    "  <b> ✔️Комментарий ревьюера ✔️</b>\n",
    "\n",
    "Привет, Данил! Меня зовут Михаил, я буду проверять твой проект. Предлагаю общаться на 'ты' :)\n",
    "Однако, если это неудобно - сообщи, и мы перейдем на 'Вы'. Моя главная цель —  поделиться с тобой своим опытом и помочь тебе стать аналитиком данных, а не только указать на совершенные тобой ошибки.\n",
    "\n",
    "Видно, что к проекту приложен большой труд. Все ключевые этапы в работе выполнены, статистическое исследование проведено качественно. Так что в целом справиться с задачей тебе удалось.\n",
    "\n",
    "Есть несколько аспектов, которые **требуют** твоего **внимания**. Комментарии по ним помечены красным цветом и символами ❌. После их доработки проект будет принят, осталось совсем немного :) \n",
    "    \n",
    "\n",
    "Давай работать над проектом в диалоге: если **ты что-то меняешь** в проекте по моим рекомендациям — **пиши об этом**. Мне будет легче отследить изменения, если ты будешь использовать синюю форму, которую я прикреплю ниже. Пожалуйста, **не перемещай, не изменяй и не удаляй мои комментарии**. Всё это поможет выполнить повторную проверку твоего проекта оперативнее. \n",
    "\n",
    "\n",
    "\n",
    "Жду проект на повторное ревью. Успехов в изучении!\n",
    "\n",
    "\n",
    "\n",
    "</div>\n",
    "<div class=\"alert alert-block alert-danger\"> <b>❌ Комментарий ревьюера ❌</b> \n",
    "    Так я выделяю моменты, которые требуют особого внимания. Нужно будет учесть их и внести корректировки в свою работу. </div>\n",
    "<div class=\"alert alert-block alert-warning\"> <b>⚠️ Комментарий ревьюера ⚠️</b> \n",
    "    Желтым я отмечу рекомендации, которые, могут быть полезными при твоей работе. Они носят рекомендационный характер, но будет классно, если ты будешь учитывать их при работе.</div>\n",
    "<div class=\"alert alert-block alert-success\"> <b>✔️ Комментарий ревьюера ✔️</b>\n",
    "    Так я выделяю удачные и элегантные решения, на которые можно опираться в будущих проектах.</div>\n",
    "<div class=\"alert alert-block alert-info\">\n",
    "    \n",
    "А в таком блоке ты можешь оставить комментарии для меня \n",
    "    \n",
    "</div>"
   ]
  },
  {
   "cell_type": "markdown",
   "metadata": {},
   "source": [
    "# Исследование объявлений о продаже квартир\n",
    "\n",
    "В вашем распоряжении данные сервиса Яндекс.Недвижимость — архив объявлений о продаже квартир в Санкт-Петербурге и соседних населённых пунктов за несколько лет. Нужно научиться определять рыночную стоимость объектов недвижимости. Ваша задача — установить параметры. Это позволит построить автоматизированную систему: она отследит аномалии и мошенническую деятельность. \n",
    "\n",
    "По каждой квартире на продажу доступны два вида данных. Первые вписаны пользователем, вторые — получены автоматически на основе картографических данных. Например, расстояние до центра, аэропорта, ближайшего парка и водоёма.\n",
    "\n",
    "**План предстоящей работы:**\n",
    "- открыть предоставленный файл и ознакомиться с общей информацией\n",
    "- построить гистограмму для всех числовых столбцов таблицы на одном графике\n",
    "- предобработать данные - заполнить пропуски, изменить тип данных и уберать дубликаты\n",
    "- добавить в таблицу новые столбцы с необходимыми параметрами\n",
    "- провести исследовательский анализ данных\n",
    "- написать общий вывод"
   ]
  },
  {
   "cell_type": "markdown",
   "metadata": {},
   "source": [
    "<div class=\"alert alert-warning\">\n",
    "\n",
    "**⚠️ Комментарий ревьюера ⚠️**\n",
    "   \n",
    "   Рекомендую добавить к работе небольшой план работы, написанный своими словами - навык составления ТЗ пригодится в будущем\n",
    "\n",
    "</div>\n"
   ]
  },
  {
   "cell_type": "markdown",
   "metadata": {},
   "source": [
    "<div class=\"alert alert-success\">\n",
    "\n",
    "**✔️ Комментарий ревьюера v2✔️**\n",
    "   \n",
    "   Получилось отлично👍\n",
    "\n",
    "</div>\n"
   ]
  },
  {
   "cell_type": "markdown",
   "metadata": {},
   "source": [
    "### Откройте файл с данными и изучите общую информацию. "
   ]
  },
  {
   "cell_type": "code",
   "execution_count": 1,
   "metadata": {},
   "outputs": [
    {
     "name": "stdout",
     "output_type": "stream",
     "text": [
      "<class 'pandas.core.frame.DataFrame'>\n",
      "RangeIndex: 23699 entries, 0 to 23698\n",
      "Data columns (total 22 columns):\n",
      " #   Column                Non-Null Count  Dtype  \n",
      "---  ------                --------------  -----  \n",
      " 0   total_images          23699 non-null  int64  \n",
      " 1   last_price            23699 non-null  float64\n",
      " 2   total_area            23699 non-null  float64\n",
      " 3   first_day_exposition  23699 non-null  object \n",
      " 4   rooms                 23699 non-null  int64  \n",
      " 5   ceiling_height        14504 non-null  float64\n",
      " 6   floors_total          23613 non-null  float64\n",
      " 7   living_area           21796 non-null  float64\n",
      " 8   floor                 23699 non-null  int64  \n",
      " 9   is_apartment          2775 non-null   object \n",
      " 10  studio                23699 non-null  bool   \n",
      " 11  open_plan             23699 non-null  bool   \n",
      " 12  kitchen_area          21421 non-null  float64\n",
      " 13  balcony               12180 non-null  float64\n",
      " 14  locality_name         23650 non-null  object \n",
      " 15  airports_nearest      18157 non-null  float64\n",
      " 16  cityCenters_nearest   18180 non-null  float64\n",
      " 17  parks_around3000      18181 non-null  float64\n",
      " 18  parks_nearest         8079 non-null   float64\n",
      " 19  ponds_around3000      18181 non-null  float64\n",
      " 20  ponds_nearest         9110 non-null   float64\n",
      " 21  days_exposition       20518 non-null  float64\n",
      "dtypes: bool(2), float64(14), int64(3), object(3)\n",
      "memory usage: 3.7+ MB\n"
     ]
    },
    {
     "data": {
      "text/plain": [
       "array([[<AxesSubplot:title={'center':'total_images'}>,\n",
       "        <AxesSubplot:title={'center':'last_price'}>,\n",
       "        <AxesSubplot:title={'center':'total_area'}>,\n",
       "        <AxesSubplot:title={'center':'rooms'}>],\n",
       "       [<AxesSubplot:title={'center':'ceiling_height'}>,\n",
       "        <AxesSubplot:title={'center':'floors_total'}>,\n",
       "        <AxesSubplot:title={'center':'living_area'}>,\n",
       "        <AxesSubplot:title={'center':'floor'}>],\n",
       "       [<AxesSubplot:title={'center':'kitchen_area'}>,\n",
       "        <AxesSubplot:title={'center':'balcony'}>,\n",
       "        <AxesSubplot:title={'center':'airports_nearest'}>,\n",
       "        <AxesSubplot:title={'center':'cityCenters_nearest'}>],\n",
       "       [<AxesSubplot:title={'center':'parks_around3000'}>,\n",
       "        <AxesSubplot:title={'center':'parks_nearest'}>,\n",
       "        <AxesSubplot:title={'center':'ponds_around3000'}>,\n",
       "        <AxesSubplot:title={'center':'ponds_nearest'}>],\n",
       "       [<AxesSubplot:title={'center':'days_exposition'}>, <AxesSubplot:>,\n",
       "        <AxesSubplot:>, <AxesSubplot:>]], dtype=object)"
      ]
     },
     "execution_count": 1,
     "metadata": {},
     "output_type": "execute_result"
    },
    {
     "data": {
      "image/png": "[encoded data removed]",
      "text/plain": [
       "<Figure size 1080x1440 with 20 Axes>"
      ]
     },
     "metadata": {
      "needs_background": "light"
     },
     "output_type": "display_data"
    }
   ],
   "source": [
    "import pandas as pd\n",
    "import seaborn as sns\n",
    "import numpy as np\n",
    "import matplotlib.pyplot as plt\n",
    "data = pd.read_csv('/datasets/real_estate_data.csv', sep='\\t')\n",
    "data.info()\n",
    "data.hist(figsize=(15, 20))"
   ]
  },
  {
   "cell_type": "markdown",
   "metadata": {},
   "source": [
    "**Вывод:**\n",
    "1. first_day_exposition - должен быть тип datetime\n",
    "2. ceiling_height - нулевые значения\n",
    "3. floors_total - должен быть тип int + нулевые значения\n",
    "4. is_apartment - должен быть тип bool + нулевые значения\n",
    "5. living_area - нулевые значения\n",
    "6. kitchen_area - нулевые значения\n",
    "7. balcony - нулевые значения\n",
    "8. locality_name - нулевые значения\n",
    "9. airports_nearest - нулевые значения\n",
    "10. cityCenters_nearest - нулевые значения\n",
    "11. parks_around3000 - тип должен быть int + нулевые значения\n",
    "12. parks_nearest - нулевые значения\n",
    "13. ponds_around3000 - тип должен быть int + нулевые значения\n",
    "14. ponds_nearest - нулевые значения\n",
    "15. days_exposition - тип должен быть int + нулевые значения\n",
    "    "
   ]
  },
  {
   "cell_type": "markdown",
   "metadata": {},
   "source": [
    "<div class=\"alert alert-danger\">\n",
    "\n",
    "**❌ Комментарий ревьюера ❌**\n",
    "   \n",
    "   Здесь по ТЗ нас просят построить гистограмму для всех числовых столбцов таблицы. Это нужно сделать, чтобы оценить распределение данных до и после предобработки\n",
    "\n",
    "</div>\n"
   ]
  },
  {
   "cell_type": "markdown",
   "metadata": {},
   "source": [
    "<div class=\"alert alert-block alert-info\">\n",
    "    \n",
    "Исправил    \n",
    "<div class=\"alert alert-success\">\n",
    "\n",
    "**✔️ Комментарий ревьюера v2✔️**\n",
    "   \n",
    "   👍\n",
    "\n",
    "</div>\n",
    "    \n",
    "</div>"
   ]
  },
  {
   "cell_type": "code",
   "execution_count": 2,
   "metadata": {},
   "outputs": [
    {
     "name": "stdout",
     "output_type": "stream",
     "text": [
      "\n",
      "DataFrame Shape : (23699, 22)\n",
      "\n",
      "Number of rows : 23699\n",
      "\n",
      "Number of columns : 22\n"
     ]
    }
   ],
   "source": [
    "shape = data.shape \n",
    "print('\\nDataFrame Shape :', shape) \n",
    "print('\\nNumber of rows :', shape[0]) \n",
    "print('\\nNumber of columns :', shape[1])"
   ]
  },
  {
   "cell_type": "markdown",
   "metadata": {},
   "source": [
    "### Предобработка данных"
   ]
  },
  {
   "cell_type": "code",
   "execution_count": 3,
   "metadata": {},
   "outputs": [
    {
     "data": {
      "text/html": [
       "<div>\n",
       "<style scoped>\n",
       "    .dataframe tbody tr th:only-of-type {\n",
       "        vertical-align: middle;\n",
       "    }\n",
       "\n",
       "    .dataframe tbody tr th {\n",
       "        vertical-align: top;\n",
       "    }\n",
       "\n",
       "    .dataframe thead th {\n",
       "        text-align: right;\n",
       "    }\n",
       "</style>\n",
       "<table border=\"1\" class=\"dataframe\">\n",
       "  <thead>\n",
       "    <tr style=\"text-align: right;\">\n",
       "      <th></th>\n",
       "      <th>0</th>\n",
       "    </tr>\n",
       "  </thead>\n",
       "  <tbody>\n",
       "    <tr>\n",
       "      <th>total_images</th>\n",
       "      <td>0.0</td>\n",
       "    </tr>\n",
       "    <tr>\n",
       "      <th>last_price</th>\n",
       "      <td>0.0</td>\n",
       "    </tr>\n",
       "    <tr>\n",
       "      <th>total_area</th>\n",
       "      <td>0.0</td>\n",
       "    </tr>\n",
       "    <tr>\n",
       "      <th>first_day_exposition</th>\n",
       "      <td>0.0</td>\n",
       "    </tr>\n",
       "    <tr>\n",
       "      <th>rooms</th>\n",
       "      <td>0.0</td>\n",
       "    </tr>\n",
       "    <tr>\n",
       "      <th>ceiling_height</th>\n",
       "      <td>38.8</td>\n",
       "    </tr>\n",
       "    <tr>\n",
       "      <th>floors_total</th>\n",
       "      <td>0.4</td>\n",
       "    </tr>\n",
       "    <tr>\n",
       "      <th>living_area</th>\n",
       "      <td>8.0</td>\n",
       "    </tr>\n",
       "    <tr>\n",
       "      <th>floor</th>\n",
       "      <td>0.0</td>\n",
       "    </tr>\n",
       "    <tr>\n",
       "      <th>is_apartment</th>\n",
       "      <td>88.3</td>\n",
       "    </tr>\n",
       "    <tr>\n",
       "      <th>studio</th>\n",
       "      <td>0.0</td>\n",
       "    </tr>\n",
       "    <tr>\n",
       "      <th>open_plan</th>\n",
       "      <td>0.0</td>\n",
       "    </tr>\n",
       "    <tr>\n",
       "      <th>kitchen_area</th>\n",
       "      <td>9.6</td>\n",
       "    </tr>\n",
       "    <tr>\n",
       "      <th>balcony</th>\n",
       "      <td>48.6</td>\n",
       "    </tr>\n",
       "    <tr>\n",
       "      <th>locality_name</th>\n",
       "      <td>0.2</td>\n",
       "    </tr>\n",
       "    <tr>\n",
       "      <th>airports_nearest</th>\n",
       "      <td>23.4</td>\n",
       "    </tr>\n",
       "    <tr>\n",
       "      <th>cityCenters_nearest</th>\n",
       "      <td>23.3</td>\n",
       "    </tr>\n",
       "    <tr>\n",
       "      <th>parks_around3000</th>\n",
       "      <td>23.3</td>\n",
       "    </tr>\n",
       "    <tr>\n",
       "      <th>parks_nearest</th>\n",
       "      <td>65.9</td>\n",
       "    </tr>\n",
       "    <tr>\n",
       "      <th>ponds_around3000</th>\n",
       "      <td>23.3</td>\n",
       "    </tr>\n",
       "    <tr>\n",
       "      <th>ponds_nearest</th>\n",
       "      <td>61.6</td>\n",
       "    </tr>\n",
       "    <tr>\n",
       "      <th>days_exposition</th>\n",
       "      <td>13.4</td>\n",
       "    </tr>\n",
       "  </tbody>\n",
       "</table>\n",
       "</div>"
      ],
      "text/plain": [
       "                         0\n",
       "total_images           0.0\n",
       "last_price             0.0\n",
       "total_area             0.0\n",
       "first_day_exposition   0.0\n",
       "rooms                  0.0\n",
       "ceiling_height        38.8\n",
       "floors_total           0.4\n",
       "living_area            8.0\n",
       "floor                  0.0\n",
       "is_apartment          88.3\n",
       "studio                 0.0\n",
       "open_plan              0.0\n",
       "kitchen_area           9.6\n",
       "balcony               48.6\n",
       "locality_name          0.2\n",
       "airports_nearest      23.4\n",
       "cityCenters_nearest   23.3\n",
       "parks_around3000      23.3\n",
       "parks_nearest         65.9\n",
       "ponds_around3000      23.3\n",
       "ponds_nearest         61.6\n",
       "days_exposition       13.4"
      ]
     },
     "execution_count": 3,
     "metadata": {},
     "output_type": "execute_result"
    }
   ],
   "source": [
    "#выведем на экран долю пропусков по каждому столбцу\n",
    "pd.DataFrame(round(data.isna().mean()*100,1))"
   ]
  },
  {
   "cell_type": "code",
   "execution_count": 4,
   "metadata": {},
   "outputs": [
    {
     "data": {
      "text/html": [
       "<style  type=\"text/css\" >\n",
       "#T_3fb81_row0_col0,#T_3fb81_row1_col1,#T_3fb81_row2_col2,#T_3fb81_row3_col3,#T_3fb81_row4_col4,#T_3fb81_row5_col5,#T_3fb81_row6_col6,#T_3fb81_row7_col7,#T_3fb81_row8_col8,#T_3fb81_row9_col9,#T_3fb81_row10_col10,#T_3fb81_row11_col11,#T_3fb81_row12_col12,#T_3fb81_row13_col13,#T_3fb81_row14_col14,#T_3fb81_row15_col15,#T_3fb81_row16_col16,#T_3fb81_row17_col17,#T_3fb81_row18_col18{\n",
       "            background-color:  #b40426;\n",
       "            color:  #f1f1f1;\n",
       "        }#T_3fb81_row0_col1,#T_3fb81_row4_col6,#T_3fb81_row4_col14,#T_3fb81_row9_col16{\n",
       "            background-color:  #90b2fe;\n",
       "            color:  #000000;\n",
       "        }#T_3fb81_row0_col2,#T_3fb81_row5_col15,#T_3fb81_row5_col17{\n",
       "            background-color:  #98b9ff;\n",
       "            color:  #000000;\n",
       "        }#T_3fb81_row0_col3,#T_3fb81_row12_col17{\n",
       "            background-color:  #93b5fe;\n",
       "            color:  #000000;\n",
       "        }#T_3fb81_row0_col4,#T_3fb81_row8_col4{\n",
       "            background-color:  #5470de;\n",
       "            color:  #000000;\n",
       "        }#T_3fb81_row0_col5,#T_3fb81_row12_col14,#T_3fb81_row17_col15{\n",
       "            background-color:  #7ea1fa;\n",
       "            color:  #000000;\n",
       "        }#T_3fb81_row0_col6{\n",
       "            background-color:  #94b6ff;\n",
       "            color:  #000000;\n",
       "        }#T_3fb81_row0_col7,#T_3fb81_row2_col4,#T_3fb81_row8_col7,#T_3fb81_row10_col11,#T_3fb81_row15_col2{\n",
       "            background-color:  #7093f3;\n",
       "            color:  #000000;\n",
       "        }#T_3fb81_row0_col8,#T_3fb81_row1_col11,#T_3fb81_row16_col5{\n",
       "            background-color:  #5a78e4;\n",
       "            color:  #000000;\n",
       "        }#T_3fb81_row0_col9,#T_3fb81_row5_col0,#T_3fb81_row5_col4,#T_3fb81_row6_col7,#T_3fb81_row12_col18,#T_3fb81_row14_col13,#T_3fb81_row18_col9{\n",
       "            background-color:  #4b64d5;\n",
       "            color:  #f1f1f1;\n",
       "        }#T_3fb81_row0_col10,#T_3fb81_row0_col16,#T_3fb81_row11_col15{\n",
       "            background-color:  #8caffe;\n",
       "            color:  #000000;\n",
       "        }#T_3fb81_row0_col11,#T_3fb81_row9_col13,#T_3fb81_row15_col10{\n",
       "            background-color:  #7699f6;\n",
       "            color:  #000000;\n",
       "        }#T_3fb81_row0_col12,#T_3fb81_row2_col8,#T_3fb81_row14_col0{\n",
       "            background-color:  #4e68d8;\n",
       "            color:  #000000;\n",
       "        }#T_3fb81_row0_col13,#T_3fb81_row1_col18,#T_3fb81_row8_col1,#T_3fb81_row12_col1,#T_3fb81_row12_col15,#T_3fb81_row13_col7{\n",
       "            background-color:  #6a8bef;\n",
       "            color:  #000000;\n",
       "        }#T_3fb81_row0_col14,#T_3fb81_row18_col15{\n",
       "            background-color:  #84a7fc;\n",
       "            color:  #000000;\n",
       "        }#T_3fb81_row0_col15,#T_3fb81_row11_col3,#T_3fb81_row13_col16{\n",
       "            background-color:  #7b9ff9;\n",
       "            color:  #000000;\n",
       "        }#T_3fb81_row0_col17,#T_3fb81_row9_col17{\n",
       "            background-color:  #8db0fe;\n",
       "            color:  #000000;\n",
       "        }#T_3fb81_row0_col18,#T_3fb81_row2_col9,#T_3fb81_row5_col6,#T_3fb81_row6_col9,#T_3fb81_row16_col11,#T_3fb81_row18_col12{\n",
       "            background-color:  #4961d2;\n",
       "            color:  #f1f1f1;\n",
       "        }#T_3fb81_row1_col0,#T_3fb81_row6_col0,#T_3fb81_row10_col0,#T_3fb81_row15_col6{\n",
       "            background-color:  #688aef;\n",
       "            color:  #000000;\n",
       "        }#T_3fb81_row1_col2{\n",
       "            background-color:  #f7a688;\n",
       "            color:  #000000;\n",
       "        }#T_3fb81_row1_col3,#T_3fb81_row14_col16{\n",
       "            background-color:  #d8dce2;\n",
       "            color:  #000000;\n",
       "        }#T_3fb81_row1_col4,#T_3fb81_row1_col7,#T_3fb81_row3_col15,#T_3fb81_row5_col16,#T_3fb81_row9_col1,#T_3fb81_row9_col6,#T_3fb81_row12_col2,#T_3fb81_row17_col7{\n",
       "            background-color:  #6e90f2;\n",
       "            color:  #000000;\n",
       "        }#T_3fb81_row1_col5,#T_3fb81_row7_col16,#T_3fb81_row9_col14,#T_3fb81_row11_col1,#T_3fb81_row18_col17{\n",
       "            background-color:  #7a9df8;\n",
       "            color:  #000000;\n",
       "        }#T_3fb81_row1_col6{\n",
       "            background-color:  #f6bea4;\n",
       "            color:  #000000;\n",
       "        }#T_3fb81_row1_col8,#T_3fb81_row7_col6,#T_3fb81_row8_col11,#T_3fb81_row12_col8,#T_3fb81_row17_col2,#T_3fb81_row18_col7,#T_3fb81_row18_col8{\n",
       "            background-color:  #5b7ae5;\n",
       "            color:  #000000;\n",
       "        }#T_3fb81_row1_col9,#T_3fb81_row7_col4,#T_3fb81_row14_col9,#T_3fb81_row17_col10,#T_3fb81_row17_col14{\n",
       "            background-color:  #506bda;\n",
       "            color:  #000000;\n",
       "        }#T_3fb81_row1_col10{\n",
       "            background-color:  #f1ccb8;\n",
       "            color:  #000000;\n",
       "        }#T_3fb81_row1_col12,#T_3fb81_row11_col18,#T_3fb81_row15_col0,#T_3fb81_row17_col0{\n",
       "            background-color:  #465ecf;\n",
       "            color:  #f1f1f1;\n",
       "        }#T_3fb81_row1_col13,#T_3fb81_row3_col5,#T_3fb81_row9_col0,#T_3fb81_row18_col0{\n",
       "            background-color:  #4055c8;\n",
       "            color:  #f1f1f1;\n",
       "        }#T_3fb81_row1_col14,#T_3fb81_row3_col16{\n",
       "            background-color:  #a7c5fe;\n",
       "            color:  #000000;\n",
       "        }#T_3fb81_row1_col15,#T_3fb81_row1_col17,#T_3fb81_row3_col18,#T_3fb81_row6_col17,#T_3fb81_row7_col1,#T_3fb81_row7_col13{\n",
       "            background-color:  #799cf8;\n",
       "            color:  #000000;\n",
       "        }#T_3fb81_row1_col16{\n",
       "            background-color:  #b7cff9;\n",
       "            color:  #000000;\n",
       "        }#T_3fb81_row2_col0,#T_3fb81_row7_col8,#T_3fb81_row9_col2,#T_3fb81_row11_col0,#T_3fb81_row15_col1,#T_3fb81_row18_col5{\n",
       "            background-color:  #6c8ff1;\n",
       "            color:  #000000;\n",
       "        }#T_3fb81_row2_col1{\n",
       "            background-color:  #f7a889;\n",
       "            color:  #000000;\n",
       "        }#T_3fb81_row2_col3,#T_3fb81_row3_col2{\n",
       "            background-color:  #ed8366;\n",
       "            color:  #000000;\n",
       "        }#T_3fb81_row2_col5,#T_3fb81_row8_col6,#T_3fb81_row12_col6,#T_3fb81_row14_col4,#T_3fb81_row15_col3,#T_3fb81_row16_col18{\n",
       "            background-color:  #6788ee;\n",
       "            color:  #000000;\n",
       "        }#T_3fb81_row2_col6,#T_3fb81_row6_col2{\n",
       "            background-color:  #c53334;\n",
       "            color:  #f1f1f1;\n",
       "        }#T_3fb81_row2_col7,#T_3fb81_row4_col9,#T_3fb81_row17_col6{\n",
       "            background-color:  #5f7fe8;\n",
       "            color:  #000000;\n",
       "        }#T_3fb81_row2_col10{\n",
       "            background-color:  #f7b79b;\n",
       "            color:  #000000;\n",
       "        }#T_3fb81_row2_col11,#T_3fb81_row9_col4,#T_3fb81_row9_col8,#T_3fb81_row11_col4,#T_3fb81_row13_col8,#T_3fb81_row13_col11{\n",
       "            background-color:  #6180e9;\n",
       "            color:  #000000;\n",
       "        }#T_3fb81_row2_col12,#T_3fb81_row3_col13,#T_3fb81_row7_col18,#T_3fb81_row13_col3{\n",
       "            background-color:  #455cce;\n",
       "            color:  #f1f1f1;\n",
       "        }#T_3fb81_row2_col13,#T_3fb81_row3_col8,#T_3fb81_row3_col9,#T_3fb81_row5_col3,#T_3fb81_row6_col13,#T_3fb81_row13_col0,#T_3fb81_row13_col1,#T_3fb81_row13_col2,#T_3fb81_row13_col4,#T_3fb81_row13_col6,#T_3fb81_row13_col10,#T_3fb81_row14_col5,#T_3fb81_row14_col7,#T_3fb81_row14_col11,#T_3fb81_row14_col15,#T_3fb81_row15_col12,#T_3fb81_row15_col14,#T_3fb81_row16_col17,#T_3fb81_row17_col16,#T_3fb81_row17_col18{\n",
       "            background-color:  #3b4cc0;\n",
       "            color:  #f1f1f1;\n",
       "        }#T_3fb81_row2_col14,#T_3fb81_row14_col6{\n",
       "            background-color:  #abc8fd;\n",
       "            color:  #000000;\n",
       "        }#T_3fb81_row2_col15,#T_3fb81_row4_col15,#T_3fb81_row5_col8{\n",
       "            background-color:  #779af7;\n",
       "            color:  #000000;\n",
       "        }#T_3fb81_row2_col16{\n",
       "            background-color:  #b9d0f9;\n",
       "            color:  #000000;\n",
       "        }#T_3fb81_row2_col17,#T_3fb81_row8_col13,#T_3fb81_row8_col14{\n",
       "            background-color:  #7597f6;\n",
       "            color:  #000000;\n",
       "        }#T_3fb81_row2_col18,#T_3fb81_row3_col17,#T_3fb81_row4_col17,#T_3fb81_row8_col15,#T_3fb81_row9_col15,#T_3fb81_row17_col13{\n",
       "            background-color:  #80a3fa;\n",
       "            color:  #000000;\n",
       "        }#T_3fb81_row3_col0,#T_3fb81_row11_col14,#T_3fb81_row12_col11,#T_3fb81_row17_col3,#T_3fb81_row18_col13{\n",
       "            background-color:  #6687ed;\n",
       "            color:  #000000;\n",
       "        }#T_3fb81_row3_col1{\n",
       "            background-color:  #d5dbe5;\n",
       "            color:  #000000;\n",
       "        }#T_3fb81_row3_col4,#T_3fb81_row7_col12,#T_3fb81_row12_col3,#T_3fb81_row15_col8{\n",
       "            background-color:  #6485ec;\n",
       "            color:  #000000;\n",
       "        }#T_3fb81_row3_col6,#T_3fb81_row6_col3{\n",
       "            background-color:  #de614d;\n",
       "            color:  #000000;\n",
       "        }#T_3fb81_row3_col7,#T_3fb81_row3_col12{\n",
       "            background-color:  #3d50c3;\n",
       "            color:  #f1f1f1;\n",
       "        }#T_3fb81_row3_col10{\n",
       "            background-color:  #bbd1f8;\n",
       "            color:  #000000;\n",
       "        }#T_3fb81_row3_col11,#T_3fb81_row6_col11,#T_3fb81_row9_col11,#T_3fb81_row15_col18{\n",
       "            background-color:  #5875e1;\n",
       "            color:  #000000;\n",
       "        }#T_3fb81_row3_col14,#T_3fb81_row4_col16{\n",
       "            background-color:  #a3c2fe;\n",
       "            color:  #000000;\n",
       "        }#T_3fb81_row4_col0,#T_3fb81_row4_col12,#T_3fb81_row8_col12,#T_3fb81_row12_col0,#T_3fb81_row18_col11{\n",
       "            background-color:  #485fd1;\n",
       "            color:  #f1f1f1;\n",
       "        }#T_3fb81_row4_col1{\n",
       "            background-color:  #89acfd;\n",
       "            color:  #000000;\n",
       "        }#T_3fb81_row4_col2,#T_3fb81_row7_col15,#T_3fb81_row11_col17,#T_3fb81_row16_col3,#T_3fb81_row16_col15{\n",
       "            background-color:  #92b4fe;\n",
       "            color:  #000000;\n",
       "        }#T_3fb81_row4_col3,#T_3fb81_row10_col15,#T_3fb81_row11_col2,#T_3fb81_row11_col13{\n",
       "            background-color:  #85a8fc;\n",
       "            color:  #000000;\n",
       "        }#T_3fb81_row4_col5,#T_3fb81_row10_col17{\n",
       "            background-color:  #7396f5;\n",
       "            color:  #000000;\n",
       "        }#T_3fb81_row4_col7,#T_3fb81_row8_col2,#T_3fb81_row14_col17,#T_3fb81_row14_col18,#T_3fb81_row17_col8{\n",
       "            background-color:  #6384eb;\n",
       "            color:  #000000;\n",
       "        }#T_3fb81_row4_col8,#T_3fb81_row5_col2,#T_3fb81_row5_col9,#T_3fb81_row11_col12,#T_3fb81_row15_col11,#T_3fb81_row16_col8,#T_3fb81_row16_col13{\n",
       "            background-color:  #6282ea;\n",
       "            color:  #000000;\n",
       "        }#T_3fb81_row4_col10,#T_3fb81_row11_col16,#T_3fb81_row14_col10,#T_3fb81_row17_col5{\n",
       "            background-color:  #86a9fc;\n",
       "            color:  #000000;\n",
       "        }#T_3fb81_row4_col11,#T_3fb81_row7_col9,#T_3fb81_row9_col3{\n",
       "            background-color:  #5e7de7;\n",
       "            color:  #000000;\n",
       "        }#T_3fb81_row4_col13{\n",
       "            background-color:  #5d7ce6;\n",
       "            color:  #000000;\n",
       "        }#T_3fb81_row4_col18,#T_3fb81_row15_col9{\n",
       "            background-color:  #5673e0;\n",
       "            color:  #000000;\n",
       "        }#T_3fb81_row5_col1,#T_3fb81_row5_col12,#T_3fb81_row6_col4,#T_3fb81_row6_col15,#T_3fb81_row7_col2,#T_3fb81_row10_col4,#T_3fb81_row10_col18,#T_3fb81_row12_col10{\n",
       "            background-color:  #6f92f3;\n",
       "            color:  #000000;\n",
       "        }#T_3fb81_row5_col7{\n",
       "            background-color:  #f6a385;\n",
       "            color:  #000000;\n",
       "        }#T_3fb81_row5_col10,#T_3fb81_row14_col3{\n",
       "            background-color:  #9ebeff;\n",
       "            color:  #000000;\n",
       "        }#T_3fb81_row5_col11,#T_3fb81_row8_col5,#T_3fb81_row8_col16,#T_3fb81_row8_col17,#T_3fb81_row10_col7,#T_3fb81_row15_col17,#T_3fb81_row18_col14{\n",
       "            background-color:  #8fb1fe;\n",
       "            color:  #000000;\n",
       "        }#T_3fb81_row5_col13,#T_3fb81_row6_col18,#T_3fb81_row11_col6,#T_3fb81_row12_col7,#T_3fb81_row15_col7{\n",
       "            background-color:  #7da0f9;\n",
       "            color:  #000000;\n",
       "        }#T_3fb81_row5_col14{\n",
       "            background-color:  #3c4ec2;\n",
       "            color:  #f1f1f1;\n",
       "        }#T_3fb81_row5_col18{\n",
       "            background-color:  #4257c9;\n",
       "            color:  #f1f1f1;\n",
       "        }#T_3fb81_row6_col1{\n",
       "            background-color:  #f5c0a7;\n",
       "            color:  #000000;\n",
       "        }#T_3fb81_row6_col5,#T_3fb81_row8_col3,#T_3fb81_row12_col9,#T_3fb81_row14_col12,#T_3fb81_row15_col4{\n",
       "            background-color:  #4f69d9;\n",
       "            color:  #000000;\n",
       "        }#T_3fb81_row6_col8,#T_3fb81_row17_col12{\n",
       "            background-color:  #536edd;\n",
       "            color:  #000000;\n",
       "        }#T_3fb81_row6_col10{\n",
       "            background-color:  #e2dad5;\n",
       "            color:  #000000;\n",
       "        }#T_3fb81_row6_col12{\n",
       "            background-color:  #3e51c5;\n",
       "            color:  #f1f1f1;\n",
       "        }#T_3fb81_row6_col14{\n",
       "            background-color:  #b1cbfc;\n",
       "            color:  #000000;\n",
       "        }#T_3fb81_row6_col16{\n",
       "            background-color:  #b5cdfa;\n",
       "            color:  #000000;\n",
       "        }#T_3fb81_row7_col0,#T_3fb81_row7_col14,#T_3fb81_row8_col9,#T_3fb81_row10_col12,#T_3fb81_row13_col9,#T_3fb81_row13_col14,#T_3fb81_row16_col7,#T_3fb81_row17_col9{\n",
       "            background-color:  #516ddb;\n",
       "            color:  #000000;\n",
       "        }#T_3fb81_row7_col3,#T_3fb81_row12_col4{\n",
       "            background-color:  #4c66d6;\n",
       "            color:  #000000;\n",
       "        }#T_3fb81_row7_col5{\n",
       "            background-color:  #f59c7d;\n",
       "            color:  #000000;\n",
       "        }#T_3fb81_row7_col10,#T_3fb81_row7_col17,#T_3fb81_row10_col14{\n",
       "            background-color:  #96b7ff;\n",
       "            color:  #000000;\n",
       "        }#T_3fb81_row7_col11,#T_3fb81_row18_col1{\n",
       "            background-color:  #88abfd;\n",
       "            color:  #000000;\n",
       "        }#T_3fb81_row8_col0,#T_3fb81_row13_col18,#T_3fb81_row16_col12{\n",
       "            background-color:  #3f53c6;\n",
       "            color:  #f1f1f1;\n",
       "        }#T_3fb81_row8_col10,#T_3fb81_row9_col10,#T_3fb81_row10_col8,#T_3fb81_row10_col9{\n",
       "            background-color:  #000000;\n",
       "            color:  #f1f1f1;\n",
       "        }#T_3fb81_row8_col18,#T_3fb81_row9_col12,#T_3fb81_row9_col18{\n",
       "            background-color:  #4a63d3;\n",
       "            color:  #f1f1f1;\n",
       "        }#T_3fb81_row9_col5,#T_3fb81_row11_col10,#T_3fb81_row18_col10{\n",
       "            background-color:  #8badfd;\n",
       "            color:  #000000;\n",
       "        }#T_3fb81_row9_col7,#T_3fb81_row13_col15{\n",
       "            background-color:  #7295f4;\n",
       "            color:  #000000;\n",
       "        }#T_3fb81_row10_col1{\n",
       "            background-color:  #f2cab5;\n",
       "            color:  #000000;\n",
       "        }#T_3fb81_row10_col2{\n",
       "            background-color:  #f7b396;\n",
       "            color:  #000000;\n",
       "        }#T_3fb81_row10_col3{\n",
       "            background-color:  #c1d4f4;\n",
       "            color:  #000000;\n",
       "        }#T_3fb81_row10_col5{\n",
       "            background-color:  #aac7fd;\n",
       "            color:  #000000;\n",
       "        }#T_3fb81_row10_col6{\n",
       "            background-color:  #e6d7cf;\n",
       "            color:  #000000;\n",
       "        }#T_3fb81_row10_col13,#T_3fb81_row16_col0{\n",
       "            background-color:  #445acc;\n",
       "            color:  #f1f1f1;\n",
       "        }#T_3fb81_row10_col16{\n",
       "            background-color:  #b6cefa;\n",
       "            color:  #000000;\n",
       "        }#T_3fb81_row11_col5{\n",
       "            background-color:  #b2ccfb;\n",
       "            color:  #000000;\n",
       "        }#T_3fb81_row11_col7,#T_3fb81_row18_col3{\n",
       "            background-color:  #9bbcff;\n",
       "            color:  #000000;\n",
       "        }#T_3fb81_row11_col8,#T_3fb81_row15_col13,#T_3fb81_row16_col4{\n",
       "            background-color:  #6b8df0;\n",
       "            color:  #000000;\n",
       "        }#T_3fb81_row11_col9,#T_3fb81_row14_col8,#T_3fb81_row17_col1,#T_3fb81_row18_col4{\n",
       "            background-color:  #5977e3;\n",
       "            color:  #000000;\n",
       "        }#T_3fb81_row12_col5,#T_3fb81_row16_col10{\n",
       "            background-color:  #9abbff;\n",
       "            color:  #000000;\n",
       "        }#T_3fb81_row12_col13{\n",
       "            background-color:  #c3d5f4;\n",
       "            color:  #000000;\n",
       "        }#T_3fb81_row12_col16,#T_3fb81_row13_col5{\n",
       "            background-color:  #81a4fb;\n",
       "            color:  #000000;\n",
       "        }#T_3fb81_row13_col12,#T_3fb81_row16_col2{\n",
       "            background-color:  #a5c3fe;\n",
       "            color:  #000000;\n",
       "        }#T_3fb81_row13_col17,#T_3fb81_row15_col5{\n",
       "            background-color:  #97b8ff;\n",
       "            color:  #000000;\n",
       "        }#T_3fb81_row14_col1{\n",
       "            background-color:  #9dbdff;\n",
       "            color:  #000000;\n",
       "        }#T_3fb81_row14_col2{\n",
       "            background-color:  #a6c4fe;\n",
       "            color:  #000000;\n",
       "        }#T_3fb81_row15_col16,#T_3fb81_row16_col6,#T_3fb81_row18_col2,#T_3fb81_row18_col16{\n",
       "            background-color:  #a2c1ff;\n",
       "            color:  #000000;\n",
       "        }#T_3fb81_row16_col1,#T_3fb81_row18_col6{\n",
       "            background-color:  #9fbfff;\n",
       "            color:  #000000;\n",
       "        }#T_3fb81_row16_col9,#T_3fb81_row17_col11{\n",
       "            background-color:  #5572df;\n",
       "            color:  #000000;\n",
       "        }#T_3fb81_row16_col14{\n",
       "            background-color:  #cedaeb;\n",
       "            color:  #000000;\n",
       "        }#T_3fb81_row17_col4{\n",
       "            background-color:  #4358cb;\n",
       "            color:  #f1f1f1;\n",
       "        }</style><table id=\"T_3fb81_\" ><thead>    <tr>        <th class=\"blank level0\" ></th>        <th class=\"col_heading level0 col0\" >total_images</th>        <th class=\"col_heading level0 col1\" >last_price</th>        <th class=\"col_heading level0 col2\" >total_area</th>        <th class=\"col_heading level0 col3\" >rooms</th>        <th class=\"col_heading level0 col4\" >ceiling_height</th>        <th class=\"col_heading level0 col5\" >floors_total</th>        <th class=\"col_heading level0 col6\" >living_area</th>        <th class=\"col_heading level0 col7\" >floor</th>        <th class=\"col_heading level0 col8\" >studio</th>        <th class=\"col_heading level0 col9\" >open_plan</th>        <th class=\"col_heading level0 col10\" >kitchen_area</th>        <th class=\"col_heading level0 col11\" >balcony</th>        <th class=\"col_heading level0 col12\" >airports_nearest</th>        <th class=\"col_heading level0 col13\" >cityCenters_nearest</th>        <th class=\"col_heading level0 col14\" >parks_around3000</th>        <th class=\"col_heading level0 col15\" >parks_nearest</th>        <th class=\"col_heading level0 col16\" >ponds_around3000</th>        <th class=\"col_heading level0 col17\" >ponds_nearest</th>        <th class=\"col_heading level0 col18\" >days_exposition</th>    </tr></thead><tbody>\n",
       "                <tr>\n",
       "                        <th id=\"T_3fb81_level0_row0\" class=\"row_heading level0 row0\" >total_images</th>\n",
       "                        <td id=\"T_3fb81_row0_col0\" class=\"data row0 col0\" >1.000000</td>\n",
       "                        <td id=\"T_3fb81_row0_col1\" class=\"data row0 col1\" >0.104940</td>\n",
       "                        <td id=\"T_3fb81_row0_col2\" class=\"data row0 col2\" >0.116425</td>\n",
       "                        <td id=\"T_3fb81_row0_col3\" class=\"data row0 col3\" >0.099385</td>\n",
       "                        <td id=\"T_3fb81_row0_col4\" class=\"data row0 col4\" >-0.001973</td>\n",
       "                        <td id=\"T_3fb81_row0_col5\" class=\"data row0 col5\" >0.010427</td>\n",
       "                        <td id=\"T_3fb81_row0_col6\" class=\"data row0 col6\" >0.105382</td>\n",
       "                        <td id=\"T_3fb81_row0_col7\" class=\"data row0 col7\" >0.033286</td>\n",
       "                        <td id=\"T_3fb81_row0_col8\" class=\"data row0 col8\" >-0.028116</td>\n",
       "                        <td id=\"T_3fb81_row0_col9\" class=\"data row0 col9\" >-0.024607</td>\n",
       "                        <td id=\"T_3fb81_row0_col10\" class=\"data row0 col10\" >0.105773</td>\n",
       "                        <td id=\"T_3fb81_row0_col11\" class=\"data row0 col11\" >0.117741</td>\n",
       "                        <td id=\"T_3fb81_row0_col12\" class=\"data row0 col12\" >-0.002632</td>\n",
       "                        <td id=\"T_3fb81_row0_col13\" class=\"data row0 col13\" >-0.047935</td>\n",
       "                        <td id=\"T_3fb81_row0_col14\" class=\"data row0 col14\" >0.020989</td>\n",
       "                        <td id=\"T_3fb81_row0_col15\" class=\"data row0 col15\" >-0.006209</td>\n",
       "                        <td id=\"T_3fb81_row0_col16\" class=\"data row0 col16\" >-0.011154</td>\n",
       "                        <td id=\"T_3fb81_row0_col17\" class=\"data row0 col17\" >-0.003601</td>\n",
       "                        <td id=\"T_3fb81_row0_col18\" class=\"data row0 col18\" >-0.026578</td>\n",
       "            </tr>\n",
       "            <tr>\n",
       "                        <th id=\"T_3fb81_level0_row1\" class=\"row_heading level0 row1\" >last_price</th>\n",
       "                        <td id=\"T_3fb81_row1_col0\" class=\"data row1 col0\" >0.104940</td>\n",
       "                        <td id=\"T_3fb81_row1_col1\" class=\"data row1 col1\" >1.000000</td>\n",
       "                        <td id=\"T_3fb81_row1_col2\" class=\"data row1 col2\" >0.653581</td>\n",
       "                        <td id=\"T_3fb81_row1_col3\" class=\"data row1 col3\" >0.363124</td>\n",
       "                        <td id=\"T_3fb81_row1_col4\" class=\"data row1 col4\" >0.085435</td>\n",
       "                        <td id=\"T_3fb81_row1_col5\" class=\"data row1 col5\" >-0.006984</td>\n",
       "                        <td id=\"T_3fb81_row1_col6\" class=\"data row1 col6\" >0.566396</td>\n",
       "                        <td id=\"T_3fb81_row1_col7\" class=\"data row1 col7\" >0.026644</td>\n",
       "                        <td id=\"T_3fb81_row1_col8\" class=\"data row1 col8\" >-0.025083</td>\n",
       "                        <td id=\"T_3fb81_row1_col9\" class=\"data row1 col9\" >-0.008801</td>\n",
       "                        <td id=\"T_3fb81_row1_col10\" class=\"data row1 col10\" >0.520018</td>\n",
       "                        <td id=\"T_3fb81_row1_col11\" class=\"data row1 col11\" >0.030058</td>\n",
       "                        <td id=\"T_3fb81_row1_col12\" class=\"data row1 col12\" >-0.026098</td>\n",
       "                        <td id=\"T_3fb81_row1_col13\" class=\"data row1 col13\" >-0.206213</td>\n",
       "                        <td id=\"T_3fb81_row1_col14\" class=\"data row1 col14\" >0.151657</td>\n",
       "                        <td id=\"T_3fb81_row1_col15\" class=\"data row1 col15\" >-0.016633</td>\n",
       "                        <td id=\"T_3fb81_row1_col16\" class=\"data row1 col16\" >0.160479</td>\n",
       "                        <td id=\"T_3fb81_row1_col17\" class=\"data row1 col17\" >-0.085450</td>\n",
       "                        <td id=\"T_3fb81_row1_col18\" class=\"data row1 col18\" >0.081063</td>\n",
       "            </tr>\n",
       "            <tr>\n",
       "                        <th id=\"T_3fb81_level0_row2\" class=\"row_heading level0 row2\" >total_area</th>\n",
       "                        <td id=\"T_3fb81_row2_col0\" class=\"data row2 col0\" >0.116425</td>\n",
       "                        <td id=\"T_3fb81_row2_col1\" class=\"data row2 col1\" >0.653581</td>\n",
       "                        <td id=\"T_3fb81_row2_col2\" class=\"data row2 col2\" >1.000000</td>\n",
       "                        <td id=\"T_3fb81_row2_col3\" class=\"data row2 col3\" >0.758324</td>\n",
       "                        <td id=\"T_3fb81_row2_col4\" class=\"data row2 col4\" >0.095506</td>\n",
       "                        <td id=\"T_3fb81_row2_col5\" class=\"data row2 col5\" >-0.075774</td>\n",
       "                        <td id=\"T_3fb81_row2_col6\" class=\"data row2 col6\" >0.939770</td>\n",
       "                        <td id=\"T_3fb81_row2_col7\" class=\"data row2 col7\" >-0.024927</td>\n",
       "                        <td id=\"T_3fb81_row2_col8\" class=\"data row2 col8\" >-0.071983</td>\n",
       "                        <td id=\"T_3fb81_row2_col9\" class=\"data row2 col9\" >-0.034941</td>\n",
       "                        <td id=\"T_3fb81_row2_col10\" class=\"data row2 col10\" >0.609468</td>\n",
       "                        <td id=\"T_3fb81_row2_col11\" class=\"data row2 col11\" >0.049765</td>\n",
       "                        <td id=\"T_3fb81_row2_col12\" class=\"data row2 col12\" >-0.030124</td>\n",
       "                        <td id=\"T_3fb81_row2_col13\" class=\"data row2 col13\" >-0.230872</td>\n",
       "                        <td id=\"T_3fb81_row2_col14\" class=\"data row2 col14\" >0.166048</td>\n",
       "                        <td id=\"T_3fb81_row2_col15\" class=\"data row2 col15\" >-0.021394</td>\n",
       "                        <td id=\"T_3fb81_row2_col16\" class=\"data row2 col16\" >0.163245</td>\n",
       "                        <td id=\"T_3fb81_row2_col17\" class=\"data row2 col17\" >-0.099495</td>\n",
       "                        <td id=\"T_3fb81_row2_col18\" class=\"data row2 col18\" >0.150130</td>\n",
       "            </tr>\n",
       "            <tr>\n",
       "                        <th id=\"T_3fb81_level0_row3\" class=\"row_heading level0 row3\" >rooms</th>\n",
       "                        <td id=\"T_3fb81_row3_col0\" class=\"data row3 col0\" >0.099385</td>\n",
       "                        <td id=\"T_3fb81_row3_col1\" class=\"data row3 col1\" >0.363124</td>\n",
       "                        <td id=\"T_3fb81_row3_col2\" class=\"data row3 col2\" >0.758324</td>\n",
       "                        <td id=\"T_3fb81_row3_col3\" class=\"data row3 col3\" >1.000000</td>\n",
       "                        <td id=\"T_3fb81_row3_col4\" class=\"data row3 col4\" >0.054512</td>\n",
       "                        <td id=\"T_3fb81_row3_col5\" class=\"data row3 col5\" >-0.228215</td>\n",
       "                        <td id=\"T_3fb81_row3_col6\" class=\"data row3 col6\" >0.846006</td>\n",
       "                        <td id=\"T_3fb81_row3_col7\" class=\"data row3 col7\" >-0.151586</td>\n",
       "                        <td id=\"T_3fb81_row3_col8\" class=\"data row3 col8\" >-0.145983</td>\n",
       "                        <td id=\"T_3fb81_row3_col9\" class=\"data row3 col9\" >-0.087687</td>\n",
       "                        <td id=\"T_3fb81_row3_col10\" class=\"data row3 col10\" >0.269672</td>\n",
       "                        <td id=\"T_3fb81_row3_col11\" class=\"data row3 col11\" >0.018968</td>\n",
       "                        <td id=\"T_3fb81_row3_col12\" class=\"data row3 col12\" >-0.061269</td>\n",
       "                        <td id=\"T_3fb81_row3_col13\" class=\"data row3 col13\" >-0.184750</td>\n",
       "                        <td id=\"T_3fb81_row3_col14\" class=\"data row3 col14\" >0.138306</td>\n",
       "                        <td id=\"T_3fb81_row3_col15\" class=\"data row3 col15\" >-0.054034</td>\n",
       "                        <td id=\"T_3fb81_row3_col16\" class=\"data row3 col16\" >0.093411</td>\n",
       "                        <td id=\"T_3fb81_row3_col17\" class=\"data row3 col17\" >-0.059096</td>\n",
       "                        <td id=\"T_3fb81_row3_col18\" class=\"data row3 col18\" >0.127470</td>\n",
       "            </tr>\n",
       "            <tr>\n",
       "                        <th id=\"T_3fb81_level0_row4\" class=\"row_heading level0 row4\" >ceiling_height</th>\n",
       "                        <td id=\"T_3fb81_row4_col0\" class=\"data row4 col0\" >-0.001973</td>\n",
       "                        <td id=\"T_3fb81_row4_col1\" class=\"data row4 col1\" >0.085435</td>\n",
       "                        <td id=\"T_3fb81_row4_col2\" class=\"data row4 col2\" >0.095506</td>\n",
       "                        <td id=\"T_3fb81_row4_col3\" class=\"data row4 col3\" >0.054512</td>\n",
       "                        <td id=\"T_3fb81_row4_col4\" class=\"data row4 col4\" >1.000000</td>\n",
       "                        <td id=\"T_3fb81_row4_col5\" class=\"data row4 col5\" >-0.028732</td>\n",
       "                        <td id=\"T_3fb81_row4_col6\" class=\"data row4 col6\" >0.090667</td>\n",
       "                        <td id=\"T_3fb81_row4_col7\" class=\"data row4 col7\" >-0.011806</td>\n",
       "                        <td id=\"T_3fb81_row4_col8\" class=\"data row4 col8\" >0.001674</td>\n",
       "                        <td id=\"T_3fb81_row4_col9\" class=\"data row4 col9\" >0.042777</td>\n",
       "                        <td id=\"T_3fb81_row4_col10\" class=\"data row4 col10\" >0.087718</td>\n",
       "                        <td id=\"T_3fb81_row4_col11\" class=\"data row4 col11\" >0.040528</td>\n",
       "                        <td id=\"T_3fb81_row4_col12\" class=\"data row4 col12\" >-0.023931</td>\n",
       "                        <td id=\"T_3fb81_row4_col13\" class=\"data row4 col13\" >-0.091692</td>\n",
       "                        <td id=\"T_3fb81_row4_col14\" class=\"data row4 col14\" >0.065951</td>\n",
       "                        <td id=\"T_3fb81_row4_col15\" class=\"data row4 col15\" >-0.019196</td>\n",
       "                        <td id=\"T_3fb81_row4_col16\" class=\"data row4 col16\" >0.078224</td>\n",
       "                        <td id=\"T_3fb81_row4_col17\" class=\"data row4 col17\" >-0.059140</td>\n",
       "                        <td id=\"T_3fb81_row4_col18\" class=\"data row4 col18\" >0.019092</td>\n",
       "            </tr>\n",
       "            <tr>\n",
       "                        <th id=\"T_3fb81_level0_row5\" class=\"row_heading level0 row5\" >floors_total</th>\n",
       "                        <td id=\"T_3fb81_row5_col0\" class=\"data row5 col0\" >0.010427</td>\n",
       "                        <td id=\"T_3fb81_row5_col1\" class=\"data row5 col1\" >-0.006984</td>\n",
       "                        <td id=\"T_3fb81_row5_col2\" class=\"data row5 col2\" >-0.075774</td>\n",
       "                        <td id=\"T_3fb81_row5_col3\" class=\"data row5 col3\" >-0.228215</td>\n",
       "                        <td id=\"T_3fb81_row5_col4\" class=\"data row5 col4\" >-0.028732</td>\n",
       "                        <td id=\"T_3fb81_row5_col5\" class=\"data row5 col5\" >1.000000</td>\n",
       "                        <td id=\"T_3fb81_row5_col6\" class=\"data row5 col6\" >-0.169311</td>\n",
       "                        <td id=\"T_3fb81_row5_col7\" class=\"data row5 col7\" >0.678059</td>\n",
       "                        <td id=\"T_3fb81_row5_col8\" class=\"data row5 col8\" >0.070151</td>\n",
       "                        <td id=\"T_3fb81_row5_col9\" class=\"data row5 col9\" >0.050791</td>\n",
       "                        <td id=\"T_3fb81_row5_col10\" class=\"data row5 col10\" >0.163944</td>\n",
       "                        <td id=\"T_3fb81_row5_col11\" class=\"data row5 col11\" >0.194065</td>\n",
       "                        <td id=\"T_3fb81_row5_col12\" class=\"data row5 col12\" >0.108288</td>\n",
       "                        <td id=\"T_3fb81_row5_col13\" class=\"data row5 col13\" >0.019774</td>\n",
       "                        <td id=\"T_3fb81_row5_col14\" class=\"data row5 col14\" >-0.252833</td>\n",
       "                        <td id=\"T_3fb81_row5_col15\" class=\"data row5 col15\" >0.097527</td>\n",
       "                        <td id=\"T_3fb81_row5_col16\" class=\"data row5 col16\" >-0.122735</td>\n",
       "                        <td id=\"T_3fb81_row5_col17\" class=\"data row5 col17\" >0.038864</td>\n",
       "                        <td id=\"T_3fb81_row5_col18\" class=\"data row5 col18\" >-0.052234</td>\n",
       "            </tr>\n",
       "            <tr>\n",
       "                        <th id=\"T_3fb81_level0_row6\" class=\"row_heading level0 row6\" >living_area</th>\n",
       "                        <td id=\"T_3fb81_row6_col0\" class=\"data row6 col0\" >0.105382</td>\n",
       "                        <td id=\"T_3fb81_row6_col1\" class=\"data row6 col1\" >0.566396</td>\n",
       "                        <td id=\"T_3fb81_row6_col2\" class=\"data row6 col2\" >0.939770</td>\n",
       "                        <td id=\"T_3fb81_row6_col3\" class=\"data row6 col3\" >0.846006</td>\n",
       "                        <td id=\"T_3fb81_row6_col4\" class=\"data row6 col4\" >0.090667</td>\n",
       "                        <td id=\"T_3fb81_row6_col5\" class=\"data row6 col5\" >-0.169311</td>\n",
       "                        <td id=\"T_3fb81_row6_col6\" class=\"data row6 col6\" >1.000000</td>\n",
       "                        <td id=\"T_3fb81_row6_col7\" class=\"data row6 col7\" >-0.097040</td>\n",
       "                        <td id=\"T_3fb81_row6_col8\" class=\"data row6 col8\" >-0.056300</td>\n",
       "                        <td id=\"T_3fb81_row6_col9\" class=\"data row6 col9\" >-0.033753</td>\n",
       "                        <td id=\"T_3fb81_row6_col10\" class=\"data row6 col10\" >0.428768</td>\n",
       "                        <td id=\"T_3fb81_row6_col11\" class=\"data row6 col11\" >0.019864</td>\n",
       "                        <td id=\"T_3fb81_row6_col12\" class=\"data row6 col12\" >-0.057571</td>\n",
       "                        <td id=\"T_3fb81_row6_col13\" class=\"data row6 col13\" >-0.230977</td>\n",
       "                        <td id=\"T_3fb81_row6_col14\" class=\"data row6 col14\" >0.185208</td>\n",
       "                        <td id=\"T_3fb81_row6_col15\" class=\"data row6 col15\" >-0.050856</td>\n",
       "                        <td id=\"T_3fb81_row6_col16\" class=\"data row6 col16\" >0.149239</td>\n",
       "                        <td id=\"T_3fb81_row6_col17\" class=\"data row6 col17\" >-0.082082</td>\n",
       "                        <td id=\"T_3fb81_row6_col18\" class=\"data row6 col18\" >0.142491</td>\n",
       "            </tr>\n",
       "            <tr>\n",
       "                        <th id=\"T_3fb81_level0_row7\" class=\"row_heading level0 row7\" >floor</th>\n",
       "                        <td id=\"T_3fb81_row7_col0\" class=\"data row7 col0\" >0.033286</td>\n",
       "                        <td id=\"T_3fb81_row7_col1\" class=\"data row7 col1\" >0.026644</td>\n",
       "                        <td id=\"T_3fb81_row7_col2\" class=\"data row7 col2\" >-0.024927</td>\n",
       "                        <td id=\"T_3fb81_row7_col3\" class=\"data row7 col3\" >-0.151586</td>\n",
       "                        <td id=\"T_3fb81_row7_col4\" class=\"data row7 col4\" >-0.011806</td>\n",
       "                        <td id=\"T_3fb81_row7_col5\" class=\"data row7 col5\" >0.678059</td>\n",
       "                        <td id=\"T_3fb81_row7_col6\" class=\"data row7 col6\" >-0.097040</td>\n",
       "                        <td id=\"T_3fb81_row7_col7\" class=\"data row7 col7\" >1.000000</td>\n",
       "                        <td id=\"T_3fb81_row7_col8\" class=\"data row7 col8\" >0.035908</td>\n",
       "                        <td id=\"T_3fb81_row7_col9\" class=\"data row7 col9\" >0.036140</td>\n",
       "                        <td id=\"T_3fb81_row7_col10\" class=\"data row7 col10\" >0.135486</td>\n",
       "                        <td id=\"T_3fb81_row7_col11\" class=\"data row7 col11\" >0.173056</td>\n",
       "                        <td id=\"T_3fb81_row7_col12\" class=\"data row7 col12\" >0.072878</td>\n",
       "                        <td id=\"T_3fb81_row7_col13\" class=\"data row7 col13\" >0.008963</td>\n",
       "                        <td id=\"T_3fb81_row7_col14\" class=\"data row7 col14\" >-0.163942</td>\n",
       "                        <td id=\"T_3fb81_row7_col15\" class=\"data row7 col15\" >0.072874</td>\n",
       "                        <td id=\"T_3fb81_row7_col16\" class=\"data row7 col16\" >-0.076067</td>\n",
       "                        <td id=\"T_3fb81_row7_col17\" class=\"data row7 col17\" >0.025381</td>\n",
       "                        <td id=\"T_3fb81_row7_col18\" class=\"data row7 col18\" >-0.039018</td>\n",
       "            </tr>\n",
       "            <tr>\n",
       "                        <th id=\"T_3fb81_level0_row8\" class=\"row_heading level0 row8\" >studio</th>\n",
       "                        <td id=\"T_3fb81_row8_col0\" class=\"data row8 col0\" >-0.028116</td>\n",
       "                        <td id=\"T_3fb81_row8_col1\" class=\"data row8 col1\" >-0.025083</td>\n",
       "                        <td id=\"T_3fb81_row8_col2\" class=\"data row8 col2\" >-0.071983</td>\n",
       "                        <td id=\"T_3fb81_row8_col3\" class=\"data row8 col3\" >-0.145983</td>\n",
       "                        <td id=\"T_3fb81_row8_col4\" class=\"data row8 col4\" >0.001674</td>\n",
       "                        <td id=\"T_3fb81_row8_col5\" class=\"data row8 col5\" >0.070151</td>\n",
       "                        <td id=\"T_3fb81_row8_col6\" class=\"data row8 col6\" >-0.056300</td>\n",
       "                        <td id=\"T_3fb81_row8_col7\" class=\"data row8 col7\" >0.035908</td>\n",
       "                        <td id=\"T_3fb81_row8_col8\" class=\"data row8 col8\" >1.000000</td>\n",
       "                        <td id=\"T_3fb81_row8_col9\" class=\"data row8 col9\" >-0.004208</td>\n",
       "                        <td id=\"T_3fb81_row8_col10\" class=\"data row8 col10\" >nan</td>\n",
       "                        <td id=\"T_3fb81_row8_col11\" class=\"data row8 col11\" >0.031190</td>\n",
       "                        <td id=\"T_3fb81_row8_col12\" class=\"data row8 col12\" >-0.021643</td>\n",
       "                        <td id=\"T_3fb81_row8_col13\" class=\"data row8 col13\" >-0.006793</td>\n",
       "                        <td id=\"T_3fb81_row8_col14\" class=\"data row8 col14\" >-0.030808</td>\n",
       "                        <td id=\"T_3fb81_row8_col15\" class=\"data row8 col15\" >0.006925</td>\n",
       "                        <td id=\"T_3fb81_row8_col16\" class=\"data row8 col16\" >0.000765</td>\n",
       "                        <td id=\"T_3fb81_row8_col17\" class=\"data row8 col17\" >0.001858</td>\n",
       "                        <td id=\"T_3fb81_row8_col18\" class=\"data row8 col18\" >-0.021604</td>\n",
       "            </tr>\n",
       "            <tr>\n",
       "                        <th id=\"T_3fb81_level0_row9\" class=\"row_heading level0 row9\" >open_plan</th>\n",
       "                        <td id=\"T_3fb81_row9_col0\" class=\"data row9 col0\" >-0.024607</td>\n",
       "                        <td id=\"T_3fb81_row9_col1\" class=\"data row9 col1\" >-0.008801</td>\n",
       "                        <td id=\"T_3fb81_row9_col2\" class=\"data row9 col2\" >-0.034941</td>\n",
       "                        <td id=\"T_3fb81_row9_col3\" class=\"data row9 col3\" >-0.087687</td>\n",
       "                        <td id=\"T_3fb81_row9_col4\" class=\"data row9 col4\" >0.042777</td>\n",
       "                        <td id=\"T_3fb81_row9_col5\" class=\"data row9 col5\" >0.050791</td>\n",
       "                        <td id=\"T_3fb81_row9_col6\" class=\"data row9 col6\" >-0.033753</td>\n",
       "                        <td id=\"T_3fb81_row9_col7\" class=\"data row9 col7\" >0.036140</td>\n",
       "                        <td id=\"T_3fb81_row9_col8\" class=\"data row9 col8\" >-0.004208</td>\n",
       "                        <td id=\"T_3fb81_row9_col9\" class=\"data row9 col9\" >1.000000</td>\n",
       "                        <td id=\"T_3fb81_row9_col10\" class=\"data row9 col10\" >nan</td>\n",
       "                        <td id=\"T_3fb81_row9_col11\" class=\"data row9 col11\" >0.019276</td>\n",
       "                        <td id=\"T_3fb81_row9_col12\" class=\"data row9 col12\" >-0.013597</td>\n",
       "                        <td id=\"T_3fb81_row9_col13\" class=\"data row9 col13\" >-0.004178</td>\n",
       "                        <td id=\"T_3fb81_row9_col14\" class=\"data row9 col14\" >-0.010098</td>\n",
       "                        <td id=\"T_3fb81_row9_col15\" class=\"data row9 col15\" >0.010692</td>\n",
       "                        <td id=\"T_3fb81_row9_col16\" class=\"data row9 col16\" >0.008473</td>\n",
       "                        <td id=\"T_3fb81_row9_col17\" class=\"data row9 col17\" >-0.003377</td>\n",
       "                        <td id=\"T_3fb81_row9_col18\" class=\"data row9 col18\" >-0.024161</td>\n",
       "            </tr>\n",
       "            <tr>\n",
       "                        <th id=\"T_3fb81_level0_row10\" class=\"row_heading level0 row10\" >kitchen_area</th>\n",
       "                        <td id=\"T_3fb81_row10_col0\" class=\"data row10 col0\" >0.105773</td>\n",
       "                        <td id=\"T_3fb81_row10_col1\" class=\"data row10 col1\" >0.520018</td>\n",
       "                        <td id=\"T_3fb81_row10_col2\" class=\"data row10 col2\" >0.609468</td>\n",
       "                        <td id=\"T_3fb81_row10_col3\" class=\"data row10 col3\" >0.269672</td>\n",
       "                        <td id=\"T_3fb81_row10_col4\" class=\"data row10 col4\" >0.087718</td>\n",
       "                        <td id=\"T_3fb81_row10_col5\" class=\"data row10 col5\" >0.163944</td>\n",
       "                        <td id=\"T_3fb81_row10_col6\" class=\"data row10 col6\" >0.428768</td>\n",
       "                        <td id=\"T_3fb81_row10_col7\" class=\"data row10 col7\" >0.135486</td>\n",
       "                        <td id=\"T_3fb81_row10_col8\" class=\"data row10 col8\" >nan</td>\n",
       "                        <td id=\"T_3fb81_row10_col9\" class=\"data row10 col9\" >nan</td>\n",
       "                        <td id=\"T_3fb81_row10_col10\" class=\"data row10 col10\" >1.000000</td>\n",
       "                        <td id=\"T_3fb81_row10_col11\" class=\"data row10 col11\" >0.100163</td>\n",
       "                        <td id=\"T_3fb81_row10_col12\" class=\"data row10 col12\" >0.008479</td>\n",
       "                        <td id=\"T_3fb81_row10_col13\" class=\"data row10 col13\" >-0.189963</td>\n",
       "                        <td id=\"T_3fb81_row10_col14\" class=\"data row10 col14\" >0.088269</td>\n",
       "                        <td id=\"T_3fb81_row10_col15\" class=\"data row10 col15\" >0.029752</td>\n",
       "                        <td id=\"T_3fb81_row10_col16\" class=\"data row10 col16\" >0.150576</td>\n",
       "                        <td id=\"T_3fb81_row10_col17\" class=\"data row10 col17\" >-0.104549</td>\n",
       "                        <td id=\"T_3fb81_row10_col18\" class=\"data row10 col18\" >0.100641</td>\n",
       "            </tr>\n",
       "            <tr>\n",
       "                        <th id=\"T_3fb81_level0_row11\" class=\"row_heading level0 row11\" >balcony</th>\n",
       "                        <td id=\"T_3fb81_row11_col0\" class=\"data row11 col0\" >0.117741</td>\n",
       "                        <td id=\"T_3fb81_row11_col1\" class=\"data row11 col1\" >0.030058</td>\n",
       "                        <td id=\"T_3fb81_row11_col2\" class=\"data row11 col2\" >0.049765</td>\n",
       "                        <td id=\"T_3fb81_row11_col3\" class=\"data row11 col3\" >0.018968</td>\n",
       "                        <td id=\"T_3fb81_row11_col4\" class=\"data row11 col4\" >0.040528</td>\n",
       "                        <td id=\"T_3fb81_row11_col5\" class=\"data row11 col5\" >0.194065</td>\n",
       "                        <td id=\"T_3fb81_row11_col6\" class=\"data row11 col6\" >0.019864</td>\n",
       "                        <td id=\"T_3fb81_row11_col7\" class=\"data row11 col7\" >0.173056</td>\n",
       "                        <td id=\"T_3fb81_row11_col8\" class=\"data row11 col8\" >0.031190</td>\n",
       "                        <td id=\"T_3fb81_row11_col9\" class=\"data row11 col9\" >0.019276</td>\n",
       "                        <td id=\"T_3fb81_row11_col10\" class=\"data row11 col10\" >0.100163</td>\n",
       "                        <td id=\"T_3fb81_row11_col11\" class=\"data row11 col11\" >1.000000</td>\n",
       "                        <td id=\"T_3fb81_row11_col12\" class=\"data row11 col12\" >0.066653</td>\n",
       "                        <td id=\"T_3fb81_row11_col13\" class=\"data row11 col13\" >0.051338</td>\n",
       "                        <td id=\"T_3fb81_row11_col14\" class=\"data row11 col14\" >-0.083414</td>\n",
       "                        <td id=\"T_3fb81_row11_col15\" class=\"data row11 col15\" >0.055314</td>\n",
       "                        <td id=\"T_3fb81_row11_col16\" class=\"data row11 col16\" >-0.032225</td>\n",
       "                        <td id=\"T_3fb81_row11_col17\" class=\"data row11 col17\" >0.009900</td>\n",
       "                        <td id=\"T_3fb81_row11_col18\" class=\"data row11 col18\" >-0.033387</td>\n",
       "            </tr>\n",
       "            <tr>\n",
       "                        <th id=\"T_3fb81_level0_row12\" class=\"row_heading level0 row12\" >airports_nearest</th>\n",
       "                        <td id=\"T_3fb81_row12_col0\" class=\"data row12 col0\" >-0.002632</td>\n",
       "                        <td id=\"T_3fb81_row12_col1\" class=\"data row12 col1\" >-0.026098</td>\n",
       "                        <td id=\"T_3fb81_row12_col2\" class=\"data row12 col2\" >-0.030124</td>\n",
       "                        <td id=\"T_3fb81_row12_col3\" class=\"data row12 col3\" >-0.061269</td>\n",
       "                        <td id=\"T_3fb81_row12_col4\" class=\"data row12 col4\" >-0.023931</td>\n",
       "                        <td id=\"T_3fb81_row12_col5\" class=\"data row12 col5\" >0.108288</td>\n",
       "                        <td id=\"T_3fb81_row12_col6\" class=\"data row12 col6\" >-0.057571</td>\n",
       "                        <td id=\"T_3fb81_row12_col7\" class=\"data row12 col7\" >0.072878</td>\n",
       "                        <td id=\"T_3fb81_row12_col8\" class=\"data row12 col8\" >-0.021643</td>\n",
       "                        <td id=\"T_3fb81_row12_col9\" class=\"data row12 col9\" >-0.013597</td>\n",
       "                        <td id=\"T_3fb81_row12_col10\" class=\"data row12 col10\" >0.008479</td>\n",
       "                        <td id=\"T_3fb81_row12_col11\" class=\"data row12 col11\" >0.066653</td>\n",
       "                        <td id=\"T_3fb81_row12_col12\" class=\"data row12 col12\" >1.000000</td>\n",
       "                        <td id=\"T_3fb81_row12_col13\" class=\"data row12 col13\" >0.271732</td>\n",
       "                        <td id=\"T_3fb81_row12_col14\" class=\"data row12 col14\" >0.001371</td>\n",
       "                        <td id=\"T_3fb81_row12_col15\" class=\"data row12 col15\" >-0.071094</td>\n",
       "                        <td id=\"T_3fb81_row12_col16\" class=\"data row12 col16\" >-0.050370</td>\n",
       "                        <td id=\"T_3fb81_row12_col17\" class=\"data row12 col17\" >0.014568</td>\n",
       "                        <td id=\"T_3fb81_row12_col18\" class=\"data row12 col18\" >-0.018981</td>\n",
       "            </tr>\n",
       "            <tr>\n",
       "                        <th id=\"T_3fb81_level0_row13\" class=\"row_heading level0 row13\" >cityCenters_nearest</th>\n",
       "                        <td id=\"T_3fb81_row13_col0\" class=\"data row13 col0\" >-0.047935</td>\n",
       "                        <td id=\"T_3fb81_row13_col1\" class=\"data row13 col1\" >-0.206213</td>\n",
       "                        <td id=\"T_3fb81_row13_col2\" class=\"data row13 col2\" >-0.230872</td>\n",
       "                        <td id=\"T_3fb81_row13_col3\" class=\"data row13 col3\" >-0.184750</td>\n",
       "                        <td id=\"T_3fb81_row13_col4\" class=\"data row13 col4\" >-0.091692</td>\n",
       "                        <td id=\"T_3fb81_row13_col5\" class=\"data row13 col5\" >0.019774</td>\n",
       "                        <td id=\"T_3fb81_row13_col6\" class=\"data row13 col6\" >-0.230977</td>\n",
       "                        <td id=\"T_3fb81_row13_col7\" class=\"data row13 col7\" >0.008963</td>\n",
       "                        <td id=\"T_3fb81_row13_col8\" class=\"data row13 col8\" >-0.006793</td>\n",
       "                        <td id=\"T_3fb81_row13_col9\" class=\"data row13 col9\" >-0.004178</td>\n",
       "                        <td id=\"T_3fb81_row13_col10\" class=\"data row13 col10\" >-0.189963</td>\n",
       "                        <td id=\"T_3fb81_row13_col11\" class=\"data row13 col11\" >0.051338</td>\n",
       "                        <td id=\"T_3fb81_row13_col12\" class=\"data row13 col12\" >0.271732</td>\n",
       "                        <td id=\"T_3fb81_row13_col13\" class=\"data row13 col13\" >1.000000</td>\n",
       "                        <td id=\"T_3fb81_row13_col14\" class=\"data row13 col14\" >-0.162410</td>\n",
       "                        <td id=\"T_3fb81_row13_col15\" class=\"data row13 col15\" >-0.039608</td>\n",
       "                        <td id=\"T_3fb81_row13_col16\" class=\"data row13 col16\" >-0.074719</td>\n",
       "                        <td id=\"T_3fb81_row13_col17\" class=\"data row13 col17\" >0.030158</td>\n",
       "                        <td id=\"T_3fb81_row13_col18\" class=\"data row13 col18\" >-0.060491</td>\n",
       "            </tr>\n",
       "            <tr>\n",
       "                        <th id=\"T_3fb81_level0_row14\" class=\"row_heading level0 row14\" >parks_around3000</th>\n",
       "                        <td id=\"T_3fb81_row14_col0\" class=\"data row14 col0\" >0.020989</td>\n",
       "                        <td id=\"T_3fb81_row14_col1\" class=\"data row14 col1\" >0.151657</td>\n",
       "                        <td id=\"T_3fb81_row14_col2\" class=\"data row14 col2\" >0.166048</td>\n",
       "                        <td id=\"T_3fb81_row14_col3\" class=\"data row14 col3\" >0.138306</td>\n",
       "                        <td id=\"T_3fb81_row14_col4\" class=\"data row14 col4\" >0.065951</td>\n",
       "                        <td id=\"T_3fb81_row14_col5\" class=\"data row14 col5\" >-0.252833</td>\n",
       "                        <td id=\"T_3fb81_row14_col6\" class=\"data row14 col6\" >0.185208</td>\n",
       "                        <td id=\"T_3fb81_row14_col7\" class=\"data row14 col7\" >-0.163942</td>\n",
       "                        <td id=\"T_3fb81_row14_col8\" class=\"data row14 col8\" >-0.030808</td>\n",
       "                        <td id=\"T_3fb81_row14_col9\" class=\"data row14 col9\" >-0.010098</td>\n",
       "                        <td id=\"T_3fb81_row14_col10\" class=\"data row14 col10\" >0.088269</td>\n",
       "                        <td id=\"T_3fb81_row14_col11\" class=\"data row14 col11\" >-0.083414</td>\n",
       "                        <td id=\"T_3fb81_row14_col12\" class=\"data row14 col12\" >0.001371</td>\n",
       "                        <td id=\"T_3fb81_row14_col13\" class=\"data row14 col13\" >-0.162410</td>\n",
       "                        <td id=\"T_3fb81_row14_col14\" class=\"data row14 col14\" >1.000000</td>\n",
       "                        <td id=\"T_3fb81_row14_col15\" class=\"data row14 col15\" >-0.259445</td>\n",
       "                        <td id=\"T_3fb81_row14_col16\" class=\"data row14 col16\" >0.304655</td>\n",
       "                        <td id=\"T_3fb81_row14_col17\" class=\"data row14 col17\" >-0.168208</td>\n",
       "                        <td id=\"T_3fb81_row14_col18\" class=\"data row14 col18\" >0.060884</td>\n",
       "            </tr>\n",
       "            <tr>\n",
       "                        <th id=\"T_3fb81_level0_row15\" class=\"row_heading level0 row15\" >parks_nearest</th>\n",
       "                        <td id=\"T_3fb81_row15_col0\" class=\"data row15 col0\" >-0.006209</td>\n",
       "                        <td id=\"T_3fb81_row15_col1\" class=\"data row15 col1\" >-0.016633</td>\n",
       "                        <td id=\"T_3fb81_row15_col2\" class=\"data row15 col2\" >-0.021394</td>\n",
       "                        <td id=\"T_3fb81_row15_col3\" class=\"data row15 col3\" >-0.054034</td>\n",
       "                        <td id=\"T_3fb81_row15_col4\" class=\"data row15 col4\" >-0.019196</td>\n",
       "                        <td id=\"T_3fb81_row15_col5\" class=\"data row15 col5\" >0.097527</td>\n",
       "                        <td id=\"T_3fb81_row15_col6\" class=\"data row15 col6\" >-0.050856</td>\n",
       "                        <td id=\"T_3fb81_row15_col7\" class=\"data row15 col7\" >0.072874</td>\n",
       "                        <td id=\"T_3fb81_row15_col8\" class=\"data row15 col8\" >0.006925</td>\n",
       "                        <td id=\"T_3fb81_row15_col9\" class=\"data row15 col9\" >0.010692</td>\n",
       "                        <td id=\"T_3fb81_row15_col10\" class=\"data row15 col10\" >0.029752</td>\n",
       "                        <td id=\"T_3fb81_row15_col11\" class=\"data row15 col11\" >0.055314</td>\n",
       "                        <td id=\"T_3fb81_row15_col12\" class=\"data row15 col12\" >-0.071094</td>\n",
       "                        <td id=\"T_3fb81_row15_col13\" class=\"data row15 col13\" >-0.039608</td>\n",
       "                        <td id=\"T_3fb81_row15_col14\" class=\"data row15 col14\" >-0.259445</td>\n",
       "                        <td id=\"T_3fb81_row15_col15\" class=\"data row15 col15\" >1.000000</td>\n",
       "                        <td id=\"T_3fb81_row15_col16\" class=\"data row15 col16\" >0.074919</td>\n",
       "                        <td id=\"T_3fb81_row15_col17\" class=\"data row15 col17\" >0.001880</td>\n",
       "                        <td id=\"T_3fb81_row15_col18\" class=\"data row15 col18\" >0.022231</td>\n",
       "            </tr>\n",
       "            <tr>\n",
       "                        <th id=\"T_3fb81_level0_row16\" class=\"row_heading level0 row16\" >ponds_around3000</th>\n",
       "                        <td id=\"T_3fb81_row16_col0\" class=\"data row16 col0\" >-0.011154</td>\n",
       "                        <td id=\"T_3fb81_row16_col1\" class=\"data row16 col1\" >0.160479</td>\n",
       "                        <td id=\"T_3fb81_row16_col2\" class=\"data row16 col2\" >0.163245</td>\n",
       "                        <td id=\"T_3fb81_row16_col3\" class=\"data row16 col3\" >0.093411</td>\n",
       "                        <td id=\"T_3fb81_row16_col4\" class=\"data row16 col4\" >0.078224</td>\n",
       "                        <td id=\"T_3fb81_row16_col5\" class=\"data row16 col5\" >-0.122735</td>\n",
       "                        <td id=\"T_3fb81_row16_col6\" class=\"data row16 col6\" >0.149239</td>\n",
       "                        <td id=\"T_3fb81_row16_col7\" class=\"data row16 col7\" >-0.076067</td>\n",
       "                        <td id=\"T_3fb81_row16_col8\" class=\"data row16 col8\" >0.000765</td>\n",
       "                        <td id=\"T_3fb81_row16_col9\" class=\"data row16 col9\" >0.008473</td>\n",
       "                        <td id=\"T_3fb81_row16_col10\" class=\"data row16 col10\" >0.150576</td>\n",
       "                        <td id=\"T_3fb81_row16_col11\" class=\"data row16 col11\" >-0.032225</td>\n",
       "                        <td id=\"T_3fb81_row16_col12\" class=\"data row16 col12\" >-0.050370</td>\n",
       "                        <td id=\"T_3fb81_row16_col13\" class=\"data row16 col13\" >-0.074719</td>\n",
       "                        <td id=\"T_3fb81_row16_col14\" class=\"data row16 col14\" >0.304655</td>\n",
       "                        <td id=\"T_3fb81_row16_col15\" class=\"data row16 col15\" >0.074919</td>\n",
       "                        <td id=\"T_3fb81_row16_col16\" class=\"data row16 col16\" >1.000000</td>\n",
       "                        <td id=\"T_3fb81_row16_col17\" class=\"data row16 col17\" >-0.342583</td>\n",
       "                        <td id=\"T_3fb81_row16_col18\" class=\"data row16 col18\" >0.072693</td>\n",
       "            </tr>\n",
       "            <tr>\n",
       "                        <th id=\"T_3fb81_level0_row17\" class=\"row_heading level0 row17\" >ponds_nearest</th>\n",
       "                        <td id=\"T_3fb81_row17_col0\" class=\"data row17 col0\" >-0.003601</td>\n",
       "                        <td id=\"T_3fb81_row17_col1\" class=\"data row17 col1\" >-0.085450</td>\n",
       "                        <td id=\"T_3fb81_row17_col2\" class=\"data row17 col2\" >-0.099495</td>\n",
       "                        <td id=\"T_3fb81_row17_col3\" class=\"data row17 col3\" >-0.059096</td>\n",
       "                        <td id=\"T_3fb81_row17_col4\" class=\"data row17 col4\" >-0.059140</td>\n",
       "                        <td id=\"T_3fb81_row17_col5\" class=\"data row17 col5\" >0.038864</td>\n",
       "                        <td id=\"T_3fb81_row17_col6\" class=\"data row17 col6\" >-0.082082</td>\n",
       "                        <td id=\"T_3fb81_row17_col7\" class=\"data row17 col7\" >0.025381</td>\n",
       "                        <td id=\"T_3fb81_row17_col8\" class=\"data row17 col8\" >0.001858</td>\n",
       "                        <td id=\"T_3fb81_row17_col9\" class=\"data row17 col9\" >-0.003377</td>\n",
       "                        <td id=\"T_3fb81_row17_col10\" class=\"data row17 col10\" >-0.104549</td>\n",
       "                        <td id=\"T_3fb81_row17_col11\" class=\"data row17 col11\" >0.009900</td>\n",
       "                        <td id=\"T_3fb81_row17_col12\" class=\"data row17 col12\" >0.014568</td>\n",
       "                        <td id=\"T_3fb81_row17_col13\" class=\"data row17 col13\" >0.030158</td>\n",
       "                        <td id=\"T_3fb81_row17_col14\" class=\"data row17 col14\" >-0.168208</td>\n",
       "                        <td id=\"T_3fb81_row17_col15\" class=\"data row17 col15\" >0.001880</td>\n",
       "                        <td id=\"T_3fb81_row17_col16\" class=\"data row17 col16\" >-0.342583</td>\n",
       "                        <td id=\"T_3fb81_row17_col17\" class=\"data row17 col17\" >1.000000</td>\n",
       "                        <td id=\"T_3fb81_row17_col18\" class=\"data row17 col18\" >-0.079589</td>\n",
       "            </tr>\n",
       "            <tr>\n",
       "                        <th id=\"T_3fb81_level0_row18\" class=\"row_heading level0 row18\" >days_exposition</th>\n",
       "                        <td id=\"T_3fb81_row18_col0\" class=\"data row18 col0\" >-0.026578</td>\n",
       "                        <td id=\"T_3fb81_row18_col1\" class=\"data row18 col1\" >0.081063</td>\n",
       "                        <td id=\"T_3fb81_row18_col2\" class=\"data row18 col2\" >0.150130</td>\n",
       "                        <td id=\"T_3fb81_row18_col3\" class=\"data row18 col3\" >0.127470</td>\n",
       "                        <td id=\"T_3fb81_row18_col4\" class=\"data row18 col4\" >0.019092</td>\n",
       "                        <td id=\"T_3fb81_row18_col5\" class=\"data row18 col5\" >-0.052234</td>\n",
       "                        <td id=\"T_3fb81_row18_col6\" class=\"data row18 col6\" >0.142491</td>\n",
       "                        <td id=\"T_3fb81_row18_col7\" class=\"data row18 col7\" >-0.039018</td>\n",
       "                        <td id=\"T_3fb81_row18_col8\" class=\"data row18 col8\" >-0.021604</td>\n",
       "                        <td id=\"T_3fb81_row18_col9\" class=\"data row18 col9\" >-0.024161</td>\n",
       "                        <td id=\"T_3fb81_row18_col10\" class=\"data row18 col10\" >0.100641</td>\n",
       "                        <td id=\"T_3fb81_row18_col11\" class=\"data row18 col11\" >-0.033387</td>\n",
       "                        <td id=\"T_3fb81_row18_col12\" class=\"data row18 col12\" >-0.018981</td>\n",
       "                        <td id=\"T_3fb81_row18_col13\" class=\"data row18 col13\" >-0.060491</td>\n",
       "                        <td id=\"T_3fb81_row18_col14\" class=\"data row18 col14\" >0.060884</td>\n",
       "                        <td id=\"T_3fb81_row18_col15\" class=\"data row18 col15\" >0.022231</td>\n",
       "                        <td id=\"T_3fb81_row18_col16\" class=\"data row18 col16\" >0.072693</td>\n",
       "                        <td id=\"T_3fb81_row18_col17\" class=\"data row18 col17\" >-0.079589</td>\n",
       "                        <td id=\"T_3fb81_row18_col18\" class=\"data row18 col18\" >1.000000</td>\n",
       "            </tr>\n",
       "    </tbody></table>"
      ],
      "text/plain": [
       "<pandas.io.formats.style.Styler at 0x7fe4bf693370>"
      ]
     },
     "execution_count": 4,
     "metadata": {},
     "output_type": "execute_result"
    }
   ],
   "source": [
    "#Убираем строки с пропусками floors_total, их количество очень мало, удаление не отразится на статистике\n",
    "data = data.loc[data['floors_total'].isna()==False]\n",
    "\n",
    "#наглядно рассмотрим корреляцию параметров друг от друга \n",
    "corr_matrix = data.corr()\n",
    "corr_matrix.style.background_gradient(cmap='coolwarm')"
   ]
  },
  {
   "cell_type": "code",
   "execution_count": 5,
   "metadata": {},
   "outputs": [
    {
     "data": {
      "text/plain": [
       "count    23613.000000\n",
       "mean        60.340678\n",
       "std         35.648988\n",
       "min         12.000000\n",
       "25%         40.000000\n",
       "50%         52.000000\n",
       "75%         69.800000\n",
       "max        900.000000\n",
       "Name: total_area, dtype: float64"
      ]
     },
     "execution_count": 5,
     "metadata": {},
     "output_type": "execute_result"
    },
    {
     "data": {
      "image/png": "[encoded data removed]",
      "text/plain": [
       "<Figure size 360x360 with 1 Axes>"
      ]
     },
     "metadata": {
      "needs_background": "light"
     },
     "output_type": "display_data"
    }
   ],
   "source": [
    "#заменим пропуски в столбце living_area на медианное значение в зависимотси от количества комнат \n",
    "for i in data['rooms'].unique():\n",
    "    data.loc[(data['living_area'].isna())& (data['rooms']==i), 'living_area'] = \\\n",
    "    data.loc[data['rooms']==i, 'living_area'].median()\n",
    "    \n",
    "#посмотрим каким образом лучше разделить на группы квартиры исходя из их общей площали\n",
    "data.plot(y='total_area', kind='hist', bins=100, grid=True, range=(0,600), figsize=(5,5))\n",
    "data['total_area'].describe()"
   ]
  },
  {
   "cell_type": "markdown",
   "metadata": {},
   "source": [
    "<div class=\"alert alert-success\">\n",
    "\n",
    "**✔️ Комментарий ревьюера ✔️**\n",
    "   \n",
    "   Отличное решение👍\n",
    "\n",
    "</div>\n"
   ]
  },
  {
   "cell_type": "code",
   "execution_count": 6,
   "metadata": {},
   "outputs": [
    {
     "data": {
      "text/plain": [
       "count    14495.000000\n",
       "mean         2.771495\n",
       "std          1.261445\n",
       "min          1.000000\n",
       "25%          2.520000\n",
       "50%          2.650000\n",
       "75%          2.800000\n",
       "max        100.000000\n",
       "Name: ceiling_height, dtype: float64"
      ]
     },
     "execution_count": 6,
     "metadata": {},
     "output_type": "execute_result"
    }
   ],
   "source": [
    "#заменим пропуски в столбце kitchen_area \n",
    "#разделим все объекты датафрейма на 4 группы в зависимости от общей площади - total_area\n",
    "def categorize_total_area(area):\n",
    "    try:\n",
    "        if 0 <= area <= 40:\n",
    "            return 'S'\n",
    "        elif 40 <= area <= 55:\n",
    "            return 'M'\n",
    "        elif 55 <= area <= 70:\n",
    "            return 'L'\n",
    "        elif area >= 70:\n",
    "            return 'XL'\n",
    "    except:\n",
    "        pass\n",
    "    \n",
    "#добавим столбец с размером квартир в датафрейм\n",
    "data['total_area_size'] = data['total_area'].apply(categorize_total_area)\n",
    "\n",
    "#заменим пропуски в столбце kitchen_area на медианное значение в зависимотси от ранее определенного размера квартиры  \n",
    "for i in data['total_area_size'].unique():\n",
    "    data.loc[(data['kitchen_area'].isna())& (data['total_area_size']==i), 'kitchen_area'] = \\\n",
    "    data.loc[data['total_area_size']==i, 'kitchen_area'].median()\n",
    "    \n",
    "#заменим пропуски в balcony на 0 и изменим тип данных на int\n",
    "data['balcony'].value_counts()\n",
    "data['balcony'] = data['balcony'].fillna(0)\n",
    "data['balcony'] = data['balcony'].astype('int')\n",
    "\n",
    "#посмотрим параметр ceiling_height, видим что есть необоснованно большие значения но пока оставим их как есть,\n",
    "#медиана от среднего отличается не сильно из-за этих выбросов во всей выборке\n",
    "data['ceiling_height'].describe()"
   ]
  },
  {
   "cell_type": "code",
   "execution_count": 7,
   "metadata": {},
   "outputs": [
    {
     "data": {
      "text/html": [
       "<div>\n",
       "<style scoped>\n",
       "    .dataframe tbody tr th:only-of-type {\n",
       "        vertical-align: middle;\n",
       "    }\n",
       "\n",
       "    .dataframe tbody tr th {\n",
       "        vertical-align: top;\n",
       "    }\n",
       "\n",
       "    .dataframe thead th {\n",
       "        text-align: right;\n",
       "    }\n",
       "</style>\n",
       "<table border=\"1\" class=\"dataframe\">\n",
       "  <thead>\n",
       "    <tr style=\"text-align: right;\">\n",
       "      <th></th>\n",
       "      <th>0</th>\n",
       "    </tr>\n",
       "  </thead>\n",
       "  <tbody>\n",
       "    <tr>\n",
       "      <th>total_images</th>\n",
       "      <td>0.0</td>\n",
       "    </tr>\n",
       "    <tr>\n",
       "      <th>last_price</th>\n",
       "      <td>0.0</td>\n",
       "    </tr>\n",
       "    <tr>\n",
       "      <th>total_area</th>\n",
       "      <td>0.0</td>\n",
       "    </tr>\n",
       "    <tr>\n",
       "      <th>first_day_exposition</th>\n",
       "      <td>0.0</td>\n",
       "    </tr>\n",
       "    <tr>\n",
       "      <th>rooms</th>\n",
       "      <td>0.0</td>\n",
       "    </tr>\n",
       "    <tr>\n",
       "      <th>ceiling_height</th>\n",
       "      <td>38.5</td>\n",
       "    </tr>\n",
       "    <tr>\n",
       "      <th>floors_total</th>\n",
       "      <td>0.0</td>\n",
       "    </tr>\n",
       "    <tr>\n",
       "      <th>living_area</th>\n",
       "      <td>0.0</td>\n",
       "    </tr>\n",
       "    <tr>\n",
       "      <th>floor</th>\n",
       "      <td>0.0</td>\n",
       "    </tr>\n",
       "    <tr>\n",
       "      <th>is_apartment</th>\n",
       "      <td>88.3</td>\n",
       "    </tr>\n",
       "    <tr>\n",
       "      <th>studio</th>\n",
       "      <td>0.0</td>\n",
       "    </tr>\n",
       "    <tr>\n",
       "      <th>open_plan</th>\n",
       "      <td>0.0</td>\n",
       "    </tr>\n",
       "    <tr>\n",
       "      <th>kitchen_area</th>\n",
       "      <td>0.0</td>\n",
       "    </tr>\n",
       "    <tr>\n",
       "      <th>balcony</th>\n",
       "      <td>0.0</td>\n",
       "    </tr>\n",
       "    <tr>\n",
       "      <th>locality_name</th>\n",
       "      <td>0.0</td>\n",
       "    </tr>\n",
       "    <tr>\n",
       "      <th>airports_nearest</th>\n",
       "      <td>23.4</td>\n",
       "    </tr>\n",
       "    <tr>\n",
       "      <th>cityCenters_nearest</th>\n",
       "      <td>23.3</td>\n",
       "    </tr>\n",
       "    <tr>\n",
       "      <th>parks_around3000</th>\n",
       "      <td>23.3</td>\n",
       "    </tr>\n",
       "    <tr>\n",
       "      <th>parks_nearest</th>\n",
       "      <td>65.9</td>\n",
       "    </tr>\n",
       "    <tr>\n",
       "      <th>ponds_around3000</th>\n",
       "      <td>23.3</td>\n",
       "    </tr>\n",
       "    <tr>\n",
       "      <th>ponds_nearest</th>\n",
       "      <td>61.7</td>\n",
       "    </tr>\n",
       "    <tr>\n",
       "      <th>days_exposition</th>\n",
       "      <td>13.5</td>\n",
       "    </tr>\n",
       "    <tr>\n",
       "      <th>total_area_size</th>\n",
       "      <td>0.0</td>\n",
       "    </tr>\n",
       "  </tbody>\n",
       "</table>\n",
       "</div>"
      ],
      "text/plain": [
       "                         0\n",
       "total_images           0.0\n",
       "last_price             0.0\n",
       "total_area             0.0\n",
       "first_day_exposition   0.0\n",
       "rooms                  0.0\n",
       "ceiling_height        38.5\n",
       "floors_total           0.0\n",
       "living_area            0.0\n",
       "floor                  0.0\n",
       "is_apartment          88.3\n",
       "studio                 0.0\n",
       "open_plan              0.0\n",
       "kitchen_area           0.0\n",
       "balcony                0.0\n",
       "locality_name          0.0\n",
       "airports_nearest      23.4\n",
       "cityCenters_nearest   23.3\n",
       "parks_around3000      23.3\n",
       "parks_nearest         65.9\n",
       "ponds_around3000      23.3\n",
       "ponds_nearest         61.7\n",
       "days_exposition       13.5\n",
       "total_area_size        0.0"
      ]
     },
     "execution_count": 7,
     "metadata": {},
     "output_type": "execute_result"
    }
   ],
   "source": [
    "#предположим что необоснованно большие значения в столбце ceiling_height могли возникнуть из-за ошибки при записи,\n",
    "#заполняющий не поставил запятую или поставил не в том месте, напишем функцию которая отредактирует такие показатели \n",
    "def ceiling(height):\n",
    "    try:\n",
    "        if height > 4:\n",
    "            return height / 10\n",
    "        else:\n",
    "            return height\n",
    "    except:\n",
    "        pass\n",
    "\n",
    "data['ceiling_height']= data['ceiling_height'].apply(ceiling)\n",
    "\n",
    "#изменим тип некоторых данных в датафрейме\n",
    "#переведем столбец с датой в формат даты без времени, т.к. время не указано\n",
    "data['first_day_exposition'] = pd.to_datetime(data['first_day_exposition'], format = '%Y-%m-%d')\n",
    "\n",
    "#заменим пропуски в days_exposition и заменим тип данных\n",
    "#data['days_exposition'] = data['days_exposition'].fillna(0).astype('int')\n",
    "\n",
    "#Убираем строки с пропусками locality_name, их количество очень мало, удаление не отразится на статистике\n",
    "data = data.loc[data['locality_name'].isna()==False]\n",
    "\n",
    "pd.DataFrame(round(data.isna().mean()*100,1))"
   ]
  },
  {
   "cell_type": "markdown",
   "metadata": {},
   "source": [
    "<div class=\"alert alert-warning\">\n",
    "\n",
    "**⚠️ Комментарий ревьюера ⚠️**\n",
    "   \n",
    "   По столбцу ceiling_height - рекомендую ознакомиться с методом update для решения этой задачи:\n",
    "\n",
    "</div>\n",
    "\n",
    "\n"
   ]
  },
  {
   "cell_type": "code",
   "execution_count": 8,
   "metadata": {},
   "outputs": [
    {
     "data": {
      "text/plain": [
       "array([ 2.7  ,    nan,  3.03 ,  2.5  ,  2.67 ,  2.56 ,  3.05 ,  2.75 ,\n",
       "        2.6  ,  2.9  ,  2.8  ,  2.55 ,  3.   ,  2.65 ,  3.2  ,  2.61 ,\n",
       "        3.25 ,  3.45 ,  2.77 ,  2.85 ,  2.64 ,  2.57 ,  0.415,  3.5  ,\n",
       "        3.3  ,  2.71 ,  4.   ,  2.47 ,  2.73 ,  2.84 ,  3.1  ,  2.34 ,\n",
       "        3.4  ,  3.06 ,  2.72 ,  2.54 ,  2.51 ,  2.78 ,  2.76 ,  2.58 ,\n",
       "        3.7  ,  2.52 ,  0.52 ,  2.87 ,  2.66 ,  2.59 ,  2.   ,  2.45 ,\n",
       "        3.6  ,  2.92 ,  3.11 ,  3.13 ,  3.8  ,  3.15 ,  3.55 ,  3.16 ,\n",
       "        3.62 ,  3.12 ,  2.53 ,  2.74 ,  2.96 ,  2.46 ,  0.53 ,  0.5  ,\n",
       "        2.79 ,  2.95 ,  0.406,  2.94 ,  3.82 ,  3.54 ,  3.53 ,  2.83 ,\n",
       "        0.47 ,  2.4  ,  3.38 ,  3.01 ,  0.56 ,  3.65 ,  3.9  ,  3.18 ,\n",
       "        3.35 ,  2.3  ,  3.57 ,  2.48 ,  2.62 ,  2.82 ,  3.98 ,  2.63 ,\n",
       "        3.83 ,  3.52 ,  3.95 ,  3.75 ,  2.88 ,  3.67 ,  3.87 ,  3.66 ,\n",
       "        3.85 ,  3.86 ,  0.419,  3.24 ,  0.48 ,  0.45 ,  0.42 ,  3.36 ,\n",
       "        3.08 ,  3.68 ,  3.07 ,  3.37 ,  3.09 ,  0.8  ,  3.26 ,  3.34 ,\n",
       "        2.81 ,  3.44 ,  2.97 ,  3.14 ,  0.437,  2.68 ,  3.22 ,  3.27 ,\n",
       "        0.41 ,  2.93 ,  3.46 ,  3.47 ,  3.33 ,  3.63 ,  3.32 ,  1.2  ,\n",
       "        0.83 ,  2.98 ,  2.86 ,  3.17 ,  0.44 ,  3.28 ,  3.04 ,  0.445,\n",
       "        0.55 ,  3.84 ,  3.23 ,  3.02 ,  3.21 ,  3.43 ,  3.78 ,  0.43 ,\n",
       "        3.39 ,  2.69 ,  3.31 ,  0.465,  3.56 ,  2.2  ,  3.51 ,  3.93 ,\n",
       "        3.42 ,  2.99 ,  3.49 ,  1.4  ,  0.414,  2.91 ,  3.88 ,  1.75 ,\n",
       "        0.425,  3.29 ,  2.25 ,  3.76 ,  3.69 ,  0.6  ,  2.26 ,  2.89 ,\n",
       "        3.58 ,  0.58 ,  2.49 ,  0.49 ,  3.48 ,  1.03 ,  1.   , 10.   ,\n",
       "        3.59 ])"
      ]
     },
     "execution_count": 8,
     "metadata": {},
     "output_type": "execute_result"
    }
   ],
   "source": [
    "#Код ревьюера\n",
    "data.update(data[(data['ceiling_height'] >= 20) & (data['ceiling_height'] <= 36)]['ceiling_height']/10)\n",
    "data['ceiling_height'].unique()"
   ]
  },
  {
   "cell_type": "markdown",
   "metadata": {},
   "source": [
    " <div class=\"alert alert-danger\">\n",
    "\n",
    "**❌ Комментарий ревьюера ❌**\n",
    "\n",
    "   По столбцу `days_exposition` - Мы можем заполнять только те данные, которые пропущенны совершенно случайно. Иначе заполнение может повлиять на характер связи между заполняемой величиной и остальными. Попробуй рассмотреть распределение пропусков в данном столбце относительно года выставления квартиры на продажу. Какой вывод ты сможешь сделать? Являются ли данные пропуски случайными?\n",
    "\n",
    "</div>"
   ]
  },
  {
   "cell_type": "markdown",
   "metadata": {},
   "source": [
    "<div class=\"alert alert-block alert-info\">\n",
    "    \n",
    "согласен. я убрал заполнение пропусков из предобработки, там их 13%, поэтому в целом можно оставить как есть и далее рассмотреть распределение пропусков в данном столбце относительно года выставления квартиры на продажу и сделать соответсвующие выводы.\n",
    "</div>"
   ]
  },
  {
   "cell_type": "code",
   "execution_count": 36,
   "metadata": {},
   "outputs": [
    {
     "data": {
      "text/html": [
       "<div>\n",
       "<style scoped>\n",
       "    .dataframe tbody tr th:only-of-type {\n",
       "        vertical-align: middle;\n",
       "    }\n",
       "\n",
       "    .dataframe tbody tr th {\n",
       "        vertical-align: top;\n",
       "    }\n",
       "\n",
       "    .dataframe thead th {\n",
       "        text-align: right;\n",
       "    }\n",
       "</style>\n",
       "<table border=\"1\" class=\"dataframe\">\n",
       "  <thead>\n",
       "    <tr style=\"text-align: right;\">\n",
       "      <th>first_day_year</th>\n",
       "      <th>2014</th>\n",
       "      <th>2015</th>\n",
       "      <th>2016</th>\n",
       "      <th>2017</th>\n",
       "      <th>2018</th>\n",
       "      <th>2019</th>\n",
       "    </tr>\n",
       "  </thead>\n",
       "  <tbody>\n",
       "    <tr>\n",
       "      <th>total_area</th>\n",
       "      <td>18</td>\n",
       "      <td>70</td>\n",
       "      <td>67</td>\n",
       "      <td>271</td>\n",
       "      <td>957</td>\n",
       "      <td>1788</td>\n",
       "    </tr>\n",
       "  </tbody>\n",
       "</table>\n",
       "</div>"
      ],
      "text/plain": [
       "first_day_year  2014  2015  2016  2017  2018  2019\n",
       "total_area        18    70    67   271   957  1788"
      ]
     },
     "execution_count": 36,
     "metadata": {},
     "output_type": "execute_result"
    }
   ],
   "source": [
    "# код ревьюера\n",
    "import datetime as dt\n",
    "\n",
    "data['first_day_exposition'] = pd.to_datetime(data['first_day_exposition'], format='%Y-%m-%dT%H:%M:%S')\n",
    "data['first_day_year'] = data['first_day_exposition'].dt.year\n",
    "data[data['days_exposition'].isnull()].pivot_table(columns = 'first_day_year', values = 'total_area', aggfunc = 'count')"
   ]
  },
  {
   "cell_type": "markdown",
   "metadata": {},
   "source": [
    "<div class=\"alert alert-success\">\n",
    "\n",
    "**✔️ Комментарий ревьюера v2✔️**\n",
    "   \n",
    "   Если рассматривать распределение пропусков относительно года выставления на продажу, можно заметить, что большая часть пропущенных значений - в 2019 году. Больше половины объектов, выставленных на продажу в 2019 году не имеет рассчитанного \"времени продажи квартиры\". Также высокая доля пропусков, хотя и меньшая - в 2018 году. Получается, чем свежей объявление - тем выше вероятность пропуска в этой колонке.\n",
    "\n",
    "Пропуск в этой колонке означает, что объект не продан и объявление не закрыто. Поэтому заполнять пропуски в этом столбце не надо - они не случайные и существенно влияют на статистику.\n",
    "\n",
    "</div>\n"
   ]
  },
  {
   "cell_type": "code",
   "execution_count": 9,
   "metadata": {},
   "outputs": [
    {
     "name": "stderr",
     "output_type": "stream",
     "text": [
      "/tmp/ipykernel_34/2126851128.py:9: SettingWithCopyWarning: \n",
      "A value is trying to be set on a copy of a slice from a DataFrame.\n",
      "Try using .loc[row_indexer,col_indexer] = value instead\n",
      "\n",
      "See the caveats in the documentation: https://pandas.pydata.org/pandas-docs/stable/user_guide/indexing.html#returning-a-view-versus-a-copy\n",
      "  data['locality_name'] = (data['locality_name'].str.replace('ё', 'е'))\n",
      "/tmp/ipykernel_34/2126851128.py:10: SettingWithCopyWarning: \n",
      "A value is trying to be set on a copy of a slice from a DataFrame.\n",
      "Try using .loc[row_indexer,col_indexer] = value instead\n",
      "\n",
      "See the caveats in the documentation: https://pandas.pydata.org/pandas-docs/stable/user_guide/indexing.html#returning-a-view-versus-a-copy\n",
      "  data['locality_name'] = data['locality_name'].replace(['поселок при железнодорожной станции ',\n"
     ]
    },
    {
     "data": {
      "text/plain": [
       "array(['Санкт-Петербург', 'Шушары', 'Янино-1', 'Парголово', 'Мурино',\n",
       "       'Ломоносов', 'Сертолово', 'Петергоф', 'Пушкин', 'Кудрово',\n",
       "       'Коммунар', 'Колпино', 'Красный Бор', 'Гатчина', 'Федоровское',\n",
       "       'Выборг', 'Кронштадт', 'Кировск', 'Новое Девяткино',\n",
       "       'Металлострой', 'Лебяжье', 'Сиверский', 'Молодцово',\n",
       "       'Кузьмоловский', 'Новая Ропша', 'Павловск', 'Пикколово',\n",
       "       'Всеволожск', 'Волхов', 'Кингисепп', 'Приозерск', 'Сестрорецк',\n",
       "       'Куттузи', 'Аннино', 'Ефимовский', 'Плодовое', 'Заклинье',\n",
       "       'Торковичи', 'Первомайское', 'Красное Село', 'Понтонный',\n",
       "       'Сясьстрой', 'Старая', 'Лесколово', 'Новый Свет', 'Сланцы',\n",
       "       'Путилово', 'Ивангород', 'Шлиссельбург', 'Никольское',\n",
       "       'Зеленогорск', 'Сосновый Бор', 'Оржицы', 'Кальтино', 'Романовка',\n",
       "       'Бугры', 'Рощино', 'Кириши', 'Луга', 'Волосово', 'Отрадное',\n",
       "       'Павлово', 'Оредеж', 'Копорье', 'Молодежное', 'Тихвин', 'Победа',\n",
       "       'Нурма', 'Синявино', 'Тосно', 'Стрельна', 'Бокситогорск',\n",
       "       'Александровская', 'Лопухинка', 'Пикалево', 'Терволово',\n",
       "       'Советский', 'Подпорожье', 'Петровское', 'Токсово', 'Сельцо',\n",
       "       'Вырица', 'Кипень', 'Келози', 'Вартемяги', 'Тельмана',\n",
       "       'Севастьяново', 'Большая Ижора', 'Агалатово', 'Новогорелово',\n",
       "       'Лесогорский', 'Лаголово', 'Цвелодубово', 'Рахья', 'Белогорка',\n",
       "       'Заводской', 'Новоселье', 'Большие Колпаны', 'Горбунки', 'Батово',\n",
       "       'Заневка', 'Иссад', 'Приморск', 'Мистолово', 'Новая Ладога',\n",
       "       'Зимитицы', 'Барышево', 'Разметелево', 'имени Свердлова', 'Пеники',\n",
       "       'Рябово', 'Пудомяги', 'станции Корнево', 'Низино', 'Бегуницы',\n",
       "       'Поляны', 'Мга', 'Елизаветино', 'Кузнечное', 'Колтуши',\n",
       "       'Запорожское', 'Гостилицы', 'Малое Карлино', 'Мичуринское',\n",
       "       'имени Морозова', 'Песочный', 'Сосново', 'Аро', 'Ильичево',\n",
       "       'Тайцы', 'Малое Верево', 'Извара', 'станции Вещево', 'Паша',\n",
       "       'Калитино', 'Ульяновка', 'Чудской Бор', 'Дубровка', 'Мины',\n",
       "       'Войсковицы', 'Коркино', 'Ропша', 'Приладожский', 'Щеглово',\n",
       "       'Гаврилово', 'Лодейное Поле', 'Рабитицы', 'Никольский',\n",
       "       'Кузьмолово', 'Малые Колпаны', 'Петро-Славянка', 'Назия', 'Репино',\n",
       "       'Углово', 'Старая Малукса', 'Меньково', 'Старые Бегуницы',\n",
       "       'Саперный', 'Семрино', 'Глажево', 'Кобринское', 'Гарболово',\n",
       "       'Юкки', 'станции Приветнинское', 'Мануйлово', 'Пчева', 'Цвылево',\n",
       "       'Мельниково', 'Пудость', 'Усть-Луга', 'Светогорск', 'Любань',\n",
       "       'Селезнево', 'Каменногорск', 'Кривко', 'Глебычево', 'Парицы',\n",
       "       'Жилпоселок', 'Войскорово', 'Стеклянный', 'Важины',\n",
       "       'Мыза-Ивановка', 'Русско-Высоцкое', 'Форносово', 'Старая Ладога',\n",
       "       'Житково', 'Виллози', 'Лампово', 'Шпаньково', 'Лаврики', 'Сумино',\n",
       "       'Возрождение', 'Старосиверская', 'Кикерино', 'Старое Хинколово',\n",
       "       'Пригородный', 'Торфяное', 'Будогощь', 'Суходолье',\n",
       "       'Красная Долина', 'Хапо-Ое', 'Дружная Горка', 'Лисий Нос',\n",
       "       'Яльгелево', 'Рождествено', 'Старополье', 'Левашово', 'Сяськелево',\n",
       "       'Камышовка', 'Лесная Поляна', 'Хязельки', 'Жилгородок', 'Ялгино',\n",
       "       'Новый Учхоз', 'Гончарово', 'Почап', 'Саперное',\n",
       "       'Платформа 69-й километр', 'Каложицы', 'Фалилеево', 'Пельгора',\n",
       "       'Торошковичи', 'Белоостров', 'Алексеевка', 'Серебрянский',\n",
       "       'Лукаши', 'Тарасово', 'Кингисеппский', 'Вещево', 'Ушаки', 'Котлы',\n",
       "       'Сижно', 'Торосово', 'Форт Красная Горка', 'Новолисино',\n",
       "       'станции Громово', 'Глинка', 'Старая Пустошь', 'Коммунары',\n",
       "       'Починок', 'Вознесенье', 'Разбегаево', 'Гладкое', 'Приветнинское',\n",
       "       'Тесово-4', 'Бор', 'Коробицыно', 'Большая Вруда', 'Курковицы',\n",
       "       'Кобралово', 'Суоранда', 'Кондратьево', 'Счастье', 'Реброво',\n",
       "       'Тойворово', 'Семиозерье', 'Лесное', 'Совхозный', 'Ленинское',\n",
       "       'Суйда', 'Нижние Осельки', 'станции Свирь', 'Перово', 'Высоцк',\n",
       "       'Шум', 'Котельский', 'станции Лужайка', 'Большая Пустомержа',\n",
       "       'Красносельское', 'Вахнова Кара', 'Пижма', 'Кивеннапа Север',\n",
       "       'Ромашки', 'Каськово', 'Куровицы', 'Плоское', 'Кирпичное',\n",
       "       'Ям-Тесово', 'Раздолье', 'Терпилицы', 'Шугозеро', 'Ваганово',\n",
       "       'Пушное', 'Садко', 'Усть-Ижора', 'Выскатка', 'Свирьстрой',\n",
       "       'Громово', 'Кисельня', 'Трубников Бор', 'Высокоключевой',\n",
       "       'Пансионат Зеленый Бор', 'Ненимяки', 'Снегиревка', 'Рапполово',\n",
       "       'Пустынка', 'Большой Сабск', 'Русско', 'Лупполово',\n",
       "       'Большое Рейзино', 'Малая Романовка', 'Дружноселье', 'Пчевжа',\n",
       "       'Володарское', 'Нижняя', 'Тихковицы', 'Борисова Грива',\n",
       "       'Дзержинского'], dtype=object)"
      ]
     },
     "execution_count": 9,
     "metadata": {},
     "output_type": "execute_result"
    }
   ],
   "source": [
    "#посмотрим какие названия встречаются в столбце с названиями локаций\n",
    "unique_locality_name = data['locality_name'].unique()\n",
    "\n",
    "#выведем все уникальные названия в столбец одно за другим, и посмотрим сколько каких количественно \n",
    "pd.options.display.max_rows = 400\n",
    "\n",
    "#display(data['locality_name'].value_counts())\n",
    "#устраним неявные дубликаты\n",
    "data['locality_name'] = (data['locality_name'].str.replace('ё', 'е'))\n",
    "data['locality_name'] = data['locality_name'].replace(['поселок при железнодорожной станции ', \n",
    "                'поселок городского типа ','село ', 'деревня ', 'городской поселок ',\n",
    "                'коттеджный поселок ', 'садоводческое некоммерческое товарищество ', \n",
    "                'садовое товарищество ', 'поселок '], '', regex=True)\n",
    "data['locality_name'].unique()"
   ]
  },
  {
   "cell_type": "markdown",
   "metadata": {},
   "source": [
    "<div class=\"alert alert-success\">\n",
    "\n",
    "**✔️ Комментарий ревьюера ✔️**\n",
    "\n",
    "\n",
    "   Хорошая работа. Также рекомендую хорошую статью по предобработке, в ней есть интересные способы обработки неявных дубликатов: https://proglib.io/p/moem-dataset-rukovodstvo-po-ochistke-dannyh-v-python-2020-03-27 В пункте 8 есть интересная информация о работе с опечатками в названиях населенных пунктов\n",
    "\n",
    "</div>\n"
   ]
  },
  {
   "cell_type": "markdown",
   "metadata": {},
   "source": [
    "**Вывод:** мы провели предаброботку данных в которой удалили малочисленные пропуски в столбцах с парметрами floors_total и locality_name, пропуски в этих столбах занимали менее одного процента, поэтому их удаление не отразилось на общей статистике. \n",
    "Так же мы устранили пропуски в столбцах  living_area и kitchen_area. Посмотрев на матрице корреляции мы решили что, в  первом случае мы сгруппируем  квартиры по количеству комнат и заменим пропуски медианным значением в каждой категории (1, 2, 3 комнатные квартиры и тд)\n",
    "Во втором случае, чтобы корректно заменить пропуски, мы разделили все квартиры на группы в зависимости от общей пощади и далее заменили пропуски медианными занчениями, по группам. \n",
    "В столбце с данными о высотке потолков было слишком много пропусков(38,8%), но к сожалению по матрице корреляции не нашлось зависимости, чтобы модно было объективно эти пропуски замнить, поэтому пропуски оставили как есть, но постарались выжать максимум информации из того, что было дано, поэтому предположили что потолки выше 3х м это выбросы, которые появилмсь в результате ошибки заполнения анкеты, потому все потолки выше 3х метров мы разделили на 10. Таким образом удалось спасти 0,3% данных.\n",
    "В столбце с названием города было очень много неявных дубликатов, которые мы так же устранили."
   ]
  },
  {
   "cell_type": "markdown",
   "metadata": {},
   "source": [
    "<div class=\"alert alert-success\">\n",
    "\n",
    "**✔️ Комментарий ревьюера ✔️**\n",
    "   \n",
    "   Теория обработки пропусков хорошо изложена в статье: https://loginom.ru/blog/missing. Особенно хорошо описаны виды пропусков и их влияние на целесообразность и выбор способа заполнения.\n",
    "Действительно, решая аналитические задачи, заполнение пропусков может быть необязательно, если объем достоверных данных достаточен для выявления закономерностей, а риск изменить распределение данных существеннен. Не зря в задании просят: \"Заполните пропущенные значения там, где это возможно\". При ответе на вопросы исследования можно взять только достоверно известные значения, а пропуски проигнорировать, если надежного способа их заполнить нет. \n",
    "\n",
    "</div>"
   ]
  },
  {
   "cell_type": "markdown",
   "metadata": {},
   "source": [
    "### Посчитайте и добавьте в таблицу новые столбцы"
   ]
  },
  {
   "cell_type": "markdown",
   "metadata": {},
   "source": [
    "1. цену квадратного метра;\n",
    "2. день недели, месяц и год публикации объявления;\n",
    "3. этаж квартиры; варианты — первый, последний, другой;\n",
    "4. расстояние до центра города в километрах"
   ]
  },
  {
   "cell_type": "code",
   "execution_count": 10,
   "metadata": {},
   "outputs": [
    {
     "name": "stderr",
     "output_type": "stream",
     "text": [
      "/tmp/ipykernel_34/3328391457.py:2: SettingWithCopyWarning: \n",
      "A value is trying to be set on a copy of a slice from a DataFrame.\n",
      "Try using .loc[row_indexer,col_indexer] = value instead\n",
      "\n",
      "See the caveats in the documentation: https://pandas.pydata.org/pandas-docs/stable/user_guide/indexing.html#returning-a-view-versus-a-copy\n",
      "  data['price_per_square_meter'] = data['last_price'] / data['total_area']\n",
      "/tmp/ipykernel_34/3328391457.py:5: SettingWithCopyWarning: \n",
      "A value is trying to be set on a copy of a slice from a DataFrame.\n",
      "Try using .loc[row_indexer,col_indexer] = value instead\n",
      "\n",
      "See the caveats in the documentation: https://pandas.pydata.org/pandas-docs/stable/user_guide/indexing.html#returning-a-view-versus-a-copy\n",
      "  data['price_per_square_meter'] = data['price_per_square_meter'].astype('float').round(2)\n",
      "/tmp/ipykernel_34/3328391457.py:8: SettingWithCopyWarning: \n",
      "A value is trying to be set on a copy of a slice from a DataFrame.\n",
      "Try using .loc[row_indexer,col_indexer] = value instead\n",
      "\n",
      "See the caveats in the documentation: https://pandas.pydata.org/pandas-docs/stable/user_guide/indexing.html#returning-a-view-versus-a-copy\n",
      "  data['weekday_exposition'] = data['first_day_exposition'].dt.weekday\n",
      "/tmp/ipykernel_34/3328391457.py:11: SettingWithCopyWarning: \n",
      "A value is trying to be set on a copy of a slice from a DataFrame.\n",
      "Try using .loc[row_indexer,col_indexer] = value instead\n",
      "\n",
      "See the caveats in the documentation: https://pandas.pydata.org/pandas-docs/stable/user_guide/indexing.html#returning-a-view-versus-a-copy\n",
      "  data['month_exposition'] = data['first_day_exposition'].dt.month\n",
      "/tmp/ipykernel_34/3328391457.py:14: SettingWithCopyWarning: \n",
      "A value is trying to be set on a copy of a slice from a DataFrame.\n",
      "Try using .loc[row_indexer,col_indexer] = value instead\n",
      "\n",
      "See the caveats in the documentation: https://pandas.pydata.org/pandas-docs/stable/user_guide/indexing.html#returning-a-view-versus-a-copy\n",
      "  data['year_exposition'] = data['first_day_exposition'].dt.year\n",
      "/tmp/ipykernel_34/3328391457.py:28: SettingWithCopyWarning: \n",
      "A value is trying to be set on a copy of a slice from a DataFrame.\n",
      "Try using .loc[row_indexer,col_indexer] = value instead\n",
      "\n",
      "See the caveats in the documentation: https://pandas.pydata.org/pandas-docs/stable/user_guide/indexing.html#returning-a-view-versus-a-copy\n",
      "  data['floor_category'] = data.apply(floor_category, axis = 1)\n",
      "/tmp/ipykernel_34/3328391457.py:31: SettingWithCopyWarning: \n",
      "A value is trying to be set on a copy of a slice from a DataFrame.\n",
      "Try using .loc[row_indexer,col_indexer] = value instead\n",
      "\n",
      "See the caveats in the documentation: https://pandas.pydata.org/pandas-docs/stable/user_guide/indexing.html#returning-a-view-versus-a-copy\n",
      "  data['cityCenters_nearest_km'] = (data['cityCenters_nearest'] / 1000).round(0)\n"
     ]
    },
    {
     "data": {
      "text/html": [
       "<div>\n",
       "<style scoped>\n",
       "    .dataframe tbody tr th:only-of-type {\n",
       "        vertical-align: middle;\n",
       "    }\n",
       "\n",
       "    .dataframe tbody tr th {\n",
       "        vertical-align: top;\n",
       "    }\n",
       "\n",
       "    .dataframe thead th {\n",
       "        text-align: right;\n",
       "    }\n",
       "</style>\n",
       "<table border=\"1\" class=\"dataframe\">\n",
       "  <thead>\n",
       "    <tr style=\"text-align: right;\">\n",
       "      <th></th>\n",
       "      <th>total_images</th>\n",
       "      <th>last_price</th>\n",
       "      <th>total_area</th>\n",
       "      <th>first_day_exposition</th>\n",
       "      <th>rooms</th>\n",
       "      <th>ceiling_height</th>\n",
       "      <th>floors_total</th>\n",
       "      <th>living_area</th>\n",
       "      <th>floor</th>\n",
       "      <th>is_apartment</th>\n",
       "      <th>...</th>\n",
       "      <th>ponds_around3000</th>\n",
       "      <th>ponds_nearest</th>\n",
       "      <th>days_exposition</th>\n",
       "      <th>total_area_size</th>\n",
       "      <th>price_per_square_meter</th>\n",
       "      <th>weekday_exposition</th>\n",
       "      <th>month_exposition</th>\n",
       "      <th>year_exposition</th>\n",
       "      <th>floor_category</th>\n",
       "      <th>cityCenters_nearest_km</th>\n",
       "    </tr>\n",
       "  </thead>\n",
       "  <tbody>\n",
       "    <tr>\n",
       "      <th>0</th>\n",
       "      <td>20</td>\n",
       "      <td>13000000.0</td>\n",
       "      <td>108.00</td>\n",
       "      <td>2019-03-07</td>\n",
       "      <td>3</td>\n",
       "      <td>2.70</td>\n",
       "      <td>16.0</td>\n",
       "      <td>51.0</td>\n",
       "      <td>8</td>\n",
       "      <td>NaN</td>\n",
       "      <td>...</td>\n",
       "      <td>2.0</td>\n",
       "      <td>755.0</td>\n",
       "      <td>NaN</td>\n",
       "      <td>XL</td>\n",
       "      <td>120370.37</td>\n",
       "      <td>3</td>\n",
       "      <td>3</td>\n",
       "      <td>2019</td>\n",
       "      <td>другой</td>\n",
       "      <td>16.0</td>\n",
       "    </tr>\n",
       "    <tr>\n",
       "      <th>1</th>\n",
       "      <td>7</td>\n",
       "      <td>3350000.0</td>\n",
       "      <td>40.40</td>\n",
       "      <td>2018-12-04</td>\n",
       "      <td>1</td>\n",
       "      <td>NaN</td>\n",
       "      <td>11.0</td>\n",
       "      <td>18.6</td>\n",
       "      <td>1</td>\n",
       "      <td>NaN</td>\n",
       "      <td>...</td>\n",
       "      <td>0.0</td>\n",
       "      <td>NaN</td>\n",
       "      <td>81.0</td>\n",
       "      <td>M</td>\n",
       "      <td>82920.79</td>\n",
       "      <td>1</td>\n",
       "      <td>12</td>\n",
       "      <td>2018</td>\n",
       "      <td>первый</td>\n",
       "      <td>19.0</td>\n",
       "    </tr>\n",
       "    <tr>\n",
       "      <th>2</th>\n",
       "      <td>10</td>\n",
       "      <td>5196000.0</td>\n",
       "      <td>56.00</td>\n",
       "      <td>2015-08-20</td>\n",
       "      <td>2</td>\n",
       "      <td>NaN</td>\n",
       "      <td>5.0</td>\n",
       "      <td>34.3</td>\n",
       "      <td>4</td>\n",
       "      <td>NaN</td>\n",
       "      <td>...</td>\n",
       "      <td>2.0</td>\n",
       "      <td>574.0</td>\n",
       "      <td>558.0</td>\n",
       "      <td>L</td>\n",
       "      <td>92785.71</td>\n",
       "      <td>3</td>\n",
       "      <td>8</td>\n",
       "      <td>2015</td>\n",
       "      <td>другой</td>\n",
       "      <td>14.0</td>\n",
       "    </tr>\n",
       "    <tr>\n",
       "      <th>3</th>\n",
       "      <td>0</td>\n",
       "      <td>64900000.0</td>\n",
       "      <td>159.00</td>\n",
       "      <td>2015-07-24</td>\n",
       "      <td>3</td>\n",
       "      <td>NaN</td>\n",
       "      <td>14.0</td>\n",
       "      <td>45.0</td>\n",
       "      <td>9</td>\n",
       "      <td>NaN</td>\n",
       "      <td>...</td>\n",
       "      <td>3.0</td>\n",
       "      <td>234.0</td>\n",
       "      <td>424.0</td>\n",
       "      <td>XL</td>\n",
       "      <td>408176.10</td>\n",
       "      <td>4</td>\n",
       "      <td>7</td>\n",
       "      <td>2015</td>\n",
       "      <td>другой</td>\n",
       "      <td>7.0</td>\n",
       "    </tr>\n",
       "    <tr>\n",
       "      <th>4</th>\n",
       "      <td>2</td>\n",
       "      <td>10000000.0</td>\n",
       "      <td>100.00</td>\n",
       "      <td>2018-06-19</td>\n",
       "      <td>2</td>\n",
       "      <td>3.03</td>\n",
       "      <td>14.0</td>\n",
       "      <td>32.0</td>\n",
       "      <td>13</td>\n",
       "      <td>NaN</td>\n",
       "      <td>...</td>\n",
       "      <td>1.0</td>\n",
       "      <td>48.0</td>\n",
       "      <td>121.0</td>\n",
       "      <td>XL</td>\n",
       "      <td>100000.00</td>\n",
       "      <td>1</td>\n",
       "      <td>6</td>\n",
       "      <td>2018</td>\n",
       "      <td>другой</td>\n",
       "      <td>8.0</td>\n",
       "    </tr>\n",
       "    <tr>\n",
       "      <th>...</th>\n",
       "      <td>...</td>\n",
       "      <td>...</td>\n",
       "      <td>...</td>\n",
       "      <td>...</td>\n",
       "      <td>...</td>\n",
       "      <td>...</td>\n",
       "      <td>...</td>\n",
       "      <td>...</td>\n",
       "      <td>...</td>\n",
       "      <td>...</td>\n",
       "      <td>...</td>\n",
       "      <td>...</td>\n",
       "      <td>...</td>\n",
       "      <td>...</td>\n",
       "      <td>...</td>\n",
       "      <td>...</td>\n",
       "      <td>...</td>\n",
       "      <td>...</td>\n",
       "      <td>...</td>\n",
       "      <td>...</td>\n",
       "      <td>...</td>\n",
       "    </tr>\n",
       "    <tr>\n",
       "      <th>23694</th>\n",
       "      <td>9</td>\n",
       "      <td>9700000.0</td>\n",
       "      <td>133.81</td>\n",
       "      <td>2017-03-21</td>\n",
       "      <td>3</td>\n",
       "      <td>3.70</td>\n",
       "      <td>5.0</td>\n",
       "      <td>73.3</td>\n",
       "      <td>3</td>\n",
       "      <td>NaN</td>\n",
       "      <td>...</td>\n",
       "      <td>3.0</td>\n",
       "      <td>381.0</td>\n",
       "      <td>NaN</td>\n",
       "      <td>XL</td>\n",
       "      <td>72490.85</td>\n",
       "      <td>1</td>\n",
       "      <td>3</td>\n",
       "      <td>2017</td>\n",
       "      <td>другой</td>\n",
       "      <td>4.0</td>\n",
       "    </tr>\n",
       "    <tr>\n",
       "      <th>23695</th>\n",
       "      <td>14</td>\n",
       "      <td>3100000.0</td>\n",
       "      <td>59.00</td>\n",
       "      <td>2018-01-15</td>\n",
       "      <td>3</td>\n",
       "      <td>NaN</td>\n",
       "      <td>5.0</td>\n",
       "      <td>38.0</td>\n",
       "      <td>4</td>\n",
       "      <td>NaN</td>\n",
       "      <td>...</td>\n",
       "      <td>NaN</td>\n",
       "      <td>NaN</td>\n",
       "      <td>45.0</td>\n",
       "      <td>L</td>\n",
       "      <td>52542.37</td>\n",
       "      <td>0</td>\n",
       "      <td>1</td>\n",
       "      <td>2018</td>\n",
       "      <td>другой</td>\n",
       "      <td>NaN</td>\n",
       "    </tr>\n",
       "    <tr>\n",
       "      <th>23696</th>\n",
       "      <td>18</td>\n",
       "      <td>2500000.0</td>\n",
       "      <td>56.70</td>\n",
       "      <td>2018-02-11</td>\n",
       "      <td>2</td>\n",
       "      <td>NaN</td>\n",
       "      <td>3.0</td>\n",
       "      <td>29.7</td>\n",
       "      <td>1</td>\n",
       "      <td>NaN</td>\n",
       "      <td>...</td>\n",
       "      <td>NaN</td>\n",
       "      <td>NaN</td>\n",
       "      <td>NaN</td>\n",
       "      <td>L</td>\n",
       "      <td>44091.71</td>\n",
       "      <td>6</td>\n",
       "      <td>2</td>\n",
       "      <td>2018</td>\n",
       "      <td>первый</td>\n",
       "      <td>NaN</td>\n",
       "    </tr>\n",
       "    <tr>\n",
       "      <th>23697</th>\n",
       "      <td>13</td>\n",
       "      <td>11475000.0</td>\n",
       "      <td>76.75</td>\n",
       "      <td>2017-03-28</td>\n",
       "      <td>2</td>\n",
       "      <td>3.00</td>\n",
       "      <td>17.0</td>\n",
       "      <td>30.5</td>\n",
       "      <td>12</td>\n",
       "      <td>NaN</td>\n",
       "      <td>...</td>\n",
       "      <td>3.0</td>\n",
       "      <td>196.0</td>\n",
       "      <td>602.0</td>\n",
       "      <td>XL</td>\n",
       "      <td>149511.40</td>\n",
       "      <td>1</td>\n",
       "      <td>3</td>\n",
       "      <td>2017</td>\n",
       "      <td>другой</td>\n",
       "      <td>10.0</td>\n",
       "    </tr>\n",
       "    <tr>\n",
       "      <th>23698</th>\n",
       "      <td>4</td>\n",
       "      <td>1350000.0</td>\n",
       "      <td>32.30</td>\n",
       "      <td>2017-07-21</td>\n",
       "      <td>1</td>\n",
       "      <td>2.50</td>\n",
       "      <td>5.0</td>\n",
       "      <td>12.3</td>\n",
       "      <td>1</td>\n",
       "      <td>NaN</td>\n",
       "      <td>...</td>\n",
       "      <td>NaN</td>\n",
       "      <td>NaN</td>\n",
       "      <td>NaN</td>\n",
       "      <td>S</td>\n",
       "      <td>41795.67</td>\n",
       "      <td>4</td>\n",
       "      <td>7</td>\n",
       "      <td>2017</td>\n",
       "      <td>первый</td>\n",
       "      <td>NaN</td>\n",
       "    </tr>\n",
       "  </tbody>\n",
       "</table>\n",
       "<p>23565 rows × 29 columns</p>\n",
       "</div>"
      ],
      "text/plain": [
       "       total_images  last_price  total_area first_day_exposition  rooms  \\\n",
       "0                20  13000000.0      108.00           2019-03-07      3   \n",
       "1                 7   3350000.0       40.40           2018-12-04      1   \n",
       "2                10   5196000.0       56.00           2015-08-20      2   \n",
       "3                 0  64900000.0      159.00           2015-07-24      3   \n",
       "4                 2  10000000.0      100.00           2018-06-19      2   \n",
       "...             ...         ...         ...                  ...    ...   \n",
       "23694             9   9700000.0      133.81           2017-03-21      3   \n",
       "23695            14   3100000.0       59.00           2018-01-15      3   \n",
       "23696            18   2500000.0       56.70           2018-02-11      2   \n",
       "23697            13  11475000.0       76.75           2017-03-28      2   \n",
       "23698             4   1350000.0       32.30           2017-07-21      1   \n",
       "\n",
       "       ceiling_height  floors_total  living_area  floor is_apartment  ...  \\\n",
       "0                2.70          16.0         51.0      8          NaN  ...   \n",
       "1                 NaN          11.0         18.6      1          NaN  ...   \n",
       "2                 NaN           5.0         34.3      4          NaN  ...   \n",
       "3                 NaN          14.0         45.0      9          NaN  ...   \n",
       "4                3.03          14.0         32.0     13          NaN  ...   \n",
       "...               ...           ...          ...    ...          ...  ...   \n",
       "23694            3.70           5.0         73.3      3          NaN  ...   \n",
       "23695             NaN           5.0         38.0      4          NaN  ...   \n",
       "23696             NaN           3.0         29.7      1          NaN  ...   \n",
       "23697            3.00          17.0         30.5     12          NaN  ...   \n",
       "23698            2.50           5.0         12.3      1          NaN  ...   \n",
       "\n",
       "       ponds_around3000  ponds_nearest  days_exposition  total_area_size  \\\n",
       "0                   2.0          755.0              NaN               XL   \n",
       "1                   0.0            NaN             81.0                M   \n",
       "2                   2.0          574.0            558.0                L   \n",
       "3                   3.0          234.0            424.0               XL   \n",
       "4                   1.0           48.0            121.0               XL   \n",
       "...                 ...            ...              ...              ...   \n",
       "23694               3.0          381.0              NaN               XL   \n",
       "23695               NaN            NaN             45.0                L   \n",
       "23696               NaN            NaN              NaN                L   \n",
       "23697               3.0          196.0            602.0               XL   \n",
       "23698               NaN            NaN              NaN                S   \n",
       "\n",
       "      price_per_square_meter  weekday_exposition  month_exposition  \\\n",
       "0                  120370.37                   3                 3   \n",
       "1                   82920.79                   1                12   \n",
       "2                   92785.71                   3                 8   \n",
       "3                  408176.10                   4                 7   \n",
       "4                  100000.00                   1                 6   \n",
       "...                      ...                 ...               ...   \n",
       "23694               72490.85                   1                 3   \n",
       "23695               52542.37                   0                 1   \n",
       "23696               44091.71                   6                 2   \n",
       "23697              149511.40                   1                 3   \n",
       "23698               41795.67                   4                 7   \n",
       "\n",
       "       year_exposition  floor_category  cityCenters_nearest_km  \n",
       "0                 2019          другой                    16.0  \n",
       "1                 2018          первый                    19.0  \n",
       "2                 2015          другой                    14.0  \n",
       "3                 2015          другой                     7.0  \n",
       "4                 2018          другой                     8.0  \n",
       "...                ...             ...                     ...  \n",
       "23694             2017          другой                     4.0  \n",
       "23695             2018          другой                     NaN  \n",
       "23696             2018          первый                     NaN  \n",
       "23697             2017          другой                    10.0  \n",
       "23698             2017          первый                     NaN  \n",
       "\n",
       "[23565 rows x 29 columns]"
      ]
     },
     "execution_count": 10,
     "metadata": {},
     "output_type": "execute_result"
    }
   ],
   "source": [
    "#посчитаем цену квадратного метра\n",
    "data['price_per_square_meter'] = data['last_price'] / data['total_area']\n",
    "\n",
    "#для удобства просмотра приведем к типу int\n",
    "data['price_per_square_meter'] = data['price_per_square_meter'].astype('float').round(2)\n",
    "\n",
    "#создадим столбец дня недели\n",
    "data['weekday_exposition'] = data['first_day_exposition'].dt.weekday\n",
    "\n",
    "#создадим столбец месяца\n",
    "data['month_exposition'] = data['first_day_exposition'].dt.month\n",
    "\n",
    "#создадим столбец года\n",
    "data['year_exposition'] = data['first_day_exposition'].dt.year\n",
    "\n",
    "#напишем функцию категоризации по этажам, используя метод apply применимо к каждой строке датафрейма через axis = 1\n",
    "def floor_category(row):\n",
    "    floors_total = row['floors_total']\n",
    "    floor = row['floor']\n",
    "    if floor == 1:\n",
    "        return 'первый'\n",
    "    elif floor == floors_total:\n",
    "        return 'последний'\n",
    "    elif 1 < floor < floors_total:\n",
    "        return 'другой'\n",
    "    \n",
    "#категоризуем этажи с помощью функции  \n",
    "data['floor_category'] = data.apply(floor_category, axis = 1)\n",
    "\n",
    "#добавим столбец с расстоянием до центра города в километрах\n",
    "data['cityCenters_nearest_km'] = (data['cityCenters_nearest'] / 1000).round(0)\n",
    "data"
   ]
  },
  {
   "cell_type": "markdown",
   "metadata": {},
   "source": [
    "**Вывод:**\n",
    "Посчитали и добавили в таблицу новые столбцы:\n",
    "1. цену квадратного метра;\n",
    "2. день недели, месяц и год публикации объявления;\n",
    "3. этаж квартиры; варианты — первый, последний, другой;\n",
    "4. расстояние до центра города в километрах"
   ]
  },
  {
   "cell_type": "code",
   "execution_count": 11,
   "metadata": {},
   "outputs": [
    {
     "data": {
      "text/plain": [
       "<AxesSubplot:xlabel='year_exposition', ylabel='days_exposition'>"
      ]
     },
     "execution_count": 11,
     "metadata": {},
     "output_type": "execute_result"
    },
    {
     "data": {
      "image/png": "[encoded data removed]",
      "text/plain": [
       "<Figure size 216x360 with 1 Axes>"
      ]
     },
     "metadata": {
      "needs_background": "light"
     },
     "output_type": "display_data"
    }
   ],
   "source": [
    "#рассмотрим распределение пропусков в столбце days_exposition относительно year_exposition\n",
    "data.plot(x = 'year_exposition', y= 'days_exposition', kind = 'scatter', figsize= (3,5))"
   ]
  },
  {
   "cell_type": "markdown",
   "metadata": {},
   "source": [
    "<div class=\"alert alert-success\">\n",
    "\n",
    "**✔️ Комментарий ревьюера ✔️**\n",
    "   \n",
    "   В данном блоке все верно\n",
    "\n",
    "</div>\n"
   ]
  },
  {
   "cell_type": "markdown",
   "metadata": {},
   "source": [
    "### Проведите исследовательский анализ данных"
   ]
  },
  {
   "cell_type": "markdown",
   "metadata": {},
   "source": [
    "**1. Изучите следующие параметры: общая и жилая площадь, площадь кухни, цена, число комнат, высота потолков, тип этажа квартиры, общее количество этажей в доме, расстояние до центра города в метрах, расстояние до ближайшего парка. Постройте гистограммы для каждого параметра.**"
   ]
  },
  {
   "cell_type": "code",
   "execution_count": 12,
   "metadata": {},
   "outputs": [
    {
     "data": {
      "text/plain": [
       "count    23565.000000\n",
       "mean        60.322824\n",
       "std         35.657060\n",
       "min         12.000000\n",
       "25%         40.000000\n",
       "50%         52.000000\n",
       "75%         69.700000\n",
       "max        900.000000\n",
       "Name: total_area, dtype: float64"
      ]
     },
     "execution_count": 12,
     "metadata": {},
     "output_type": "execute_result"
    },
    {
     "data": {
      "image/png": "[encoded data removed]",
      "text/plain": [
       "<Figure size 360x216 with 1 Axes>"
      ]
     },
     "metadata": {
      "needs_background": "light"
     },
     "output_type": "display_data"
    }
   ],
   "source": [
    "#изучим общую площадь\n",
    "data\n",
    "data.plot(y = 'total_area', kind = 'hist', bins = 100, grid=True, figsize = (5,3), range = (0,900))\n",
    "data['total_area'].describe()"
   ]
  },
  {
   "cell_type": "markdown",
   "metadata": {},
   "source": [
    "**Вывод:**\n",
    "Общая площадь в нашей выборке колеблется от 12 до 900 м2, среднее значение 60, а медиана 52 м2. Распределение данных Гаусса."
   ]
  },
  {
   "cell_type": "code",
   "execution_count": 13,
   "metadata": {},
   "outputs": [
    {
     "data": {
      "text/plain": [
       "count    23565.000000\n",
       "mean        34.324326\n",
       "std         21.721235\n",
       "min          2.000000\n",
       "25%         18.400000\n",
       "50%         30.300000\n",
       "75%         42.700000\n",
       "max        409.700000\n",
       "Name: living_area, dtype: float64"
      ]
     },
     "execution_count": 13,
     "metadata": {},
     "output_type": "execute_result"
    },
    {
     "data": {
      "image/png": "[encoded data removed]",
      "text/plain": [
       "<Figure size 360x216 with 1 Axes>"
      ]
     },
     "metadata": {
      "needs_background": "light"
     },
     "output_type": "display_data"
    }
   ],
   "source": [
    "#жилая площадь\n",
    "data\n",
    "data.plot(y='living_area', kind='hist', bins=100, grid=True, figsize=(5,3), range=(0,450))\n",
    "data['living_area'].describe()"
   ]
  },
  {
   "cell_type": "markdown",
   "metadata": {},
   "source": [
    "**Вывод:**\n",
    "Жилая площадь в нашей выборке колеблется от 2 до 409 м2, среднее значение 34, а медиана 30 м2."
   ]
  },
  {
   "cell_type": "code",
   "execution_count": 14,
   "metadata": {},
   "outputs": [
    {
     "data": {
      "text/plain": [
       "count    23565.000000\n",
       "mean        10.444677\n",
       "std          5.657394\n",
       "min          1.300000\n",
       "25%          7.300000\n",
       "50%          9.000000\n",
       "75%         12.000000\n",
       "max        112.000000\n",
       "Name: kitchen_area, dtype: float64"
      ]
     },
     "execution_count": 14,
     "metadata": {},
     "output_type": "execute_result"
    },
    {
     "data": {
      "image/png": "[encoded data removed]",
      "text/plain": [
       "<Figure size 360x216 with 1 Axes>"
      ]
     },
     "metadata": {
      "needs_background": "light"
     },
     "output_type": "display_data"
    }
   ],
   "source": [
    "#площадь кухни\n",
    "data\n",
    "data.plot(y='kitchen_area', kind='hist', bins=100, grid=True, figsize=(5,3), range=(0,150))\n",
    "data['kitchen_area'].describe()"
   ]
  },
  {
   "cell_type": "markdown",
   "metadata": {},
   "source": [
    "**Вывод:**\n",
    "Площадь кухни в нашей выборке колеблется от 1 до 112 м2, среднее значение 10, а медиана 9 м2."
   ]
  },
  {
   "cell_type": "code",
   "execution_count": 15,
   "metadata": {},
   "outputs": [
    {
     "data": {
      "text/plain": [
       "count              23,565.00\n",
       "mean            6,540,058.26\n",
       "std            10,910,934.72\n",
       "min                12,190.00\n",
       "25%             3,400,000.00\n",
       "50%             4,646,000.00\n",
       "75%             6,790,000.00\n",
       "max           763,000,000.00\n",
       "Name: last_price, dtype: float64"
      ]
     },
     "execution_count": 15,
     "metadata": {},
     "output_type": "execute_result"
    },
    {
     "data": {
      "image/png": "[encoded data removed]",
      "text/plain": [
       "<Figure size 360x216 with 1 Axes>"
      ]
     },
     "metadata": {
      "needs_background": "light"
     },
     "output_type": "display_data"
    }
   ],
   "source": [
    "#изучим цен\n",
    "#data['last_price'] = data['last_price']/1000000\n",
    "pd.options.display.float_format = '{:20,.2f}'.format\n",
    "data.plot(y = 'last_price', kind = 'hist', bins = 100, grid=True, range = (0,15000000), figsize = (5,3))\n",
    "data['last_price'].describe()"
   ]
  },
  {
   "cell_type": "markdown",
   "metadata": {},
   "source": [
    "**Вывод:**\n",
    "Цены на недвижимость в нашей выборке имеют среднее значение в 6,5 млн руб., медиана 4,6 млн руб. Распределение данных Гаусса."
   ]
  },
  {
   "cell_type": "code",
   "execution_count": 16,
   "metadata": {},
   "outputs": [
    {
     "data": {
      "text/plain": [
       "count              23,565.00\n",
       "mean                    2.07\n",
       "std                     1.08\n",
       "min                     0.00\n",
       "25%                     1.00\n",
       "50%                     2.00\n",
       "75%                     3.00\n",
       "max                    19.00\n",
       "Name: rooms, dtype: float64"
      ]
     },
     "execution_count": 16,
     "metadata": {},
     "output_type": "execute_result"
    },
    {
     "data": {
      "image/png": "[encoded data removed]",
      "text/plain": [
       "<Figure size 360x216 with 1 Axes>"
      ]
     },
     "metadata": {
      "needs_background": "light"
     },
     "output_type": "display_data"
    }
   ],
   "source": [
    "#изучим число комнат\n",
    "data\n",
    "data.plot(y = 'rooms', kind = 'hist', bins = 30, grid=True, figsize = (5,3))\n",
    "data['rooms'].describe()"
   ]
  },
  {
   "cell_type": "markdown",
   "metadata": {},
   "source": [
    "**Вывод:**\n",
    "Количество комнат колеблется от 1 до 19. Больше всего однокомнатных квартир."
   ]
  },
  {
   "cell_type": "code",
   "execution_count": 17,
   "metadata": {},
   "outputs": [
    {
     "data": {
      "text/plain": [
       "count              14,481.00\n",
       "mean                    2.71\n",
       "std                     0.30\n",
       "min                     0.41\n",
       "25%                     2.50\n",
       "50%                     2.65\n",
       "75%                     2.80\n",
       "max                    10.00\n",
       "Name: ceiling_height, dtype: float64"
      ]
     },
     "execution_count": 17,
     "metadata": {},
     "output_type": "execute_result"
    },
    {
     "data": {
      "image/png": "[encoded data removed]",
      "text/plain": [
       "<Figure size 360x216 with 1 Axes>"
      ]
     },
     "metadata": {
      "needs_background": "light"
     },
     "output_type": "display_data"
    }
   ],
   "source": [
    "#изучим высоту потолков\n",
    "data\n",
    "data.plot(y = 'ceiling_height', kind = 'hist', bins = 30, range = (2,10), grid=True, figsize = (5,3))\n",
    "data['ceiling_height'].describe()"
   ]
  },
  {
   "cell_type": "markdown",
   "metadata": {},
   "source": [
    "**Вывод:**\n",
    "Высота потолков в среднем составляет 2,77 м, медиана 2,65 м."
   ]
  },
  {
   "cell_type": "code",
   "execution_count": 18,
   "metadata": {},
   "outputs": [
    {
     "data": {
      "text/plain": [
       "count      23565\n",
       "unique         3\n",
       "top       другой\n",
       "freq       17326\n",
       "Name: floor_category, dtype: object"
      ]
     },
     "execution_count": 18,
     "metadata": {},
     "output_type": "execute_result"
    },
    {
     "data": {
      "image/png": "[encoded data removed]",
      "text/plain": [
       "<Figure size 432x288 with 1 Axes>"
      ]
     },
     "metadata": {
      "needs_background": "light"
     },
     "output_type": "display_data"
    }
   ],
   "source": [
    "#изучим тип этажа квартиры\n",
    "data\n",
    "data.value_counts('floor_category').plot(y='floor_category', kind='bar', legend=False)\n",
    "data['floor_category'].describe()"
   ]
  },
  {
   "cell_type": "code",
   "execution_count": 19,
   "metadata": {},
   "outputs": [
    {
     "data": {
      "text/plain": [
       "count              23,565.00\n",
       "mean                   10.68\n",
       "std                     6.59\n",
       "min                     1.00\n",
       "25%                     5.00\n",
       "50%                     9.00\n",
       "75%                    16.00\n",
       "max                    60.00\n",
       "Name: floors_total, dtype: float64"
      ]
     },
     "execution_count": 19,
     "metadata": {},
     "output_type": "execute_result"
    },
    {
     "data": {
      "image/png": "[encoded data removed]",
      "text/plain": [
       "<Figure size 360x216 with 1 Axes>"
      ]
     },
     "metadata": {
      "needs_background": "light"
     },
     "output_type": "display_data"
    }
   ],
   "source": [
    "#общее количество этажей в доме\n",
    "data\n",
    "data.plot(y = 'floors_total', kind = 'hist', bins = 30, grid=True, figsize = (5,3))\n",
    "data['floors_total'].describe()"
   ]
  },
  {
   "cell_type": "markdown",
   "metadata": {},
   "source": [
    "**Вывод:**\n",
    "Количество этажей в нашей выборке находится в диапазоне от 1 до 60. Среднее количество этажей 10, а медиана 9."
   ]
  },
  {
   "cell_type": "code",
   "execution_count": 20,
   "metadata": {},
   "outputs": [
    {
     "data": {
      "text/plain": [
       "count              18,064.00\n",
       "mean               14,192.66\n",
       "std                 8,613.35\n",
       "min                   181.00\n",
       "25%                 9,238.00\n",
       "50%                13,096.50\n",
       "75%                16,285.00\n",
       "max                65,968.00\n",
       "Name: cityCenters_nearest, dtype: float64"
      ]
     },
     "execution_count": 20,
     "metadata": {},
     "output_type": "execute_result"
    },
    {
     "data": {
      "image/png": "[encoded data removed]",
      "text/plain": [
       "<Figure size 360x216 with 1 Axes>"
      ]
     },
     "metadata": {
      "needs_background": "light"
     },
     "output_type": "display_data"
    }
   ],
   "source": [
    "#расстояние до центра города\n",
    "data\n",
    "data.plot(y = 'cityCenters_nearest', kind = 'hist', bins = 30, grid=True, figsize = (5,3))\n",
    "data['cityCenters_nearest'].describe()"
   ]
  },
  {
   "cell_type": "markdown",
   "metadata": {},
   "source": [
    "**Вывод:**\n",
    "Расстояние до центра города колеблется от 181 до 65.968 метров. Среднее значение 14.192 метров, а медиана 13.096 метров."
   ]
  },
  {
   "cell_type": "code",
   "execution_count": 21,
   "metadata": {},
   "outputs": [
    {
     "data": {
      "text/plain": [
       "count               8,030.00\n",
       "mean                  490.58\n",
       "std                   341.57\n",
       "min                     1.00\n",
       "25%                   288.00\n",
       "50%                   455.00\n",
       "75%                   612.00\n",
       "max                 3,190.00\n",
       "Name: parks_nearest, dtype: float64"
      ]
     },
     "execution_count": 21,
     "metadata": {},
     "output_type": "execute_result"
    },
    {
     "data": {
      "image/png": "[encoded data removed]",
      "text/plain": [
       "<Figure size 360x216 with 1 Axes>"
      ]
     },
     "metadata": {
      "needs_background": "light"
     },
     "output_type": "display_data"
    }
   ],
   "source": [
    "#расстояние до ближайшего парка\n",
    "data\n",
    "data.plot(y = 'parks_nearest', kind = 'hist', bins = 30, grid=True, figsize = (5,3))\n",
    "data['parks_nearest'].describe()"
   ]
  },
  {
   "cell_type": "markdown",
   "metadata": {},
   "source": [
    "**Вывод:**\n",
    "Расстояние до ближайшего парка колеблется от 1 до 3190 метров. Среднее значение 490 метров, а медиана 455 метров."
   ]
  },
  {
   "cell_type": "markdown",
   "metadata": {},
   "source": [
    "<div class=\"alert alert-success\">\n",
    "✔️ Комментарий ревьюера ✔️\n",
    "\n",
    "Хороший результат. Хочу добавить, что обычно размеры двухкомнатных квартир составляют от 50 до 100 квадратных метров, что и соответствует проведенному анализу.\n",
    "\n",
    "Могу посоветовать на будущее хорошую статью по оформлению графиков:\n",
    "    https://devpractice.ru/matplotlib-lesson-3-3-text-elements/\n",
    "\n",
    "\n",
    "\n",
    "</div>"
   ]
  },
  {
   "cell_type": "markdown",
   "metadata": {},
   "source": [
    "<div class=\"alert alert-danger\">\n",
    "\n",
    "**❌ Комментарий ревьюера ❌**\n",
    "\n",
    "   Также важно посмотреть, какая доля от изначального количества данных осталась после фильтрации. Для этого рекомендую зафиксировать начальное количество данных в переменную с помощью метода shape, а затем использовать ее в рассчетах. Прикрепляю полезную ссылку: https://tonais.ru/library/poluchenie-formy-razmera-dataframe Обращаю внимание, что мы можем провести актуальный анализ, если у нас есть не менее 90 % от изначального числа данных\n",
    "\n",
    "</div>\n"
   ]
  },
  {
   "cell_type": "markdown",
   "metadata": {},
   "source": [
    "<div class=\"alert alert-block alert-info\">\n",
    "    \n",
    "исправил\n",
    "</div>"
   ]
  },
  {
   "cell_type": "code",
   "execution_count": 22,
   "metadata": {},
   "outputs": [
    {
     "name": "stdout",
     "output_type": "stream",
     "text": [
      "\n",
      "DataFrame Shape : (23565, 29)\n",
      "\n",
      "Number of rows : 23565\n",
      "\n",
      "Number of columns : 29\n"
     ]
    }
   ],
   "source": [
    "shape = data.shape \n",
    "print('\\nDataFrame Shape :', shape) \n",
    "print('\\nNumber of rows :', shape[0]) \n",
    "print('\\nNumber of columns :', shape[1])"
   ]
  },
  {
   "cell_type": "markdown",
   "metadata": {},
   "source": [
    "<div class=\"alert alert-success\">\n",
    "\n",
    "**✔️ Комментарий ревьюера v2✔️**\n",
    "   \n",
    "    Удалось сохранить почти все данные - это отличный результат👍\n",
    "\n",
    "</div>\n"
   ]
  },
  {
   "cell_type": "markdown",
   "metadata": {},
   "source": [
    "**2. Изучите время продажи квартиры. Постройте гистограмму. Посчитайте среднее и медиану. Опишите, сколько обычно занимает продажа. Когда можно считать, что продажи прошли очень быстро, а когда необычно долго?**"
   ]
  },
  {
   "cell_type": "code",
   "execution_count": 23,
   "metadata": {},
   "outputs": [
    {
     "name": "stdout",
     "output_type": "stream",
     "text": [
      "Index(['total_images', 'last_price', 'total_area', 'first_day_exposition',\n",
      "       'rooms', 'ceiling_height', 'floors_total', 'living_area', 'floor',\n",
      "       'is_apartment', 'studio', 'open_plan', 'kitchen_area', 'balcony',\n",
      "       'locality_name', 'airports_nearest', 'cityCenters_nearest',\n",
      "       'parks_around3000', 'parks_nearest', 'ponds_around3000',\n",
      "       'ponds_nearest', 'days_exposition', 'total_area_size',\n",
      "       'price_per_square_meter', 'weekday_exposition', 'month_exposition',\n",
      "       'year_exposition', 'floor_category', 'cityCenters_nearest_km'],\n",
      "      dtype='object')\n"
     ]
    },
    {
     "data": {
      "text/plain": [
       "count              20,394.00\n",
       "mean                  180.74\n",
       "std                   219.73\n",
       "min                     1.00\n",
       "25%                    45.00\n",
       "50%                    95.00\n",
       "75%                   231.00\n",
       "max                 1,580.00\n",
       "Name: days_exposition, dtype: float64"
      ]
     },
     "execution_count": 23,
     "metadata": {},
     "output_type": "execute_result"
    },
    {
     "data": {
      "image/png": "[encoded data removed]",
      "text/plain": [
       "<Figure size 432x288 with 1 Axes>"
      ]
     },
     "metadata": {
      "needs_background": "light"
     },
     "output_type": "display_data"
    },
    {
     "data": {
      "image/png": "[encoded data removed]",
      "text/plain": [
       "<Figure size 432x288 with 1 Axes>"
      ]
     },
     "metadata": {
      "needs_background": "light"
     },
     "output_type": "display_data"
    },
    {
     "data": {
      "image/png": "[encoded data removed]",
      "text/plain": [
       "<Figure size 432x288 with 1 Axes>"
      ]
     },
     "metadata": {
      "needs_background": "light"
     },
     "output_type": "display_data"
    }
   ],
   "source": [
    "print(data.columns)\n",
    "\n",
    "plt.boxplot(data[data['days_exposition']!=0]['days_exposition'])\n",
    "plt.ylim(1,1000)\n",
    "\n",
    "data.plot(y = 'days_exposition', kind = 'hist', bins = 30, grid = True, range = (1,1600))\n",
    "data.plot(y = 'days_exposition', kind = 'hist', bins = 100, grid = True, range = (1,200))\n",
    "\n",
    "#среднее значение, медиана и межквартильный размах\n",
    "data[data['days_exposition']!=0]['days_exposition'].describe()\n",
    "#data[data['days_exposition']!=0]['days_exposition'].value_counts()"
   ]
  },
  {
   "cell_type": "markdown",
   "metadata": {},
   "source": [
    "**Вывод:**\n",
    "Судя по гистограмме - мы имеем распределение Пуассона. Среднее значение - 180 дней, а медиана - 95 дней. Сделав гистограмму со значениями от 0 до 200 с кол-вом корзин 100, обнаружили выбивающиеся значения и методом value_counts убедились в этом - у нас аномалии на 45, 60, 7, 30, 90 днях - это наиболее популярное количество дней до снятия объявления."
   ]
  },
  {
   "cell_type": "markdown",
   "metadata": {},
   "source": [
    "<div class=\"alert alert-success\">\n",
    "\n",
    "**✔️ Комментарий ревьюера ✔️**\n",
    "   \n",
    "   \n",
    "   \n",
    "\n",
    "\n",
    "   \n",
    "   На гистограмме действительно заметны пики примерно через 45, 60 и 90 дней после начала продажи. Можно посмотреть на условия размещения объявлений в Яндекс.Недвижимости - https://yandex.ru/support/realty/owner/home/add-ads-housing.html С учетом того, что после формирования датасета правила размещения поменялись, эти пики являются следами автоматического снятия объявлений - поэтому оценивать скорость продажи стоит действительно по диаграмме размаха\n",
    "\n",
    "</div>"
   ]
  },
  {
   "cell_type": "markdown",
   "metadata": {},
   "source": [
    "**3. Какие факторы больше всего влияют на стоимость квартиры? Изучите, зависит ли цена от общей площади квартиры, жилой площади, площади кухни, количества комнат, этажа (первого или последнего). Также изучите зависимость от даты размещения: дня недели, месяца и года.**"
   ]
  },
  {
   "cell_type": "markdown",
   "metadata": {},
   "source": [
    "**Изучим зависимость цены от общей площади квартиры.**"
   ]
  },
  {
   "cell_type": "markdown",
   "metadata": {},
   "source": [
    "<div class=\"alert alert-danger\">\n",
    "\n",
    "**❌ Комментарий ревьюера ❌**\n",
    "\n",
    "   По заданию, нам нужно проанализировать полную стоимость квартир, а не цену квадратного метра. (Какие факторы больше всего влияют на **стоимость** квартиры?) Исследование зависимости цены за квадрат тоже оставь - оно полное и наглядное.😉\n",
    "</div>"
   ]
  },
  {
   "cell_type": "markdown",
   "metadata": {},
   "source": [
    "<div class=\"alert alert-block alert-info\">\n",
    "    \n",
    "Прошу прощения - невнимательность. Всё исправил \n",
    "</div>"
   ]
  },
  {
   "cell_type": "code",
   "execution_count": 24,
   "metadata": {},
   "outputs": [
    {
     "data": {
      "text/plain": [
       "0.6536213939252808"
      ]
     },
     "execution_count": 24,
     "metadata": {},
     "output_type": "execute_result"
    },
    {
     "data": {
      "image/png": "[encoded data removed]",
      "text/plain": [
       "<Figure size 432x288 with 1 Axes>"
      ]
     },
     "metadata": {
      "needs_background": "light"
     },
     "output_type": "display_data"
    }
   ],
   "source": [
    "pivot_table_total_area = data.pivot_table(index = 'total_area', values = 'last_price', aggfunc = ['mean', 'count', 'median'])\n",
    "pivot_table_total_area.columns = ['mean', 'count', 'median']\n",
    "pivot_table_total_area.plot(y = 'median', style = 'o')\n",
    "\n",
    "pivot_table_total_area.sort_values('median', ascending = False)\n",
    " \n",
    "    \n",
    "data['total_area'].corr(data['last_price'])"
   ]
  },
  {
   "cell_type": "markdown",
   "metadata": {},
   "source": [
    "**Вывод:** видим, что зависимость  - согласно корреляции Пирсона - 0.6. То есть, чем больше площадь тем выше стоимость."
   ]
  },
  {
   "cell_type": "markdown",
   "metadata": {},
   "source": [
    "**Изучим зависимость цены от жилой площади.**"
   ]
  },
  {
   "cell_type": "code",
   "execution_count": 25,
   "metadata": {},
   "outputs": [
    {
     "data": {
      "text/plain": [
       "0.5560540213128099"
      ]
     },
     "execution_count": 25,
     "metadata": {},
     "output_type": "execute_result"
    },
    {
     "data": {
      "image/png": "[encoded data removed]",
      "text/plain": [
       "<Figure size 432x288 with 1 Axes>"
      ]
     },
     "metadata": {
      "needs_background": "light"
     },
     "output_type": "display_data"
    }
   ],
   "source": [
    "pivot_table_living_area = data.pivot_table(index = 'living_area', values = 'last_price', aggfunc = ['mean', 'count', 'median'])\n",
    "pivot_table_living_area.columns = ['mean', 'count', 'median']\n",
    "pivot_table_living_area.plot(y = 'median', style = 'o')\n",
    "\n",
    "pivot_table_living_area.sort_values('median', ascending = False)\n",
    "\n",
    "data['living_area'].corr(data['last_price'])"
   ]
  },
  {
   "cell_type": "markdown",
   "metadata": {},
   "source": [
    "**Вывод:** видим, что зависимость очень слабая - согласно корреляции Пирсона - 0.5. То есть, чем больше жилая площадь тем выше стоимость."
   ]
  },
  {
   "cell_type": "markdown",
   "metadata": {},
   "source": [
    "**Изучим зависимость цены от площади кухни.**"
   ]
  },
  {
   "cell_type": "code",
   "execution_count": 26,
   "metadata": {},
   "outputs": [
    {
     "data": {
      "text/plain": [
       "0.45388402121274435"
      ]
     },
     "execution_count": 26,
     "metadata": {},
     "output_type": "execute_result"
    },
    {
     "data": {
      "image/png": "[encoded data removed]",
      "text/plain": [
       "<Figure size 432x288 with 1 Axes>"
      ]
     },
     "metadata": {
      "needs_background": "light"
     },
     "output_type": "display_data"
    }
   ],
   "source": [
    "pivot_table_kitchen_area = data.pivot_table(index = 'kitchen_area', values = 'last_price', aggfunc = ['mean', 'count', 'median'])\n",
    "pivot_table_kitchen_area.columns = ['mean', 'count', 'median']\n",
    "pivot_table_kitchen_area.plot(y = 'median', style = 'o')\n",
    "\n",
    "pivot_table_kitchen_area.sort_values('median', ascending = False)\n",
    "\n",
    "data['kitchen_area'].corr(data['last_price'])"
   ]
  },
  {
   "cell_type": "markdown",
   "metadata": {},
   "source": [
    "**Вывод:** видим, что зависимость слабая - согласно корреляции Пирсона - 0.4. То есть, чем больше площадь кухни тем немного выше стоимость."
   ]
  },
  {
   "cell_type": "markdown",
   "metadata": {},
   "source": [
    "**Изучим зависимость цены от количества комнат.**"
   ]
  },
  {
   "cell_type": "code",
   "execution_count": 27,
   "metadata": {},
   "outputs": [
    {
     "data": {
      "text/plain": [
       "0.3631905485065752"
      ]
     },
     "execution_count": 27,
     "metadata": {},
     "output_type": "execute_result"
    },
    {
     "data": {
      "image/png": "[encoded data removed]",
      "text/plain": [
       "<Figure size 432x288 with 1 Axes>"
      ]
     },
     "metadata": {
      "needs_background": "light"
     },
     "output_type": "display_data"
    }
   ],
   "source": [
    "pivot_table_rooms = data.pivot_table(index = 'rooms', values = 'last_price', aggfunc = ['mean', 'count', 'median'])\n",
    "pivot_table_rooms.columns = ['mean', 'count', 'median']\n",
    "pivot_table_rooms.query('count > 50').plot(y = 'median')\n",
    "\n",
    "pivot_table_rooms.query('count > 50').sort_values('median', ascending = False)\n",
    "\n",
    "data['rooms'].corr(data['last_price'])"
   ]
  },
  {
   "cell_type": "markdown",
   "metadata": {},
   "source": [
    "**Вывод:** чем больше количество комнат, тем выше стоимость."
   ]
  },
  {
   "cell_type": "markdown",
   "metadata": {},
   "source": [
    "**Изучим зависимость цены от этажа (первого, последнего, другого).**"
   ]
  },
  {
   "cell_type": "code",
   "execution_count": 28,
   "metadata": {
    "scrolled": true
   },
   "outputs": [
    {
     "data": {
      "text/html": [
       "<div>\n",
       "<style scoped>\n",
       "    .dataframe tbody tr th:only-of-type {\n",
       "        vertical-align: middle;\n",
       "    }\n",
       "\n",
       "    .dataframe tbody tr th {\n",
       "        vertical-align: top;\n",
       "    }\n",
       "\n",
       "    .dataframe thead th {\n",
       "        text-align: right;\n",
       "    }\n",
       "</style>\n",
       "<table border=\"1\" class=\"dataframe\">\n",
       "  <thead>\n",
       "    <tr style=\"text-align: right;\">\n",
       "      <th></th>\n",
       "      <th>mean</th>\n",
       "      <th>count</th>\n",
       "      <th>median</th>\n",
       "    </tr>\n",
       "    <tr>\n",
       "      <th>floor_category</th>\n",
       "      <th></th>\n",
       "      <th></th>\n",
       "      <th></th>\n",
       "    </tr>\n",
       "  </thead>\n",
       "  <tbody>\n",
       "    <tr>\n",
       "      <th>другой</th>\n",
       "      <td>6,674,348.90</td>\n",
       "      <td>17326</td>\n",
       "      <td>4,848,500.00</td>\n",
       "    </tr>\n",
       "    <tr>\n",
       "      <th>первый</th>\n",
       "      <td>4,802,603.99</td>\n",
       "      <td>2909</td>\n",
       "      <td>3,900,000.00</td>\n",
       "    </tr>\n",
       "    <tr>\n",
       "      <th>последний</th>\n",
       "      <td>7,359,137.80</td>\n",
       "      <td>3330</td>\n",
       "      <td>4,300,000.00</td>\n",
       "    </tr>\n",
       "  </tbody>\n",
       "</table>\n",
       "</div>"
      ],
      "text/plain": [
       "                               mean  count               median\n",
       "floor_category                                                 \n",
       "другой                 6,674,348.90  17326         4,848,500.00\n",
       "первый                 4,802,603.99   2909         3,900,000.00\n",
       "последний              7,359,137.80   3330         4,300,000.00"
      ]
     },
     "execution_count": 28,
     "metadata": {},
     "output_type": "execute_result"
    },
    {
     "data": {
      "image/png": "[encoded data removed]",
      "text/plain": [
       "<Figure size 432x288 with 1 Axes>"
      ]
     },
     "metadata": {
      "needs_background": "light"
     },
     "output_type": "display_data"
    }
   ],
   "source": [
    "pivot_table_floor_category = data.pivot_table(index = 'floor_category', values = 'last_price', aggfunc = ['mean', 'count', 'median'])\n",
    "pivot_table_floor_category.columns = ['mean', 'count', 'median']\n",
    "pivot_table_floor_category.plot(y = 'median')\n",
    "pivot_table_floor_category"
   ]
  },
  {
   "cell_type": "markdown",
   "metadata": {},
   "source": [
    "**Вывод:** Согласно медиане - как правило квартиры на первом этаже дешевле квартир на последнем этаже - в среднем на 10%."
   ]
  },
  {
   "cell_type": "markdown",
   "metadata": {},
   "source": [
    "**Изучим зависимость цены от даты размещения: дня недели.**"
   ]
  },
  {
   "cell_type": "code",
   "execution_count": 29,
   "metadata": {},
   "outputs": [
    {
     "data": {
      "text/html": [
       "<div>\n",
       "<style scoped>\n",
       "    .dataframe tbody tr th:only-of-type {\n",
       "        vertical-align: middle;\n",
       "    }\n",
       "\n",
       "    .dataframe tbody tr th {\n",
       "        vertical-align: top;\n",
       "    }\n",
       "\n",
       "    .dataframe thead th {\n",
       "        text-align: right;\n",
       "    }\n",
       "</style>\n",
       "<table border=\"1\" class=\"dataframe\">\n",
       "  <thead>\n",
       "    <tr style=\"text-align: right;\">\n",
       "      <th></th>\n",
       "      <th>mean</th>\n",
       "      <th>count</th>\n",
       "      <th>median</th>\n",
       "    </tr>\n",
       "    <tr>\n",
       "      <th>weekday_exposition</th>\n",
       "      <th></th>\n",
       "      <th></th>\n",
       "      <th></th>\n",
       "    </tr>\n",
       "  </thead>\n",
       "  <tbody>\n",
       "    <tr>\n",
       "      <th>1</th>\n",
       "      <td>6,389,281.18</td>\n",
       "      <td>4163</td>\n",
       "      <td>4,720,000.00</td>\n",
       "    </tr>\n",
       "    <tr>\n",
       "      <th>2</th>\n",
       "      <td>6,630,245.93</td>\n",
       "      <td>3948</td>\n",
       "      <td>4,700,000.00</td>\n",
       "    </tr>\n",
       "    <tr>\n",
       "      <th>0</th>\n",
       "      <td>6,518,331.94</td>\n",
       "      <td>3596</td>\n",
       "      <td>4,650,000.00</td>\n",
       "    </tr>\n",
       "    <tr>\n",
       "      <th>3</th>\n",
       "      <td>6,706,766.02</td>\n",
       "      <td>4276</td>\n",
       "      <td>4,650,000.00</td>\n",
       "    </tr>\n",
       "    <tr>\n",
       "      <th>4</th>\n",
       "      <td>6,359,714.36</td>\n",
       "      <td>3980</td>\n",
       "      <td>4,550,000.00</td>\n",
       "    </tr>\n",
       "    <tr>\n",
       "      <th>5</th>\n",
       "      <td>6,986,165.10</td>\n",
       "      <td>1919</td>\n",
       "      <td>4,550,000.00</td>\n",
       "    </tr>\n",
       "    <tr>\n",
       "      <th>6</th>\n",
       "      <td>6,242,137.43</td>\n",
       "      <td>1683</td>\n",
       "      <td>4,530,000.00</td>\n",
       "    </tr>\n",
       "  </tbody>\n",
       "</table>\n",
       "</div>"
      ],
      "text/plain": [
       "                                   mean  count               median\n",
       "weekday_exposition                                                 \n",
       "1                          6,389,281.18   4163         4,720,000.00\n",
       "2                          6,630,245.93   3948         4,700,000.00\n",
       "0                          6,518,331.94   3596         4,650,000.00\n",
       "3                          6,706,766.02   4276         4,650,000.00\n",
       "4                          6,359,714.36   3980         4,550,000.00\n",
       "5                          6,986,165.10   1919         4,550,000.00\n",
       "6                          6,242,137.43   1683         4,530,000.00"
      ]
     },
     "execution_count": 29,
     "metadata": {},
     "output_type": "execute_result"
    },
    {
     "data": {
      "image/png": "[encoded data removed]",
      "text/plain": [
       "<Figure size 432x288 with 1 Axes>"
      ]
     },
     "metadata": {
      "needs_background": "light"
     },
     "output_type": "display_data"
    }
   ],
   "source": [
    "pivot_table_weekday_exposition = data.pivot_table(index = 'weekday_exposition', values = 'last_price', aggfunc = ['mean', 'count', 'median'])\n",
    "pivot_table_weekday_exposition.columns = ['mean', 'count', 'median']\n",
    "pivot_table_weekday_exposition.plot(y = 'median')\n",
    "\n",
    "pivot_table_weekday_exposition.sort_values('median', ascending = False)"
   ]
  },
  {
   "cell_type": "markdown",
   "metadata": {},
   "source": [
    "**Вывод:** видим, что чем ближе к понедельнику выставлены объявления тем в среднем выше стоимость, но незначительно. По субботам стоимость самая низкая."
   ]
  },
  {
   "cell_type": "markdown",
   "metadata": {},
   "source": [
    "**Изучим зависимость цены от даты размещения: месяца.**"
   ]
  },
  {
   "cell_type": "code",
   "execution_count": 30,
   "metadata": {},
   "outputs": [
    {
     "data": {
      "text/html": [
       "<div>\n",
       "<style scoped>\n",
       "    .dataframe tbody tr th:only-of-type {\n",
       "        vertical-align: middle;\n",
       "    }\n",
       "\n",
       "    .dataframe tbody tr th {\n",
       "        vertical-align: top;\n",
       "    }\n",
       "\n",
       "    .dataframe thead th {\n",
       "        text-align: right;\n",
       "    }\n",
       "</style>\n",
       "<table border=\"1\" class=\"dataframe\">\n",
       "  <thead>\n",
       "    <tr style=\"text-align: right;\">\n",
       "      <th></th>\n",
       "      <th>mean</th>\n",
       "      <th>count</th>\n",
       "      <th>median</th>\n",
       "    </tr>\n",
       "    <tr>\n",
       "      <th>month_exposition</th>\n",
       "      <th></th>\n",
       "      <th></th>\n",
       "      <th></th>\n",
       "    </tr>\n",
       "  </thead>\n",
       "  <tbody>\n",
       "    <tr>\n",
       "      <th>4</th>\n",
       "      <td>6,743,395.47</td>\n",
       "      <td>2356</td>\n",
       "      <td>4,800,000.00</td>\n",
       "    </tr>\n",
       "    <tr>\n",
       "      <th>9</th>\n",
       "      <td>6,838,447.02</td>\n",
       "      <td>1972</td>\n",
       "      <td>4,700,000.00</td>\n",
       "    </tr>\n",
       "    <tr>\n",
       "      <th>11</th>\n",
       "      <td>6,449,082.50</td>\n",
       "      <td>2360</td>\n",
       "      <td>4,700,000.00</td>\n",
       "    </tr>\n",
       "    <tr>\n",
       "      <th>12</th>\n",
       "      <td>7,005,342.66</td>\n",
       "      <td>1638</td>\n",
       "      <td>4,695,000.00</td>\n",
       "    </tr>\n",
       "    <tr>\n",
       "      <th>2</th>\n",
       "      <td>6,463,940.87</td>\n",
       "      <td>2636</td>\n",
       "      <td>4,650,000.00</td>\n",
       "    </tr>\n",
       "    <tr>\n",
       "      <th>3</th>\n",
       "      <td>6,359,922.47</td>\n",
       "      <td>2575</td>\n",
       "      <td>4,650,000.00</td>\n",
       "    </tr>\n",
       "    <tr>\n",
       "      <th>7</th>\n",
       "      <td>6,639,478.83</td>\n",
       "      <td>1686</td>\n",
       "      <td>4,650,000.00</td>\n",
       "    </tr>\n",
       "    <tr>\n",
       "      <th>1</th>\n",
       "      <td>6,664,170.56</td>\n",
       "      <td>1487</td>\n",
       "      <td>4,600,000.00</td>\n",
       "    </tr>\n",
       "    <tr>\n",
       "      <th>8</th>\n",
       "      <td>6,345,783.76</td>\n",
       "      <td>1739</td>\n",
       "      <td>4,570,000.00</td>\n",
       "    </tr>\n",
       "    <tr>\n",
       "      <th>10</th>\n",
       "      <td>6,236,775.68</td>\n",
       "      <td>2108</td>\n",
       "      <td>4,570,000.00</td>\n",
       "    </tr>\n",
       "    <tr>\n",
       "      <th>5</th>\n",
       "      <td>6,591,126.70</td>\n",
       "      <td>1261</td>\n",
       "      <td>4,500,000.00</td>\n",
       "    </tr>\n",
       "    <tr>\n",
       "      <th>6</th>\n",
       "      <td>6,316,912.64</td>\n",
       "      <td>1747</td>\n",
       "      <td>4,400,000.00</td>\n",
       "    </tr>\n",
       "  </tbody>\n",
       "</table>\n",
       "</div>"
      ],
      "text/plain": [
       "                                 mean  count               median\n",
       "month_exposition                                                 \n",
       "4                        6,743,395.47   2356         4,800,000.00\n",
       "9                        6,838,447.02   1972         4,700,000.00\n",
       "11                       6,449,082.50   2360         4,700,000.00\n",
       "12                       7,005,342.66   1638         4,695,000.00\n",
       "2                        6,463,940.87   2636         4,650,000.00\n",
       "3                        6,359,922.47   2575         4,650,000.00\n",
       "7                        6,639,478.83   1686         4,650,000.00\n",
       "1                        6,664,170.56   1487         4,600,000.00\n",
       "8                        6,345,783.76   1739         4,570,000.00\n",
       "10                       6,236,775.68   2108         4,570,000.00\n",
       "5                        6,591,126.70   1261         4,500,000.00\n",
       "6                        6,316,912.64   1747         4,400,000.00"
      ]
     },
     "execution_count": 30,
     "metadata": {},
     "output_type": "execute_result"
    },
    {
     "data": {
      "image/png": "[encoded data removed]",
      "text/plain": [
       "<Figure size 432x288 with 1 Axes>"
      ]
     },
     "metadata": {
      "needs_background": "light"
     },
     "output_type": "display_data"
    }
   ],
   "source": [
    "pivot_table_month_exposition = data.pivot_table(index = 'month_exposition', values = 'last_price', aggfunc = ['mean', 'count', 'median'])\n",
    "pivot_table_month_exposition.columns = ['mean', 'count', 'median']\n",
    "pivot_table_month_exposition.plot(y = 'median')\n",
    "\n",
    "pivot_table_month_exposition.sort_values('median', ascending = False)"
   ]
  },
  {
   "cell_type": "markdown",
   "metadata": {},
   "source": [
    "**Вывод:** Самая высокая стоимость метра в апреле и сентябре. Самая низкая стоимость в мае и июне. На рынке недвижимости, как и во многих других сферах присутствует сезонность - в начале лета мы видим наименьшее предложение как по количеству, так и по стоимости недвижимости."
   ]
  },
  {
   "cell_type": "markdown",
   "metadata": {},
   "source": [
    "**Изучим зависимость цены от даты размещения: года.**"
   ]
  },
  {
   "cell_type": "code",
   "execution_count": 31,
   "metadata": {},
   "outputs": [
    {
     "data": {
      "text/html": [
       "<div>\n",
       "<style scoped>\n",
       "    .dataframe tbody tr th:only-of-type {\n",
       "        vertical-align: middle;\n",
       "    }\n",
       "\n",
       "    .dataframe tbody tr th {\n",
       "        vertical-align: top;\n",
       "    }\n",
       "\n",
       "    .dataframe thead th {\n",
       "        text-align: right;\n",
       "    }\n",
       "</style>\n",
       "<table border=\"1\" class=\"dataframe\">\n",
       "  <thead>\n",
       "    <tr style=\"text-align: right;\">\n",
       "      <th></th>\n",
       "      <th>mean</th>\n",
       "      <th>count</th>\n",
       "      <th>median</th>\n",
       "    </tr>\n",
       "    <tr>\n",
       "      <th>year_exposition</th>\n",
       "      <th></th>\n",
       "      <th></th>\n",
       "      <th></th>\n",
       "    </tr>\n",
       "  </thead>\n",
       "  <tbody>\n",
       "    <tr>\n",
       "      <th>2014</th>\n",
       "      <td>12,046,600.18</td>\n",
       "      <td>136</td>\n",
       "      <td>7,640,000.00</td>\n",
       "    </tr>\n",
       "    <tr>\n",
       "      <th>2015</th>\n",
       "      <td>8,595,668.90</td>\n",
       "      <td>1166</td>\n",
       "      <td>5,300,500.00</td>\n",
       "    </tr>\n",
       "    <tr>\n",
       "      <th>2019</th>\n",
       "      <td>6,779,323.63</td>\n",
       "      <td>2871</td>\n",
       "      <td>5,050,000.00</td>\n",
       "    </tr>\n",
       "    <tr>\n",
       "      <th>2018</th>\n",
       "      <td>5,954,065.34</td>\n",
       "      <td>8486</td>\n",
       "      <td>4,550,000.00</td>\n",
       "    </tr>\n",
       "    <tr>\n",
       "      <th>2016</th>\n",
       "      <td>6,829,116.56</td>\n",
       "      <td>2745</td>\n",
       "      <td>4,530,000.00</td>\n",
       "    </tr>\n",
       "    <tr>\n",
       "      <th>2017</th>\n",
       "      <td>6,582,529.57</td>\n",
       "      <td>8161</td>\n",
       "      <td>4,500,000.00</td>\n",
       "    </tr>\n",
       "  </tbody>\n",
       "</table>\n",
       "</div>"
      ],
      "text/plain": [
       "                                mean  count               median\n",
       "year_exposition                                                 \n",
       "2014                   12,046,600.18    136         7,640,000.00\n",
       "2015                    8,595,668.90   1166         5,300,500.00\n",
       "2019                    6,779,323.63   2871         5,050,000.00\n",
       "2018                    5,954,065.34   8486         4,550,000.00\n",
       "2016                    6,829,116.56   2745         4,530,000.00\n",
       "2017                    6,582,529.57   8161         4,500,000.00"
      ]
     },
     "execution_count": 31,
     "metadata": {},
     "output_type": "execute_result"
    },
    {
     "data": {
      "image/png": "[encoded data removed]",
      "text/plain": [
       "<Figure size 432x288 with 1 Axes>"
      ]
     },
     "metadata": {
      "needs_background": "light"
     },
     "output_type": "display_data"
    }
   ],
   "source": [
    "pivot_table_year_exposition = data.pivot_table(index = 'year_exposition', values = 'last_price', aggfunc = ['mean', 'count', 'median'])\n",
    "pivot_table_year_exposition.columns = ['mean', 'count', 'median']\n",
    "pivot_table_year_exposition.plot(y = 'median')\n",
    "\n",
    "pivot_table_year_exposition.sort_values('median', ascending = False)"
   ]
  },
  {
   "cell_type": "markdown",
   "metadata": {},
   "source": [
    "**Вывод:** видим, что с 2014 до 2017 года цена падала, но далее начала в среднем увеличиваться. Мы не рассматриваем сегментацию рынка и по факту стоимость аналогичных квартир могла себя вести абсолютно иначе от года к году."
   ]
  },
  {
   "cell_type": "markdown",
   "metadata": {},
   "source": [
    "<div class=\"alert alert-success\">\n",
    "\n",
    "**✔️ Комментарий ревьюера v2✔️**\n",
    "\n",
    "   Хорошие результаты. Отмечу, что скорее всего, низкую цену на квартиры на первом и последнем этажах можно аргументировать плохими условиями - шум от улиц и моторов лифта, охлаждаемость помещения зимой.\n",
    "\n",
    "</div>"
   ]
  },
  {
   "cell_type": "markdown",
   "metadata": {},
   "source": [
    "**4. Посчитайте среднюю цену одного квадратного метра в 10 населённых пунктах с наибольшим числом объявлений — постройте сводную таблицу с количеством объявлений и средней ценой квадратного метра для этих населенных пунктов. Выделите населённые пункты с самой высокой и низкой стоимостью квадратного метра.**"
   ]
  },
  {
   "cell_type": "code",
   "execution_count": 32,
   "metadata": {},
   "outputs": [
    {
     "data": {
      "text/html": [
       "<div>\n",
       "<style scoped>\n",
       "    .dataframe tbody tr th:only-of-type {\n",
       "        vertical-align: middle;\n",
       "    }\n",
       "\n",
       "    .dataframe tbody tr th {\n",
       "        vertical-align: top;\n",
       "    }\n",
       "\n",
       "    .dataframe thead th {\n",
       "        text-align: right;\n",
       "    }\n",
       "</style>\n",
       "<table border=\"1\" class=\"dataframe\">\n",
       "  <thead>\n",
       "    <tr style=\"text-align: right;\">\n",
       "      <th></th>\n",
       "      <th>count</th>\n",
       "      <th>mean</th>\n",
       "    </tr>\n",
       "    <tr>\n",
       "      <th>locality_name</th>\n",
       "      <th></th>\n",
       "      <th></th>\n",
       "    </tr>\n",
       "  </thead>\n",
       "  <tbody>\n",
       "    <tr>\n",
       "      <th>Санкт-Петербург</th>\n",
       "      <td>15651</td>\n",
       "      <td>8,064,895.30</td>\n",
       "    </tr>\n",
       "    <tr>\n",
       "      <th>Мурино</th>\n",
       "      <td>586</td>\n",
       "      <td>3,680,840.78</td>\n",
       "    </tr>\n",
       "    <tr>\n",
       "      <th>Кудрово</th>\n",
       "      <td>470</td>\n",
       "      <td>4,354,895.23</td>\n",
       "    </tr>\n",
       "    <tr>\n",
       "      <th>Шушары</th>\n",
       "      <td>439</td>\n",
       "      <td>4,109,808.65</td>\n",
       "    </tr>\n",
       "    <tr>\n",
       "      <th>Всеволожск</th>\n",
       "      <td>398</td>\n",
       "      <td>3,789,067.75</td>\n",
       "    </tr>\n",
       "    <tr>\n",
       "      <th>Пушкин</th>\n",
       "      <td>369</td>\n",
       "      <td>6,469,035.95</td>\n",
       "    </tr>\n",
       "    <tr>\n",
       "      <th>Колпино</th>\n",
       "      <td>338</td>\n",
       "      <td>3,964,021.44</td>\n",
       "    </tr>\n",
       "    <tr>\n",
       "      <th>Парголово</th>\n",
       "      <td>327</td>\n",
       "      <td>4,488,074.80</td>\n",
       "    </tr>\n",
       "    <tr>\n",
       "      <th>Гатчина</th>\n",
       "      <td>307</td>\n",
       "      <td>3,488,336.68</td>\n",
       "    </tr>\n",
       "    <tr>\n",
       "      <th>Выборг</th>\n",
       "      <td>237</td>\n",
       "      <td>3,250,983.12</td>\n",
       "    </tr>\n",
       "  </tbody>\n",
       "</table>\n",
       "</div>"
      ],
      "text/plain": [
       "                 count                 mean\n",
       "locality_name                              \n",
       "Санкт-Петербург  15651         8,064,895.30\n",
       "Мурино             586         3,680,840.78\n",
       "Кудрово            470         4,354,895.23\n",
       "Шушары             439         4,109,808.65\n",
       "Всеволожск         398         3,789,067.75\n",
       "Пушкин             369         6,469,035.95\n",
       "Колпино            338         3,964,021.44\n",
       "Парголово          327         4,488,074.80\n",
       "Гатчина            307         3,488,336.68\n",
       "Выборг             237         3,250,983.12"
      ]
     },
     "execution_count": 32,
     "metadata": {},
     "output_type": "execute_result"
    }
   ],
   "source": [
    "locality_pivot_table = data.pivot_table(index = 'locality_name', values = 'last_price', aggfunc=['count', 'mean'])\n",
    "locality_pivot_table.columns = ['count', 'mean']\n",
    "locality_pivot_table = locality_pivot_table.sort_values('count', ascending = False).head(10)\n",
    "locality_pivot_table"
   ]
  },
  {
   "cell_type": "code",
   "execution_count": 33,
   "metadata": {},
   "outputs": [
    {
     "data": {
      "text/html": [
       "<div>\n",
       "<style scoped>\n",
       "    .dataframe tbody tr th:only-of-type {\n",
       "        vertical-align: middle;\n",
       "    }\n",
       "\n",
       "    .dataframe tbody tr th {\n",
       "        vertical-align: top;\n",
       "    }\n",
       "\n",
       "    .dataframe thead th {\n",
       "        text-align: right;\n",
       "    }\n",
       "</style>\n",
       "<table border=\"1\" class=\"dataframe\">\n",
       "  <thead>\n",
       "    <tr style=\"text-align: right;\">\n",
       "      <th></th>\n",
       "      <th>count</th>\n",
       "      <th>mean</th>\n",
       "    </tr>\n",
       "    <tr>\n",
       "      <th>locality_name</th>\n",
       "      <th></th>\n",
       "      <th></th>\n",
       "    </tr>\n",
       "  </thead>\n",
       "  <tbody>\n",
       "    <tr>\n",
       "      <th>Санкт-Петербург</th>\n",
       "      <td>15651</td>\n",
       "      <td>8,064,895.30</td>\n",
       "    </tr>\n",
       "  </tbody>\n",
       "</table>\n",
       "</div>"
      ],
      "text/plain": [
       "                 count                 mean\n",
       "locality_name                              \n",
       "Санкт-Петербург  15651         8,064,895.30"
      ]
     },
     "execution_count": 33,
     "metadata": {},
     "output_type": "execute_result"
    }
   ],
   "source": [
    "#самая высокая стоимость\n",
    "locality_pivot_table[locality_pivot_table['mean']==locality_pivot_table['mean'].max()]"
   ]
  },
  {
   "cell_type": "code",
   "execution_count": 34,
   "metadata": {},
   "outputs": [
    {
     "data": {
      "text/html": [
       "<div>\n",
       "<style scoped>\n",
       "    .dataframe tbody tr th:only-of-type {\n",
       "        vertical-align: middle;\n",
       "    }\n",
       "\n",
       "    .dataframe tbody tr th {\n",
       "        vertical-align: top;\n",
       "    }\n",
       "\n",
       "    .dataframe thead th {\n",
       "        text-align: right;\n",
       "    }\n",
       "</style>\n",
       "<table border=\"1\" class=\"dataframe\">\n",
       "  <thead>\n",
       "    <tr style=\"text-align: right;\">\n",
       "      <th></th>\n",
       "      <th>count</th>\n",
       "      <th>mean</th>\n",
       "    </tr>\n",
       "    <tr>\n",
       "      <th>locality_name</th>\n",
       "      <th></th>\n",
       "      <th></th>\n",
       "    </tr>\n",
       "  </thead>\n",
       "  <tbody>\n",
       "    <tr>\n",
       "      <th>Выборг</th>\n",
       "      <td>237</td>\n",
       "      <td>3,250,983.12</td>\n",
       "    </tr>\n",
       "  </tbody>\n",
       "</table>\n",
       "</div>"
      ],
      "text/plain": [
       "               count                 mean\n",
       "locality_name                            \n",
       "Выборг           237         3,250,983.12"
      ]
     },
     "execution_count": 34,
     "metadata": {},
     "output_type": "execute_result"
    }
   ],
   "source": [
    "#самая низкая стоимость\n",
    "locality_pivot_table[locality_pivot_table['mean']==locality_pivot_table['mean'].min()]"
   ]
  },
  {
   "cell_type": "markdown",
   "metadata": {},
   "source": [
    "**Вывод:** самая высокая стоимость жилья из 10 населённых пунктов с самым большим количеством объявлений в Санкт-Петербурге, а самая низкая стоимость в Выборге."
   ]
  },
  {
   "cell_type": "markdown",
   "metadata": {},
   "source": [
    "<div class=\"alert alert-success\">\n",
    "\n",
    "**✔️ Комментарий ревьюера ✔️**\n",
    "   \n",
    "   Верно\n",
    "\n",
    "</div>\n"
   ]
  },
  {
   "cell_type": "markdown",
   "metadata": {},
   "source": [
    "**5. Выделите квартиры в Санкт-Петербурге с помощью столбца locality_name и вычислите среднюю цену каждого километра. Опишите, как стоимость объектов зависит от расстояния до центра города — постройте график изменения средней цены для каждого километра от центра Петербурга.**"
   ]
  },
  {
   "cell_type": "code",
   "execution_count": 35,
   "metadata": {},
   "outputs": [
    {
     "data": {
      "text/html": [
       "<div>\n",
       "<style scoped>\n",
       "    .dataframe tbody tr th:only-of-type {\n",
       "        vertical-align: middle;\n",
       "    }\n",
       "\n",
       "    .dataframe tbody tr th {\n",
       "        vertical-align: top;\n",
       "    }\n",
       "\n",
       "    .dataframe thead th {\n",
       "        text-align: right;\n",
       "    }\n",
       "</style>\n",
       "<table border=\"1\" class=\"dataframe\">\n",
       "  <thead>\n",
       "    <tr style=\"text-align: right;\">\n",
       "      <th></th>\n",
       "      <th>price_per_square_meter</th>\n",
       "    </tr>\n",
       "    <tr>\n",
       "      <th>cityCenters_nearest_km</th>\n",
       "      <th></th>\n",
       "    </tr>\n",
       "  </thead>\n",
       "  <tbody>\n",
       "    <tr>\n",
       "      <th>0</th>\n",
       "      <td>245,833.53</td>\n",
       "    </tr>\n",
       "    <tr>\n",
       "      <th>1</th>\n",
       "      <td>177,005.41</td>\n",
       "    </tr>\n",
       "    <tr>\n",
       "      <th>2</th>\n",
       "      <td>157,849.01</td>\n",
       "    </tr>\n",
       "    <tr>\n",
       "      <th>3</th>\n",
       "      <td>121,507.83</td>\n",
       "    </tr>\n",
       "    <tr>\n",
       "      <th>4</th>\n",
       "      <td>133,282.87</td>\n",
       "    </tr>\n",
       "    <tr>\n",
       "      <th>5</th>\n",
       "      <td>140,453.96</td>\n",
       "    </tr>\n",
       "    <tr>\n",
       "      <th>6</th>\n",
       "      <td>151,012.19</td>\n",
       "    </tr>\n",
       "    <tr>\n",
       "      <th>7</th>\n",
       "      <td>156,176.88</td>\n",
       "    </tr>\n",
       "    <tr>\n",
       "      <th>8</th>\n",
       "      <td>125,649.73</td>\n",
       "    </tr>\n",
       "    <tr>\n",
       "      <th>9</th>\n",
       "      <td>113,159.37</td>\n",
       "    </tr>\n",
       "    <tr>\n",
       "      <th>10</th>\n",
       "      <td>112,607.48</td>\n",
       "    </tr>\n",
       "    <tr>\n",
       "      <th>11</th>\n",
       "      <td>108,381.75</td>\n",
       "    </tr>\n",
       "    <tr>\n",
       "      <th>12</th>\n",
       "      <td>107,476.27</td>\n",
       "    </tr>\n",
       "    <tr>\n",
       "      <th>13</th>\n",
       "      <td>108,099.10</td>\n",
       "    </tr>\n",
       "    <tr>\n",
       "      <th>14</th>\n",
       "      <td>104,201.22</td>\n",
       "    </tr>\n",
       "    <tr>\n",
       "      <th>15</th>\n",
       "      <td>104,230.54</td>\n",
       "    </tr>\n",
       "    <tr>\n",
       "      <th>16</th>\n",
       "      <td>100,542.61</td>\n",
       "    </tr>\n",
       "    <tr>\n",
       "      <th>17</th>\n",
       "      <td>96,970.23</td>\n",
       "    </tr>\n",
       "    <tr>\n",
       "      <th>18</th>\n",
       "      <td>96,362.26</td>\n",
       "    </tr>\n",
       "    <tr>\n",
       "      <th>19</th>\n",
       "      <td>98,658.39</td>\n",
       "    </tr>\n",
       "    <tr>\n",
       "      <th>20</th>\n",
       "      <td>103,045.18</td>\n",
       "    </tr>\n",
       "    <tr>\n",
       "      <th>21</th>\n",
       "      <td>94,469.58</td>\n",
       "    </tr>\n",
       "    <tr>\n",
       "      <th>22</th>\n",
       "      <td>91,330.43</td>\n",
       "    </tr>\n",
       "    <tr>\n",
       "      <th>23</th>\n",
       "      <td>91,828.52</td>\n",
       "    </tr>\n",
       "    <tr>\n",
       "      <th>24</th>\n",
       "      <td>85,736.90</td>\n",
       "    </tr>\n",
       "    <tr>\n",
       "      <th>25</th>\n",
       "      <td>91,531.37</td>\n",
       "    </tr>\n",
       "    <tr>\n",
       "      <th>26</th>\n",
       "      <td>87,798.87</td>\n",
       "    </tr>\n",
       "    <tr>\n",
       "      <th>27</th>\n",
       "      <td>132,115.71</td>\n",
       "    </tr>\n",
       "    <tr>\n",
       "      <th>28</th>\n",
       "      <td>81,161.91</td>\n",
       "    </tr>\n",
       "    <tr>\n",
       "      <th>29</th>\n",
       "      <td>72,953.36</td>\n",
       "    </tr>\n",
       "  </tbody>\n",
       "</table>\n",
       "</div>"
      ],
      "text/plain": [
       "                        price_per_square_meter\n",
       "cityCenters_nearest_km                        \n",
       "0                                   245,833.53\n",
       "1                                   177,005.41\n",
       "2                                   157,849.01\n",
       "3                                   121,507.83\n",
       "4                                   133,282.87\n",
       "5                                   140,453.96\n",
       "6                                   151,012.19\n",
       "7                                   156,176.88\n",
       "8                                   125,649.73\n",
       "9                                   113,159.37\n",
       "10                                  112,607.48\n",
       "11                                  108,381.75\n",
       "12                                  107,476.27\n",
       "13                                  108,099.10\n",
       "14                                  104,201.22\n",
       "15                                  104,230.54\n",
       "16                                  100,542.61\n",
       "17                                   96,970.23\n",
       "18                                   96,362.26\n",
       "19                                   98,658.39\n",
       "20                                  103,045.18\n",
       "21                                   94,469.58\n",
       "22                                   91,330.43\n",
       "23                                   91,828.52\n",
       "24                                   85,736.90\n",
       "25                                   91,531.37\n",
       "26                                   87,798.87\n",
       "27                                  132,115.71\n",
       "28                                   81,161.91\n",
       "29                                   72,953.36"
      ]
     },
     "execution_count": 35,
     "metadata": {},
     "output_type": "execute_result"
    },
    {
     "data": {
      "image/png": "[encoded data removed]",
      "text/plain": [
       "<Figure size 432x288 with 1 Axes>"
      ]
     },
     "metadata": {
      "needs_background": "light"
     },
     "output_type": "display_data"
    }
   ],
   "source": [
    "data['cityCenters_nearest_km'] = data['cityCenters_nearest_km'].fillna(999999)\n",
    "data['cityCenters_nearest_km'] = data['cityCenters_nearest_km'].astype('int')\n",
    "pivot_table_km = data.query('locality_name == \"Санкт-Петербург\" and cityCenters_nearest_km !=999999').pivot_table(index = 'cityCenters_nearest_km', values = 'price_per_square_meter', aggfunc = 'mean')\n",
    "pivot_table_km.plot()\n",
    "pivot_table_km"
   ]
  },
  {
   "cell_type": "markdown",
   "metadata": {},
   "source": [
    "**Вывод:** судя по графику центром считать будем радиус в 6 километров."
   ]
  },
  {
   "cell_type": "markdown",
   "metadata": {},
   "source": [
    "<div class=\"alert alert-success\">\n",
    "✔️ Комментарий ревьюера ✔️\n",
    "\n",
    "Верно. На графике после 7 км заметно, что цена меняется. Это возможный центр города.\n",
    "\n",
    "Если интересно, то самый дорогой по стоимости жилья район в Санкт-Петербурге риелторы назвали \"Золотой треугольник\". Дома \"Золотого треугольника\" находятся в пределах Невского проспекта, набережной реки Фонтанки и Дворцовой набережной.\n",
    "Для географической справки: https://zen.yandex.ru/media/id/5cb4ebcc0a51a300b5b1f60d/zolotoi-treugolnik-sanktpeterburga-chto-eto-i-gde-nahoditsia-5edf942db1204610073e88b2\n",
    "\n",
    "</div>"
   ]
  },
  {
   "cell_type": "markdown",
   "metadata": {},
   "source": [
    "### Общий вывод"
   ]
  },
  {
   "cell_type": "markdown",
   "metadata": {},
   "source": [
    "В ходе данного исследования мы обработали полученные данные, а именно:\n",
    "- обработали пропущенные значения там, где это необходимо \n",
    "- заменили типы данных на необходимые для корректной работы\n",
    "- посчитали и добавили в таблицу цену квадратного метра жилья \n",
    "- вывели из даты дни недели, месяцы и года размещения объявлений\n",
    "- добавили категории по этажам квартир\n",
    "- изучили следующие параметры на наличие выбивающихся значений - общая площадь, жилая площадь, площадь кухни, цена объекта, количество комнат, высота потолков, тип этажа квартиры («первый», «последний», «другой»), общее количество этажей в доме, расстояние до центра города в метрах, расстояние до ближайшего парка\n",
    "\n",
    "Также в ходе исследования мы выявили при помощи диаграммы размаха, что нормальные значения продажи квартир варьируются от 1 до 600 дней. Мы определили, что на стоимость квадратного метра квартиры больше всего влияют количество комнат и этаж квартиры. Незначительно на стоимость квадратного метра влияют день, месяц, год размещения, общая площадь, жилая площадь и площадь кухни. Надо учитывать, что в 2016-2017 годах стоимость квартир в среднем по рынку была ниже на 10-20 %. В данном случае имело место постоянное удорожание стоимости, начиная с 2015 года по текущий момент. Судя, по резкости изменения цен в зависимости от удаления от центра СПБ, мы выявили центр города в радиусе 6 километров.\n",
    "\n",
    "Также важно учитывать, что, рассматривая среднюю стоимость квартир в 2014-2019 годах, мы не делали сегментацию рынка, а лишь смотрели средние показатели по рынку в целом. Т.е. возможно, что цены на аналогичные квартиры в разных годах вели себя абсолютно по-разному. Т.е. например в то время, когда средняя стоимость метра по рынку в 2016-2017 годах была наиболее низкой, какие-то аналогичные прошлым годам квартиры могли и не падать в цене, а наоборот дорожать! Именно об этом нам и говорят данные, полученные при изучении единственного сегмента квартир - находящихся в радиусе 6 км в центре СПБ."
   ]
  },
  {
   "cell_type": "markdown",
   "metadata": {},
   "source": [
    "<div class=\"alert alert-success\">\n",
    "\n",
    "**✔️ Комментарий ревьюера ✔️**\n",
    "   \n",
    "   Данил, проведен основательный и подробный анализ. Все наглядно - графики и гистограммы подтверждают обоснованные выводы. Учти мои замечания. Возможно, придется немного подправить выводы. Жду твой проект на повторное ревью. Успехов!\n",
    "\n",
    "</div>\n"
   ]
  },
  {
   "cell_type": "markdown",
   "metadata": {},
   "source": [
    "<div class=\"alert alert-success\">\n",
    "\n",
    "**✔️ Комментарий ревьюера v2✔️**\n",
    "   \n",
    "   Данил, замечания устранены 👍. Уверен, мои советы пригодятся тебе в новых проектах. Успехов в обучении! 😉 \n",
    "\n",
    "</div>"
   ]
  },
  {
   "cell_type": "markdown",
   "metadata": {},
   "source": [
    "**Чек-лист готовности проекта**\n",
    "\n",
    "Поставьте 'x' в выполненных пунктах. Далее нажмите Shift+Enter."
   ]
  },
  {
   "cell_type": "markdown",
   "metadata": {},
   "source": [
    "- [x]  открыт файл\n",
    "- [x]  файлы изучены (выведены первые строки, метод `info()`, гистограммы и т.д.)\n",
    "- [x]  определены пропущенные значения\n",
    "- [x]  заполнены пропущенные значения там, где это возможно\n",
    "- [x]  есть пояснение, какие пропущенные значения обнаружены\n",
    "- [x]  изменены типы данных\n",
    "- [x]  есть пояснение, в каких столбцах изменены типы и почему\n",
    "- [x]  устранены неявные дубликаты в названиях населённых пунктов\n",
    "- [x]  устранены редкие и выбивающиеся значения (аномалии) во всех столбцах\n",
    "- [x]  посчитано и добавлено в таблицу: цена одного квадратного метра\n",
    "- [x]  посчитано и добавлено в таблицу: день публикации объявления (0 - понедельник, 1 - вторник и т.д.)\n",
    "- [x]  посчитано и добавлено в таблицу: месяц публикации объявления\n",
    "- [x]  посчитано и добавлено в таблицу: год публикации объявления\n",
    "- [x]  посчитано и добавлено в таблицу: тип этажа квартиры (значения — «первый», «последний», «другой»)\n",
    "- [x]  посчитано и добавлено в таблицу: расстояние в км до центра города\n",
    "- [x]  изучены и описаны следующие параметры:\n",
    "        - общая площадь;\n",
    "        - жилая площадь;\n",
    "        - площадь кухни;\n",
    "        - цена объекта;\n",
    "        - количество комнат;\n",
    "        - высота потолков;\n",
    "        - этаж квартиры;\n",
    "        - тип этажа квартиры («первый», «последний», «другой»);\n",
    "        - общее количество этажей в доме;\n",
    "        - расстояние до центра города в метрах;\n",
    "        - расстояние до ближайшего аэропорта;\n",
    "        - расстояние до ближайшего парка;\n",
    "        - день и месяц публикации объявления\n",
    "- [x]  построены гистограммы для каждого параметра\n",
    "- [x]  выполнено задание: \"Изучите, как быстро продавались квартиры (столбец days_exposition). Этот параметр показывает, сколько дней «висело» каждое объявление.\n",
    "    - Постройте гистограмму.\n",
    "    - Посчитайте среднее и медиану.\n",
    "    - В ячейке типа markdown опишите, сколько обычно занимает продажа. Какие продажи можно считать быстрыми, а какие — необычно долгими?\"\n",
    "- [x]  выполнено задание: \"Какие факторы больше всего влияют на общую (полную) стоимость объекта? Постройте графики, которые покажут зависимость цены от указанных ниже параметров. Для подготовки данных перед визуализацией вы можете использовать сводные таблицы.\"\n",
    "        - общей площади;\n",
    "        - жилой площади;\n",
    "        - площади кухни;\n",
    "        - количество комнат;\n",
    "        - типа этажа, на котором расположена квартира (первый, последний, другой);\n",
    "        - даты размещения (день недели, месяц, год);\n",
    "- [x]  выполнено задание: \"Посчитайте среднюю цену одного квадратного метра в 10 населённых пунктах с наибольшим числом объявлений. Выделите населённые пункты с самой высокой и низкой стоимостью квадратного метра. Эти данные можно найти по имени в столбце `locality_name`.\"\n",
    "- [x]  выполнено задание: \"Ранее вы посчитали расстояние до центра в километрах. Теперь выделите квартиры в Санкт-Петербурге с помощью столбца `locality_name` и вычислите среднюю цену каждого километра. Опишите, как стоимость объектов зависит от расстояния до центра города.\"\n",
    "- [x]  в каждом этапе есть промежуточные выводы\n",
    "- [x]  есть общий вывод"
   ]
  }
 ],
 "metadata": {
  "ExecuteTimeLog": [
   {
    "duration": 207,
    "start_time": "2023-09-26T11:00:57.284Z"
   },
   {
    "duration": 115,
    "start_time": "2023-09-26T11:01:01.981Z"
   },
   {
    "duration": 819,
    "start_time": "2023-09-26T11:01:22.937Z"
   },
   {
    "duration": 133,
    "start_time": "2023-09-26T11:01:39.827Z"
   },
   {
    "duration": 2747,
    "start_time": "2023-09-26T11:06:28.190Z"
   },
   {
    "duration": 3335,
    "start_time": "2023-09-26T18:56:21.382Z"
   },
   {
    "duration": 64,
    "start_time": "2023-10-05T19:32:51.305Z"
   },
   {
    "duration": 2465,
    "start_time": "2023-10-05T19:33:21.019Z"
   },
   {
    "duration": 242,
    "start_time": "2023-10-05T19:33:35.419Z"
   },
   {
    "duration": 61,
    "start_time": "2023-10-09T08:31:20.194Z"
   },
   {
    "duration": 3496,
    "start_time": "2023-10-09T08:31:24.438Z"
   },
   {
    "duration": 2372,
    "start_time": "2023-10-09T08:31:32.253Z"
   },
   {
    "duration": 21,
    "start_time": "2023-10-09T08:31:46.945Z"
   },
   {
    "duration": 229,
    "start_time": "2023-10-09T08:32:04.853Z"
   },
   {
    "duration": 2438,
    "start_time": "2023-10-09T09:02:35.423Z"
   },
   {
    "duration": 9,
    "start_time": "2023-10-09T09:06:48.720Z"
   },
   {
    "duration": 77,
    "start_time": "2023-10-09T09:07:15.824Z"
   },
   {
    "duration": 16,
    "start_time": "2023-10-09T09:07:20.283Z"
   },
   {
    "duration": 6,
    "start_time": "2023-10-09T09:07:22.552Z"
   },
   {
    "duration": 7,
    "start_time": "2023-10-09T09:07:23.421Z"
   },
   {
    "duration": 16,
    "start_time": "2023-10-09T09:07:32.586Z"
   },
   {
    "duration": 18,
    "start_time": "2023-10-09T09:08:52.448Z"
   },
   {
    "duration": 2701,
    "start_time": "2023-10-09T09:09:14.313Z"
   },
   {
    "duration": 262,
    "start_time": "2023-10-09T09:09:17.017Z"
   },
   {
    "duration": 408,
    "start_time": "2023-10-09T09:09:19.040Z"
   },
   {
    "duration": 333,
    "start_time": "2023-10-09T09:16:15.261Z"
   },
   {
    "duration": 347,
    "start_time": "2023-10-09T09:16:16.594Z"
   },
   {
    "duration": 367,
    "start_time": "2023-10-09T09:16:18.471Z"
   },
   {
    "duration": 1522,
    "start_time": "2023-10-09T09:24:18.152Z"
   },
   {
    "duration": 1197,
    "start_time": "2023-10-09T09:39:28.369Z"
   },
   {
    "duration": 931,
    "start_time": "2023-10-09T10:31:14.676Z"
   },
   {
    "duration": 895,
    "start_time": "2023-10-09T10:33:54.671Z"
   },
   {
    "duration": 806,
    "start_time": "2023-10-09T10:35:29.882Z"
   },
   {
    "duration": 1230,
    "start_time": "2023-10-09T10:35:56.836Z"
   },
   {
    "duration": 1734,
    "start_time": "2023-10-09T10:36:20.928Z"
   },
   {
    "duration": 1328,
    "start_time": "2023-10-09T10:36:28.260Z"
   },
   {
    "duration": 1192,
    "start_time": "2023-10-09T10:36:54.928Z"
   },
   {
    "duration": 2502,
    "start_time": "2023-10-09T10:37:17.795Z"
   },
   {
    "duration": 665,
    "start_time": "2023-10-09T10:37:20.302Z"
   },
   {
    "duration": 393,
    "start_time": "2023-10-09T10:37:21.622Z"
   },
   {
    "duration": 1298,
    "start_time": "2023-10-09T10:37:24.596Z"
   },
   {
    "duration": 858,
    "start_time": "2023-10-09T10:37:37.270Z"
   },
   {
    "duration": 71,
    "start_time": "2023-10-10T09:45:07.991Z"
   },
   {
    "duration": 3747,
    "start_time": "2023-10-10T09:45:28.090Z"
   },
   {
    "duration": 349,
    "start_time": "2023-10-10T09:45:31.840Z"
   },
   {
    "duration": 327,
    "start_time": "2023-10-10T09:45:32.190Z"
   },
   {
    "duration": 1388,
    "start_time": "2023-10-10T09:45:33.926Z"
   },
   {
    "duration": 1509,
    "start_time": "2023-10-10T09:45:56.654Z"
   },
   {
    "duration": 1505,
    "start_time": "2023-10-10T09:46:09.989Z"
   },
   {
    "duration": 1743,
    "start_time": "2023-10-10T09:48:30.565Z"
   },
   {
    "duration": 2010,
    "start_time": "2023-10-10T09:48:47.387Z"
   },
   {
    "duration": 1970,
    "start_time": "2023-10-10T09:53:00.769Z"
   },
   {
    "duration": 1973,
    "start_time": "2023-10-10T09:53:54.035Z"
   },
   {
    "duration": 1960,
    "start_time": "2023-10-10T09:54:44.501Z"
   },
   {
    "duration": 2072,
    "start_time": "2023-10-10T09:56:28.908Z"
   },
   {
    "duration": 2344,
    "start_time": "2023-10-10T09:58:46.161Z"
   },
   {
    "duration": 2525,
    "start_time": "2023-10-10T09:59:07.169Z"
   },
   {
    "duration": 112,
    "start_time": "2023-10-10T09:59:35.233Z"
   },
   {
    "duration": 2506,
    "start_time": "2023-10-10T09:59:47.492Z"
   },
   {
    "duration": 2378,
    "start_time": "2023-10-10T10:00:39.928Z"
   },
   {
    "duration": 2413,
    "start_time": "2023-10-10T10:01:01.362Z"
   },
   {
    "duration": 2432,
    "start_time": "2023-10-10T10:01:12.975Z"
   },
   {
    "duration": 2476,
    "start_time": "2023-10-10T10:01:23.420Z"
   },
   {
    "duration": 2464,
    "start_time": "2023-10-10T10:01:37.171Z"
   },
   {
    "duration": 2381,
    "start_time": "2023-10-10T10:01:51.959Z"
   },
   {
    "duration": 2620,
    "start_time": "2023-10-10T10:05:02.379Z"
   },
   {
    "duration": 2653,
    "start_time": "2023-10-10T10:05:23.610Z"
   },
   {
    "duration": 2673,
    "start_time": "2023-10-10T10:05:34.221Z"
   },
   {
    "duration": 2692,
    "start_time": "2023-10-10T10:05:43.684Z"
   },
   {
    "duration": 2713,
    "start_time": "2023-10-10T10:05:56.556Z"
   },
   {
    "duration": 341,
    "start_time": "2023-10-10T11:30:31.119Z"
   },
   {
    "duration": 2728,
    "start_time": "2023-10-10T11:30:34.365Z"
   },
   {
    "duration": 4054,
    "start_time": "2023-10-10T14:51:53.924Z"
   },
   {
    "duration": 331,
    "start_time": "2023-10-10T14:51:57.981Z"
   },
   {
    "duration": 317,
    "start_time": "2023-10-10T14:51:59.010Z"
   },
   {
    "duration": 2562,
    "start_time": "2023-10-10T14:52:03.368Z"
   },
   {
    "duration": 441,
    "start_time": "2023-10-10T17:49:04.354Z"
   },
   {
    "duration": 319,
    "start_time": "2023-10-10T17:49:14.671Z"
   },
   {
    "duration": 432,
    "start_time": "2023-10-10T17:49:18.825Z"
   },
   {
    "duration": 286,
    "start_time": "2023-10-10T17:49:20.991Z"
   },
   {
    "duration": 344,
    "start_time": "2023-10-10T17:49:24.418Z"
   },
   {
    "duration": 2370,
    "start_time": "2023-10-10T17:49:30.006Z"
   },
   {
    "duration": 127,
    "start_time": "2023-10-11T11:24:43.300Z"
   },
   {
    "duration": 110,
    "start_time": "2023-10-11T11:24:49.733Z"
   },
   {
    "duration": 42,
    "start_time": "2023-10-11T11:25:12.483Z"
   },
   {
    "duration": 5,
    "start_time": "2023-10-11T11:25:15.016Z"
   },
   {
    "duration": 3713,
    "start_time": "2023-10-11T11:25:33.385Z"
   },
   {
    "duration": 14,
    "start_time": "2023-10-11T11:25:37.101Z"
   },
   {
    "duration": 496,
    "start_time": "2023-10-11T11:25:37.117Z"
   },
   {
    "duration": 15,
    "start_time": "2023-10-11T11:46:55.694Z"
   },
   {
    "duration": 112,
    "start_time": "2023-10-11T11:48:40.769Z"
   },
   {
    "duration": 4,
    "start_time": "2023-10-11T11:51:27.432Z"
   },
   {
    "duration": 28,
    "start_time": "2023-10-11T11:51:49.685Z"
   },
   {
    "duration": 28,
    "start_time": "2023-10-11T11:51:51.541Z"
   },
   {
    "duration": 28,
    "start_time": "2023-10-11T11:51:52.278Z"
   },
   {
    "duration": 28,
    "start_time": "2023-10-11T11:51:55.389Z"
   },
   {
    "duration": 5,
    "start_time": "2023-10-11T11:53:01.220Z"
   },
   {
    "duration": 55,
    "start_time": "2023-10-11T11:53:35.638Z"
   },
   {
    "duration": 4011,
    "start_time": "2023-10-11T13:30:20.154Z"
   },
   {
    "duration": 23,
    "start_time": "2023-10-11T13:30:24.168Z"
   },
   {
    "duration": 216,
    "start_time": "2023-10-11T13:30:24.194Z"
   },
   {
    "duration": 48,
    "start_time": "2023-10-11T13:30:24.412Z"
   },
   {
    "duration": 412,
    "start_time": "2023-10-11T13:30:24.589Z"
   },
   {
    "duration": 1574,
    "start_time": "2023-10-13T10:41:51.621Z"
   },
   {
    "duration": 114,
    "start_time": "2023-10-13T10:42:09.237Z"
   },
   {
    "duration": 2149,
    "start_time": "2023-10-13T10:43:24.466Z"
   },
   {
    "duration": 115,
    "start_time": "2023-10-13T10:43:51.434Z"
   },
   {
    "duration": 10,
    "start_time": "2023-10-13T10:46:20.911Z"
   },
   {
    "duration": 120,
    "start_time": "2023-10-13T10:52:05.792Z"
   },
   {
    "duration": 109,
    "start_time": "2023-10-13T10:52:16.018Z"
   },
   {
    "duration": 119,
    "start_time": "2023-10-13T10:52:36.388Z"
   },
   {
    "duration": 141,
    "start_time": "2023-10-13T10:52:49.091Z"
   },
   {
    "duration": 12,
    "start_time": "2023-10-13T11:02:26.531Z"
   },
   {
    "duration": 11,
    "start_time": "2023-10-13T11:02:59.344Z"
   },
   {
    "duration": 11,
    "start_time": "2023-10-13T11:16:35.061Z"
   },
   {
    "duration": 120,
    "start_time": "2023-10-13T11:17:08.255Z"
   },
   {
    "duration": 91,
    "start_time": "2023-10-13T11:17:37.879Z"
   },
   {
    "duration": 115,
    "start_time": "2023-10-13T11:54:59.704Z"
   },
   {
    "duration": 14,
    "start_time": "2023-10-13T11:55:06.387Z"
   },
   {
    "duration": 5,
    "start_time": "2023-10-13T11:55:34.890Z"
   },
   {
    "duration": 3,
    "start_time": "2023-10-13T11:57:47.287Z"
   },
   {
    "duration": 18,
    "start_time": "2023-10-13T11:57:51.152Z"
   },
   {
    "duration": 13,
    "start_time": "2023-10-13T12:00:06.080Z"
   },
   {
    "duration": 109,
    "start_time": "2023-10-13T12:00:14.855Z"
   },
   {
    "duration": 3,
    "start_time": "2023-10-13T12:00:19.797Z"
   },
   {
    "duration": 11,
    "start_time": "2023-10-13T12:00:20.544Z"
   },
   {
    "duration": 10,
    "start_time": "2023-10-13T12:00:33.238Z"
   },
   {
    "duration": 821,
    "start_time": "2023-10-13T12:01:04.055Z"
   },
   {
    "duration": 9,
    "start_time": "2023-10-13T12:01:21.833Z"
   },
   {
    "duration": 5,
    "start_time": "2023-10-13T12:01:46.417Z"
   },
   {
    "duration": 114,
    "start_time": "2023-10-13T12:02:25.875Z"
   },
   {
    "duration": 4,
    "start_time": "2023-10-13T12:03:35.118Z"
   },
   {
    "duration": 11,
    "start_time": "2023-10-13T12:03:41.985Z"
   },
   {
    "duration": 751,
    "start_time": "2023-10-13T12:04:09.942Z"
   },
   {
    "duration": 3,
    "start_time": "2023-10-13T12:04:44.515Z"
   },
   {
    "duration": 11,
    "start_time": "2023-10-13T12:04:46.722Z"
   },
   {
    "duration": 11,
    "start_time": "2023-10-13T12:04:47.557Z"
   },
   {
    "duration": 9,
    "start_time": "2023-10-13T12:04:47.999Z"
   },
   {
    "duration": 11,
    "start_time": "2023-10-13T12:04:48.354Z"
   },
   {
    "duration": 9,
    "start_time": "2023-10-13T12:04:48.607Z"
   },
   {
    "duration": 9,
    "start_time": "2023-10-13T12:04:48.803Z"
   },
   {
    "duration": 10,
    "start_time": "2023-10-13T12:04:48.983Z"
   },
   {
    "duration": 9,
    "start_time": "2023-10-13T12:04:49.134Z"
   },
   {
    "duration": 9,
    "start_time": "2023-10-13T12:04:49.287Z"
   },
   {
    "duration": 10,
    "start_time": "2023-10-13T12:04:49.403Z"
   },
   {
    "duration": 9,
    "start_time": "2023-10-13T12:04:49.647Z"
   },
   {
    "duration": 9,
    "start_time": "2023-10-13T12:04:50.223Z"
   },
   {
    "duration": 9,
    "start_time": "2023-10-13T12:04:50.361Z"
   },
   {
    "duration": 10,
    "start_time": "2023-10-13T12:04:50.473Z"
   },
   {
    "duration": 10,
    "start_time": "2023-10-13T12:04:50.841Z"
   },
   {
    "duration": 107,
    "start_time": "2023-10-13T12:04:56.446Z"
   },
   {
    "duration": 2,
    "start_time": "2023-10-13T12:05:01.162Z"
   },
   {
    "duration": 14,
    "start_time": "2023-10-13T12:05:01.769Z"
   },
   {
    "duration": 10,
    "start_time": "2023-10-13T12:06:17.986Z"
   },
   {
    "duration": 23,
    "start_time": "2023-10-13T12:08:21.816Z"
   },
   {
    "duration": 19,
    "start_time": "2023-10-13T12:08:46.553Z"
   },
   {
    "duration": 14,
    "start_time": "2023-10-13T12:08:54.322Z"
   },
   {
    "duration": 13,
    "start_time": "2023-10-13T12:08:55.672Z"
   },
   {
    "duration": 14,
    "start_time": "2023-10-13T12:08:55.860Z"
   },
   {
    "duration": 14,
    "start_time": "2023-10-13T12:08:56.022Z"
   },
   {
    "duration": 14,
    "start_time": "2023-10-13T12:08:56.167Z"
   },
   {
    "duration": 17,
    "start_time": "2023-10-13T12:08:56.306Z"
   },
   {
    "duration": 14,
    "start_time": "2023-10-13T12:08:56.448Z"
   },
   {
    "duration": 14,
    "start_time": "2023-10-13T12:08:56.588Z"
   },
   {
    "duration": 14,
    "start_time": "2023-10-13T12:08:56.725Z"
   },
   {
    "duration": 16,
    "start_time": "2023-10-13T12:09:15.927Z"
   },
   {
    "duration": 6,
    "start_time": "2023-10-13T12:09:19.550Z"
   },
   {
    "duration": 10,
    "start_time": "2023-10-13T12:09:26.861Z"
   },
   {
    "duration": 15,
    "start_time": "2023-10-13T12:09:38.694Z"
   },
   {
    "duration": 18,
    "start_time": "2023-10-13T12:09:44.983Z"
   },
   {
    "duration": 23,
    "start_time": "2023-10-13T12:10:21.290Z"
   },
   {
    "duration": 129,
    "start_time": "2023-10-13T12:13:10.210Z"
   },
   {
    "duration": 4,
    "start_time": "2023-10-13T12:44:50.183Z"
   },
   {
    "duration": 8,
    "start_time": "2023-10-13T12:45:02.207Z"
   },
   {
    "duration": 19,
    "start_time": "2023-10-13T12:45:15.937Z"
   },
   {
    "duration": 45,
    "start_time": "2023-10-14T12:02:35.944Z"
   },
   {
    "duration": 1508,
    "start_time": "2023-10-14T12:02:39.974Z"
   },
   {
    "duration": 179,
    "start_time": "2023-10-14T12:02:45.973Z"
   },
   {
    "duration": 281,
    "start_time": "2023-10-14T12:09:47.197Z"
   },
   {
    "duration": 280,
    "start_time": "2023-10-14T12:09:49.904Z"
   },
   {
    "duration": 328,
    "start_time": "2023-10-14T12:09:58.988Z"
   },
   {
    "duration": 792,
    "start_time": "2023-10-14T12:46:33.261Z"
   },
   {
    "duration": 1066,
    "start_time": "2023-10-14T12:49:28.613Z"
   },
   {
    "duration": 1044,
    "start_time": "2023-10-14T12:49:59.319Z"
   },
   {
    "duration": 1128,
    "start_time": "2023-10-14T12:50:14.825Z"
   },
   {
    "duration": 1437,
    "start_time": "2023-10-14T12:52:15.007Z"
   },
   {
    "duration": 1259,
    "start_time": "2023-10-14T12:52:26.215Z"
   },
   {
    "duration": 1452,
    "start_time": "2023-10-14T12:52:45.254Z"
   },
   {
    "duration": 168,
    "start_time": "2023-10-14T12:56:03.454Z"
   },
   {
    "duration": 169,
    "start_time": "2023-10-14T12:56:05.220Z"
   },
   {
    "duration": 14,
    "start_time": "2023-10-14T13:02:25.677Z"
   },
   {
    "duration": 97,
    "start_time": "2023-10-14T13:16:56.288Z"
   },
   {
    "duration": 12,
    "start_time": "2023-10-14T13:18:10.691Z"
   },
   {
    "duration": 12,
    "start_time": "2023-10-14T13:18:21.760Z"
   },
   {
    "duration": 184,
    "start_time": "2023-10-14T13:19:09.929Z"
   },
   {
    "duration": 276,
    "start_time": "2023-10-14T13:20:44.493Z"
   },
   {
    "duration": 543,
    "start_time": "2023-10-14T13:21:33.960Z"
   },
   {
    "duration": 586,
    "start_time": "2023-10-14T13:22:15.085Z"
   },
   {
    "duration": 651,
    "start_time": "2023-10-14T13:23:39.357Z"
   },
   {
    "duration": 784,
    "start_time": "2023-10-14T13:24:50.993Z"
   },
   {
    "duration": 21,
    "start_time": "2023-10-14T13:25:45.133Z"
   },
   {
    "duration": 1199,
    "start_time": "2023-10-14T13:26:32.574Z"
   },
   {
    "duration": 17,
    "start_time": "2023-10-14T13:26:33.774Z"
   },
   {
    "duration": 128,
    "start_time": "2023-10-14T13:26:33.792Z"
   },
   {
    "duration": 827,
    "start_time": "2023-10-14T13:26:33.922Z"
   },
   {
    "duration": 308,
    "start_time": "2023-10-14T13:26:34.751Z"
   },
   {
    "duration": 1393,
    "start_time": "2023-10-14T13:26:35.061Z"
   },
   {
    "duration": 26,
    "start_time": "2023-10-14T13:28:01.030Z"
   },
   {
    "duration": 24,
    "start_time": "2023-10-14T13:28:05.104Z"
   },
   {
    "duration": 23,
    "start_time": "2023-10-14T13:28:07.567Z"
   },
   {
    "duration": 290,
    "start_time": "2023-10-14T13:28:39.038Z"
   },
   {
    "duration": 33,
    "start_time": "2023-10-14T13:35:15.270Z"
   },
   {
    "duration": 31,
    "start_time": "2023-10-14T13:39:12.770Z"
   },
   {
    "duration": 6,
    "start_time": "2023-10-14T13:39:50.789Z"
   },
   {
    "duration": 174,
    "start_time": "2023-10-14T13:41:36.640Z"
   },
   {
    "duration": 1221,
    "start_time": "2023-10-14T13:42:13.117Z"
   },
   {
    "duration": 18,
    "start_time": "2023-10-14T13:42:14.340Z"
   },
   {
    "duration": 124,
    "start_time": "2023-10-14T13:42:14.359Z"
   },
   {
    "duration": 296,
    "start_time": "2023-10-14T13:42:14.485Z"
   },
   {
    "duration": 41,
    "start_time": "2023-10-14T13:42:14.783Z"
   },
   {
    "duration": 49,
    "start_time": "2023-10-14T13:42:14.825Z"
   },
   {
    "duration": 193,
    "start_time": "2023-10-14T13:42:14.876Z"
   },
   {
    "duration": 296,
    "start_time": "2023-10-14T13:42:15.071Z"
   },
   {
    "duration": 1306,
    "start_time": "2023-10-14T13:42:15.369Z"
   },
   {
    "duration": 91,
    "start_time": "2023-10-14T13:42:18.669Z"
   },
   {
    "duration": 11,
    "start_time": "2023-10-14T13:42:26.401Z"
   },
   {
    "duration": 75,
    "start_time": "2023-10-14T13:42:29.722Z"
   },
   {
    "duration": 266,
    "start_time": "2023-10-14T13:42:33.706Z"
   },
   {
    "duration": 34,
    "start_time": "2023-10-14T13:42:35.536Z"
   },
   {
    "duration": 28,
    "start_time": "2023-10-14T13:42:36.687Z"
   },
   {
    "duration": 203,
    "start_time": "2023-10-14T13:42:44.237Z"
   },
   {
    "duration": 300,
    "start_time": "2023-10-14T13:44:02.933Z"
   },
   {
    "duration": 381,
    "start_time": "2023-10-14T13:44:58.615Z"
   },
   {
    "duration": 309,
    "start_time": "2023-10-14T13:45:21.149Z"
   },
   {
    "duration": 233,
    "start_time": "2023-10-14T13:48:38.438Z"
   },
   {
    "duration": 230,
    "start_time": "2023-10-14T13:48:44.419Z"
   },
   {
    "duration": 242,
    "start_time": "2023-10-14T13:48:58.282Z"
   },
   {
    "duration": 316,
    "start_time": "2023-10-14T13:48:59.564Z"
   },
   {
    "duration": 164,
    "start_time": "2023-10-14T13:49:00.819Z"
   },
   {
    "duration": 153,
    "start_time": "2023-10-14T13:49:01.977Z"
   },
   {
    "duration": 2,
    "start_time": "2023-10-14T13:49:03.048Z"
   },
   {
    "duration": 2,
    "start_time": "2023-10-14T14:32:10.253Z"
   },
   {
    "duration": 93,
    "start_time": "2023-10-14T14:34:33.234Z"
   },
   {
    "duration": 1151,
    "start_time": "2023-10-14T14:34:55.142Z"
   },
   {
    "duration": 14,
    "start_time": "2023-10-14T14:34:56.295Z"
   },
   {
    "duration": 128,
    "start_time": "2023-10-14T14:34:56.311Z"
   },
   {
    "duration": 281,
    "start_time": "2023-10-14T14:34:56.441Z"
   },
   {
    "duration": 44,
    "start_time": "2023-10-14T14:34:56.724Z"
   },
   {
    "duration": 35,
    "start_time": "2023-10-14T14:34:56.769Z"
   },
   {
    "duration": 186,
    "start_time": "2023-10-14T14:34:56.805Z"
   },
   {
    "duration": 334,
    "start_time": "2023-10-14T14:34:56.992Z"
   },
   {
    "duration": 237,
    "start_time": "2023-10-14T14:34:57.327Z"
   },
   {
    "duration": 286,
    "start_time": "2023-10-14T14:34:57.566Z"
   },
   {
    "duration": 235,
    "start_time": "2023-10-14T14:34:57.854Z"
   },
   {
    "duration": 238,
    "start_time": "2023-10-14T14:34:58.091Z"
   },
   {
    "duration": 162,
    "start_time": "2023-10-14T14:34:58.331Z"
   },
   {
    "duration": 163,
    "start_time": "2023-10-14T14:34:58.495Z"
   },
   {
    "duration": 102,
    "start_time": "2023-10-14T14:34:58.659Z"
   },
   {
    "duration": 0,
    "start_time": "2023-10-14T14:34:58.763Z"
   },
   {
    "duration": 0,
    "start_time": "2023-10-14T14:34:58.764Z"
   },
   {
    "duration": 0,
    "start_time": "2023-10-14T14:34:58.765Z"
   },
   {
    "duration": 91,
    "start_time": "2023-10-14T14:35:09.255Z"
   },
   {
    "duration": 17,
    "start_time": "2023-10-14T14:35:12.064Z"
   },
   {
    "duration": 73,
    "start_time": "2023-10-14T14:35:12.836Z"
   },
   {
    "duration": 260,
    "start_time": "2023-10-14T14:35:14.010Z"
   },
   {
    "duration": 35,
    "start_time": "2023-10-14T14:35:14.692Z"
   },
   {
    "duration": 31,
    "start_time": "2023-10-14T14:35:15.580Z"
   },
   {
    "duration": 185,
    "start_time": "2023-10-14T14:35:16.425Z"
   },
   {
    "duration": 381,
    "start_time": "2023-10-14T14:35:18.405Z"
   },
   {
    "duration": 235,
    "start_time": "2023-10-14T14:35:20.257Z"
   },
   {
    "duration": 226,
    "start_time": "2023-10-14T14:35:21.909Z"
   },
   {
    "duration": 227,
    "start_time": "2023-10-14T14:35:23.293Z"
   },
   {
    "duration": 226,
    "start_time": "2023-10-14T14:35:24.631Z"
   },
   {
    "duration": 141,
    "start_time": "2023-10-14T14:35:26.078Z"
   },
   {
    "duration": 159,
    "start_time": "2023-10-14T14:35:28.514Z"
   },
   {
    "duration": 13,
    "start_time": "2023-10-14T14:35:31.767Z"
   },
   {
    "duration": 231,
    "start_time": "2023-10-14T14:35:36.144Z"
   },
   {
    "duration": 143,
    "start_time": "2023-10-14T14:35:41.258Z"
   },
   {
    "duration": 151,
    "start_time": "2023-10-14T14:35:45.394Z"
   },
   {
    "duration": 2,
    "start_time": "2023-10-14T14:36:19.419Z"
   },
   {
    "duration": 250,
    "start_time": "2023-10-14T14:52:52.893Z"
   },
   {
    "duration": 240,
    "start_time": "2023-10-14T14:53:02.799Z"
   },
   {
    "duration": 259,
    "start_time": "2023-10-14T14:54:09.360Z"
   },
   {
    "duration": 235,
    "start_time": "2023-10-14T14:54:16.619Z"
   },
   {
    "duration": 311,
    "start_time": "2023-10-14T14:54:20.478Z"
   },
   {
    "duration": 202,
    "start_time": "2023-10-14T14:54:28.678Z"
   },
   {
    "duration": 151,
    "start_time": "2023-10-14T14:54:34.477Z"
   },
   {
    "duration": 233,
    "start_time": "2023-10-14T14:54:38.059Z"
   },
   {
    "duration": 254,
    "start_time": "2023-10-14T14:54:45.380Z"
   },
   {
    "duration": 1171,
    "start_time": "2023-10-14T14:54:59.958Z"
   },
   {
    "duration": 16,
    "start_time": "2023-10-14T14:55:01.130Z"
   },
   {
    "duration": 132,
    "start_time": "2023-10-14T14:55:01.148Z"
   },
   {
    "duration": 329,
    "start_time": "2023-10-14T14:55:01.282Z"
   },
   {
    "duration": 54,
    "start_time": "2023-10-14T14:55:01.613Z"
   },
   {
    "duration": 72,
    "start_time": "2023-10-14T14:55:01.669Z"
   },
   {
    "duration": 219,
    "start_time": "2023-10-14T14:55:01.742Z"
   },
   {
    "duration": 397,
    "start_time": "2023-10-14T14:55:01.963Z"
   },
   {
    "duration": 324,
    "start_time": "2023-10-14T14:55:02.361Z"
   },
   {
    "duration": 300,
    "start_time": "2023-10-14T14:55:02.687Z"
   },
   {
    "duration": 286,
    "start_time": "2023-10-14T14:55:02.989Z"
   },
   {
    "duration": 264,
    "start_time": "2023-10-14T14:55:03.277Z"
   },
   {
    "duration": 194,
    "start_time": "2023-10-14T14:55:03.542Z"
   },
   {
    "duration": 160,
    "start_time": "2023-10-14T14:55:03.737Z"
   },
   {
    "duration": 2,
    "start_time": "2023-10-14T14:55:03.898Z"
   },
   {
    "duration": 188,
    "start_time": "2023-10-14T14:55:03.902Z"
   },
   {
    "duration": 162,
    "start_time": "2023-10-14T14:55:04.091Z"
   },
   {
    "duration": 190,
    "start_time": "2023-10-14T14:55:04.254Z"
   },
   {
    "duration": 326,
    "start_time": "2023-10-14T14:55:25.416Z"
   },
   {
    "duration": 239,
    "start_time": "2023-10-14T14:55:35.207Z"
   },
   {
    "duration": 118,
    "start_time": "2023-10-14T15:17:14.076Z"
   },
   {
    "duration": 243,
    "start_time": "2023-10-14T15:20:11.174Z"
   },
   {
    "duration": 3,
    "start_time": "2023-10-14T15:20:58.887Z"
   },
   {
    "duration": 106,
    "start_time": "2023-10-14T15:21:15.695Z"
   },
   {
    "duration": 120,
    "start_time": "2023-10-14T15:21:23.944Z"
   },
   {
    "duration": 484,
    "start_time": "2023-10-14T15:22:08.780Z"
   },
   {
    "duration": 1159,
    "start_time": "2023-10-14T15:22:24.684Z"
   },
   {
    "duration": 19,
    "start_time": "2023-10-14T15:22:25.845Z"
   },
   {
    "duration": 131,
    "start_time": "2023-10-14T15:22:25.866Z"
   },
   {
    "duration": 313,
    "start_time": "2023-10-14T15:22:25.999Z"
   },
   {
    "duration": 60,
    "start_time": "2023-10-14T15:22:26.314Z"
   },
   {
    "duration": 38,
    "start_time": "2023-10-14T15:22:26.377Z"
   },
   {
    "duration": 209,
    "start_time": "2023-10-14T15:22:26.417Z"
   },
   {
    "duration": 335,
    "start_time": "2023-10-14T15:22:26.628Z"
   },
   {
    "duration": 252,
    "start_time": "2023-10-14T15:22:26.965Z"
   },
   {
    "duration": 304,
    "start_time": "2023-10-14T15:22:27.220Z"
   },
   {
    "duration": 262,
    "start_time": "2023-10-14T15:22:27.526Z"
   },
   {
    "duration": 289,
    "start_time": "2023-10-14T15:22:27.790Z"
   },
   {
    "duration": 163,
    "start_time": "2023-10-14T15:22:28.080Z"
   },
   {
    "duration": 163,
    "start_time": "2023-10-14T15:22:28.244Z"
   },
   {
    "duration": 119,
    "start_time": "2023-10-14T15:22:28.409Z"
   },
   {
    "duration": 175,
    "start_time": "2023-10-14T15:22:28.539Z"
   },
   {
    "duration": 162,
    "start_time": "2023-10-14T15:22:28.715Z"
   },
   {
    "duration": 186,
    "start_time": "2023-10-14T15:22:28.880Z"
   },
   {
    "duration": 615,
    "start_time": "2023-10-14T15:22:29.068Z"
   },
   {
    "duration": 551,
    "start_time": "2023-10-14T15:22:35.865Z"
   },
   {
    "duration": 373,
    "start_time": "2023-10-14T15:30:22.291Z"
   },
   {
    "duration": 246,
    "start_time": "2023-10-14T15:30:35.803Z"
   },
   {
    "duration": 344,
    "start_time": "2023-10-14T15:31:34.236Z"
   },
   {
    "duration": 263,
    "start_time": "2023-10-14T15:31:45.550Z"
   },
   {
    "duration": 176,
    "start_time": "2023-10-14T15:32:20.481Z"
   },
   {
    "duration": 159,
    "start_time": "2023-10-14T15:33:58.050Z"
   },
   {
    "duration": 232,
    "start_time": "2023-10-14T15:34:03.176Z"
   },
   {
    "duration": 270,
    "start_time": "2023-10-14T15:34:25.272Z"
   },
   {
    "duration": 161,
    "start_time": "2023-10-14T15:34:33.710Z"
   },
   {
    "duration": 154,
    "start_time": "2023-10-14T15:36:59.348Z"
   },
   {
    "duration": 159,
    "start_time": "2023-10-14T15:37:08.191Z"
   },
   {
    "duration": 314,
    "start_time": "2023-10-14T15:37:43.383Z"
   },
   {
    "duration": 30,
    "start_time": "2023-10-14T16:01:48.079Z"
   },
   {
    "duration": 512,
    "start_time": "2023-10-14T16:01:57.091Z"
   },
   {
    "duration": 130,
    "start_time": "2023-10-14T16:04:55.091Z"
   },
   {
    "duration": 177,
    "start_time": "2023-10-14T16:06:00.643Z"
   },
   {
    "duration": 148,
    "start_time": "2023-10-14T16:07:25.733Z"
   },
   {
    "duration": 255,
    "start_time": "2023-10-14T16:08:59.162Z"
   },
   {
    "duration": 162,
    "start_time": "2023-10-14T16:10:01.714Z"
   },
   {
    "duration": 163,
    "start_time": "2023-10-14T16:11:26.702Z"
   },
   {
    "duration": 166,
    "start_time": "2023-10-14T16:26:29.630Z"
   },
   {
    "duration": 22,
    "start_time": "2023-10-14T16:31:37.399Z"
   },
   {
    "duration": 134,
    "start_time": "2023-10-14T16:33:16.133Z"
   },
   {
    "duration": 32,
    "start_time": "2023-10-14T16:45:28.235Z"
   },
   {
    "duration": 22,
    "start_time": "2023-10-14T16:45:52.300Z"
   },
   {
    "duration": 8,
    "start_time": "2023-10-14T16:46:02.694Z"
   },
   {
    "duration": 6,
    "start_time": "2023-10-14T16:46:09.696Z"
   },
   {
    "duration": 157,
    "start_time": "2023-10-14T16:51:45.528Z"
   },
   {
    "duration": 51,
    "start_time": "2023-10-15T13:20:40.427Z"
   },
   {
    "duration": 2132,
    "start_time": "2023-10-15T13:20:52.078Z"
   },
   {
    "duration": 18,
    "start_time": "2023-10-15T13:20:54.212Z"
   },
   {
    "duration": 132,
    "start_time": "2023-10-15T13:20:54.233Z"
   },
   {
    "duration": 335,
    "start_time": "2023-10-15T13:20:54.366Z"
   },
   {
    "duration": 54,
    "start_time": "2023-10-15T13:20:54.702Z"
   },
   {
    "duration": 52,
    "start_time": "2023-10-15T13:20:54.758Z"
   },
   {
    "duration": 201,
    "start_time": "2023-10-15T13:20:54.812Z"
   },
   {
    "duration": 355,
    "start_time": "2023-10-15T13:20:55.015Z"
   },
   {
    "duration": 293,
    "start_time": "2023-10-15T13:20:55.372Z"
   },
   {
    "duration": 414,
    "start_time": "2023-10-15T13:20:55.666Z"
   },
   {
    "duration": 295,
    "start_time": "2023-10-15T13:20:56.082Z"
   },
   {
    "duration": 296,
    "start_time": "2023-10-15T13:20:56.379Z"
   },
   {
    "duration": 210,
    "start_time": "2023-10-15T13:20:56.677Z"
   },
   {
    "duration": 205,
    "start_time": "2023-10-15T13:20:56.888Z"
   },
   {
    "duration": 126,
    "start_time": "2023-10-15T13:20:57.094Z"
   },
   {
    "duration": 213,
    "start_time": "2023-10-15T13:20:57.222Z"
   },
   {
    "duration": 202,
    "start_time": "2023-10-15T13:20:57.438Z"
   },
   {
    "duration": 208,
    "start_time": "2023-10-15T13:20:57.641Z"
   },
   {
    "duration": 657,
    "start_time": "2023-10-15T13:20:57.851Z"
   },
   {
    "duration": 146,
    "start_time": "2023-10-15T13:20:58.510Z"
   },
   {
    "duration": 182,
    "start_time": "2023-10-15T13:20:58.658Z"
   },
   {
    "duration": 169,
    "start_time": "2023-10-15T13:20:58.842Z"
   },
   {
    "duration": 156,
    "start_time": "2023-10-15T13:20:59.013Z"
   },
   {
    "duration": 173,
    "start_time": "2023-10-15T13:20:59.171Z"
   },
   {
    "duration": 155,
    "start_time": "2023-10-15T13:20:59.345Z"
   },
   {
    "duration": 154,
    "start_time": "2023-10-15T13:20:59.506Z"
   },
   {
    "duration": 61,
    "start_time": "2023-10-15T13:20:59.663Z"
   },
   {
    "duration": 7,
    "start_time": "2023-10-15T13:20:59.726Z"
   },
   {
    "duration": 29,
    "start_time": "2023-10-15T13:20:59.735Z"
   },
   {
    "duration": 213,
    "start_time": "2023-10-15T13:20:59.766Z"
   },
   {
    "duration": 238,
    "start_time": "2023-10-15T13:22:18.923Z"
   },
   {
    "duration": 171,
    "start_time": "2023-10-15T13:22:27.303Z"
   },
   {
    "duration": 145,
    "start_time": "2023-10-15T13:24:52.267Z"
   },
   {
    "duration": 282,
    "start_time": "2023-10-15T13:52:25.567Z"
   },
   {
    "duration": 155,
    "start_time": "2023-10-15T13:54:58.165Z"
   },
   {
    "duration": 1421,
    "start_time": "2023-10-15T14:43:00.817Z"
   },
   {
    "duration": 17,
    "start_time": "2023-10-15T14:43:02.240Z"
   },
   {
    "duration": 160,
    "start_time": "2023-10-15T14:43:02.258Z"
   },
   {
    "duration": 337,
    "start_time": "2023-10-15T14:43:02.421Z"
   },
   {
    "duration": 38,
    "start_time": "2023-10-15T14:43:02.760Z"
   },
   {
    "duration": 56,
    "start_time": "2023-10-15T14:43:02.800Z"
   },
   {
    "duration": 184,
    "start_time": "2023-10-15T14:43:02.858Z"
   },
   {
    "duration": 327,
    "start_time": "2023-10-15T14:43:03.044Z"
   },
   {
    "duration": 226,
    "start_time": "2023-10-15T14:43:03.372Z"
   },
   {
    "duration": 276,
    "start_time": "2023-10-15T14:43:03.602Z"
   },
   {
    "duration": 249,
    "start_time": "2023-10-15T14:43:03.879Z"
   },
   {
    "duration": 247,
    "start_time": "2023-10-15T14:43:04.130Z"
   },
   {
    "duration": 155,
    "start_time": "2023-10-15T14:43:04.378Z"
   },
   {
    "duration": 165,
    "start_time": "2023-10-15T14:43:04.535Z"
   },
   {
    "duration": 106,
    "start_time": "2023-10-15T14:43:04.701Z"
   },
   {
    "duration": 168,
    "start_time": "2023-10-15T14:43:04.808Z"
   },
   {
    "duration": 164,
    "start_time": "2023-10-15T14:43:04.978Z"
   },
   {
    "duration": 172,
    "start_time": "2023-10-15T14:43:05.143Z"
   },
   {
    "duration": 575,
    "start_time": "2023-10-15T14:43:05.316Z"
   },
   {
    "duration": 131,
    "start_time": "2023-10-15T14:43:05.892Z"
   },
   {
    "duration": 148,
    "start_time": "2023-10-15T14:43:06.024Z"
   },
   {
    "duration": 133,
    "start_time": "2023-10-15T14:43:06.174Z"
   },
   {
    "duration": 170,
    "start_time": "2023-10-15T14:43:06.309Z"
   },
   {
    "duration": 146,
    "start_time": "2023-10-15T14:43:06.481Z"
   },
   {
    "duration": 154,
    "start_time": "2023-10-15T14:43:06.628Z"
   },
   {
    "duration": 139,
    "start_time": "2023-10-15T14:43:06.784Z"
   },
   {
    "duration": 149,
    "start_time": "2023-10-15T14:43:06.924Z"
   },
   {
    "duration": 23,
    "start_time": "2023-10-15T14:43:07.076Z"
   },
   {
    "duration": 6,
    "start_time": "2023-10-15T14:43:07.101Z"
   },
   {
    "duration": 33,
    "start_time": "2023-10-15T14:43:07.109Z"
   },
   {
    "duration": 219,
    "start_time": "2023-10-15T14:43:07.143Z"
   },
   {
    "duration": 54,
    "start_time": "2023-10-16T19:19:47.340Z"
   },
   {
    "duration": 101,
    "start_time": "2023-10-16T19:19:53.428Z"
   },
   {
    "duration": 172,
    "start_time": "2023-10-16T19:19:56.923Z"
   },
   {
    "duration": 3624,
    "start_time": "2023-10-17T07:35:56.958Z"
   },
   {
    "duration": 148,
    "start_time": "2023-10-17T08:09:00.547Z"
   },
   {
    "duration": 3,
    "start_time": "2023-10-17T08:09:14.682Z"
   },
   {
    "duration": 3,
    "start_time": "2023-10-17T08:14:41.511Z"
   },
   {
    "duration": 120,
    "start_time": "2023-10-17T08:15:27.683Z"
   },
   {
    "duration": 79,
    "start_time": "2023-10-17T08:15:33.871Z"
   },
   {
    "duration": 85,
    "start_time": "2023-10-17T08:15:37.139Z"
   },
   {
    "duration": 16,
    "start_time": "2023-10-17T08:31:59.757Z"
   },
   {
    "duration": 98,
    "start_time": "2023-10-17T08:39:09.437Z"
   },
   {
    "duration": 12,
    "start_time": "2023-10-17T08:39:20.747Z"
   },
   {
    "duration": 16,
    "start_time": "2023-10-17T08:40:00.690Z"
   },
   {
    "duration": 1548,
    "start_time": "2023-10-17T08:42:20.405Z"
   },
   {
    "duration": 3108,
    "start_time": "2023-10-17T08:42:58.330Z"
   },
   {
    "duration": 15,
    "start_time": "2023-10-17T08:43:01.441Z"
   },
   {
    "duration": 307,
    "start_time": "2023-10-17T08:43:01.458Z"
   },
   {
    "duration": 626,
    "start_time": "2023-10-17T08:43:01.766Z"
   },
   {
    "duration": 45,
    "start_time": "2023-10-17T08:43:02.395Z"
   },
   {
    "duration": 58,
    "start_time": "2023-10-17T08:43:02.442Z"
   },
   {
    "duration": 112,
    "start_time": "2023-10-17T08:43:02.501Z"
   },
   {
    "duration": 238,
    "start_time": "2023-10-17T08:43:02.615Z"
   },
   {
    "duration": 336,
    "start_time": "2023-10-17T08:43:02.855Z"
   },
   {
    "duration": 252,
    "start_time": "2023-10-17T08:43:03.193Z"
   },
   {
    "duration": 0,
    "start_time": "2023-10-17T08:43:03.449Z"
   },
   {
    "duration": 0,
    "start_time": "2023-10-17T08:43:03.450Z"
   },
   {
    "duration": 0,
    "start_time": "2023-10-17T08:43:03.451Z"
   },
   {
    "duration": 0,
    "start_time": "2023-10-17T08:43:03.452Z"
   },
   {
    "duration": 0,
    "start_time": "2023-10-17T08:43:03.453Z"
   },
   {
    "duration": 0,
    "start_time": "2023-10-17T08:43:03.455Z"
   },
   {
    "duration": 0,
    "start_time": "2023-10-17T08:43:03.456Z"
   },
   {
    "duration": 0,
    "start_time": "2023-10-17T08:43:03.457Z"
   },
   {
    "duration": 0,
    "start_time": "2023-10-17T08:43:03.458Z"
   },
   {
    "duration": 0,
    "start_time": "2023-10-17T08:43:03.459Z"
   },
   {
    "duration": 0,
    "start_time": "2023-10-17T08:43:03.460Z"
   },
   {
    "duration": 0,
    "start_time": "2023-10-17T08:43:03.461Z"
   },
   {
    "duration": 0,
    "start_time": "2023-10-17T08:43:03.462Z"
   },
   {
    "duration": 0,
    "start_time": "2023-10-17T08:43:03.464Z"
   },
   {
    "duration": 0,
    "start_time": "2023-10-17T08:43:03.465Z"
   },
   {
    "duration": 0,
    "start_time": "2023-10-17T08:43:03.465Z"
   },
   {
    "duration": 0,
    "start_time": "2023-10-17T08:43:03.467Z"
   },
   {
    "duration": 0,
    "start_time": "2023-10-17T08:43:03.468Z"
   },
   {
    "duration": 0,
    "start_time": "2023-10-17T08:43:03.507Z"
   },
   {
    "duration": 0,
    "start_time": "2023-10-17T08:43:03.509Z"
   },
   {
    "duration": 0,
    "start_time": "2023-10-17T08:43:03.510Z"
   },
   {
    "duration": 0,
    "start_time": "2023-10-17T08:43:03.511Z"
   },
   {
    "duration": 0,
    "start_time": "2023-10-17T08:43:03.512Z"
   },
   {
    "duration": 130,
    "start_time": "2023-10-17T08:43:32.628Z"
   },
   {
    "duration": 124,
    "start_time": "2023-10-17T08:43:48.955Z"
   },
   {
    "duration": 164,
    "start_time": "2023-10-17T08:44:09.731Z"
   },
   {
    "duration": 197,
    "start_time": "2023-10-17T08:44:54.931Z"
   },
   {
    "duration": 170,
    "start_time": "2023-10-17T08:45:00.133Z"
   },
   {
    "duration": 268,
    "start_time": "2023-10-17T08:45:44.723Z"
   },
   {
    "duration": 176,
    "start_time": "2023-10-17T08:46:01.271Z"
   },
   {
    "duration": 143,
    "start_time": "2023-10-17T08:47:12.964Z"
   },
   {
    "duration": 165,
    "start_time": "2023-10-17T08:47:24.808Z"
   },
   {
    "duration": 162,
    "start_time": "2023-10-17T08:48:25.023Z"
   },
   {
    "duration": 165,
    "start_time": "2023-10-17T08:49:59.857Z"
   },
   {
    "duration": 177,
    "start_time": "2023-10-17T08:53:38.616Z"
   },
   {
    "duration": 176,
    "start_time": "2023-10-17T08:55:07.337Z"
   },
   {
    "duration": 163,
    "start_time": "2023-10-17T08:55:31.259Z"
   },
   {
    "duration": 187,
    "start_time": "2023-10-17T09:00:01.296Z"
   },
   {
    "duration": 11,
    "start_time": "2023-10-17T09:00:22.723Z"
   },
   {
    "duration": 309,
    "start_time": "2023-10-17T09:00:44.843Z"
   },
   {
    "duration": 10,
    "start_time": "2023-10-17T09:00:50.858Z"
   },
   {
    "duration": 3411,
    "start_time": "2023-10-17T09:01:44.403Z"
   },
   {
    "duration": 95,
    "start_time": "2023-10-17T09:01:47.816Z"
   },
   {
    "duration": 120,
    "start_time": "2023-10-17T09:01:47.913Z"
   },
   {
    "duration": 326,
    "start_time": "2023-10-17T09:01:48.035Z"
   },
   {
    "duration": 46,
    "start_time": "2023-10-17T09:01:48.363Z"
   },
   {
    "duration": 33,
    "start_time": "2023-10-17T09:01:48.411Z"
   },
   {
    "duration": 16,
    "start_time": "2023-10-17T09:01:48.445Z"
   },
   {
    "duration": 208,
    "start_time": "2023-10-17T09:01:48.463Z"
   },
   {
    "duration": 336,
    "start_time": "2023-10-17T09:01:48.672Z"
   },
   {
    "duration": 99,
    "start_time": "2023-10-17T09:01:49.009Z"
   },
   {
    "duration": 0,
    "start_time": "2023-10-17T09:01:49.110Z"
   },
   {
    "duration": 0,
    "start_time": "2023-10-17T09:01:49.111Z"
   },
   {
    "duration": 0,
    "start_time": "2023-10-17T09:01:49.112Z"
   },
   {
    "duration": 0,
    "start_time": "2023-10-17T09:01:49.113Z"
   },
   {
    "duration": 0,
    "start_time": "2023-10-17T09:01:49.114Z"
   },
   {
    "duration": 0,
    "start_time": "2023-10-17T09:01:49.115Z"
   },
   {
    "duration": 0,
    "start_time": "2023-10-17T09:01:49.116Z"
   },
   {
    "duration": 0,
    "start_time": "2023-10-17T09:01:49.117Z"
   },
   {
    "duration": 0,
    "start_time": "2023-10-17T09:01:49.118Z"
   },
   {
    "duration": 0,
    "start_time": "2023-10-17T09:01:49.119Z"
   },
   {
    "duration": 0,
    "start_time": "2023-10-17T09:01:49.119Z"
   },
   {
    "duration": 0,
    "start_time": "2023-10-17T09:01:49.121Z"
   },
   {
    "duration": 0,
    "start_time": "2023-10-17T09:01:49.122Z"
   },
   {
    "duration": 0,
    "start_time": "2023-10-17T09:01:49.123Z"
   },
   {
    "duration": 0,
    "start_time": "2023-10-17T09:01:49.124Z"
   },
   {
    "duration": 0,
    "start_time": "2023-10-17T09:01:49.125Z"
   },
   {
    "duration": 0,
    "start_time": "2023-10-17T09:01:49.125Z"
   },
   {
    "duration": 0,
    "start_time": "2023-10-17T09:01:49.126Z"
   },
   {
    "duration": 0,
    "start_time": "2023-10-17T09:01:49.127Z"
   },
   {
    "duration": 0,
    "start_time": "2023-10-17T09:01:49.128Z"
   },
   {
    "duration": 0,
    "start_time": "2023-10-17T09:01:49.129Z"
   },
   {
    "duration": 0,
    "start_time": "2023-10-17T09:01:49.130Z"
   },
   {
    "duration": 0,
    "start_time": "2023-10-17T09:01:49.131Z"
   },
   {
    "duration": 10,
    "start_time": "2023-10-17T09:02:13.040Z"
   },
   {
    "duration": 150,
    "start_time": "2023-10-17T09:02:20.591Z"
   },
   {
    "duration": 3177,
    "start_time": "2023-10-17T09:05:16.133Z"
   },
   {
    "duration": 15,
    "start_time": "2023-10-17T09:05:19.312Z"
   },
   {
    "duration": 201,
    "start_time": "2023-10-17T09:05:19.328Z"
   },
   {
    "duration": 329,
    "start_time": "2023-10-17T09:05:19.531Z"
   },
   {
    "duration": 53,
    "start_time": "2023-10-17T09:05:19.861Z"
   },
   {
    "duration": 31,
    "start_time": "2023-10-17T09:05:19.916Z"
   },
   {
    "duration": 34,
    "start_time": "2023-10-17T09:05:19.949Z"
   },
   {
    "duration": 196,
    "start_time": "2023-10-17T09:05:19.984Z"
   },
   {
    "duration": 344,
    "start_time": "2023-10-17T09:05:20.181Z"
   },
   {
    "duration": 106,
    "start_time": "2023-10-17T09:05:20.527Z"
   },
   {
    "duration": 0,
    "start_time": "2023-10-17T09:05:20.635Z"
   },
   {
    "duration": 0,
    "start_time": "2023-10-17T09:05:20.635Z"
   },
   {
    "duration": 0,
    "start_time": "2023-10-17T09:05:20.637Z"
   },
   {
    "duration": 0,
    "start_time": "2023-10-17T09:05:20.638Z"
   },
   {
    "duration": 0,
    "start_time": "2023-10-17T09:05:20.639Z"
   },
   {
    "duration": 0,
    "start_time": "2023-10-17T09:05:20.640Z"
   },
   {
    "duration": 0,
    "start_time": "2023-10-17T09:05:20.641Z"
   },
   {
    "duration": 0,
    "start_time": "2023-10-17T09:05:20.642Z"
   },
   {
    "duration": 0,
    "start_time": "2023-10-17T09:05:20.643Z"
   },
   {
    "duration": 0,
    "start_time": "2023-10-17T09:05:20.644Z"
   },
   {
    "duration": 0,
    "start_time": "2023-10-17T09:05:20.645Z"
   },
   {
    "duration": 0,
    "start_time": "2023-10-17T09:05:20.646Z"
   },
   {
    "duration": 0,
    "start_time": "2023-10-17T09:05:20.647Z"
   },
   {
    "duration": 0,
    "start_time": "2023-10-17T09:05:20.648Z"
   },
   {
    "duration": 0,
    "start_time": "2023-10-17T09:05:20.649Z"
   },
   {
    "duration": 0,
    "start_time": "2023-10-17T09:05:20.650Z"
   },
   {
    "duration": 0,
    "start_time": "2023-10-17T09:05:20.651Z"
   },
   {
    "duration": 0,
    "start_time": "2023-10-17T09:05:20.652Z"
   },
   {
    "duration": 0,
    "start_time": "2023-10-17T09:05:20.653Z"
   },
   {
    "duration": 0,
    "start_time": "2023-10-17T09:05:20.654Z"
   },
   {
    "duration": 0,
    "start_time": "2023-10-17T09:05:20.656Z"
   },
   {
    "duration": 0,
    "start_time": "2023-10-17T09:05:20.657Z"
   },
   {
    "duration": 0,
    "start_time": "2023-10-17T09:05:20.657Z"
   },
   {
    "duration": 9,
    "start_time": "2023-10-17T09:05:35.341Z"
   },
   {
    "duration": 10,
    "start_time": "2023-10-17T09:06:25.902Z"
   },
   {
    "duration": 162,
    "start_time": "2023-10-17T09:07:28.652Z"
   },
   {
    "duration": 17,
    "start_time": "2023-10-17T09:08:34.780Z"
   },
   {
    "duration": 3244,
    "start_time": "2023-10-17T09:09:32.310Z"
   },
   {
    "duration": 15,
    "start_time": "2023-10-17T09:09:35.555Z"
   },
   {
    "duration": 201,
    "start_time": "2023-10-17T09:09:35.572Z"
   },
   {
    "duration": 345,
    "start_time": "2023-10-17T09:09:35.775Z"
   },
   {
    "duration": 43,
    "start_time": "2023-10-17T09:09:36.121Z"
   },
   {
    "duration": 49,
    "start_time": "2023-10-17T09:09:36.166Z"
   },
   {
    "duration": 27,
    "start_time": "2023-10-17T09:09:36.217Z"
   },
   {
    "duration": 235,
    "start_time": "2023-10-17T09:09:36.246Z"
   },
   {
    "duration": 393,
    "start_time": "2023-10-17T09:09:36.483Z"
   },
   {
    "duration": 111,
    "start_time": "2023-10-17T09:09:36.879Z"
   },
   {
    "duration": 0,
    "start_time": "2023-10-17T09:09:36.991Z"
   },
   {
    "duration": 0,
    "start_time": "2023-10-17T09:09:36.992Z"
   },
   {
    "duration": 0,
    "start_time": "2023-10-17T09:09:36.993Z"
   },
   {
    "duration": 0,
    "start_time": "2023-10-17T09:09:36.994Z"
   },
   {
    "duration": 0,
    "start_time": "2023-10-17T09:09:36.995Z"
   },
   {
    "duration": 0,
    "start_time": "2023-10-17T09:09:37.006Z"
   },
   {
    "duration": 0,
    "start_time": "2023-10-17T09:09:37.008Z"
   },
   {
    "duration": 0,
    "start_time": "2023-10-17T09:09:37.009Z"
   },
   {
    "duration": 0,
    "start_time": "2023-10-17T09:09:37.010Z"
   },
   {
    "duration": 0,
    "start_time": "2023-10-17T09:09:37.011Z"
   },
   {
    "duration": 0,
    "start_time": "2023-10-17T09:09:37.013Z"
   },
   {
    "duration": 0,
    "start_time": "2023-10-17T09:09:37.014Z"
   },
   {
    "duration": 0,
    "start_time": "2023-10-17T09:09:37.016Z"
   },
   {
    "duration": 0,
    "start_time": "2023-10-17T09:09:37.017Z"
   },
   {
    "duration": 0,
    "start_time": "2023-10-17T09:09:37.018Z"
   },
   {
    "duration": 0,
    "start_time": "2023-10-17T09:09:37.019Z"
   },
   {
    "duration": 0,
    "start_time": "2023-10-17T09:09:37.020Z"
   },
   {
    "duration": 0,
    "start_time": "2023-10-17T09:09:37.021Z"
   },
   {
    "duration": 0,
    "start_time": "2023-10-17T09:09:37.022Z"
   },
   {
    "duration": 0,
    "start_time": "2023-10-17T09:09:37.023Z"
   },
   {
    "duration": 0,
    "start_time": "2023-10-17T09:09:37.024Z"
   },
   {
    "duration": 0,
    "start_time": "2023-10-17T09:09:37.025Z"
   },
   {
    "duration": 0,
    "start_time": "2023-10-17T09:09:37.026Z"
   },
   {
    "duration": 12,
    "start_time": "2023-10-17T09:09:49.776Z"
   },
   {
    "duration": 10,
    "start_time": "2023-10-17T09:11:06.483Z"
   },
   {
    "duration": 26,
    "start_time": "2023-10-17T09:12:55.272Z"
   },
   {
    "duration": 10,
    "start_time": "2023-10-17T09:13:17.373Z"
   },
   {
    "duration": 10,
    "start_time": "2023-10-17T09:13:27.770Z"
   },
   {
    "duration": 193,
    "start_time": "2023-10-17T09:16:16.492Z"
   },
   {
    "duration": 45,
    "start_time": "2023-10-17T09:20:31.478Z"
   },
   {
    "duration": 60,
    "start_time": "2023-10-17T15:40:28.482Z"
   },
   {
    "duration": 3707,
    "start_time": "2023-10-17T15:40:38.598Z"
   },
   {
    "duration": 266,
    "start_time": "2023-10-17T15:40:55.863Z"
   },
   {
    "duration": 168,
    "start_time": "2023-10-17T15:41:13.392Z"
   },
   {
    "duration": 169,
    "start_time": "2023-10-17T15:41:21.520Z"
   },
   {
    "duration": 186,
    "start_time": "2023-10-17T15:41:31.443Z"
   },
   {
    "duration": 98,
    "start_time": "2023-10-17T15:41:44.728Z"
   },
   {
    "duration": 13,
    "start_time": "2023-10-17T15:41:58.333Z"
   },
   {
    "duration": 14,
    "start_time": "2023-10-17T15:41:59.314Z"
   },
   {
    "duration": 20,
    "start_time": "2023-10-17T15:42:17.187Z"
   },
   {
    "duration": 13,
    "start_time": "2023-10-17T15:42:25.830Z"
   },
   {
    "duration": 14,
    "start_time": "2023-10-17T15:42:29.142Z"
   },
   {
    "duration": 3519,
    "start_time": "2023-10-17T15:42:34.790Z"
   },
   {
    "duration": 17,
    "start_time": "2023-10-17T15:42:38.312Z"
   },
   {
    "duration": 236,
    "start_time": "2023-10-17T15:42:38.331Z"
   },
   {
    "duration": 390,
    "start_time": "2023-10-17T15:42:38.568Z"
   },
   {
    "duration": 52,
    "start_time": "2023-10-17T15:42:38.970Z"
   },
   {
    "duration": 38,
    "start_time": "2023-10-17T15:42:39.024Z"
   },
   {
    "duration": 41,
    "start_time": "2023-10-17T15:42:39.067Z"
   },
   {
    "duration": 251,
    "start_time": "2023-10-17T15:42:39.110Z"
   },
   {
    "duration": 381,
    "start_time": "2023-10-17T15:42:39.363Z"
   },
   {
    "duration": 206,
    "start_time": "2023-10-17T15:42:39.746Z"
   },
   {
    "duration": 325,
    "start_time": "2023-10-17T15:42:39.954Z"
   },
   {
    "duration": 315,
    "start_time": "2023-10-17T15:42:40.281Z"
   },
   {
    "duration": 483,
    "start_time": "2023-10-17T15:42:40.598Z"
   },
   {
    "duration": 356,
    "start_time": "2023-10-17T15:42:41.084Z"
   },
   {
    "duration": 242,
    "start_time": "2023-10-17T15:42:41.442Z"
   },
   {
    "duration": 243,
    "start_time": "2023-10-17T15:42:41.686Z"
   },
   {
    "duration": 178,
    "start_time": "2023-10-17T15:42:41.931Z"
   },
   {
    "duration": 278,
    "start_time": "2023-10-17T15:42:42.111Z"
   },
   {
    "duration": 220,
    "start_time": "2023-10-17T15:42:42.391Z"
   },
   {
    "duration": 226,
    "start_time": "2023-10-17T15:42:42.613Z"
   },
   {
    "duration": 813,
    "start_time": "2023-10-17T15:42:42.841Z"
   },
   {
    "duration": 174,
    "start_time": "2023-10-17T15:42:43.655Z"
   },
   {
    "duration": 258,
    "start_time": "2023-10-17T15:42:43.831Z"
   },
   {
    "duration": 165,
    "start_time": "2023-10-17T15:42:44.094Z"
   },
   {
    "duration": 187,
    "start_time": "2023-10-17T15:42:44.443Z"
   },
   {
    "duration": 205,
    "start_time": "2023-10-17T15:42:44.632Z"
   },
   {
    "duration": 216,
    "start_time": "2023-10-17T15:42:44.839Z"
   },
   {
    "duration": 223,
    "start_time": "2023-10-17T15:42:45.058Z"
   },
   {
    "duration": 26,
    "start_time": "2023-10-17T15:42:45.283Z"
   },
   {
    "duration": 24,
    "start_time": "2023-10-17T15:42:45.311Z"
   },
   {
    "duration": 43,
    "start_time": "2023-10-17T15:42:45.336Z"
   },
   {
    "duration": 216,
    "start_time": "2023-10-17T15:42:45.385Z"
   },
   {
    "duration": 187,
    "start_time": "2023-10-17T15:42:45.605Z"
   },
   {
    "duration": 197,
    "start_time": "2023-10-17T15:42:52.561Z"
   },
   {
    "duration": 196,
    "start_time": "2023-10-17T15:42:58.842Z"
   },
   {
    "duration": 346,
    "start_time": "2023-10-17T15:43:04.604Z"
   },
   {
    "duration": 174,
    "start_time": "2023-10-17T15:43:10.090Z"
   },
   {
    "duration": 32,
    "start_time": "2023-10-17T15:43:13.957Z"
   },
   {
    "duration": 9,
    "start_time": "2023-10-17T15:43:24.633Z"
   },
   {
    "duration": 14,
    "start_time": "2023-10-17T15:43:27.662Z"
   },
   {
    "duration": 181,
    "start_time": "2023-10-17T16:42:58.312Z"
   },
   {
    "duration": 161,
    "start_time": "2023-10-17T16:43:24.854Z"
   },
   {
    "duration": 79,
    "start_time": "2023-10-17T18:48:41.761Z"
   },
   {
    "duration": 4114,
    "start_time": "2023-10-17T18:48:49.068Z"
   },
   {
    "duration": 1500,
    "start_time": "2023-10-17T18:48:58.842Z"
   },
   {
    "duration": 1211,
    "start_time": "2023-10-17T18:49:05.405Z"
   },
   {
    "duration": 1281,
    "start_time": "2023-10-17T18:49:51.592Z"
   },
   {
    "duration": 6,
    "start_time": "2023-10-17T19:01:25.468Z"
   },
   {
    "duration": 13,
    "start_time": "2023-10-17T19:01:59.721Z"
   },
   {
    "duration": 3,
    "start_time": "2023-10-17T19:02:06.461Z"
   },
   {
    "duration": 3,
    "start_time": "2023-10-17T19:02:24.691Z"
   },
   {
    "duration": 3,
    "start_time": "2023-10-17T19:03:03.384Z"
   },
   {
    "duration": 3,
    "start_time": "2023-10-17T19:04:36.735Z"
   },
   {
    "duration": 3482,
    "start_time": "2023-10-17T19:04:51.804Z"
   },
   {
    "duration": 15,
    "start_time": "2023-10-17T19:04:55.288Z"
   },
   {
    "duration": 90,
    "start_time": "2023-10-17T19:04:55.305Z"
   },
   {
    "duration": 137,
    "start_time": "2023-10-17T19:04:55.406Z"
   },
   {
    "duration": 363,
    "start_time": "2023-10-17T19:04:55.546Z"
   },
   {
    "duration": 57,
    "start_time": "2023-10-17T19:04:55.912Z"
   },
   {
    "duration": 59,
    "start_time": "2023-10-17T19:04:55.971Z"
   },
   {
    "duration": 19,
    "start_time": "2023-10-17T19:04:56.032Z"
   },
   {
    "duration": 1856,
    "start_time": "2023-10-17T19:04:56.054Z"
   },
   {
    "duration": 0,
    "start_time": "2023-10-17T19:04:57.913Z"
   },
   {
    "duration": 0,
    "start_time": "2023-10-17T19:04:57.914Z"
   },
   {
    "duration": 0,
    "start_time": "2023-10-17T19:04:57.916Z"
   },
   {
    "duration": 0,
    "start_time": "2023-10-17T19:04:57.917Z"
   },
   {
    "duration": 0,
    "start_time": "2023-10-17T19:04:57.918Z"
   },
   {
    "duration": 0,
    "start_time": "2023-10-17T19:04:57.918Z"
   },
   {
    "duration": 0,
    "start_time": "2023-10-17T19:04:57.920Z"
   },
   {
    "duration": 0,
    "start_time": "2023-10-17T19:04:57.921Z"
   },
   {
    "duration": 0,
    "start_time": "2023-10-17T19:04:57.922Z"
   },
   {
    "duration": 0,
    "start_time": "2023-10-17T19:04:57.923Z"
   },
   {
    "duration": 0,
    "start_time": "2023-10-17T19:04:57.924Z"
   },
   {
    "duration": 0,
    "start_time": "2023-10-17T19:04:57.925Z"
   },
   {
    "duration": 0,
    "start_time": "2023-10-17T19:04:57.926Z"
   },
   {
    "duration": 0,
    "start_time": "2023-10-17T19:04:57.927Z"
   },
   {
    "duration": 0,
    "start_time": "2023-10-17T19:04:57.928Z"
   },
   {
    "duration": 0,
    "start_time": "2023-10-17T19:04:57.929Z"
   },
   {
    "duration": 0,
    "start_time": "2023-10-17T19:04:57.931Z"
   },
   {
    "duration": 0,
    "start_time": "2023-10-17T19:04:57.932Z"
   },
   {
    "duration": 0,
    "start_time": "2023-10-17T19:04:57.933Z"
   },
   {
    "duration": 0,
    "start_time": "2023-10-17T19:04:57.934Z"
   },
   {
    "duration": 0,
    "start_time": "2023-10-17T19:04:57.935Z"
   },
   {
    "duration": 0,
    "start_time": "2023-10-17T19:04:57.937Z"
   },
   {
    "duration": 0,
    "start_time": "2023-10-17T19:04:57.939Z"
   },
   {
    "duration": 0,
    "start_time": "2023-10-17T19:04:57.940Z"
   },
   {
    "duration": 0,
    "start_time": "2023-10-17T19:04:57.941Z"
   },
   {
    "duration": 0,
    "start_time": "2023-10-17T19:04:57.943Z"
   },
   {
    "duration": 0,
    "start_time": "2023-10-17T19:04:57.944Z"
   },
   {
    "duration": 9,
    "start_time": "2023-10-17T19:05:07.353Z"
   },
   {
    "duration": 2,
    "start_time": "2023-10-17T19:05:14.471Z"
   },
   {
    "duration": 14,
    "start_time": "2023-10-17T19:05:16.347Z"
   },
   {
    "duration": 2234,
    "start_time": "2023-10-17T19:05:29.718Z"
   },
   {
    "duration": 3,
    "start_time": "2023-10-17T19:05:37.855Z"
   },
   {
    "duration": 4,
    "start_time": "2023-10-17T19:05:54.017Z"
   },
   {
    "duration": 2,
    "start_time": "2023-10-17T19:07:38.950Z"
   },
   {
    "duration": 4,
    "start_time": "2023-10-17T19:07:48.567Z"
   },
   {
    "duration": 13,
    "start_time": "2023-10-17T19:07:58.975Z"
   },
   {
    "duration": 3339,
    "start_time": "2023-10-17T19:08:24.255Z"
   },
   {
    "duration": 20,
    "start_time": "2023-10-17T19:08:27.595Z"
   },
   {
    "duration": 3,
    "start_time": "2023-10-17T19:08:27.617Z"
   },
   {
    "duration": 145,
    "start_time": "2023-10-17T19:08:27.703Z"
   },
   {
    "duration": 366,
    "start_time": "2023-10-17T19:08:27.850Z"
   },
   {
    "duration": 55,
    "start_time": "2023-10-17T19:08:28.219Z"
   },
   {
    "duration": 55,
    "start_time": "2023-10-17T19:08:28.275Z"
   },
   {
    "duration": 15,
    "start_time": "2023-10-17T19:08:28.332Z"
   },
   {
    "duration": 1529,
    "start_time": "2023-10-17T19:08:28.349Z"
   },
   {
    "duration": 0,
    "start_time": "2023-10-17T19:08:29.881Z"
   },
   {
    "duration": 0,
    "start_time": "2023-10-17T19:08:29.882Z"
   },
   {
    "duration": 0,
    "start_time": "2023-10-17T19:08:29.884Z"
   },
   {
    "duration": 0,
    "start_time": "2023-10-17T19:08:29.885Z"
   },
   {
    "duration": 0,
    "start_time": "2023-10-17T19:08:29.886Z"
   },
   {
    "duration": 0,
    "start_time": "2023-10-17T19:08:29.887Z"
   },
   {
    "duration": 0,
    "start_time": "2023-10-17T19:08:29.911Z"
   },
   {
    "duration": 0,
    "start_time": "2023-10-17T19:08:29.913Z"
   },
   {
    "duration": 0,
    "start_time": "2023-10-17T19:08:29.914Z"
   },
   {
    "duration": 0,
    "start_time": "2023-10-17T19:08:29.915Z"
   },
   {
    "duration": 0,
    "start_time": "2023-10-17T19:08:29.916Z"
   },
   {
    "duration": 0,
    "start_time": "2023-10-17T19:08:29.917Z"
   },
   {
    "duration": 0,
    "start_time": "2023-10-17T19:08:29.918Z"
   },
   {
    "duration": 0,
    "start_time": "2023-10-17T19:08:29.923Z"
   },
   {
    "duration": 0,
    "start_time": "2023-10-17T19:08:29.925Z"
   },
   {
    "duration": 0,
    "start_time": "2023-10-17T19:08:29.926Z"
   },
   {
    "duration": 0,
    "start_time": "2023-10-17T19:08:29.928Z"
   },
   {
    "duration": 0,
    "start_time": "2023-10-17T19:08:29.929Z"
   },
   {
    "duration": 0,
    "start_time": "2023-10-17T19:08:29.931Z"
   },
   {
    "duration": 0,
    "start_time": "2023-10-17T19:08:29.932Z"
   },
   {
    "duration": 0,
    "start_time": "2023-10-17T19:08:29.933Z"
   },
   {
    "duration": 0,
    "start_time": "2023-10-17T19:08:29.934Z"
   },
   {
    "duration": 0,
    "start_time": "2023-10-17T19:08:29.936Z"
   },
   {
    "duration": 0,
    "start_time": "2023-10-17T19:08:29.937Z"
   },
   {
    "duration": 0,
    "start_time": "2023-10-17T19:08:29.938Z"
   },
   {
    "duration": 0,
    "start_time": "2023-10-17T19:08:29.939Z"
   },
   {
    "duration": 0,
    "start_time": "2023-10-17T19:08:29.940Z"
   },
   {
    "duration": 24,
    "start_time": "2023-10-17T19:08:36.004Z"
   },
   {
    "duration": 3,
    "start_time": "2023-10-17T19:08:44.132Z"
   },
   {
    "duration": 8,
    "start_time": "2023-10-17T19:09:34.290Z"
   },
   {
    "duration": 3323,
    "start_time": "2023-10-17T19:09:51.967Z"
   },
   {
    "duration": 17,
    "start_time": "2023-10-17T19:09:55.292Z"
   },
   {
    "duration": 7,
    "start_time": "2023-10-17T19:09:55.311Z"
   },
   {
    "duration": 139,
    "start_time": "2023-10-17T19:09:55.400Z"
   },
   {
    "duration": 376,
    "start_time": "2023-10-17T19:09:55.541Z"
   },
   {
    "duration": 47,
    "start_time": "2023-10-17T19:09:55.924Z"
   },
   {
    "duration": 48,
    "start_time": "2023-10-17T19:09:55.973Z"
   },
   {
    "duration": 21,
    "start_time": "2023-10-17T19:09:56.023Z"
   },
   {
    "duration": 1636,
    "start_time": "2023-10-17T19:09:56.046Z"
   },
   {
    "duration": 0,
    "start_time": "2023-10-17T19:09:57.686Z"
   },
   {
    "duration": 0,
    "start_time": "2023-10-17T19:09:57.688Z"
   },
   {
    "duration": 0,
    "start_time": "2023-10-17T19:09:57.689Z"
   },
   {
    "duration": 0,
    "start_time": "2023-10-17T19:09:57.709Z"
   },
   {
    "duration": 0,
    "start_time": "2023-10-17T19:09:57.710Z"
   },
   {
    "duration": 0,
    "start_time": "2023-10-17T19:09:57.712Z"
   },
   {
    "duration": 0,
    "start_time": "2023-10-17T19:09:57.713Z"
   },
   {
    "duration": 0,
    "start_time": "2023-10-17T19:09:57.714Z"
   },
   {
    "duration": 0,
    "start_time": "2023-10-17T19:09:57.716Z"
   },
   {
    "duration": 0,
    "start_time": "2023-10-17T19:09:57.718Z"
   },
   {
    "duration": 0,
    "start_time": "2023-10-17T19:09:57.719Z"
   },
   {
    "duration": 0,
    "start_time": "2023-10-17T19:09:57.721Z"
   },
   {
    "duration": 0,
    "start_time": "2023-10-17T19:09:57.722Z"
   },
   {
    "duration": 0,
    "start_time": "2023-10-17T19:09:57.724Z"
   },
   {
    "duration": 0,
    "start_time": "2023-10-17T19:09:57.725Z"
   },
   {
    "duration": 0,
    "start_time": "2023-10-17T19:09:57.727Z"
   },
   {
    "duration": 0,
    "start_time": "2023-10-17T19:09:57.728Z"
   },
   {
    "duration": 0,
    "start_time": "2023-10-17T19:09:57.730Z"
   },
   {
    "duration": 0,
    "start_time": "2023-10-17T19:09:57.731Z"
   },
   {
    "duration": 0,
    "start_time": "2023-10-17T19:09:57.732Z"
   },
   {
    "duration": 0,
    "start_time": "2023-10-17T19:09:57.733Z"
   },
   {
    "duration": 0,
    "start_time": "2023-10-17T19:09:57.734Z"
   },
   {
    "duration": 0,
    "start_time": "2023-10-17T19:09:57.735Z"
   },
   {
    "duration": 0,
    "start_time": "2023-10-17T19:09:57.737Z"
   },
   {
    "duration": 0,
    "start_time": "2023-10-17T19:09:57.737Z"
   },
   {
    "duration": 0,
    "start_time": "2023-10-17T19:09:57.739Z"
   },
   {
    "duration": 0,
    "start_time": "2023-10-17T19:09:57.739Z"
   },
   {
    "duration": 8,
    "start_time": "2023-10-17T19:10:00.258Z"
   },
   {
    "duration": 3,
    "start_time": "2023-10-17T19:10:49.137Z"
   },
   {
    "duration": 8,
    "start_time": "2023-10-17T19:12:38.168Z"
   },
   {
    "duration": 12,
    "start_time": "2023-10-17T19:24:53.280Z"
   },
   {
    "duration": 75,
    "start_time": "2023-10-18T10:26:47.778Z"
   },
   {
    "duration": 6076,
    "start_time": "2023-10-18T10:26:51.398Z"
   },
   {
    "duration": 3,
    "start_time": "2023-10-18T10:26:57.811Z"
   },
   {
    "duration": 5,
    "start_time": "2023-10-18T10:27:06.201Z"
   },
   {
    "duration": 5,
    "start_time": "2023-10-18T10:27:33.816Z"
   },
   {
    "duration": 5,
    "start_time": "2023-10-18T10:28:00.016Z"
   },
   {
    "duration": 5,
    "start_time": "2023-10-18T10:28:31.236Z"
   },
   {
    "duration": 6,
    "start_time": "2023-10-18T10:28:45.174Z"
   },
   {
    "duration": 33,
    "start_time": "2023-10-18T10:29:00.074Z"
   },
   {
    "duration": 168,
    "start_time": "2023-10-18T10:29:01.165Z"
   },
   {
    "duration": 499,
    "start_time": "2023-10-18T10:29:01.661Z"
   },
   {
    "duration": 79,
    "start_time": "2023-10-18T10:29:02.164Z"
   },
   {
    "duration": 582,
    "start_time": "2023-10-18T10:29:02.249Z"
   },
   {
    "duration": 55,
    "start_time": "2023-10-18T10:29:02.833Z"
   },
   {
    "duration": 440,
    "start_time": "2023-10-18T10:29:02.974Z"
   },
   {
    "duration": 611,
    "start_time": "2023-10-18T10:29:04.074Z"
   },
   {
    "duration": 454,
    "start_time": "2023-10-18T10:29:04.941Z"
   },
   {
    "duration": 445,
    "start_time": "2023-10-18T10:29:05.406Z"
   },
   {
    "duration": 564,
    "start_time": "2023-10-18T10:29:05.860Z"
   },
   {
    "duration": 437,
    "start_time": "2023-10-18T10:29:06.427Z"
   },
   {
    "duration": 414,
    "start_time": "2023-10-18T10:29:06.866Z"
   },
   {
    "duration": 355,
    "start_time": "2023-10-18T10:29:07.286Z"
   },
   {
    "duration": 192,
    "start_time": "2023-10-18T10:29:07.643Z"
   },
   {
    "duration": 277,
    "start_time": "2023-10-18T10:29:07.837Z"
   },
   {
    "duration": 318,
    "start_time": "2023-10-18T10:29:08.117Z"
   },
   {
    "duration": 295,
    "start_time": "2023-10-18T10:29:08.437Z"
   },
   {
    "duration": 5,
    "start_time": "2023-10-18T10:29:14.620Z"
   },
   {
    "duration": 5,
    "start_time": "2023-10-18T10:30:39.008Z"
   },
   {
    "duration": 6,
    "start_time": "2023-10-18T10:43:05.365Z"
   },
   {
    "duration": 6,
    "start_time": "2023-10-18T10:43:22.273Z"
   },
   {
    "duration": 418,
    "start_time": "2023-10-18T10:44:43.377Z"
   },
   {
    "duration": 358,
    "start_time": "2023-10-18T10:44:54.484Z"
   },
   {
    "duration": 524,
    "start_time": "2023-10-18T10:45:17.007Z"
   },
   {
    "duration": 429,
    "start_time": "2023-10-18T10:45:21.908Z"
   },
   {
    "duration": 8,
    "start_time": "2023-10-18T10:46:07.276Z"
   },
   {
    "duration": 656,
    "start_time": "2023-10-18T10:48:51.847Z"
   },
   {
    "duration": 458,
    "start_time": "2023-10-18T10:49:08.270Z"
   },
   {
    "duration": 224,
    "start_time": "2023-10-18T10:49:17.610Z"
   },
   {
    "duration": 357,
    "start_time": "2023-10-18T10:49:50.872Z"
   },
   {
    "duration": 5,
    "start_time": "2023-10-18T11:01:26.429Z"
   },
   {
    "duration": 2797,
    "start_time": "2023-10-18T11:02:05.670Z"
   },
   {
    "duration": 3983,
    "start_time": "2023-10-18T22:51:22.007Z"
   },
   {
    "duration": 4,
    "start_time": "2023-10-18T22:51:25.993Z"
   },
   {
    "duration": 45,
    "start_time": "2023-10-18T22:51:25.999Z"
   },
   {
    "duration": 128,
    "start_time": "2023-10-18T22:51:26.046Z"
   },
   {
    "duration": 341,
    "start_time": "2023-10-18T22:51:26.176Z"
   },
   {
    "duration": 48,
    "start_time": "2023-10-18T22:51:26.519Z"
   },
   {
    "duration": 53,
    "start_time": "2023-10-18T22:51:26.569Z"
   },
   {
    "duration": 17,
    "start_time": "2023-10-18T22:51:26.624Z"
   },
   {
    "duration": 208,
    "start_time": "2023-10-18T22:51:26.643Z"
   },
   {
    "duration": 373,
    "start_time": "2023-10-18T22:51:26.854Z"
   },
   {
    "duration": 193,
    "start_time": "2023-10-18T22:51:27.229Z"
   },
   {
    "duration": 403,
    "start_time": "2023-10-18T22:51:27.424Z"
   },
   {
    "duration": 796,
    "start_time": "2023-10-18T22:51:27.828Z"
   },
   {
    "duration": 602,
    "start_time": "2023-10-18T22:51:28.626Z"
   },
   {
    "duration": 472,
    "start_time": "2023-10-18T22:51:29.230Z"
   },
   {
    "duration": 205,
    "start_time": "2023-10-18T22:51:29.704Z"
   },
   {
    "duration": 326,
    "start_time": "2023-10-18T22:51:29.911Z"
   },
   {
    "duration": 139,
    "start_time": "2023-10-18T22:51:30.239Z"
   },
   {
    "duration": 222,
    "start_time": "2023-10-18T22:51:30.379Z"
   },
   {
    "duration": 204,
    "start_time": "2023-10-18T22:51:30.603Z"
   },
   {
    "duration": 338,
    "start_time": "2023-10-18T22:51:30.808Z"
   },
   {
    "duration": 4,
    "start_time": "2023-10-18T22:51:31.147Z"
   },
   {
    "duration": 639,
    "start_time": "2023-10-18T22:51:31.153Z"
   },
   {
    "duration": 157,
    "start_time": "2023-10-18T22:51:31.801Z"
   },
   {
    "duration": 188,
    "start_time": "2023-10-18T22:51:31.960Z"
   },
   {
    "duration": 173,
    "start_time": "2023-10-18T22:51:32.150Z"
   },
   {
    "duration": 235,
    "start_time": "2023-10-18T22:51:32.324Z"
   },
   {
    "duration": 169,
    "start_time": "2023-10-18T22:51:32.563Z"
   },
   {
    "duration": 407,
    "start_time": "2023-10-18T22:51:32.736Z"
   },
   {
    "duration": 238,
    "start_time": "2023-10-18T22:51:33.145Z"
   },
   {
    "duration": 193,
    "start_time": "2023-10-18T22:51:33.385Z"
   },
   {
    "duration": 34,
    "start_time": "2023-10-18T22:51:33.579Z"
   },
   {
    "duration": 18,
    "start_time": "2023-10-18T22:51:33.615Z"
   },
   {
    "duration": 33,
    "start_time": "2023-10-18T22:51:33.635Z"
   },
   {
    "duration": 321,
    "start_time": "2023-10-18T22:51:33.670Z"
   },
   {
    "duration": 29,
    "start_time": "2023-10-18T22:52:39.925Z"
   }
  ],
  "kernelspec": {
   "display_name": "Python 3 (ipykernel)",
   "language": "python",
   "name": "python3"
  },
  "language_info": {
   "codemirror_mode": {
    "name": "ipython",
    "version": 3
   },
   "file_extension": ".py",
   "mimetype": "text/x-python",
   "name": "python",
   "nbconvert_exporter": "python",
   "pygments_lexer": "ipython3",
   "version": "3.9.5"
  },
  "toc": {
   "base_numbering": 1,
   "nav_menu": {},
   "number_sections": true,
   "sideBar": true,
   "skip_h1_title": true,
   "title_cell": "Table of Contents",
   "title_sidebar": "Contents",
   "toc_cell": false,
   "toc_position": {},
   "toc_section_display": true,
   "toc_window_display": false
  }
 },
 "nbformat": 4,
 "nbformat_minor": 2
}
