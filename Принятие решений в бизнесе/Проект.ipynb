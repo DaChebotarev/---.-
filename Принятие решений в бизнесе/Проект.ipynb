{
 "cells": [
  {
   "cell_type": "markdown",
   "metadata": {},
   "source": [
    "# Принятие решений в бизнесе\n",
    "\n",
    "\n",
    "**Описание проекта**\n",
    "\n",
    "Вы — аналитик крупного интернет-магазина. Вместе с отделом маркетинга вы подготовили список гипотез для увеличения выручки.\n",
    "Приоритизируйте гипотезы, запустите A/B-тест и проанализируйте результаты."
   ]
  },
  {
   "cell_type": "markdown",
   "metadata": {},
   "source": [
    "Файл /datasets/hypothesis.csv:\n",
    "\n",
    "- Hypothesis — краткое описание гипотезы;\n",
    "- Reach — охват пользователей по 10-балльной шкале;\n",
    "- Impact — влияние на пользователей по 10-балльной шкале;\n",
    "- Confidence — уверенность в гипотезе по 10-балльной шкале;\n",
    "- Efforts — затраты ресурсов на проверку гипотезы по 10-балльной шкале. Чем больше значение Efforts, тем дороже проверка гипотезы.\n",
    "\n",
    "Файл /datasets/orders.csv:\n",
    "\n",
    "- transactionId — идентификатор заказа;\n",
    "- visitorId — идентификатор пользователя, совершившего заказ;\n",
    "- date — дата, когда был совершён заказ;\n",
    "- revenue — выручка заказа;\n",
    "- group — группа A/B-теста, в которую попал заказ.\n",
    "\n",
    "Файл /datasets/visitors.csv:\n",
    "\n",
    "- date — дата;\n",
    "- group — группа A/B-теста;\n",
    "- visitors — количество пользователей в указанную дату в указанной группе A/B-теста"
   ]
  },
  {
   "cell_type": "markdown",
   "metadata": {},
   "source": [
    "## Просмотрим и оценим данные"
   ]
  },
  {
   "cell_type": "code",
   "execution_count": 1,
   "metadata": {},
   "outputs": [],
   "source": [
    "#импортируем необходимые библиотеки \n",
    "import pandas as pd\n",
    "import matplotlib.pyplot as plt\n",
    "import seaborn as sns\n",
    "from scipy import stats as st\n",
    "import math\n",
    "import numpy as np"
   ]
  },
  {
   "cell_type": "code",
   "execution_count": 2,
   "metadata": {},
   "outputs": [],
   "source": [
    "#загрузим данные \n",
    "hypothesis = pd.read_csv('/datasets/hypothesis.csv')\n",
    "orders = pd.read_csv('/datasets/orders.csv')\n",
    "visitors = pd.read_csv('/datasets/visitors.csv')"
   ]
  },
  {
   "cell_type": "code",
   "execution_count": 3,
   "metadata": {},
   "outputs": [
    {
     "name": "stdout",
     "output_type": "stream",
     "text": [
      "<class 'pandas.core.frame.DataFrame'>\n",
      "RangeIndex: 9 entries, 0 to 8\n",
      "Data columns (total 5 columns):\n",
      " #   Column      Non-Null Count  Dtype \n",
      "---  ------      --------------  ----- \n",
      " 0   Hypothesis  9 non-null      object\n",
      " 1   Reach       9 non-null      int64 \n",
      " 2   Impact      9 non-null      int64 \n",
      " 3   Confidence  9 non-null      int64 \n",
      " 4   Efforts     9 non-null      int64 \n",
      "dtypes: int64(4), object(1)\n",
      "memory usage: 488.0+ bytes\n"
     ]
    },
    {
     "data": {
      "text/html": [
       "<div>\n",
       "<style scoped>\n",
       "    .dataframe tbody tr th:only-of-type {\n",
       "        vertical-align: middle;\n",
       "    }\n",
       "\n",
       "    .dataframe tbody tr th {\n",
       "        vertical-align: top;\n",
       "    }\n",
       "\n",
       "    .dataframe thead th {\n",
       "        text-align: right;\n",
       "    }\n",
       "</style>\n",
       "<table border=\"1\" class=\"dataframe\">\n",
       "  <thead>\n",
       "    <tr style=\"text-align: right;\">\n",
       "      <th></th>\n",
       "      <th>Hypothesis</th>\n",
       "      <th>Reach</th>\n",
       "      <th>Impact</th>\n",
       "      <th>Confidence</th>\n",
       "      <th>Efforts</th>\n",
       "    </tr>\n",
       "  </thead>\n",
       "  <tbody>\n",
       "    <tr>\n",
       "      <th>0</th>\n",
       "      <td>Добавить два новых канала привлечения трафика,...</td>\n",
       "      <td>3</td>\n",
       "      <td>10</td>\n",
       "      <td>8</td>\n",
       "      <td>6</td>\n",
       "    </tr>\n",
       "    <tr>\n",
       "      <th>1</th>\n",
       "      <td>Запустить собственную службу доставки, что сок...</td>\n",
       "      <td>2</td>\n",
       "      <td>5</td>\n",
       "      <td>4</td>\n",
       "      <td>10</td>\n",
       "    </tr>\n",
       "    <tr>\n",
       "      <th>2</th>\n",
       "      <td>Добавить блоки рекомендаций товаров на сайт ин...</td>\n",
       "      <td>8</td>\n",
       "      <td>3</td>\n",
       "      <td>7</td>\n",
       "      <td>3</td>\n",
       "    </tr>\n",
       "    <tr>\n",
       "      <th>3</th>\n",
       "      <td>Изменить структура категорий, что увеличит кон...</td>\n",
       "      <td>8</td>\n",
       "      <td>3</td>\n",
       "      <td>3</td>\n",
       "      <td>8</td>\n",
       "    </tr>\n",
       "    <tr>\n",
       "      <th>4</th>\n",
       "      <td>Изменить цвет фона главной страницы, чтобы уве...</td>\n",
       "      <td>3</td>\n",
       "      <td>1</td>\n",
       "      <td>1</td>\n",
       "      <td>1</td>\n",
       "    </tr>\n",
       "    <tr>\n",
       "      <th>5</th>\n",
       "      <td>Добавить страницу отзывов клиентов о магазине,...</td>\n",
       "      <td>3</td>\n",
       "      <td>2</td>\n",
       "      <td>2</td>\n",
       "      <td>3</td>\n",
       "    </tr>\n",
       "    <tr>\n",
       "      <th>6</th>\n",
       "      <td>Показать на главной странице баннеры с актуаль...</td>\n",
       "      <td>5</td>\n",
       "      <td>3</td>\n",
       "      <td>8</td>\n",
       "      <td>3</td>\n",
       "    </tr>\n",
       "    <tr>\n",
       "      <th>7</th>\n",
       "      <td>Добавить форму подписки на все основные страни...</td>\n",
       "      <td>10</td>\n",
       "      <td>7</td>\n",
       "      <td>8</td>\n",
       "      <td>5</td>\n",
       "    </tr>\n",
       "    <tr>\n",
       "      <th>8</th>\n",
       "      <td>Запустить акцию, дающую скидку на товар в день...</td>\n",
       "      <td>1</td>\n",
       "      <td>9</td>\n",
       "      <td>9</td>\n",
       "      <td>5</td>\n",
       "    </tr>\n",
       "  </tbody>\n",
       "</table>\n",
       "</div>"
      ],
      "text/plain": [
       "                                          Hypothesis  Reach  Impact  \\\n",
       "0  Добавить два новых канала привлечения трафика,...      3      10   \n",
       "1  Запустить собственную службу доставки, что сок...      2       5   \n",
       "2  Добавить блоки рекомендаций товаров на сайт ин...      8       3   \n",
       "3  Изменить структура категорий, что увеличит кон...      8       3   \n",
       "4  Изменить цвет фона главной страницы, чтобы уве...      3       1   \n",
       "5  Добавить страницу отзывов клиентов о магазине,...      3       2   \n",
       "6  Показать на главной странице баннеры с актуаль...      5       3   \n",
       "7  Добавить форму подписки на все основные страни...     10       7   \n",
       "8  Запустить акцию, дающую скидку на товар в день...      1       9   \n",
       "\n",
       "   Confidence  Efforts  \n",
       "0           8        6  \n",
       "1           4       10  \n",
       "2           7        3  \n",
       "3           3        8  \n",
       "4           1        1  \n",
       "5           2        3  \n",
       "6           8        3  \n",
       "7           8        5  \n",
       "8           9        5  "
      ]
     },
     "metadata": {},
     "output_type": "display_data"
    },
    {
     "data": {
      "text/plain": [
       "None"
      ]
     },
     "metadata": {},
     "output_type": "display_data"
    }
   ],
   "source": [
    "#оценим данные hypothesis\n",
    "display(hypothesis, hypothesis.info())"
   ]
  },
  {
   "cell_type": "markdown",
   "metadata": {},
   "source": [
    "Выводы:\n",
    "\n",
    "- 9 различных гипотез.\n",
    "- В названиях столбцов заглавные буквы\n",
    "- пропусков нет\n",
    "- типы данных корректны"
   ]
  },
  {
   "cell_type": "code",
   "execution_count": 4,
   "metadata": {},
   "outputs": [
    {
     "name": "stdout",
     "output_type": "stream",
     "text": [
      "<class 'pandas.core.frame.DataFrame'>\n",
      "RangeIndex: 1197 entries, 0 to 1196\n",
      "Data columns (total 5 columns):\n",
      " #   Column         Non-Null Count  Dtype \n",
      "---  ------         --------------  ----- \n",
      " 0   transactionId  1197 non-null   int64 \n",
      " 1   visitorId      1197 non-null   int64 \n",
      " 2   date           1197 non-null   object\n",
      " 3   revenue        1197 non-null   int64 \n",
      " 4   group          1197 non-null   object\n",
      "dtypes: int64(3), object(2)\n",
      "memory usage: 46.9+ KB\n"
     ]
    },
    {
     "data": {
      "text/html": [
       "<div>\n",
       "<style scoped>\n",
       "    .dataframe tbody tr th:only-of-type {\n",
       "        vertical-align: middle;\n",
       "    }\n",
       "\n",
       "    .dataframe tbody tr th {\n",
       "        vertical-align: top;\n",
       "    }\n",
       "\n",
       "    .dataframe thead th {\n",
       "        text-align: right;\n",
       "    }\n",
       "</style>\n",
       "<table border=\"1\" class=\"dataframe\">\n",
       "  <thead>\n",
       "    <tr style=\"text-align: right;\">\n",
       "      <th></th>\n",
       "      <th>transactionId</th>\n",
       "      <th>visitorId</th>\n",
       "      <th>date</th>\n",
       "      <th>revenue</th>\n",
       "      <th>group</th>\n",
       "    </tr>\n",
       "  </thead>\n",
       "  <tbody>\n",
       "    <tr>\n",
       "      <th>0</th>\n",
       "      <td>3667963787</td>\n",
       "      <td>3312258926</td>\n",
       "      <td>2019-08-15</td>\n",
       "      <td>1650</td>\n",
       "      <td>B</td>\n",
       "    </tr>\n",
       "    <tr>\n",
       "      <th>1</th>\n",
       "      <td>2804400009</td>\n",
       "      <td>3642806036</td>\n",
       "      <td>2019-08-15</td>\n",
       "      <td>730</td>\n",
       "      <td>B</td>\n",
       "    </tr>\n",
       "    <tr>\n",
       "      <th>2</th>\n",
       "      <td>2961555356</td>\n",
       "      <td>4069496402</td>\n",
       "      <td>2019-08-15</td>\n",
       "      <td>400</td>\n",
       "      <td>A</td>\n",
       "    </tr>\n",
       "    <tr>\n",
       "      <th>3</th>\n",
       "      <td>3797467345</td>\n",
       "      <td>1196621759</td>\n",
       "      <td>2019-08-15</td>\n",
       "      <td>9759</td>\n",
       "      <td>B</td>\n",
       "    </tr>\n",
       "    <tr>\n",
       "      <th>4</th>\n",
       "      <td>2282983706</td>\n",
       "      <td>2322279887</td>\n",
       "      <td>2019-08-15</td>\n",
       "      <td>2308</td>\n",
       "      <td>B</td>\n",
       "    </tr>\n",
       "    <tr>\n",
       "      <th>...</th>\n",
       "      <td>...</td>\n",
       "      <td>...</td>\n",
       "      <td>...</td>\n",
       "      <td>...</td>\n",
       "      <td>...</td>\n",
       "    </tr>\n",
       "    <tr>\n",
       "      <th>1192</th>\n",
       "      <td>2662137336</td>\n",
       "      <td>3733762160</td>\n",
       "      <td>2019-08-14</td>\n",
       "      <td>6490</td>\n",
       "      <td>B</td>\n",
       "    </tr>\n",
       "    <tr>\n",
       "      <th>1193</th>\n",
       "      <td>2203539145</td>\n",
       "      <td>370388673</td>\n",
       "      <td>2019-08-14</td>\n",
       "      <td>3190</td>\n",
       "      <td>A</td>\n",
       "    </tr>\n",
       "    <tr>\n",
       "      <th>1194</th>\n",
       "      <td>1807773912</td>\n",
       "      <td>573423106</td>\n",
       "      <td>2019-08-14</td>\n",
       "      <td>10550</td>\n",
       "      <td>A</td>\n",
       "    </tr>\n",
       "    <tr>\n",
       "      <th>1195</th>\n",
       "      <td>1947021204</td>\n",
       "      <td>1614305549</td>\n",
       "      <td>2019-08-14</td>\n",
       "      <td>100</td>\n",
       "      <td>A</td>\n",
       "    </tr>\n",
       "    <tr>\n",
       "      <th>1196</th>\n",
       "      <td>3936777065</td>\n",
       "      <td>2108080724</td>\n",
       "      <td>2019-08-15</td>\n",
       "      <td>202740</td>\n",
       "      <td>B</td>\n",
       "    </tr>\n",
       "  </tbody>\n",
       "</table>\n",
       "<p>1197 rows × 5 columns</p>\n",
       "</div>"
      ],
      "text/plain": [
       "      transactionId   visitorId        date  revenue group\n",
       "0        3667963787  3312258926  2019-08-15     1650     B\n",
       "1        2804400009  3642806036  2019-08-15      730     B\n",
       "2        2961555356  4069496402  2019-08-15      400     A\n",
       "3        3797467345  1196621759  2019-08-15     9759     B\n",
       "4        2282983706  2322279887  2019-08-15     2308     B\n",
       "...             ...         ...         ...      ...   ...\n",
       "1192     2662137336  3733762160  2019-08-14     6490     B\n",
       "1193     2203539145   370388673  2019-08-14     3190     A\n",
       "1194     1807773912   573423106  2019-08-14    10550     A\n",
       "1195     1947021204  1614305549  2019-08-14      100     A\n",
       "1196     3936777065  2108080724  2019-08-15   202740     B\n",
       "\n",
       "[1197 rows x 5 columns]"
      ]
     },
     "metadata": {},
     "output_type": "display_data"
    },
    {
     "data": {
      "text/plain": [
       "None"
      ]
     },
     "metadata": {},
     "output_type": "display_data"
    }
   ],
   "source": [
    "#оценим данные orders\n",
    "display(orders, orders.info())"
   ]
  },
  {
   "cell_type": "markdown",
   "metadata": {},
   "source": [
    "Выводы:\n",
    "\n",
    "- В названиях столбцов заглавные буквы\n",
    "- некорреткный тип данных у столбца date\n",
    "- пропусков нет"
   ]
  },
  {
   "cell_type": "code",
   "execution_count": 5,
   "metadata": {},
   "outputs": [
    {
     "name": "stdout",
     "output_type": "stream",
     "text": [
      "<class 'pandas.core.frame.DataFrame'>\n",
      "RangeIndex: 62 entries, 0 to 61\n",
      "Data columns (total 3 columns):\n",
      " #   Column    Non-Null Count  Dtype \n",
      "---  ------    --------------  ----- \n",
      " 0   date      62 non-null     object\n",
      " 1   group     62 non-null     object\n",
      " 2   visitors  62 non-null     int64 \n",
      "dtypes: int64(1), object(2)\n",
      "memory usage: 1.6+ KB\n"
     ]
    },
    {
     "data": {
      "text/html": [
       "<div>\n",
       "<style scoped>\n",
       "    .dataframe tbody tr th:only-of-type {\n",
       "        vertical-align: middle;\n",
       "    }\n",
       "\n",
       "    .dataframe tbody tr th {\n",
       "        vertical-align: top;\n",
       "    }\n",
       "\n",
       "    .dataframe thead th {\n",
       "        text-align: right;\n",
       "    }\n",
       "</style>\n",
       "<table border=\"1\" class=\"dataframe\">\n",
       "  <thead>\n",
       "    <tr style=\"text-align: right;\">\n",
       "      <th></th>\n",
       "      <th>date</th>\n",
       "      <th>group</th>\n",
       "      <th>visitors</th>\n",
       "    </tr>\n",
       "  </thead>\n",
       "  <tbody>\n",
       "    <tr>\n",
       "      <th>0</th>\n",
       "      <td>2019-08-01</td>\n",
       "      <td>A</td>\n",
       "      <td>719</td>\n",
       "    </tr>\n",
       "    <tr>\n",
       "      <th>1</th>\n",
       "      <td>2019-08-02</td>\n",
       "      <td>A</td>\n",
       "      <td>619</td>\n",
       "    </tr>\n",
       "    <tr>\n",
       "      <th>2</th>\n",
       "      <td>2019-08-03</td>\n",
       "      <td>A</td>\n",
       "      <td>507</td>\n",
       "    </tr>\n",
       "    <tr>\n",
       "      <th>3</th>\n",
       "      <td>2019-08-04</td>\n",
       "      <td>A</td>\n",
       "      <td>717</td>\n",
       "    </tr>\n",
       "    <tr>\n",
       "      <th>4</th>\n",
       "      <td>2019-08-05</td>\n",
       "      <td>A</td>\n",
       "      <td>756</td>\n",
       "    </tr>\n",
       "    <tr>\n",
       "      <th>...</th>\n",
       "      <td>...</td>\n",
       "      <td>...</td>\n",
       "      <td>...</td>\n",
       "    </tr>\n",
       "    <tr>\n",
       "      <th>57</th>\n",
       "      <td>2019-08-27</td>\n",
       "      <td>B</td>\n",
       "      <td>720</td>\n",
       "    </tr>\n",
       "    <tr>\n",
       "      <th>58</th>\n",
       "      <td>2019-08-28</td>\n",
       "      <td>B</td>\n",
       "      <td>654</td>\n",
       "    </tr>\n",
       "    <tr>\n",
       "      <th>59</th>\n",
       "      <td>2019-08-29</td>\n",
       "      <td>B</td>\n",
       "      <td>531</td>\n",
       "    </tr>\n",
       "    <tr>\n",
       "      <th>60</th>\n",
       "      <td>2019-08-30</td>\n",
       "      <td>B</td>\n",
       "      <td>490</td>\n",
       "    </tr>\n",
       "    <tr>\n",
       "      <th>61</th>\n",
       "      <td>2019-08-31</td>\n",
       "      <td>B</td>\n",
       "      <td>718</td>\n",
       "    </tr>\n",
       "  </tbody>\n",
       "</table>\n",
       "<p>62 rows × 3 columns</p>\n",
       "</div>"
      ],
      "text/plain": [
       "          date group  visitors\n",
       "0   2019-08-01     A       719\n",
       "1   2019-08-02     A       619\n",
       "2   2019-08-03     A       507\n",
       "3   2019-08-04     A       717\n",
       "4   2019-08-05     A       756\n",
       "..         ...   ...       ...\n",
       "57  2019-08-27     B       720\n",
       "58  2019-08-28     B       654\n",
       "59  2019-08-29     B       531\n",
       "60  2019-08-30     B       490\n",
       "61  2019-08-31     B       718\n",
       "\n",
       "[62 rows x 3 columns]"
      ]
     },
     "metadata": {},
     "output_type": "display_data"
    },
    {
     "data": {
      "text/plain": [
       "None"
      ]
     },
     "metadata": {},
     "output_type": "display_data"
    }
   ],
   "source": [
    "#оценим данные orders\n",
    "display(visitors, visitors.info())"
   ]
  },
  {
   "cell_type": "markdown",
   "metadata": {},
   "source": [
    "Выводы:\n",
    "\n",
    "- некорректный тип данных столбца date\n",
    "- пропусков нет"
   ]
  },
  {
   "cell_type": "markdown",
   "metadata": {},
   "source": [
    "## Предобработка данных"
   ]
  },
  {
   "cell_type": "code",
   "execution_count": 6,
   "metadata": {},
   "outputs": [],
   "source": [
    "#переименуем столбцы в таблице hypothesis и orders\n",
    "hypothesis.columns = hypothesis.columns.str.lower()\n",
    "orders.columns = orders.columns.str.lower()"
   ]
  },
  {
   "cell_type": "code",
   "execution_count": 7,
   "metadata": {},
   "outputs": [],
   "source": [
    "#приведём столбцы с датами к корректному типу данных \n",
    "orders['date'] = pd.to_datetime(orders['date'])\n",
    "visitors['date'] = pd.to_datetime(visitors['date'])"
   ]
  },
  {
   "cell_type": "code",
   "execution_count": 8,
   "metadata": {},
   "outputs": [
    {
     "data": {
      "text/plain": [
       "array(['B', 'A'], dtype=object)"
      ]
     },
     "metadata": {},
     "output_type": "display_data"
    },
    {
     "data": {
      "text/plain": [
       "array(['A', 'B'], dtype=object)"
      ]
     },
     "metadata": {},
     "output_type": "display_data"
    }
   ],
   "source": [
    "#проверим на неочевидные дубликаты по группам А/В теста \n",
    "display(orders['group'].unique(),visitors['group'].unique())"
   ]
  },
  {
   "cell_type": "code",
   "execution_count": 9,
   "metadata": {},
   "outputs": [
    {
     "data": {
      "text/plain": [
       "0"
      ]
     },
     "execution_count": 9,
     "metadata": {},
     "output_type": "execute_result"
    }
   ],
   "source": [
    "#проверим данные orders на дубликаты\n",
    "orders.duplicated().sum()"
   ]
  },
  {
   "cell_type": "code",
   "execution_count": 10,
   "metadata": {},
   "outputs": [
    {
     "data": {
      "text/plain": [
       "0"
      ]
     },
     "execution_count": 10,
     "metadata": {},
     "output_type": "execute_result"
    }
   ],
   "source": [
    "#проверим данные visitors на дубликаты\n",
    "visitors.duplicated().sum()"
   ]
  },
  {
   "cell_type": "code",
   "execution_count": 11,
   "metadata": {},
   "outputs": [
    {
     "data": {
      "text/plain": [
       "1031"
      ]
     },
     "execution_count": 11,
     "metadata": {},
     "output_type": "execute_result"
    }
   ],
   "source": [
    "#Посчитаем количество уникальных пользоваталей в A/B тесте\n",
    "len(orders['visitorid'].unique())"
   ]
  },
  {
   "cell_type": "code",
   "execution_count": 12,
   "metadata": {},
   "outputs": [
    {
     "data": {
      "text/plain": [
       "503"
      ]
     },
     "execution_count": 12,
     "metadata": {},
     "output_type": "execute_result"
    }
   ],
   "source": [
    "#Посчитаем количество уникальных пользоваталей по группе А\n",
    "group_A = orders.query('group == \"A\"')\n",
    "len(group_A['visitorid'].unique())"
   ]
  },
  {
   "cell_type": "code",
   "execution_count": 13,
   "metadata": {},
   "outputs": [
    {
     "data": {
      "text/plain": [
       "586"
      ]
     },
     "execution_count": 13,
     "metadata": {},
     "output_type": "execute_result"
    }
   ],
   "source": [
    "#Посчитаем количество уникальных пользоваталей по группе В\n",
    "group_B = orders.query('group == \"B\"')\n",
    "len(group_B['visitorid'].unique())"
   ]
  },
  {
   "cell_type": "code",
   "execution_count": 14,
   "metadata": {},
   "outputs": [
    {
     "data": {
      "text/plain": [
       "58"
      ]
     },
     "execution_count": 14,
     "metadata": {},
     "output_type": "execute_result"
    }
   ],
   "source": [
    "#найдем пользователей, которые присутствуют в обеих группах\n",
    "general = group_A.merge(group_B,on = 'visitorid')\n",
    "len(general['visitorid'].unique())"
   ]
  },
  {
   "cell_type": "markdown",
   "metadata": {},
   "source": [
    "Вывод\n",
    "\n",
    "В общей таблице у нас 1031 уникальных пользоваталей. Но при разделении на группы А и В 503 и 586 соответственно, что в сумме даёт 1089. То есть, есть 58 пользователей(1089-1031), которые попали в обе группы. Мы не знаем, в какую группу они должны были попасть, поэтому просто удалим этих пользователей из таблицы, чтобы осталось 973 уникальных пользователя."
   ]
  },
  {
   "cell_type": "code",
   "execution_count": 15,
   "metadata": {},
   "outputs": [
    {
     "data": {
      "text/plain": [
       "973"
      ]
     },
     "execution_count": 15,
     "metadata": {},
     "output_type": "execute_result"
    }
   ],
   "source": [
    "orders = orders[~orders['visitorid'].isin(general['visitorid'])]\n",
    "len(orders['visitorid'].unique())"
   ]
  },
  {
   "cell_type": "markdown",
   "metadata": {},
   "source": [
    "**Вывод**\n",
    "\n",
    "Предобработка данных завершена:\n",
    "- переименовали столбцы в таблице hypothesis и orders\n",
    "- привели столбцы с датой к верному типу данных\n",
    "- посчитали уникальных пользователей в обеих группах и удалили дубликаты для более корректного и верного анализа"
   ]
  },
  {
   "cell_type": "markdown",
   "metadata": {},
   "source": [
    "## Исследовательский анализ данных"
   ]
  },
  {
   "cell_type": "markdown",
   "metadata": {},
   "source": [
    "### Часть 1. Приоритизация гипотез."
   ]
  },
  {
   "cell_type": "markdown",
   "metadata": {},
   "source": [
    "Примените фреймворк ICE для приоритизации гипотез. Отсортируйте их по убыванию приоритета."
   ]
  },
  {
   "cell_type": "code",
   "execution_count": 16,
   "metadata": {},
   "outputs": [
    {
     "data": {
      "text/html": [
       "<div>\n",
       "<style scoped>\n",
       "    .dataframe tbody tr th:only-of-type {\n",
       "        vertical-align: middle;\n",
       "    }\n",
       "\n",
       "    .dataframe tbody tr th {\n",
       "        vertical-align: top;\n",
       "    }\n",
       "\n",
       "    .dataframe thead th {\n",
       "        text-align: right;\n",
       "    }\n",
       "</style>\n",
       "<table border=\"1\" class=\"dataframe\">\n",
       "  <thead>\n",
       "    <tr style=\"text-align: right;\">\n",
       "      <th></th>\n",
       "      <th>hypothesis</th>\n",
       "      <th>reach</th>\n",
       "      <th>impact</th>\n",
       "      <th>confidence</th>\n",
       "      <th>efforts</th>\n",
       "      <th>ice</th>\n",
       "    </tr>\n",
       "  </thead>\n",
       "  <tbody>\n",
       "    <tr>\n",
       "      <th>8</th>\n",
       "      <td>Запустить акцию, дающую скидку на товар в день...</td>\n",
       "      <td>1</td>\n",
       "      <td>9</td>\n",
       "      <td>9</td>\n",
       "      <td>5</td>\n",
       "      <td>16.200000</td>\n",
       "    </tr>\n",
       "    <tr>\n",
       "      <th>0</th>\n",
       "      <td>Добавить два новых канала привлечения трафика,...</td>\n",
       "      <td>3</td>\n",
       "      <td>10</td>\n",
       "      <td>8</td>\n",
       "      <td>6</td>\n",
       "      <td>13.333333</td>\n",
       "    </tr>\n",
       "    <tr>\n",
       "      <th>7</th>\n",
       "      <td>Добавить форму подписки на все основные страни...</td>\n",
       "      <td>10</td>\n",
       "      <td>7</td>\n",
       "      <td>8</td>\n",
       "      <td>5</td>\n",
       "      <td>11.200000</td>\n",
       "    </tr>\n",
       "    <tr>\n",
       "      <th>6</th>\n",
       "      <td>Показать на главной странице баннеры с актуаль...</td>\n",
       "      <td>5</td>\n",
       "      <td>3</td>\n",
       "      <td>8</td>\n",
       "      <td>3</td>\n",
       "      <td>8.000000</td>\n",
       "    </tr>\n",
       "    <tr>\n",
       "      <th>2</th>\n",
       "      <td>Добавить блоки рекомендаций товаров на сайт ин...</td>\n",
       "      <td>8</td>\n",
       "      <td>3</td>\n",
       "      <td>7</td>\n",
       "      <td>3</td>\n",
       "      <td>7.000000</td>\n",
       "    </tr>\n",
       "    <tr>\n",
       "      <th>1</th>\n",
       "      <td>Запустить собственную службу доставки, что сок...</td>\n",
       "      <td>2</td>\n",
       "      <td>5</td>\n",
       "      <td>4</td>\n",
       "      <td>10</td>\n",
       "      <td>2.000000</td>\n",
       "    </tr>\n",
       "    <tr>\n",
       "      <th>5</th>\n",
       "      <td>Добавить страницу отзывов клиентов о магазине,...</td>\n",
       "      <td>3</td>\n",
       "      <td>2</td>\n",
       "      <td>2</td>\n",
       "      <td>3</td>\n",
       "      <td>1.333333</td>\n",
       "    </tr>\n",
       "    <tr>\n",
       "      <th>3</th>\n",
       "      <td>Изменить структура категорий, что увеличит кон...</td>\n",
       "      <td>8</td>\n",
       "      <td>3</td>\n",
       "      <td>3</td>\n",
       "      <td>8</td>\n",
       "      <td>1.125000</td>\n",
       "    </tr>\n",
       "    <tr>\n",
       "      <th>4</th>\n",
       "      <td>Изменить цвет фона главной страницы, чтобы уве...</td>\n",
       "      <td>3</td>\n",
       "      <td>1</td>\n",
       "      <td>1</td>\n",
       "      <td>1</td>\n",
       "      <td>1.000000</td>\n",
       "    </tr>\n",
       "  </tbody>\n",
       "</table>\n",
       "</div>"
      ],
      "text/plain": [
       "                                          hypothesis  reach  impact  \\\n",
       "8  Запустить акцию, дающую скидку на товар в день...      1       9   \n",
       "0  Добавить два новых канала привлечения трафика,...      3      10   \n",
       "7  Добавить форму подписки на все основные страни...     10       7   \n",
       "6  Показать на главной странице баннеры с актуаль...      5       3   \n",
       "2  Добавить блоки рекомендаций товаров на сайт ин...      8       3   \n",
       "1  Запустить собственную службу доставки, что сок...      2       5   \n",
       "5  Добавить страницу отзывов клиентов о магазине,...      3       2   \n",
       "3  Изменить структура категорий, что увеличит кон...      8       3   \n",
       "4  Изменить цвет фона главной страницы, чтобы уве...      3       1   \n",
       "\n",
       "   confidence  efforts        ice  \n",
       "8           9        5  16.200000  \n",
       "0           8        6  13.333333  \n",
       "7           8        5  11.200000  \n",
       "6           8        3   8.000000  \n",
       "2           7        3   7.000000  \n",
       "1           4       10   2.000000  \n",
       "5           2        3   1.333333  \n",
       "3           3        8   1.125000  \n",
       "4           1        1   1.000000  "
      ]
     },
     "execution_count": 16,
     "metadata": {},
     "output_type": "execute_result"
    }
   ],
   "source": [
    "hypothesis['ice'] = hypothesis['impact'] * hypothesis['confidence'] / hypothesis['efforts']\n",
    "\n",
    "hypothesis.sort_values('ice', ascending=False)"
   ]
  },
  {
   "cell_type": "markdown",
   "metadata": {},
   "source": [
    "Вывод:\n",
    "\n",
    "Гипотезы 8, 0 и 7 лидируют по показателю ICE"
   ]
  },
  {
   "cell_type": "markdown",
   "metadata": {},
   "source": [
    "Примените фреймворк RICE для приоритизации гипотез. Отсортируйте их по убыванию приоритета."
   ]
  },
  {
   "cell_type": "code",
   "execution_count": 17,
   "metadata": {},
   "outputs": [
    {
     "data": {
      "text/html": [
       "<div>\n",
       "<style scoped>\n",
       "    .dataframe tbody tr th:only-of-type {\n",
       "        vertical-align: middle;\n",
       "    }\n",
       "\n",
       "    .dataframe tbody tr th {\n",
       "        vertical-align: top;\n",
       "    }\n",
       "\n",
       "    .dataframe thead th {\n",
       "        text-align: right;\n",
       "    }\n",
       "</style>\n",
       "<table border=\"1\" class=\"dataframe\">\n",
       "  <thead>\n",
       "    <tr style=\"text-align: right;\">\n",
       "      <th></th>\n",
       "      <th>hypothesis</th>\n",
       "      <th>reach</th>\n",
       "      <th>impact</th>\n",
       "      <th>confidence</th>\n",
       "      <th>efforts</th>\n",
       "      <th>ice</th>\n",
       "      <th>rice</th>\n",
       "    </tr>\n",
       "  </thead>\n",
       "  <tbody>\n",
       "    <tr>\n",
       "      <th>7</th>\n",
       "      <td>Добавить форму подписки на все основные страни...</td>\n",
       "      <td>10</td>\n",
       "      <td>7</td>\n",
       "      <td>8</td>\n",
       "      <td>5</td>\n",
       "      <td>11.200000</td>\n",
       "      <td>112.0</td>\n",
       "    </tr>\n",
       "    <tr>\n",
       "      <th>2</th>\n",
       "      <td>Добавить блоки рекомендаций товаров на сайт ин...</td>\n",
       "      <td>8</td>\n",
       "      <td>3</td>\n",
       "      <td>7</td>\n",
       "      <td>3</td>\n",
       "      <td>7.000000</td>\n",
       "      <td>56.0</td>\n",
       "    </tr>\n",
       "    <tr>\n",
       "      <th>0</th>\n",
       "      <td>Добавить два новых канала привлечения трафика,...</td>\n",
       "      <td>3</td>\n",
       "      <td>10</td>\n",
       "      <td>8</td>\n",
       "      <td>6</td>\n",
       "      <td>13.333333</td>\n",
       "      <td>40.0</td>\n",
       "    </tr>\n",
       "    <tr>\n",
       "      <th>6</th>\n",
       "      <td>Показать на главной странице баннеры с актуаль...</td>\n",
       "      <td>5</td>\n",
       "      <td>3</td>\n",
       "      <td>8</td>\n",
       "      <td>3</td>\n",
       "      <td>8.000000</td>\n",
       "      <td>40.0</td>\n",
       "    </tr>\n",
       "    <tr>\n",
       "      <th>8</th>\n",
       "      <td>Запустить акцию, дающую скидку на товар в день...</td>\n",
       "      <td>1</td>\n",
       "      <td>9</td>\n",
       "      <td>9</td>\n",
       "      <td>5</td>\n",
       "      <td>16.200000</td>\n",
       "      <td>16.2</td>\n",
       "    </tr>\n",
       "    <tr>\n",
       "      <th>3</th>\n",
       "      <td>Изменить структура категорий, что увеличит кон...</td>\n",
       "      <td>8</td>\n",
       "      <td>3</td>\n",
       "      <td>3</td>\n",
       "      <td>8</td>\n",
       "      <td>1.125000</td>\n",
       "      <td>9.0</td>\n",
       "    </tr>\n",
       "    <tr>\n",
       "      <th>1</th>\n",
       "      <td>Запустить собственную службу доставки, что сок...</td>\n",
       "      <td>2</td>\n",
       "      <td>5</td>\n",
       "      <td>4</td>\n",
       "      <td>10</td>\n",
       "      <td>2.000000</td>\n",
       "      <td>4.0</td>\n",
       "    </tr>\n",
       "    <tr>\n",
       "      <th>5</th>\n",
       "      <td>Добавить страницу отзывов клиентов о магазине,...</td>\n",
       "      <td>3</td>\n",
       "      <td>2</td>\n",
       "      <td>2</td>\n",
       "      <td>3</td>\n",
       "      <td>1.333333</td>\n",
       "      <td>4.0</td>\n",
       "    </tr>\n",
       "    <tr>\n",
       "      <th>4</th>\n",
       "      <td>Изменить цвет фона главной страницы, чтобы уве...</td>\n",
       "      <td>3</td>\n",
       "      <td>1</td>\n",
       "      <td>1</td>\n",
       "      <td>1</td>\n",
       "      <td>1.000000</td>\n",
       "      <td>3.0</td>\n",
       "    </tr>\n",
       "  </tbody>\n",
       "</table>\n",
       "</div>"
      ],
      "text/plain": [
       "                                          hypothesis  reach  impact  \\\n",
       "7  Добавить форму подписки на все основные страни...     10       7   \n",
       "2  Добавить блоки рекомендаций товаров на сайт ин...      8       3   \n",
       "0  Добавить два новых канала привлечения трафика,...      3      10   \n",
       "6  Показать на главной странице баннеры с актуаль...      5       3   \n",
       "8  Запустить акцию, дающую скидку на товар в день...      1       9   \n",
       "3  Изменить структура категорий, что увеличит кон...      8       3   \n",
       "1  Запустить собственную службу доставки, что сок...      2       5   \n",
       "5  Добавить страницу отзывов клиентов о магазине,...      3       2   \n",
       "4  Изменить цвет фона главной страницы, чтобы уве...      3       1   \n",
       "\n",
       "   confidence  efforts        ice   rice  \n",
       "7           8        5  11.200000  112.0  \n",
       "2           7        3   7.000000   56.0  \n",
       "0           8        6  13.333333   40.0  \n",
       "6           8        3   8.000000   40.0  \n",
       "8           9        5  16.200000   16.2  \n",
       "3           3        8   1.125000    9.0  \n",
       "1           4       10   2.000000    4.0  \n",
       "5           2        3   1.333333    4.0  \n",
       "4           1        1   1.000000    3.0  "
      ]
     },
     "execution_count": 17,
     "metadata": {},
     "output_type": "execute_result"
    }
   ],
   "source": [
    "hypothesis['rice'] = hypothesis['reach'] * hypothesis['impact'] * hypothesis['confidence'] / hypothesis['efforts']\n",
    "\n",
    "hypothesis.sort_values('rice', ascending=False)"
   ]
  },
  {
   "cell_type": "markdown",
   "metadata": {},
   "source": [
    "Вывод:\n",
    "\n",
    "Гипотезы 7, 2 и 0 лидируют по показателю RICE"
   ]
  },
  {
   "cell_type": "markdown",
   "metadata": {},
   "source": [
    "**Вывод**\n",
    "\n",
    "Приоритизация гипотез при применении RICE вместо ICE изменилась из-за параметра reach, который учитывался при расчете RICE, но не учитывался при расчете ICE. У гипотезы 7 и 2 этот параметр имеет оценки 10 и 8 соответственно,а гипотеза 8 снизилась на пятое место, потому что у неё reach равен 1."
   ]
  },
  {
   "cell_type": "markdown",
   "metadata": {},
   "source": [
    "### Часть 2. Анализ A/B-теста"
   ]
  },
  {
   "cell_type": "markdown",
   "metadata": {},
   "source": [
    "Подготовим таблицу для анализа результатов A/B теста"
   ]
  },
  {
   "cell_type": "code",
   "execution_count": 18,
   "metadata": {},
   "outputs": [
    {
     "data": {
      "text/html": [
       "<div>\n",
       "<style scoped>\n",
       "    .dataframe tbody tr th:only-of-type {\n",
       "        vertical-align: middle;\n",
       "    }\n",
       "\n",
       "    .dataframe tbody tr th {\n",
       "        vertical-align: top;\n",
       "    }\n",
       "\n",
       "    .dataframe thead th {\n",
       "        text-align: right;\n",
       "    }\n",
       "</style>\n",
       "<table border=\"1\" class=\"dataframe\">\n",
       "  <thead>\n",
       "    <tr style=\"text-align: right;\">\n",
       "      <th></th>\n",
       "      <th></th>\n",
       "      <th>orders</th>\n",
       "      <th>buyers</th>\n",
       "      <th>revenue</th>\n",
       "      <th>group_copy</th>\n",
       "    </tr>\n",
       "    <tr>\n",
       "      <th>date</th>\n",
       "      <th>group</th>\n",
       "      <th></th>\n",
       "      <th></th>\n",
       "      <th></th>\n",
       "      <th></th>\n",
       "    </tr>\n",
       "  </thead>\n",
       "  <tbody>\n",
       "    <tr>\n",
       "      <th rowspan=\"2\" valign=\"top\">2019-08-01</th>\n",
       "      <th>A</th>\n",
       "      <td>23</td>\n",
       "      <td>19</td>\n",
       "      <td>142779</td>\n",
       "      <td>A</td>\n",
       "    </tr>\n",
       "    <tr>\n",
       "      <th>B</th>\n",
       "      <td>17</td>\n",
       "      <td>17</td>\n",
       "      <td>59758</td>\n",
       "      <td>B</td>\n",
       "    </tr>\n",
       "    <tr>\n",
       "      <th rowspan=\"2\" valign=\"top\">2019-08-02</th>\n",
       "      <th>A</th>\n",
       "      <td>19</td>\n",
       "      <td>18</td>\n",
       "      <td>91602</td>\n",
       "      <td>A</td>\n",
       "    </tr>\n",
       "    <tr>\n",
       "      <th>B</th>\n",
       "      <td>23</td>\n",
       "      <td>22</td>\n",
       "      <td>162043</td>\n",
       "      <td>B</td>\n",
       "    </tr>\n",
       "    <tr>\n",
       "      <th>2019-08-03</th>\n",
       "      <th>A</th>\n",
       "      <td>24</td>\n",
       "      <td>24</td>\n",
       "      <td>112473</td>\n",
       "      <td>A</td>\n",
       "    </tr>\n",
       "    <tr>\n",
       "      <th>...</th>\n",
       "      <th>...</th>\n",
       "      <td>...</td>\n",
       "      <td>...</td>\n",
       "      <td>...</td>\n",
       "      <td>...</td>\n",
       "    </tr>\n",
       "    <tr>\n",
       "      <th>2019-08-29</th>\n",
       "      <th>B</th>\n",
       "      <td>15</td>\n",
       "      <td>15</td>\n",
       "      <td>106100</td>\n",
       "      <td>B</td>\n",
       "    </tr>\n",
       "    <tr>\n",
       "      <th rowspan=\"2\" valign=\"top\">2019-08-30</th>\n",
       "      <th>A</th>\n",
       "      <td>9</td>\n",
       "      <td>8</td>\n",
       "      <td>78180</td>\n",
       "      <td>A</td>\n",
       "    </tr>\n",
       "    <tr>\n",
       "      <th>B</th>\n",
       "      <td>21</td>\n",
       "      <td>21</td>\n",
       "      <td>209223</td>\n",
       "      <td>B</td>\n",
       "    </tr>\n",
       "    <tr>\n",
       "      <th rowspan=\"2\" valign=\"top\">2019-08-31</th>\n",
       "      <th>A</th>\n",
       "      <td>8</td>\n",
       "      <td>8</td>\n",
       "      <td>53243</td>\n",
       "      <td>A</td>\n",
       "    </tr>\n",
       "    <tr>\n",
       "      <th>B</th>\n",
       "      <td>17</td>\n",
       "      <td>17</td>\n",
       "      <td>113139</td>\n",
       "      <td>B</td>\n",
       "    </tr>\n",
       "  </tbody>\n",
       "</table>\n",
       "<p>62 rows × 4 columns</p>\n",
       "</div>"
      ],
      "text/plain": [
       "                  orders  buyers  revenue group_copy\n",
       "date       group                                    \n",
       "2019-08-01 A          23      19   142779          A\n",
       "           B          17      17    59758          B\n",
       "2019-08-02 A          19      18    91602          A\n",
       "           B          23      22   162043          B\n",
       "2019-08-03 A          24      24   112473          A\n",
       "...                  ...     ...      ...        ...\n",
       "2019-08-29 B          15      15   106100          B\n",
       "2019-08-30 A           9       8    78180          A\n",
       "           B          21      21   209223          B\n",
       "2019-08-31 A           8       8    53243          A\n",
       "           B          17      17   113139          B\n",
       "\n",
       "[62 rows x 4 columns]"
      ]
     },
     "execution_count": 18,
     "metadata": {},
     "output_type": "execute_result"
    }
   ],
   "source": [
    "orders_group = (orders.groupby(['date','group'], as_index=False)\n",
    "                        .agg({'transactionid':'nunique','visitorid':'nunique','revenue':'sum'}))\\\n",
    "                        .rename(columns={'transactionid':'orders','visitorid':'buyers'})\n",
    "orders_group['group_copy'] = orders_group['group']\n",
    "orders_group = orders_group.set_index(['date','group'])\n",
    "orders_cumsum = orders_group.sort_values(['date','group']).groupby('group_copy').cumsum().reset_index()\n",
    "\n",
    "orders_group"
   ]
  },
  {
   "cell_type": "code",
   "execution_count": 19,
   "metadata": {},
   "outputs": [],
   "source": [
    "# посчитаем сумму визитов по дням в каждой группе\n",
    "visitors_cumsum = visitors.groupby(['date','group'], as_index=False).agg({'visitors':'sum'}).sort_values(['date','group'])\n",
    "\n",
    "# скопируем group чтобы провести по ней кумулятивную сумму\n",
    "visitors_cumsum['group_copy'] = visitors_cumsum['group']\n",
    "visitors_cumsum = visitors_cumsum.set_index(['date','group']).groupby('group_copy').cumsum().reset_index()  "
   ]
  },
  {
   "cell_type": "code",
   "execution_count": 20,
   "metadata": {},
   "outputs": [],
   "source": [
    "cumulative = orders_cumsum.join(visitors_cumsum[['visitors']])"
   ]
  },
  {
   "cell_type": "code",
   "execution_count": 21,
   "metadata": {},
   "outputs": [],
   "source": [
    "#считаем средний чек и конверсию \n",
    "cumulative['average_check'] = cumulative['revenue'] / cumulative['orders']\n",
    "cumulative['conversion'] = cumulative['orders'] / cumulative['visitors']"
   ]
  },
  {
   "cell_type": "code",
   "execution_count": 22,
   "metadata": {},
   "outputs": [
    {
     "data": {
      "text/html": [
       "<div>\n",
       "<style scoped>\n",
       "    .dataframe tbody tr th:only-of-type {\n",
       "        vertical-align: middle;\n",
       "    }\n",
       "\n",
       "    .dataframe tbody tr th {\n",
       "        vertical-align: top;\n",
       "    }\n",
       "\n",
       "    .dataframe thead th {\n",
       "        text-align: right;\n",
       "    }\n",
       "</style>\n",
       "<table border=\"1\" class=\"dataframe\">\n",
       "  <thead>\n",
       "    <tr style=\"text-align: right;\">\n",
       "      <th></th>\n",
       "      <th>date</th>\n",
       "      <th>group</th>\n",
       "      <th>orders</th>\n",
       "      <th>buyers</th>\n",
       "      <th>revenue</th>\n",
       "      <th>visitors</th>\n",
       "      <th>average_check</th>\n",
       "      <th>conversion</th>\n",
       "    </tr>\n",
       "  </thead>\n",
       "  <tbody>\n",
       "    <tr>\n",
       "      <th>0</th>\n",
       "      <td>2019-08-01</td>\n",
       "      <td>A</td>\n",
       "      <td>23</td>\n",
       "      <td>19</td>\n",
       "      <td>142779</td>\n",
       "      <td>719</td>\n",
       "      <td>6207.782609</td>\n",
       "      <td>0.031989</td>\n",
       "    </tr>\n",
       "    <tr>\n",
       "      <th>1</th>\n",
       "      <td>2019-08-01</td>\n",
       "      <td>B</td>\n",
       "      <td>17</td>\n",
       "      <td>17</td>\n",
       "      <td>59758</td>\n",
       "      <td>713</td>\n",
       "      <td>3515.176471</td>\n",
       "      <td>0.023843</td>\n",
       "    </tr>\n",
       "    <tr>\n",
       "      <th>2</th>\n",
       "      <td>2019-08-02</td>\n",
       "      <td>A</td>\n",
       "      <td>42</td>\n",
       "      <td>37</td>\n",
       "      <td>234381</td>\n",
       "      <td>1338</td>\n",
       "      <td>5580.500000</td>\n",
       "      <td>0.031390</td>\n",
       "    </tr>\n",
       "    <tr>\n",
       "      <th>3</th>\n",
       "      <td>2019-08-02</td>\n",
       "      <td>B</td>\n",
       "      <td>40</td>\n",
       "      <td>39</td>\n",
       "      <td>221801</td>\n",
       "      <td>1294</td>\n",
       "      <td>5545.025000</td>\n",
       "      <td>0.030912</td>\n",
       "    </tr>\n",
       "    <tr>\n",
       "      <th>4</th>\n",
       "      <td>2019-08-03</td>\n",
       "      <td>A</td>\n",
       "      <td>66</td>\n",
       "      <td>61</td>\n",
       "      <td>346854</td>\n",
       "      <td>1845</td>\n",
       "      <td>5255.363636</td>\n",
       "      <td>0.035772</td>\n",
       "    </tr>\n",
       "  </tbody>\n",
       "</table>\n",
       "</div>"
      ],
      "text/plain": [
       "        date group  orders  buyers  revenue  visitors  average_check  \\\n",
       "0 2019-08-01     A      23      19   142779       719    6207.782609   \n",
       "1 2019-08-01     B      17      17    59758       713    3515.176471   \n",
       "2 2019-08-02     A      42      37   234381      1338    5580.500000   \n",
       "3 2019-08-02     B      40      39   221801      1294    5545.025000   \n",
       "4 2019-08-03     A      66      61   346854      1845    5255.363636   \n",
       "\n",
       "   conversion  \n",
       "0    0.031989  \n",
       "1    0.023843  \n",
       "2    0.031390  \n",
       "3    0.030912  \n",
       "4    0.035772  "
      ]
     },
     "execution_count": 22,
     "metadata": {},
     "output_type": "execute_result"
    }
   ],
   "source": [
    "cumulative.head()"
   ]
  },
  {
   "cell_type": "markdown",
   "metadata": {},
   "source": [
    "Вывод:\n",
    "- Посчитали кумулятивные данные по группам и дням\n",
    "- Посчитали средний чек и конверсию"
   ]
  },
  {
   "cell_type": "markdown",
   "metadata": {},
   "source": [
    "### 1. Построим график кумулятивной выручки по группам."
   ]
  },
  {
   "cell_type": "code",
   "execution_count": 23,
   "metadata": {},
   "outputs": [
    {
     "data": {
      "image/png": "[encoded data removed]",
      "text/plain": [
       "<Figure size 864x504 with 1 Axes>"
      ]
     },
     "metadata": {
      "needs_background": "light"
     },
     "output_type": "display_data"
    }
   ],
   "source": [
    "cumulativeA = cumulative[cumulative['group']=='A'][['date', 'revenue']]\n",
    "cumulativeB = cumulative[cumulative['group']=='B'][['date', 'revenue']]\n",
    "\n",
    "plt.figure(figsize=(12, 7))\n",
    "plt.plot(cumulativeA.iloc[:,0].to_frame(), cumulativeA.iloc[:,1].to_frame(), label='A' )\n",
    "plt.plot(cumulativeB.iloc[:,0].to_frame(), cumulativeB.iloc[:,1].to_frame(), label='B')\n",
    "plt.ylabel('Выручка')\n",
    "plt.xlabel('Дата')\n",
    "plt.title('График кумулятивной выручки по группам')\n",
    "plt.xticks(rotation=30)\n",
    "plt.legend()\n",
    "plt.show()"
   ]
  },
  {
   "cell_type": "markdown",
   "metadata": {},
   "source": [
    "**Выводы:**\n",
    "- У группы B наблюдается скачок по выручке 18го августа, этот скачок обусловлен крупной выручкой в этот день\n",
    "- Графики растут равномерно, не учитывая скачок группы В"
   ]
  },
  {
   "cell_type": "markdown",
   "metadata": {},
   "source": [
    "### 2. Построим график кумулятивного среднего чека по группам."
   ]
  },
  {
   "cell_type": "code",
   "execution_count": 24,
   "metadata": {},
   "outputs": [
    {
     "data": {
      "image/png": "[encoded data removed]",
      "text/plain": [
       "<Figure size 864x504 with 1 Axes>"
      ]
     },
     "metadata": {
      "needs_background": "light"
     },
     "output_type": "display_data"
    }
   ],
   "source": [
    "cumulativeA = cumulative[cumulative['group']=='A'][['date', 'average_check']]\n",
    "cumulativeB = cumulative[cumulative['group']=='B'][['date', 'average_check']]\n",
    "\n",
    "plt.figure(figsize=(12, 7))\n",
    "plt.plot(cumulativeA.iloc[:,0].to_frame(), cumulativeA.iloc[:,1].to_frame(), label='A' )\n",
    "plt.plot(cumulativeB.iloc[:,0].to_frame(), cumulativeB.iloc[:,1].to_frame(), label='B')\n",
    "plt.ylabel('Кумулятивный cредний чек')\n",
    "plt.xlabel('Дата')\n",
    "plt.title('График кумулятивного среднего чека по группам')\n",
    "plt.xticks(rotation=30)\n",
    "plt.legend()\n",
    "plt.show()"
   ]
  },
  {
   "cell_type": "markdown",
   "metadata": {},
   "source": [
    "**Вывод**\n",
    "- У группы В наблюдается скачок по кумулятивному среднему чеку также 18го августа и ещё 1го августа.\n",
    "- У группы А наблюдается снижение с 1го по 6ое августа.\n",
    "- Наблюдается общая тенденция роста"
   ]
  },
  {
   "cell_type": "markdown",
   "metadata": {},
   "source": [
    "### 3. Построим график относительного изменения кумулятивного среднего чека группы B к группе A."
   ]
  },
  {
   "cell_type": "code",
   "execution_count": 25,
   "metadata": {},
   "outputs": [
    {
     "data": {
      "image/png": "[encoded data removed]",
      "text/plain": [
       "<Figure size 864x504 with 1 Axes>"
      ]
     },
     "metadata": {
      "needs_background": "light"
     },
     "output_type": "display_data"
    }
   ],
   "source": [
    "change = (cumulativeA[['date', 'average_check']].merge(cumulativeB[['date', 'average_check']], \n",
    "                                            left_on='date', right_on='date', how='left', suffixes=['_A', '_B']))\n",
    "\n",
    "plt.figure(figsize=(12, 7))\n",
    "plt.plot(change['date'], change['average_check_B'] / change['average_check_A']-1)\n",
    "plt.axhline(y=0, color='black', linestyle='--')\n",
    "plt.ylabel('Различие в среднем чеке')\n",
    "plt.xlabel('Дата')\n",
    "plt.title('График относительного изменения кумулятивного среднего чека группы B к группе A')\n",
    "plt.xticks(rotation=30)\n",
    "plt.show()"
   ]
  },
  {
   "cell_type": "markdown",
   "metadata": {},
   "source": [
    "**Вывод**\n",
    "- Средний чек по группе B выше, чем по группе A"
   ]
  },
  {
   "cell_type": "markdown",
   "metadata": {},
   "source": [
    "### 4. Построим график кумулятивного среднего количества заказов на посетителя по группам."
   ]
  },
  {
   "cell_type": "code",
   "execution_count": 26,
   "metadata": {},
   "outputs": [
    {
     "data": {
      "image/png": "[encoded data removed]",
      "text/plain": [
       "<Figure size 864x504 with 1 Axes>"
      ]
     },
     "metadata": {
      "needs_background": "light"
     },
     "output_type": "display_data"
    }
   ],
   "source": [
    "cumulativeA = cumulative[cumulative['group']=='A']\n",
    "cumulativeB = cumulative[cumulative['group']=='B']\n",
    "\n",
    "plt.figure(figsize=(12, 7))\n",
    "plt.plot(cumulativeA['date'], cumulativeA['conversion'], label='A')\n",
    "plt.plot(cumulativeB['date'], cumulativeB['conversion'], label='B')\n",
    "plt.ylabel('Кумулятивная конверсия')\n",
    "plt.xlabel('Дата')\n",
    "plt.title('график кумулятивного среднего количества заказов на посетителя по группам')\n",
    "plt.xticks(rotation=30)\n",
    "plt.legend()\n",
    "plt.show();"
   ]
  },
  {
   "cell_type": "markdown",
   "metadata": {},
   "source": [
    "**Вывод**\n",
    "- Конверсия группы B вырвалась вперёд 6го августа и зафиксировалась, а конверсия группы A просела и также зафиксировалась."
   ]
  },
  {
   "cell_type": "markdown",
   "metadata": {},
   "source": [
    "### 5. Постройте график относительного изменения кумулятивного среднего количества заказов на посетителя группы B к группе A."
   ]
  },
  {
   "cell_type": "code",
   "execution_count": 27,
   "metadata": {},
   "outputs": [
    {
     "data": {
      "image/png": "[encoded data removed]",
      "text/plain": [
       "<Figure size 864x504 with 1 Axes>"
      ]
     },
     "metadata": {
      "needs_background": "light"
     },
     "output_type": "display_data"
    }
   ],
   "source": [
    "cumulativeA = cumulative[cumulative['group'] == 'A']\n",
    "cumulativeB = cumulative[cumulative['group'] == 'B']\n",
    "\n",
    "mergedCumulativeConversions = cumulativeA[['date','conversion']].merge(cumulativeB[['date','conversion']], left_on='date', right_on='date', how='left', suffixes=['A', 'B'])\n",
    "plt.figure(figsize=(12, 7))\n",
    "plt.plot(mergedCumulativeConversions['date'], mergedCumulativeConversions['conversionB']/mergedCumulativeConversions['conversionA']-1, label=\"Относительный прирост конверсии группы B относительно группы A\")\n",
    "plt.ylabel('Относительное различие кумулятивных конверсий')\n",
    "plt.xlabel('Дата')\n",
    "plt.title('график кумулятивного среднего количества заказов на посетителя по группам')\n",
    "plt.legend();"
   ]
  },
  {
   "cell_type": "markdown",
   "metadata": {},
   "source": [
    "**Вывод**\n",
    "- В начале теста группа B просела относительно группы A, затем резко выросла и стабилизировалась."
   ]
  },
  {
   "cell_type": "markdown",
   "metadata": {},
   "source": [
    "### 6. Постройте точечный график количества заказов по пользователям."
   ]
  },
  {
   "cell_type": "code",
   "execution_count": 28,
   "metadata": {},
   "outputs": [
    {
     "data": {
      "text/html": [
       "<div>\n",
       "<style scoped>\n",
       "    .dataframe tbody tr th:only-of-type {\n",
       "        vertical-align: middle;\n",
       "    }\n",
       "\n",
       "    .dataframe tbody tr th {\n",
       "        vertical-align: top;\n",
       "    }\n",
       "\n",
       "    .dataframe thead th {\n",
       "        text-align: right;\n",
       "    }\n",
       "</style>\n",
       "<table border=\"1\" class=\"dataframe\">\n",
       "  <thead>\n",
       "    <tr style=\"text-align: right;\">\n",
       "      <th></th>\n",
       "      <th>visitorid</th>\n",
       "      <th>orders</th>\n",
       "    </tr>\n",
       "  </thead>\n",
       "  <tbody>\n",
       "    <tr>\n",
       "      <th>0</th>\n",
       "      <td>5114589</td>\n",
       "      <td>1</td>\n",
       "    </tr>\n",
       "    <tr>\n",
       "      <th>1</th>\n",
       "      <td>6958315</td>\n",
       "      <td>1</td>\n",
       "    </tr>\n",
       "    <tr>\n",
       "      <th>2</th>\n",
       "      <td>11685486</td>\n",
       "      <td>1</td>\n",
       "    </tr>\n",
       "    <tr>\n",
       "      <th>3</th>\n",
       "      <td>39475350</td>\n",
       "      <td>1</td>\n",
       "    </tr>\n",
       "    <tr>\n",
       "      <th>4</th>\n",
       "      <td>47206413</td>\n",
       "      <td>1</td>\n",
       "    </tr>\n",
       "  </tbody>\n",
       "</table>\n",
       "</div>"
      ],
      "text/plain": [
       "   visitorid  orders\n",
       "0    5114589       1\n",
       "1    6958315       1\n",
       "2   11685486       1\n",
       "3   39475350       1\n",
       "4   47206413       1"
      ]
     },
     "execution_count": 28,
     "metadata": {},
     "output_type": "execute_result"
    }
   ],
   "source": [
    "ordersByUsers = orders.groupby('visitorid', as_index=False).agg({'transactionid' : pd.Series.nunique})\n",
    "ordersByUsers.columns = ['visitorid','orders']\n",
    "ordersByUsers.head()"
   ]
  },
  {
   "cell_type": "code",
   "execution_count": 29,
   "metadata": {},
   "outputs": [
    {
     "data": {
      "image/png": "[encoded data removed]",
      "text/plain": [
       "<Figure size 864x504 with 1 Axes>"
      ]
     },
     "metadata": {
      "needs_background": "light"
     },
     "output_type": "display_data"
    }
   ],
   "source": [
    "x_values = pd.Series(range(0,len(ordersByUsers)))\n",
    "\n",
    "plt.figure(figsize=(12, 7))\n",
    "plt.grid(True)\n",
    "plt.title('точечный график количества заказов по пользователям')\n",
    "ax = plt.gca()\n",
    "ax.set_xlabel('Пользователи')\n",
    "ax.set_ylabel('Количество заказов')\n",
    "plt.scatter(x_values, ordersByUsers['orders'])\n",
    "plt.show()"
   ]
  },
  {
   "cell_type": "markdown",
   "metadata": {},
   "source": [
    "**Вывод** \n",
    "- Большинство покупателей заказывали только один раз. Однако есть пользователи с 2-3 заказами."
   ]
  },
  {
   "cell_type": "markdown",
   "metadata": {},
   "source": [
    "### 7. Посчитаем 95-й и 99-й перцентили количества заказов на пользователя. Выберем границу для определения аномальных пользователей."
   ]
  },
  {
   "cell_type": "code",
   "execution_count": 30,
   "metadata": {},
   "outputs": [
    {
     "name": "stdout",
     "output_type": "stream",
     "text": [
      "95 перцентиль: 1.00\n",
      "99 перцентиль: 2.00\n"
     ]
    }
   ],
   "source": [
    "print('95 перцентиль: %.2f' % (np.percentile(ordersByUsers['orders'], [95])))\n",
    "print('99 перцентиль: %.2f' % (np.percentile(ordersByUsers['orders'], [99])))"
   ]
  },
  {
   "cell_type": "markdown",
   "metadata": {},
   "source": [
    "**Вывод** \n",
    "- Не более 5% пользователей оформляли больше 1 заказа. И 1% пользователей заказывал более 2 раз. Можем обозначить 2 заказа за гарницу для определния аномальных пользователей."
   ]
  },
  {
   "cell_type": "markdown",
   "metadata": {},
   "source": [
    "### 8. Построим точечный график стоимостей заказов."
   ]
  },
  {
   "cell_type": "code",
   "execution_count": 31,
   "metadata": {},
   "outputs": [
    {
     "data": {
      "image/png": "[encoded data removed]",
      "text/plain": [
       "<Figure size 864x504 with 1 Axes>"
      ]
     },
     "metadata": {
      "needs_background": "light"
     },
     "output_type": "display_data"
    }
   ],
   "source": [
    "x_values = pd.Series(range(0, len(orders['revenue'])))\n",
    "\n",
    "plt.figure(figsize=(12, 7))\n",
    "plt.grid(True)\n",
    "plt.title('Точечная диаграмма стоимостей заказов')\n",
    "ax = plt.gca()\n",
    "ax.set_xlabel('Пользователи')\n",
    "ax.set_ylabel('Стоимость заказа (до 100 000)')\n",
    "plt.ylim(0, 100000)\n",
    "plt.scatter(x_values, orders['revenue']);"
   ]
  },
  {
   "cell_type": "markdown",
   "metadata": {},
   "source": [
    "**Вывод** \n",
    "- Большинство заказов не превышает 20 000, но есть выбросы и в 80 000 - 100 000."
   ]
  },
  {
   "cell_type": "markdown",
   "metadata": {},
   "source": [
    "### 9. Посчитаем 95-й и 99-й перцентили стоимости заказов. Выберем границу для определения аномальных заказов."
   ]
  },
  {
   "cell_type": "code",
   "execution_count": 32,
   "metadata": {},
   "outputs": [
    {
     "name": "stdout",
     "output_type": "stream",
     "text": [
      "95 перцентиль: 26785.00\n",
      "99 перцентиль: 53904.00\n"
     ]
    }
   ],
   "source": [
    "print('95 перцентиль: %.2f' % (np.percentile(orders['revenue'], [95])))\n",
    "print('99 перцентиль: %.2f' % (np.percentile(orders['revenue'], [99])))"
   ]
  },
  {
   "cell_type": "markdown",
   "metadata": {},
   "source": [
    "**Вывод** \n",
    "- Не более 5% заказов дороже 26 785 рублей. И только 1% заказов дороже 53 904 рублей. Выберем 53 904 за границу для определения аномальных заказов."
   ]
  },
  {
   "cell_type": "markdown",
   "metadata": {},
   "source": [
    "### 10. Посчитаем статистическую значимость различий в среднем количестве заказов на посетителя между группами по «сырым» данным."
   ]
  },
  {
   "cell_type": "code",
   "execution_count": 33,
   "metadata": {},
   "outputs": [],
   "source": [
    "#Подготовим данные\n",
    "visitorsADaily = visitors[visitors['group']=='A'][['date', 'visitors']]\n",
    "visitorsADaily.columns = ['date', 'visitorsPerDateA']\n",
    "\n",
    "visitorsACummulative = visitorsADaily.apply(lambda x: visitorsADaily[visitorsADaily['date'] <= x['date']]. \\\n",
    "                                            agg({'date' : 'max', 'visitorsPerDateA' : 'sum'}), axis=1)\n",
    "visitorsACummulative.columns = ['date', 'visitorsCummulativeA']\n",
    "\n",
    "visitorsBDaily = visitors[visitors['group']=='B'][['date', 'visitors']]\n",
    "visitorsBDaily.columns = ['date', 'visitorsPerDateB']\n",
    "\n",
    "visitorsBCummulative = visitorsBDaily.apply(lambda x: visitorsBDaily[visitorsBDaily['date'] <= x['date']]. \\\n",
    "                                            agg({'date' : 'max', 'visitorsPerDateB' : 'sum'}), axis=1)\n",
    "visitorsBCummulative.columns = ['date', 'visitorsCummulativeB']\n",
    "\n",
    "\n",
    "ordersADaily = orders[orders['group']=='A'][['date', 'transactionid', 'visitorid', 'revenue']]\\\n",
    "    .groupby('date', as_index=False)\\\n",
    "    .agg({'transactionid' : pd.Series.nunique, 'revenue' : 'sum'})\n",
    "ordersADaily.columns = ['date', 'ordersPerDateA', 'revenuePerDateA']\n",
    "\n",
    "ordersACummulative = ordersADaily.apply(\n",
    "    lambda x: \\\n",
    "        ordersADaily[ordersADaily['date'] <= x['date']]\\\n",
    "            .agg({\n",
    "                'date' : 'max',\n",
    "                'ordersPerDateA' : 'sum',\n",
    "                'revenuePerDateA' : 'sum'}), axis=1).sort_values(by=['date'])\n",
    "ordersACummulative.columns = ['date', 'ordersCummulativeA', 'revenueCummulativeA']\n",
    "\n",
    "ordersBDaily = orders[orders['group']=='B'][['date', 'transactionid', 'visitorid', 'revenue']]\\\n",
    "    .groupby('date', as_index=False)\\\n",
    "    .agg({'transactionid' : pd.Series.nunique, 'revenue' : 'sum'})\n",
    "ordersBDaily.columns = ['date', 'ordersPerDateB', 'revenuePerDateB']\n",
    "\n",
    "ordersBCummulative = ordersBDaily.apply(\n",
    "    lambda x: \\\n",
    "        ordersBDaily[ordersBDaily['date'] <= x['date']]\\\n",
    "            .agg({\n",
    "                'date' : 'max',\n",
    "                'ordersPerDateB' : 'sum',\n",
    "                'revenuePerDateB' : 'sum'}), axis=1).sort_values(by=['date'])\n",
    "ordersBCummulative.columns = ['date', 'ordersCummulativeB', 'revenueCummulativeB']\n",
    "\n",
    "data = ordersADaily.merge(ordersBDaily, left_on='date', right_on='date', how='left')\\\n",
    "    .merge(ordersACummulative, left_on='date', right_on='date', how='left')\\\n",
    "    .merge(ordersBCummulative, left_on='date', right_on='date', how='left')\\\n",
    "    .merge(visitorsADaily, left_on='date', right_on='date', how='left')\\\n",
    "    .merge(visitorsBDaily, left_on='date', right_on='date', how='left')\\\n",
    "    .merge(visitorsACummulative, left_on='date', right_on='date', how='left')\\\n",
    "    .merge(visitorsBCummulative, left_on='date', right_on='date', how='left')"
   ]
  },
  {
   "cell_type": "markdown",
   "metadata": {},
   "source": [
    "**Сформулируем гипотезы.**\n",
    "\n",
    "- Нулевая: Cтатистически значимых различий в среднем количестве заказов на посетителя между группами нет.\n",
    "- Альтернативная: различия в среднем количестве заказов на посетителя между группами есть."
   ]
  },
  {
   "cell_type": "code",
   "execution_count": 34,
   "metadata": {},
   "outputs": [
    {
     "name": "stdout",
     "output_type": "stream",
     "text": [
      "p-значение: 0.011\n",
      "Отвергаем нулевую гипотезу: \"Cтатистически значимых различий в среднем количестве заказов на посетителя между группами есть\".\n",
      "Относительный прирост конверсии группы B: 0.160\n"
     ]
    }
   ],
   "source": [
    "ordersByUsersA = orders[orders['group']=='A'].groupby('visitorid', as_index=False).agg({'transactionid' : pd.Series.nunique})\n",
    "ordersByUsersA.columns = ['userid', 'orders']\n",
    "\n",
    "ordersByUsersB = orders[orders['group']=='B'].groupby('visitorid', as_index=False).agg({'transactionid' : pd.Series.nunique})\n",
    "ordersByUsersB.columns = ['userid', 'orders']\n",
    "\n",
    "sampleA = pd.concat([ordersByUsersA['orders'],pd.Series(0, index=np.arange(data['visitorsPerDateA'].sum() - len(ordersByUsersA['orders'])), name='orders')],axis=0)\n",
    "\n",
    "sampleB = pd.concat([ordersByUsersB['orders'],pd.Series(0, index=np.arange(data['visitorsPerDateB'].sum() - len(ordersByUsersB['orders'])), name='orders')],axis=0)\n",
    "\n",
    "alpha = 0.05\n",
    "results=st.mannwhitneyu(sampleA, sampleB)\n",
    "print('p-значение: {:.3f}'.format(results.pvalue))\n",
    "if (results.pvalue < alpha):\n",
    "    print('Отвергаем нулевую гипотезу: \"Cтатистически значимых различий в среднем количестве заказов на посетителя между группами есть\".')\n",
    "else:\n",
    "    print('Не получилось отвергнуть нулевую гипотезу: \"Cтатистически значимых различий в среднем количестве заказов на посетителя между группами нет\".')\n",
    "\n",
    "print(\"Относительный прирост конверсии группы B: {0:.3f}\".format(sampleB.mean()/sampleA.mean()-1))"
   ]
  },
  {
   "cell_type": "markdown",
   "metadata": {},
   "source": [
    "**Вывод**\n",
    "\n",
    "Показатель p-value = 0.011, что меньше 0.05. Нулевую гипотезу о том, что статистически значимых различий между группами нет - отвергаем. Значит по «сырым» данным различия групп A и B есть. Относительный прирост группы \"B\" над \"A\" равен 16%."
   ]
  },
  {
   "cell_type": "markdown",
   "metadata": {},
   "source": [
    "### 11. Посчитаем статистическую значимость различий в среднем чеке заказа между группами по «сырым» данным."
   ]
  },
  {
   "cell_type": "markdown",
   "metadata": {},
   "source": [
    "**Сформулируем гипотезы.**\n",
    "\n",
    "- Нулевая: вывод о различии сделать нельзя.\n",
    "- Альтернативная: разница статистически значима."
   ]
  },
  {
   "cell_type": "code",
   "execution_count": 35,
   "metadata": {},
   "outputs": [
    {
     "name": "stdout",
     "output_type": "stream",
     "text": [
      "p-значение:  0.829\n",
      "Не получилось отвергнуть нулевую гипотезу, вывод о различии сделать нельзя\n",
      "0.287\n"
     ]
    }
   ],
   "source": [
    "results = st.mannwhitneyu(orders[orders['group']=='A']['revenue'], orders[orders['group']=='B']['revenue'])\n",
    "\n",
    "print('p-значение: ', \"{0:.3f}\".format(results.pvalue))\n",
    "\n",
    "if (results.pvalue < alpha):\n",
    "    print(\"Отвергаем нулевую гипотезу: разница статистически значима\")\n",
    "else:\n",
    "    print(\"Не получилось отвергнуть нулевую гипотезу, вывод о различии сделать нельзя\")\n",
    "\n",
    "print(\"{0:.3f}\".format(orders[orders['group']=='B']['revenue'].mean()/orders[orders['group']=='A']['revenue'].mean()-1))"
   ]
  },
  {
   "cell_type": "markdown",
   "metadata": {},
   "source": [
    "**Вывод**\n",
    "\n",
    "Показатель р-value=0.829, что больше 0.05. Не получилось отвергнуть нулевую гипотезу, вывод о различии сделать нельзя. Можно отметить, что различие в 28,7% не является статистически значимым."
   ]
  },
  {
   "cell_type": "markdown",
   "metadata": {},
   "source": [
    "### 12. Посчитаем статистическую значимость различий в среднем количестве заказов на посетителя между группами по «очищенным» данным."
   ]
  },
  {
   "cell_type": "markdown",
   "metadata": {},
   "source": [
    "**Сформулируем гипотезы.**\n",
    "\n",
    "- Нулевая: статистически значимых различий в конверсии между группами нет\n",
    "- Альтернативная: разница статистически значима"
   ]
  },
  {
   "cell_type": "code",
   "execution_count": 36,
   "metadata": {},
   "outputs": [
    {
     "name": "stdout",
     "output_type": "stream",
     "text": [
      "p-значение:  0.007\n",
      "Отвергаем нулевую гипотезу: разница статистически значима\n",
      "0.189\n"
     ]
    }
   ],
   "source": [
    "users_ManyOrders = pd.concat([ordersByUsersA[ordersByUsersA['orders'] > 2]['userid'], ordersByUsersB[ordersByUsersB['orders'] > 2]['userid']], axis = 0)\n",
    "users_ExpensiveOrders = orders[orders['revenue'] > 58233]['visitorid']\n",
    "abnormalUsers = pd.concat([users_ManyOrders, users_ExpensiveOrders], axis = 0).drop_duplicates().sort_values()\n",
    "sampleAFiltered = pd.concat([ordersByUsersA[np.logical_not(ordersByUsersA['userid'].isin(abnormalUsers))]['orders'], \\\n",
    "                             pd.Series(0, index=np.arange(data['visitorsPerDateA'].sum() - len(ordersByUsersA['orders'])), \\\n",
    "                                       name='orders')],axis=0)\n",
    "\n",
    "sampleBFiltered = pd.concat([ordersByUsersB[np.logical_not(ordersByUsersB['userid'].isin(abnormalUsers))]['orders'], \\\n",
    "                             pd.Series(0, index=np.arange(data['visitorsPerDateB'].sum() - len(ordersByUsersB['orders'])), \\\n",
    "                                       name='orders')],axis=0)\n",
    "results = st.mannwhitneyu(sampleAFiltered, sampleBFiltered)\n",
    "\n",
    "print('p-значение: ', \"{0:.3f}\".format(results.pvalue))\n",
    "\n",
    "if (results.pvalue < alpha):\n",
    "    print(\"Отвергаем нулевую гипотезу: разница статистически значима\")\n",
    "else:\n",
    "    print(\"Не получилось отвергнуть нулевую гипотезу, вывод о различии сделать нельзя\")\n",
    "\n",
    "print(\"{0:.3f}\".format(sampleBFiltered.mean()/sampleAFiltered.mean()-1))"
   ]
  },
  {
   "cell_type": "markdown",
   "metadata": {},
   "source": [
    "**Вывод**\n",
    "\n",
    "Показатель p-value = 0.007, что меньше 0.05. Значит, нулевую гипотезу о том, что статистически значимых различий в конверсии между группами нет - отвергаем. А относительный выигрыш группы \"B\" над \"A\" равен 18,9%."
   ]
  },
  {
   "cell_type": "markdown",
   "metadata": {},
   "source": [
    "### 13. Посчитаем статистическую значимость различий в среднем чеке заказа между группами по «очищенным» данным."
   ]
  },
  {
   "cell_type": "code",
   "execution_count": 37,
   "metadata": {},
   "outputs": [
    {
     "name": "stdout",
     "output_type": "stream",
     "text": [
      "Относительное изменение среднего чека в группе B по отношению группы A после очистки данных: -0.032\n",
      "P-value: 0.7877044862440841\n"
     ]
    }
   ],
   "source": [
    "print('Относительное изменение среднего чека в группе B по отношению группы A после очистки данных: {:.3f}'.format(\n",
    "orders[np.logical_and(orders['group']=='B', np.logical_not(orders['visitorid'].isin(abnormalUsers)))]['revenue'].mean()\\\n",
    "/orders[np.logical_and(orders['group']=='A', np.logical_not(orders['visitorid'].isin(abnormalUsers)))]['revenue'].mean()-1))\n",
    "       \n",
    "       \n",
    "results = st.mannwhitneyu(orders[np.logical_and(orders['group']=='A', np.logical_not(orders['visitorid'].isin(abnormalUsers)))]['revenue'],\n",
    "                             orders[np.logical_and(orders['group']=='B', np.logical_not(orders['visitorid'].isin(abnormalUsers)))]['revenue'])\n",
    "print('P-value: {}'.format(results.pvalue))"
   ]
  },
  {
   "cell_type": "markdown",
   "metadata": {},
   "source": [
    "**Вывод**\n",
    "\n",
    "- p-value уменьшился, но по прежнему значительно выше 0,05\n",
    "- Особенно нужно обратить внимание на разницу между средним чеком. Она упала с 28,7% в пользу B до 3% в пользу A! Это еще раз заставляет убедиться, что статистически значимых различий по этой метрике между группами нет.\n"
   ]
  },
  {
   "cell_type": "markdown",
   "metadata": {},
   "source": [
    "## Общий Вывод\n",
    "\n",
    "Варианты решений:\n",
    "\n",
    "- Остановить тест, зафиксировать победу одной из групп.\n",
    "- Остановить тест, зафиксировать отсутствие различий между группами.\n",
    "- Продолжить тест.\n",
    "\n",
    "По данным различия в конверсии групп A и B есть. Относительный выигрыш группы \"B\" над \"A\" равен 18,9% по \"очищенным\" и 16% по \"сырым\" данным.\n",
    "\n",
    "Оказалось, что и по \"сырым\" и по \"очищенным\" данным различия в средних чеках групп A и B отстутствуют, несмотря на то, что средний чек группы B оказался незначительно ниже среднего чека группы A по \"очищенным\" данным, в то время как по \"сырым\" данным, он был больше на 28,7%.\n",
    "\n",
    "В итоге **можно принять решение остановить тестирование** и констатировать победу группы B : группа B значительно лучше (эффективнее) группы A по конверсии, хотя по среднему чеку группы примерно равны."
   ]
  }
 ],
 "metadata": {
  "ExecuteTimeLog": [
   {
    "duration": 1312,
    "start_time": "2024-01-09T11:04:01.905Z"
   },
   {
    "duration": 100,
    "start_time": "2024-01-09T11:04:37.330Z"
   },
   {
    "duration": 193,
    "start_time": "2024-01-09T11:04:55.281Z"
   },
   {
    "duration": 12,
    "start_time": "2024-01-09T11:04:57.612Z"
   },
   {
    "duration": 9,
    "start_time": "2024-01-09T11:05:05.642Z"
   },
   {
    "duration": 18,
    "start_time": "2024-01-09T11:05:26.427Z"
   },
   {
    "duration": 20,
    "start_time": "2024-01-09T13:33:37.223Z"
   },
   {
    "duration": 18,
    "start_time": "2024-01-09T13:34:18.594Z"
   },
   {
    "duration": 57,
    "start_time": "2024-01-10T10:14:48.363Z"
   },
   {
    "duration": 1310,
    "start_time": "2024-01-10T10:15:18.000Z"
   },
   {
    "duration": 199,
    "start_time": "2024-01-10T10:15:19.311Z"
   },
   {
    "duration": 20,
    "start_time": "2024-01-10T10:15:19.511Z"
   },
   {
    "duration": 19,
    "start_time": "2024-01-10T10:15:19.533Z"
   },
   {
    "duration": 17,
    "start_time": "2024-01-10T10:15:19.790Z"
   },
   {
    "duration": 3,
    "start_time": "2024-01-10T10:15:20.732Z"
   },
   {
    "duration": 5,
    "start_time": "2024-01-10T10:15:21.012Z"
   },
   {
    "duration": 4808,
    "start_time": "2024-01-10T10:15:21.288Z"
   },
   {
    "duration": 1848,
    "start_time": "2024-01-10T10:15:41.975Z"
   },
   {
    "duration": 4,
    "start_time": "2024-01-10T10:16:02.832Z"
   },
   {
    "duration": 3038,
    "start_time": "2024-01-10T10:41:22.442Z"
   },
   {
    "duration": 7,
    "start_time": "2024-01-10T10:41:38.657Z"
   },
   {
    "duration": 6,
    "start_time": "2024-01-10T10:41:41.049Z"
   },
   {
    "duration": 15,
    "start_time": "2024-01-10T10:47:12.190Z"
   },
   {
    "duration": 8,
    "start_time": "2024-01-10T10:47:22.191Z"
   },
   {
    "duration": 8,
    "start_time": "2024-01-10T10:50:26.441Z"
   },
   {
    "duration": 1667,
    "start_time": "2024-01-10T10:51:27.348Z"
   },
   {
    "duration": 6,
    "start_time": "2024-01-10T10:51:41.080Z"
   },
   {
    "duration": 49,
    "start_time": "2024-01-11T11:03:57.388Z"
   },
   {
    "duration": 6,
    "start_time": "2024-01-11T11:04:01.604Z"
   },
   {
    "duration": 1311,
    "start_time": "2024-01-11T11:04:06.217Z"
   },
   {
    "duration": 181,
    "start_time": "2024-01-11T11:04:07.530Z"
   },
   {
    "duration": 20,
    "start_time": "2024-01-11T11:04:07.713Z"
   },
   {
    "duration": 18,
    "start_time": "2024-01-11T11:04:07.735Z"
   },
   {
    "duration": 16,
    "start_time": "2024-01-11T11:04:07.754Z"
   },
   {
    "duration": 3,
    "start_time": "2024-01-11T11:04:07.771Z"
   },
   {
    "duration": 39,
    "start_time": "2024-01-11T11:04:07.775Z"
   },
   {
    "duration": 4,
    "start_time": "2024-01-11T11:04:07.815Z"
   },
   {
    "duration": 11,
    "start_time": "2024-01-11T11:04:07.820Z"
   },
   {
    "duration": 6,
    "start_time": "2024-01-11T11:04:07.833Z"
   },
   {
    "duration": 7,
    "start_time": "2024-01-11T11:04:07.840Z"
   },
   {
    "duration": 9,
    "start_time": "2024-01-11T11:04:07.848Z"
   },
   {
    "duration": 9,
    "start_time": "2024-01-11T11:04:07.858Z"
   },
   {
    "duration": 11,
    "start_time": "2024-01-11T11:05:01.238Z"
   },
   {
    "duration": 10,
    "start_time": "2024-01-11T11:05:30.567Z"
   },
   {
    "duration": 13,
    "start_time": "2024-01-11T11:17:24.447Z"
   },
   {
    "duration": 11,
    "start_time": "2024-01-11T11:17:48.352Z"
   },
   {
    "duration": 14,
    "start_time": "2024-01-11T11:18:10.999Z"
   },
   {
    "duration": 1054,
    "start_time": "2024-01-11T11:18:20.846Z"
   },
   {
    "duration": 82,
    "start_time": "2024-01-11T11:18:21.902Z"
   },
   {
    "duration": 22,
    "start_time": "2024-01-11T11:18:21.985Z"
   },
   {
    "duration": 26,
    "start_time": "2024-01-11T11:18:22.009Z"
   },
   {
    "duration": 21,
    "start_time": "2024-01-11T11:18:22.039Z"
   },
   {
    "duration": 3,
    "start_time": "2024-01-11T11:18:22.062Z"
   },
   {
    "duration": 7,
    "start_time": "2024-01-11T11:18:22.066Z"
   },
   {
    "duration": 5,
    "start_time": "2024-01-11T11:18:22.074Z"
   },
   {
    "duration": 34,
    "start_time": "2024-01-11T11:18:22.081Z"
   },
   {
    "duration": 6,
    "start_time": "2024-01-11T11:18:22.116Z"
   },
   {
    "duration": 8,
    "start_time": "2024-01-11T11:18:22.123Z"
   },
   {
    "duration": 6,
    "start_time": "2024-01-11T11:18:22.132Z"
   },
   {
    "duration": 12,
    "start_time": "2024-01-11T11:18:22.139Z"
   },
   {
    "duration": 11,
    "start_time": "2024-01-11T11:18:35.273Z"
   },
   {
    "duration": 7,
    "start_time": "2024-01-11T13:33:12.519Z"
   },
   {
    "duration": 10,
    "start_time": "2024-01-11T13:33:12.527Z"
   },
   {
    "duration": 19,
    "start_time": "2024-01-11T13:33:12.538Z"
   },
   {
    "duration": 18,
    "start_time": "2024-01-11T13:33:12.558Z"
   },
   {
    "duration": 15,
    "start_time": "2024-01-11T13:33:12.577Z"
   },
   {
    "duration": 3,
    "start_time": "2024-01-11T13:33:12.594Z"
   },
   {
    "duration": 7,
    "start_time": "2024-01-11T13:33:12.598Z"
   },
   {
    "duration": 20,
    "start_time": "2024-01-11T13:33:12.607Z"
   },
   {
    "duration": 26,
    "start_time": "2024-01-11T13:33:12.628Z"
   },
   {
    "duration": 6,
    "start_time": "2024-01-11T13:33:12.655Z"
   },
   {
    "duration": 12,
    "start_time": "2024-01-11T13:33:12.662Z"
   },
   {
    "duration": 5,
    "start_time": "2024-01-11T13:33:12.675Z"
   },
   {
    "duration": 106,
    "start_time": "2024-01-11T13:44:11.085Z"
   },
   {
    "duration": 121,
    "start_time": "2024-01-11T13:44:17.488Z"
   },
   {
    "duration": 17,
    "start_time": "2024-01-11T13:44:26.035Z"
   },
   {
    "duration": 23,
    "start_time": "2024-01-11T13:44:41.061Z"
   },
   {
    "duration": 25,
    "start_time": "2024-01-11T13:45:21.732Z"
   },
   {
    "duration": 3,
    "start_time": "2024-01-11T13:52:40.718Z"
   },
   {
    "duration": 1104,
    "start_time": "2024-01-11T13:52:46.543Z"
   },
   {
    "duration": 73,
    "start_time": "2024-01-11T13:52:47.649Z"
   },
   {
    "duration": 19,
    "start_time": "2024-01-11T13:52:47.723Z"
   },
   {
    "duration": 17,
    "start_time": "2024-01-11T13:52:47.744Z"
   },
   {
    "duration": 16,
    "start_time": "2024-01-11T13:52:47.763Z"
   },
   {
    "duration": 3,
    "start_time": "2024-01-11T13:52:47.780Z"
   },
   {
    "duration": 6,
    "start_time": "2024-01-11T13:52:47.784Z"
   },
   {
    "duration": 7,
    "start_time": "2024-01-11T13:52:47.791Z"
   },
   {
    "duration": 7,
    "start_time": "2024-01-11T13:52:47.799Z"
   },
   {
    "duration": 6,
    "start_time": "2024-01-11T13:52:47.808Z"
   },
   {
    "duration": 42,
    "start_time": "2024-01-11T13:52:47.816Z"
   },
   {
    "duration": 10,
    "start_time": "2024-01-11T13:52:47.859Z"
   },
   {
    "duration": 11,
    "start_time": "2024-01-11T13:52:47.871Z"
   },
   {
    "duration": 11,
    "start_time": "2024-01-11T13:52:47.884Z"
   },
   {
    "duration": 31,
    "start_time": "2024-01-11T13:52:47.896Z"
   },
   {
    "duration": 15,
    "start_time": "2024-01-11T13:56:03.208Z"
   },
   {
    "duration": 14,
    "start_time": "2024-01-11T13:56:06.163Z"
   },
   {
    "duration": 4,
    "start_time": "2024-01-11T13:56:06.790Z"
   },
   {
    "duration": 5,
    "start_time": "2024-01-11T13:56:16.575Z"
   },
   {
    "duration": 9,
    "start_time": "2024-01-11T13:56:26.532Z"
   },
   {
    "duration": 248,
    "start_time": "2024-01-11T14:23:10.386Z"
   },
   {
    "duration": 176,
    "start_time": "2024-01-11T14:26:42.377Z"
   },
   {
    "duration": 7,
    "start_time": "2024-01-11T14:31:36.351Z"
   },
   {
    "duration": 1062,
    "start_time": "2024-01-11T14:31:48.493Z"
   },
   {
    "duration": 72,
    "start_time": "2024-01-11T14:31:49.557Z"
   },
   {
    "duration": 19,
    "start_time": "2024-01-11T14:31:49.631Z"
   },
   {
    "duration": 19,
    "start_time": "2024-01-11T14:31:49.652Z"
   },
   {
    "duration": 17,
    "start_time": "2024-01-11T14:31:49.673Z"
   },
   {
    "duration": 3,
    "start_time": "2024-01-11T14:31:49.692Z"
   },
   {
    "duration": 6,
    "start_time": "2024-01-11T14:31:49.697Z"
   },
   {
    "duration": 7,
    "start_time": "2024-01-11T14:31:49.704Z"
   },
   {
    "duration": 44,
    "start_time": "2024-01-11T14:31:49.713Z"
   },
   {
    "duration": 19,
    "start_time": "2024-01-11T14:31:49.759Z"
   },
   {
    "duration": 8,
    "start_time": "2024-01-11T14:31:49.780Z"
   },
   {
    "duration": 132,
    "start_time": "2024-01-11T14:31:49.790Z"
   },
   {
    "duration": 0,
    "start_time": "2024-01-11T14:31:49.924Z"
   },
   {
    "duration": 0,
    "start_time": "2024-01-11T14:31:49.926Z"
   },
   {
    "duration": 0,
    "start_time": "2024-01-11T14:31:49.927Z"
   },
   {
    "duration": 0,
    "start_time": "2024-01-11T14:31:49.929Z"
   },
   {
    "duration": 0,
    "start_time": "2024-01-11T14:31:49.930Z"
   },
   {
    "duration": 0,
    "start_time": "2024-01-11T14:31:49.932Z"
   },
   {
    "duration": 0,
    "start_time": "2024-01-11T14:31:49.933Z"
   },
   {
    "duration": 0,
    "start_time": "2024-01-11T14:31:49.935Z"
   },
   {
    "duration": 5,
    "start_time": "2024-01-11T14:32:46.698Z"
   },
   {
    "duration": 1042,
    "start_time": "2024-01-11T14:32:54.895Z"
   },
   {
    "duration": 73,
    "start_time": "2024-01-11T14:32:55.940Z"
   },
   {
    "duration": 26,
    "start_time": "2024-01-11T14:32:56.014Z"
   },
   {
    "duration": 22,
    "start_time": "2024-01-11T14:32:56.042Z"
   },
   {
    "duration": 16,
    "start_time": "2024-01-11T14:32:56.067Z"
   },
   {
    "duration": 12,
    "start_time": "2024-01-11T14:32:56.085Z"
   },
   {
    "duration": 6,
    "start_time": "2024-01-11T14:32:56.099Z"
   },
   {
    "duration": 8,
    "start_time": "2024-01-11T14:32:56.106Z"
   },
   {
    "duration": 9,
    "start_time": "2024-01-11T14:32:56.115Z"
   },
   {
    "duration": 30,
    "start_time": "2024-01-11T14:32:56.125Z"
   },
   {
    "duration": 11,
    "start_time": "2024-01-11T14:32:56.157Z"
   },
   {
    "duration": 6,
    "start_time": "2024-01-11T14:32:56.170Z"
   },
   {
    "duration": 31,
    "start_time": "2024-01-11T14:32:56.177Z"
   },
   {
    "duration": 10,
    "start_time": "2024-01-11T14:32:56.211Z"
   },
   {
    "duration": 38,
    "start_time": "2024-01-11T14:32:56.223Z"
   },
   {
    "duration": 13,
    "start_time": "2024-01-11T14:32:56.262Z"
   },
   {
    "duration": 21,
    "start_time": "2024-01-11T14:32:56.276Z"
   },
   {
    "duration": 10,
    "start_time": "2024-01-11T14:32:56.299Z"
   },
   {
    "duration": 17,
    "start_time": "2024-01-11T14:32:56.310Z"
   },
   {
    "duration": 241,
    "start_time": "2024-01-11T14:32:56.328Z"
   },
   {
    "duration": 5,
    "start_time": "2024-01-11T14:33:54.957Z"
   },
   {
    "duration": 5,
    "start_time": "2024-01-11T14:34:00.636Z"
   },
   {
    "duration": 5,
    "start_time": "2024-01-11T14:34:02.866Z"
   },
   {
    "duration": 1074,
    "start_time": "2024-01-11T14:34:07.266Z"
   },
   {
    "duration": 73,
    "start_time": "2024-01-11T14:34:08.342Z"
   },
   {
    "duration": 17,
    "start_time": "2024-01-11T14:34:08.416Z"
   },
   {
    "duration": 18,
    "start_time": "2024-01-11T14:34:08.435Z"
   },
   {
    "duration": 15,
    "start_time": "2024-01-11T14:34:08.454Z"
   },
   {
    "duration": 3,
    "start_time": "2024-01-11T14:34:08.470Z"
   },
   {
    "duration": 22,
    "start_time": "2024-01-11T14:34:08.474Z"
   },
   {
    "duration": 8,
    "start_time": "2024-01-11T14:34:08.498Z"
   },
   {
    "duration": 14,
    "start_time": "2024-01-11T14:34:08.508Z"
   },
   {
    "duration": 5,
    "start_time": "2024-01-11T14:34:08.524Z"
   },
   {
    "duration": 9,
    "start_time": "2024-01-11T14:34:08.530Z"
   },
   {
    "duration": 4,
    "start_time": "2024-01-11T14:34:08.540Z"
   },
   {
    "duration": 10,
    "start_time": "2024-01-11T14:34:08.551Z"
   },
   {
    "duration": 12,
    "start_time": "2024-01-11T14:34:08.562Z"
   },
   {
    "duration": 29,
    "start_time": "2024-01-11T14:34:08.576Z"
   },
   {
    "duration": 14,
    "start_time": "2024-01-11T14:34:08.607Z"
   },
   {
    "duration": 5,
    "start_time": "2024-01-11T14:34:08.652Z"
   },
   {
    "duration": 8,
    "start_time": "2024-01-11T14:34:08.658Z"
   },
   {
    "duration": 20,
    "start_time": "2024-01-11T14:34:08.667Z"
   },
   {
    "duration": 251,
    "start_time": "2024-01-11T14:34:08.689Z"
   },
   {
    "duration": 173,
    "start_time": "2024-01-11T14:39:09.125Z"
   },
   {
    "duration": 46,
    "start_time": "2024-01-12T09:42:26.443Z"
   },
   {
    "duration": 1277,
    "start_time": "2024-01-12T09:42:35.391Z"
   },
   {
    "duration": 186,
    "start_time": "2024-01-12T09:42:36.669Z"
   },
   {
    "duration": 23,
    "start_time": "2024-01-12T09:42:36.856Z"
   },
   {
    "duration": 34,
    "start_time": "2024-01-12T09:42:36.881Z"
   },
   {
    "duration": 17,
    "start_time": "2024-01-12T09:42:36.917Z"
   },
   {
    "duration": 20,
    "start_time": "2024-01-12T09:42:36.936Z"
   },
   {
    "duration": 7,
    "start_time": "2024-01-12T09:42:36.957Z"
   },
   {
    "duration": 5,
    "start_time": "2024-01-12T09:42:36.966Z"
   },
   {
    "duration": 7,
    "start_time": "2024-01-12T09:42:36.972Z"
   },
   {
    "duration": 7,
    "start_time": "2024-01-12T09:42:36.982Z"
   },
   {
    "duration": 15,
    "start_time": "2024-01-12T09:42:36.990Z"
   },
   {
    "duration": 4,
    "start_time": "2024-01-12T09:42:37.007Z"
   },
   {
    "duration": 13,
    "start_time": "2024-01-12T09:42:37.013Z"
   },
   {
    "duration": 11,
    "start_time": "2024-01-12T09:42:37.056Z"
   },
   {
    "duration": 33,
    "start_time": "2024-01-12T09:42:37.069Z"
   },
   {
    "duration": 18,
    "start_time": "2024-01-12T09:42:37.103Z"
   },
   {
    "duration": 14,
    "start_time": "2024-01-12T09:42:37.122Z"
   },
   {
    "duration": 22,
    "start_time": "2024-01-12T09:42:37.138Z"
   },
   {
    "duration": 38,
    "start_time": "2024-01-12T09:42:37.162Z"
   },
   {
    "duration": 295,
    "start_time": "2024-01-12T09:42:37.202Z"
   },
   {
    "duration": 197,
    "start_time": "2024-01-12T09:42:37.499Z"
   },
   {
    "duration": 282,
    "start_time": "2024-01-12T09:42:37.698Z"
   },
   {
    "duration": 278,
    "start_time": "2024-01-12T09:49:07.224Z"
   },
   {
    "duration": 259,
    "start_time": "2024-01-12T09:49:13.410Z"
   },
   {
    "duration": 267,
    "start_time": "2024-01-12T09:49:22.552Z"
   },
   {
    "duration": 1120,
    "start_time": "2024-01-12T09:49:47.625Z"
   },
   {
    "duration": 72,
    "start_time": "2024-01-12T09:49:48.746Z"
   },
   {
    "duration": 19,
    "start_time": "2024-01-12T09:49:48.820Z"
   },
   {
    "duration": 22,
    "start_time": "2024-01-12T09:49:48.842Z"
   },
   {
    "duration": 15,
    "start_time": "2024-01-12T09:49:48.866Z"
   },
   {
    "duration": 3,
    "start_time": "2024-01-12T09:49:48.883Z"
   },
   {
    "duration": 6,
    "start_time": "2024-01-12T09:49:48.887Z"
   },
   {
    "duration": 5,
    "start_time": "2024-01-12T09:49:48.895Z"
   },
   {
    "duration": 7,
    "start_time": "2024-01-12T09:49:48.901Z"
   },
   {
    "duration": 5,
    "start_time": "2024-01-12T09:49:48.910Z"
   },
   {
    "duration": 7,
    "start_time": "2024-01-12T09:49:48.956Z"
   },
   {
    "duration": 5,
    "start_time": "2024-01-12T09:49:48.965Z"
   },
   {
    "duration": 18,
    "start_time": "2024-01-12T09:49:48.971Z"
   },
   {
    "duration": 11,
    "start_time": "2024-01-12T09:49:48.990Z"
   },
   {
    "duration": 24,
    "start_time": "2024-01-12T09:49:49.003Z"
   },
   {
    "duration": 37,
    "start_time": "2024-01-12T09:49:49.028Z"
   },
   {
    "duration": 4,
    "start_time": "2024-01-12T09:49:49.067Z"
   },
   {
    "duration": 5,
    "start_time": "2024-01-12T09:49:49.072Z"
   },
   {
    "duration": 9,
    "start_time": "2024-01-12T09:49:49.078Z"
   },
   {
    "duration": 261,
    "start_time": "2024-01-12T09:49:49.089Z"
   },
   {
    "duration": 185,
    "start_time": "2024-01-12T09:49:49.355Z"
   },
   {
    "duration": 274,
    "start_time": "2024-01-12T09:49:49.542Z"
   },
   {
    "duration": 171,
    "start_time": "2024-01-12T09:49:58.041Z"
   },
   {
    "duration": 264,
    "start_time": "2024-01-12T10:02:46.339Z"
   },
   {
    "duration": 194,
    "start_time": "2024-01-12T10:03:03.161Z"
   },
   {
    "duration": 215,
    "start_time": "2024-01-12T10:03:21.541Z"
   },
   {
    "duration": 329,
    "start_time": "2024-01-12T10:03:28.231Z"
   },
   {
    "duration": 94,
    "start_time": "2024-01-12T10:04:10.703Z"
   },
   {
    "duration": 9,
    "start_time": "2024-01-12T10:05:16.621Z"
   },
   {
    "duration": 1170,
    "start_time": "2024-01-12T10:06:47.440Z"
   },
   {
    "duration": 71,
    "start_time": "2024-01-12T10:06:48.612Z"
   },
   {
    "duration": 19,
    "start_time": "2024-01-12T10:06:48.685Z"
   },
   {
    "duration": 28,
    "start_time": "2024-01-12T10:06:48.706Z"
   },
   {
    "duration": 31,
    "start_time": "2024-01-12T10:06:48.735Z"
   },
   {
    "duration": 20,
    "start_time": "2024-01-12T10:06:48.768Z"
   },
   {
    "duration": 12,
    "start_time": "2024-01-12T10:06:48.789Z"
   },
   {
    "duration": 34,
    "start_time": "2024-01-12T10:06:48.802Z"
   },
   {
    "duration": 29,
    "start_time": "2024-01-12T10:06:48.837Z"
   },
   {
    "duration": 27,
    "start_time": "2024-01-12T10:06:48.868Z"
   },
   {
    "duration": 19,
    "start_time": "2024-01-12T10:06:48.896Z"
   },
   {
    "duration": 23,
    "start_time": "2024-01-12T10:06:48.917Z"
   },
   {
    "duration": 15,
    "start_time": "2024-01-12T10:06:48.942Z"
   },
   {
    "duration": 32,
    "start_time": "2024-01-12T10:06:48.958Z"
   },
   {
    "duration": 43,
    "start_time": "2024-01-12T10:06:48.991Z"
   },
   {
    "duration": 15,
    "start_time": "2024-01-12T10:06:49.036Z"
   },
   {
    "duration": 35,
    "start_time": "2024-01-12T10:06:49.052Z"
   },
   {
    "duration": 29,
    "start_time": "2024-01-12T10:06:49.088Z"
   },
   {
    "duration": 30,
    "start_time": "2024-01-12T10:06:49.119Z"
   },
   {
    "duration": 270,
    "start_time": "2024-01-12T10:06:49.151Z"
   },
   {
    "duration": 196,
    "start_time": "2024-01-12T10:06:49.423Z"
   },
   {
    "duration": 328,
    "start_time": "2024-01-12T10:06:49.621Z"
   },
   {
    "duration": 226,
    "start_time": "2024-01-12T10:06:49.950Z"
   },
   {
    "duration": 186,
    "start_time": "2024-01-12T10:07:46.592Z"
   },
   {
    "duration": 190,
    "start_time": "2024-01-12T10:08:07.796Z"
   },
   {
    "duration": 188,
    "start_time": "2024-01-12T10:08:53.414Z"
   },
   {
    "duration": 277,
    "start_time": "2024-01-12T10:09:18.534Z"
   },
   {
    "duration": 310,
    "start_time": "2024-01-12T10:10:00.686Z"
   },
   {
    "duration": 199,
    "start_time": "2024-01-12T10:10:52.424Z"
   },
   {
    "duration": 211,
    "start_time": "2024-01-12T10:11:21.211Z"
   },
   {
    "duration": 200,
    "start_time": "2024-01-12T10:11:25.277Z"
   },
   {
    "duration": 208,
    "start_time": "2024-01-12T10:11:26.949Z"
   },
   {
    "duration": 284,
    "start_time": "2024-01-12T10:11:28.818Z"
   },
   {
    "duration": 281,
    "start_time": "2024-01-12T10:11:39.182Z"
   },
   {
    "duration": 214,
    "start_time": "2024-01-12T10:11:49.647Z"
   },
   {
    "duration": 218,
    "start_time": "2024-01-12T10:21:51.553Z"
   },
   {
    "duration": 102,
    "start_time": "2024-01-12T10:30:25.745Z"
   },
   {
    "duration": 164,
    "start_time": "2024-01-12T10:30:48.228Z"
   },
   {
    "duration": 161,
    "start_time": "2024-01-12T10:31:08.593Z"
   },
   {
    "duration": 241,
    "start_time": "2024-01-12T10:31:20.718Z"
   },
   {
    "duration": 4,
    "start_time": "2024-01-12T10:36:52.942Z"
   },
   {
    "duration": 153,
    "start_time": "2024-01-12T10:41:44.072Z"
   },
   {
    "duration": 5,
    "start_time": "2024-01-12T10:46:28.810Z"
   },
   {
    "duration": 1040,
    "start_time": "2024-01-12T10:53:09.513Z"
   },
   {
    "duration": 73,
    "start_time": "2024-01-12T10:53:10.555Z"
   },
   {
    "duration": 20,
    "start_time": "2024-01-12T10:53:10.630Z"
   },
   {
    "duration": 20,
    "start_time": "2024-01-12T10:53:10.652Z"
   },
   {
    "duration": 18,
    "start_time": "2024-01-12T10:53:10.674Z"
   },
   {
    "duration": 3,
    "start_time": "2024-01-12T10:53:10.694Z"
   },
   {
    "duration": 8,
    "start_time": "2024-01-12T10:53:10.699Z"
   },
   {
    "duration": 9,
    "start_time": "2024-01-12T10:53:10.709Z"
   },
   {
    "duration": 37,
    "start_time": "2024-01-12T10:53:10.720Z"
   },
   {
    "duration": 7,
    "start_time": "2024-01-12T10:53:10.760Z"
   },
   {
    "duration": 9,
    "start_time": "2024-01-12T10:53:10.768Z"
   },
   {
    "duration": 5,
    "start_time": "2024-01-12T10:53:10.779Z"
   },
   {
    "duration": 26,
    "start_time": "2024-01-12T10:53:10.786Z"
   },
   {
    "duration": 12,
    "start_time": "2024-01-12T10:53:10.814Z"
   },
   {
    "duration": 48,
    "start_time": "2024-01-12T10:53:10.827Z"
   },
   {
    "duration": 16,
    "start_time": "2024-01-12T10:53:10.877Z"
   },
   {
    "duration": 4,
    "start_time": "2024-01-12T10:53:10.894Z"
   },
   {
    "duration": 7,
    "start_time": "2024-01-12T10:53:10.900Z"
   },
   {
    "duration": 18,
    "start_time": "2024-01-12T10:53:10.908Z"
   },
   {
    "duration": 328,
    "start_time": "2024-01-12T10:53:10.927Z"
   },
   {
    "duration": 217,
    "start_time": "2024-01-12T10:53:11.257Z"
   },
   {
    "duration": 298,
    "start_time": "2024-01-12T10:53:11.476Z"
   },
   {
    "duration": 225,
    "start_time": "2024-01-12T10:53:11.775Z"
   },
   {
    "duration": 211,
    "start_time": "2024-01-12T10:53:12.002Z"
   },
   {
    "duration": 123,
    "start_time": "2024-01-12T10:53:12.215Z"
   },
   {
    "duration": 171,
    "start_time": "2024-01-12T10:53:12.339Z"
   },
   {
    "duration": 4,
    "start_time": "2024-01-12T10:53:12.511Z"
   },
   {
    "duration": 173,
    "start_time": "2024-01-12T10:53:12.518Z"
   },
   {
    "duration": 5,
    "start_time": "2024-01-12T10:53:12.693Z"
   },
   {
    "duration": 258,
    "start_time": "2024-01-12T11:29:09.040Z"
   },
   {
    "duration": 196,
    "start_time": "2024-01-12T11:29:48.738Z"
   },
   {
    "duration": 207,
    "start_time": "2024-01-12T11:30:09.700Z"
   },
   {
    "duration": 147,
    "start_time": "2024-01-12T11:33:32.902Z"
   },
   {
    "duration": 201,
    "start_time": "2024-01-12T11:39:04.245Z"
   },
   {
    "duration": 11,
    "start_time": "2024-01-12T11:45:09.235Z"
   },
   {
    "duration": 1683,
    "start_time": "2024-01-12T11:56:47.415Z"
   },
   {
    "duration": 1633,
    "start_time": "2024-01-12T11:56:57.573Z"
   },
   {
    "duration": 35,
    "start_time": "2024-01-12T11:57:12.539Z"
   },
   {
    "duration": 14,
    "start_time": "2024-01-12T12:07:01.214Z"
   },
   {
    "duration": 47,
    "start_time": "2024-01-15T11:32:13.692Z"
   },
   {
    "duration": 6,
    "start_time": "2024-01-15T11:32:23.627Z"
   },
   {
    "duration": 1434,
    "start_time": "2024-01-15T11:32:27.267Z"
   },
   {
    "duration": 185,
    "start_time": "2024-01-15T11:32:28.703Z"
   },
   {
    "duration": 20,
    "start_time": "2024-01-15T11:32:28.889Z"
   },
   {
    "duration": 18,
    "start_time": "2024-01-15T11:32:28.911Z"
   },
   {
    "duration": 23,
    "start_time": "2024-01-15T11:32:28.931Z"
   },
   {
    "duration": 4,
    "start_time": "2024-01-15T11:32:28.955Z"
   },
   {
    "duration": 39,
    "start_time": "2024-01-15T11:32:28.960Z"
   },
   {
    "duration": 25,
    "start_time": "2024-01-15T11:32:29.000Z"
   },
   {
    "duration": 57,
    "start_time": "2024-01-15T11:32:29.026Z"
   },
   {
    "duration": 38,
    "start_time": "2024-01-15T11:32:29.084Z"
   },
   {
    "duration": 13,
    "start_time": "2024-01-15T11:32:29.123Z"
   },
   {
    "duration": 5,
    "start_time": "2024-01-15T11:32:29.137Z"
   },
   {
    "duration": 10,
    "start_time": "2024-01-15T11:32:29.143Z"
   },
   {
    "duration": 19,
    "start_time": "2024-01-15T11:32:29.157Z"
   },
   {
    "duration": 25,
    "start_time": "2024-01-15T11:32:29.178Z"
   },
   {
    "duration": 19,
    "start_time": "2024-01-15T11:32:29.205Z"
   },
   {
    "duration": 8,
    "start_time": "2024-01-15T11:32:29.226Z"
   },
   {
    "duration": 21,
    "start_time": "2024-01-15T11:32:29.235Z"
   },
   {
    "duration": 14,
    "start_time": "2024-01-15T11:32:29.257Z"
   },
   {
    "duration": 330,
    "start_time": "2024-01-15T11:32:29.273Z"
   },
   {
    "duration": 243,
    "start_time": "2024-01-15T11:32:29.604Z"
   },
   {
    "duration": 377,
    "start_time": "2024-01-15T11:32:29.849Z"
   },
   {
    "duration": 265,
    "start_time": "2024-01-15T11:32:30.228Z"
   },
   {
    "duration": 243,
    "start_time": "2024-01-15T11:32:30.494Z"
   },
   {
    "duration": 160,
    "start_time": "2024-01-15T11:32:30.738Z"
   },
   {
    "duration": 210,
    "start_time": "2024-01-15T11:32:30.900Z"
   },
   {
    "duration": 120,
    "start_time": "2024-01-15T11:32:31.112Z"
   },
   {
    "duration": 0,
    "start_time": "2024-01-15T11:32:31.234Z"
   },
   {
    "duration": 0,
    "start_time": "2024-01-15T11:32:31.235Z"
   },
   {
    "duration": 0,
    "start_time": "2024-01-15T11:32:31.236Z"
   },
   {
    "duration": 0,
    "start_time": "2024-01-15T11:32:31.237Z"
   },
   {
    "duration": 0,
    "start_time": "2024-01-15T11:32:31.238Z"
   },
   {
    "duration": 0,
    "start_time": "2024-01-15T11:32:31.240Z"
   },
   {
    "duration": 0,
    "start_time": "2024-01-15T11:32:31.241Z"
   },
   {
    "duration": 6,
    "start_time": "2024-01-15T11:33:12.062Z"
   },
   {
    "duration": 6,
    "start_time": "2024-01-15T11:33:16.562Z"
   },
   {
    "duration": 231,
    "start_time": "2024-01-15T11:33:18.392Z"
   },
   {
    "duration": 5,
    "start_time": "2024-01-15T11:33:39.325Z"
   },
   {
    "duration": 149,
    "start_time": "2024-01-15T11:34:40.184Z"
   },
   {
    "duration": 132,
    "start_time": "2024-01-15T11:37:29.122Z"
   },
   {
    "duration": 1243,
    "start_time": "2024-01-15T11:37:39.170Z"
   },
   {
    "duration": 74,
    "start_time": "2024-01-15T11:37:40.415Z"
   },
   {
    "duration": 18,
    "start_time": "2024-01-15T11:37:40.491Z"
   },
   {
    "duration": 18,
    "start_time": "2024-01-15T11:37:40.511Z"
   },
   {
    "duration": 16,
    "start_time": "2024-01-15T11:37:40.531Z"
   },
   {
    "duration": 19,
    "start_time": "2024-01-15T11:37:40.549Z"
   },
   {
    "duration": 34,
    "start_time": "2024-01-15T11:37:40.571Z"
   },
   {
    "duration": 12,
    "start_time": "2024-01-15T11:37:40.607Z"
   },
   {
    "duration": 10,
    "start_time": "2024-01-15T11:37:40.620Z"
   },
   {
    "duration": 12,
    "start_time": "2024-01-15T11:37:40.632Z"
   },
   {
    "duration": 37,
    "start_time": "2024-01-15T11:37:40.645Z"
   },
   {
    "duration": 7,
    "start_time": "2024-01-15T11:37:40.684Z"
   },
   {
    "duration": 22,
    "start_time": "2024-01-15T11:37:40.692Z"
   },
   {
    "duration": 21,
    "start_time": "2024-01-15T11:37:40.716Z"
   },
   {
    "duration": 47,
    "start_time": "2024-01-15T11:37:40.739Z"
   },
   {
    "duration": 15,
    "start_time": "2024-01-15T11:37:40.788Z"
   },
   {
    "duration": 4,
    "start_time": "2024-01-15T11:37:40.804Z"
   },
   {
    "duration": 11,
    "start_time": "2024-01-15T11:37:40.810Z"
   },
   {
    "duration": 11,
    "start_time": "2024-01-15T11:37:40.822Z"
   },
   {
    "duration": 361,
    "start_time": "2024-01-15T11:37:40.835Z"
   },
   {
    "duration": 248,
    "start_time": "2024-01-15T11:37:41.198Z"
   },
   {
    "duration": 316,
    "start_time": "2024-01-15T11:37:41.448Z"
   },
   {
    "duration": 230,
    "start_time": "2024-01-15T11:37:41.767Z"
   },
   {
    "duration": 232,
    "start_time": "2024-01-15T11:37:41.998Z"
   },
   {
    "duration": 120,
    "start_time": "2024-01-15T11:37:42.232Z"
   },
   {
    "duration": 194,
    "start_time": "2024-01-15T11:37:42.356Z"
   },
   {
    "duration": 6,
    "start_time": "2024-01-15T11:37:42.551Z"
   },
   {
    "duration": 193,
    "start_time": "2024-01-15T11:37:42.560Z"
   },
   {
    "duration": 7,
    "start_time": "2024-01-15T11:37:42.755Z"
   },
   {
    "duration": 316,
    "start_time": "2024-01-15T11:37:42.765Z"
   },
   {
    "duration": 154,
    "start_time": "2024-01-15T11:37:43.083Z"
   },
   {
    "duration": 16,
    "start_time": "2024-01-15T11:37:43.239Z"
   },
   {
    "duration": 44,
    "start_time": "2024-01-15T11:37:43.257Z"
   },
   {
    "duration": 12,
    "start_time": "2024-01-15T11:37:43.303Z"
   },
   {
    "duration": 160,
    "start_time": "2024-01-15T11:53:29.029Z"
   },
   {
    "duration": 242,
    "start_time": "2024-01-15T12:58:00.848Z"
   },
   {
    "duration": 195,
    "start_time": "2024-01-15T12:58:14.516Z"
   },
   {
    "duration": 148,
    "start_time": "2024-01-15T13:09:14.491Z"
   },
   {
    "duration": 132,
    "start_time": "2024-01-15T13:12:03.189Z"
   },
   {
    "duration": 160,
    "start_time": "2024-01-15T13:12:13.546Z"
   },
   {
    "duration": 1452,
    "start_time": "2024-01-15T13:37:06.275Z"
   },
   {
    "duration": 202,
    "start_time": "2024-01-15T13:37:07.730Z"
   },
   {
    "duration": 21,
    "start_time": "2024-01-15T13:37:07.934Z"
   },
   {
    "duration": 20,
    "start_time": "2024-01-15T13:37:07.956Z"
   },
   {
    "duration": 17,
    "start_time": "2024-01-15T13:37:07.978Z"
   },
   {
    "duration": 3,
    "start_time": "2024-01-15T13:37:07.997Z"
   },
   {
    "duration": 6,
    "start_time": "2024-01-15T13:37:08.002Z"
   },
   {
    "duration": 7,
    "start_time": "2024-01-15T13:37:08.010Z"
   },
   {
    "duration": 10,
    "start_time": "2024-01-15T13:37:08.019Z"
   },
   {
    "duration": 9,
    "start_time": "2024-01-15T13:37:08.030Z"
   },
   {
    "duration": 49,
    "start_time": "2024-01-15T13:37:08.041Z"
   },
   {
    "duration": 9,
    "start_time": "2024-01-15T13:37:08.092Z"
   },
   {
    "duration": 22,
    "start_time": "2024-01-15T13:37:08.102Z"
   },
   {
    "duration": 22,
    "start_time": "2024-01-15T13:37:08.127Z"
   },
   {
    "duration": 43,
    "start_time": "2024-01-15T13:37:08.150Z"
   },
   {
    "duration": 14,
    "start_time": "2024-01-15T13:37:08.194Z"
   },
   {
    "duration": 5,
    "start_time": "2024-01-15T13:37:08.210Z"
   },
   {
    "duration": 9,
    "start_time": "2024-01-15T13:37:08.217Z"
   },
   {
    "duration": 14,
    "start_time": "2024-01-15T13:37:08.228Z"
   },
   {
    "duration": 324,
    "start_time": "2024-01-15T13:37:08.243Z"
   },
   {
    "duration": 246,
    "start_time": "2024-01-15T13:37:08.572Z"
   },
   {
    "duration": 415,
    "start_time": "2024-01-15T13:37:08.819Z"
   },
   {
    "duration": 241,
    "start_time": "2024-01-15T13:37:09.236Z"
   },
   {
    "duration": 233,
    "start_time": "2024-01-15T13:37:09.479Z"
   },
   {
    "duration": 160,
    "start_time": "2024-01-15T13:37:09.714Z"
   },
   {
    "duration": 200,
    "start_time": "2024-01-15T13:37:09.875Z"
   },
   {
    "duration": 4,
    "start_time": "2024-01-15T13:37:10.077Z"
   },
   {
    "duration": 177,
    "start_time": "2024-01-15T13:37:10.083Z"
   },
   {
    "duration": 11,
    "start_time": "2024-01-15T13:37:10.262Z"
   },
   {
    "duration": 280,
    "start_time": "2024-01-15T13:37:10.274Z"
   },
   {
    "duration": 158,
    "start_time": "2024-01-15T13:37:10.556Z"
   },
   {
    "duration": 11,
    "start_time": "2024-01-15T13:37:10.715Z"
   },
   {
    "duration": 51,
    "start_time": "2024-01-15T13:37:10.728Z"
   },
   {
    "duration": 13,
    "start_time": "2024-01-15T13:37:10.781Z"
   },
   {
    "duration": 1201,
    "start_time": "2024-01-15T13:38:40.988Z"
   },
   {
    "duration": 87,
    "start_time": "2024-01-15T13:38:42.191Z"
   },
   {
    "duration": 20,
    "start_time": "2024-01-15T13:38:42.280Z"
   },
   {
    "duration": 20,
    "start_time": "2024-01-15T13:38:42.301Z"
   },
   {
    "duration": 20,
    "start_time": "2024-01-15T13:38:42.323Z"
   },
   {
    "duration": 4,
    "start_time": "2024-01-15T13:38:42.372Z"
   },
   {
    "duration": 8,
    "start_time": "2024-01-15T13:38:42.377Z"
   },
   {
    "duration": 6,
    "start_time": "2024-01-15T13:38:42.386Z"
   },
   {
    "duration": 9,
    "start_time": "2024-01-15T13:38:42.393Z"
   },
   {
    "duration": 7,
    "start_time": "2024-01-15T13:38:42.403Z"
   },
   {
    "duration": 12,
    "start_time": "2024-01-15T13:38:42.411Z"
   },
   {
    "duration": 6,
    "start_time": "2024-01-15T13:38:42.424Z"
   },
   {
    "duration": 42,
    "start_time": "2024-01-15T13:38:42.432Z"
   },
   {
    "duration": 13,
    "start_time": "2024-01-15T13:38:42.476Z"
   },
   {
    "duration": 29,
    "start_time": "2024-01-15T13:38:42.491Z"
   },
   {
    "duration": 15,
    "start_time": "2024-01-15T13:38:42.522Z"
   },
   {
    "duration": 8,
    "start_time": "2024-01-15T13:38:42.538Z"
   },
   {
    "duration": 30,
    "start_time": "2024-01-15T13:38:42.547Z"
   },
   {
    "duration": 14,
    "start_time": "2024-01-15T13:38:42.579Z"
   },
   {
    "duration": 328,
    "start_time": "2024-01-15T13:38:42.595Z"
   },
   {
    "duration": 239,
    "start_time": "2024-01-15T13:38:42.925Z"
   },
   {
    "duration": 349,
    "start_time": "2024-01-15T13:38:43.172Z"
   },
   {
    "duration": 242,
    "start_time": "2024-01-15T13:38:43.523Z"
   },
   {
    "duration": 240,
    "start_time": "2024-01-15T13:38:43.766Z"
   },
   {
    "duration": 148,
    "start_time": "2024-01-15T13:38:44.008Z"
   },
   {
    "duration": 193,
    "start_time": "2024-01-15T13:38:44.157Z"
   },
   {
    "duration": 5,
    "start_time": "2024-01-15T13:38:44.352Z"
   },
   {
    "duration": 195,
    "start_time": "2024-01-15T13:38:44.358Z"
   },
   {
    "duration": 5,
    "start_time": "2024-01-15T13:38:44.555Z"
   },
   {
    "duration": 284,
    "start_time": "2024-01-15T13:38:44.572Z"
   },
   {
    "duration": 166,
    "start_time": "2024-01-15T13:38:44.857Z"
   },
   {
    "duration": 11,
    "start_time": "2024-01-15T13:38:45.025Z"
   },
   {
    "duration": 66,
    "start_time": "2024-01-15T13:38:45.038Z"
   },
   {
    "duration": 25,
    "start_time": "2024-01-15T13:38:45.106Z"
   },
   {
    "duration": 46,
    "start_time": "2024-01-15T15:08:35.020Z"
   },
   {
    "duration": 1288,
    "start_time": "2024-01-15T15:08:41.585Z"
   },
   {
    "duration": 185,
    "start_time": "2024-01-15T15:08:42.877Z"
   },
   {
    "duration": 21,
    "start_time": "2024-01-15T15:08:43.063Z"
   },
   {
    "duration": 22,
    "start_time": "2024-01-15T15:08:43.085Z"
   },
   {
    "duration": 17,
    "start_time": "2024-01-15T15:08:43.109Z"
   },
   {
    "duration": 29,
    "start_time": "2024-01-15T15:08:43.127Z"
   },
   {
    "duration": 14,
    "start_time": "2024-01-15T15:08:43.157Z"
   },
   {
    "duration": 10,
    "start_time": "2024-01-15T15:08:43.172Z"
   },
   {
    "duration": 4,
    "start_time": "2024-01-15T15:08:43.184Z"
   },
   {
    "duration": 10,
    "start_time": "2024-01-15T15:08:43.189Z"
   },
   {
    "duration": 6,
    "start_time": "2024-01-15T15:08:43.200Z"
   },
   {
    "duration": 8,
    "start_time": "2024-01-15T15:08:43.208Z"
   },
   {
    "duration": 8,
    "start_time": "2024-01-15T15:08:43.217Z"
   },
   {
    "duration": 34,
    "start_time": "2024-01-15T15:08:43.227Z"
   },
   {
    "duration": 11,
    "start_time": "2024-01-15T15:08:43.263Z"
   },
   {
    "duration": 36,
    "start_time": "2024-01-15T15:08:43.275Z"
   },
   {
    "duration": 14,
    "start_time": "2024-01-15T15:08:43.312Z"
   },
   {
    "duration": 4,
    "start_time": "2024-01-15T15:08:43.328Z"
   },
   {
    "duration": 28,
    "start_time": "2024-01-15T15:08:43.333Z"
   },
   {
    "duration": 32,
    "start_time": "2024-01-15T15:08:43.362Z"
   },
   {
    "duration": 321,
    "start_time": "2024-01-15T15:08:43.396Z"
   },
   {
    "duration": 221,
    "start_time": "2024-01-15T15:08:43.718Z"
   },
   {
    "duration": 360,
    "start_time": "2024-01-15T15:08:43.940Z"
   },
   {
    "duration": 212,
    "start_time": "2024-01-15T15:08:44.301Z"
   },
   {
    "duration": 204,
    "start_time": "2024-01-15T15:08:44.515Z"
   },
   {
    "duration": 115,
    "start_time": "2024-01-15T15:08:44.721Z"
   },
   {
    "duration": 168,
    "start_time": "2024-01-15T15:08:44.837Z"
   },
   {
    "duration": 5,
    "start_time": "2024-01-15T15:08:45.006Z"
   },
   {
    "duration": 217,
    "start_time": "2024-01-15T15:08:45.012Z"
   },
   {
    "duration": 5,
    "start_time": "2024-01-15T15:08:45.231Z"
   },
   {
    "duration": 286,
    "start_time": "2024-01-15T15:08:45.238Z"
   },
   {
    "duration": 162,
    "start_time": "2024-01-15T15:08:45.525Z"
   },
   {
    "duration": 10,
    "start_time": "2024-01-15T15:08:45.688Z"
   },
   {
    "duration": 32,
    "start_time": "2024-01-15T15:08:45.700Z"
   },
   {
    "duration": 33,
    "start_time": "2024-01-15T15:08:45.733Z"
   },
   {
    "duration": 1287,
    "start_time": "2024-01-17T05:50:10.745Z"
   },
   {
    "duration": 185,
    "start_time": "2024-01-17T05:50:12.034Z"
   },
   {
    "duration": 24,
    "start_time": "2024-01-17T05:50:12.221Z"
   },
   {
    "duration": 21,
    "start_time": "2024-01-17T05:50:12.246Z"
   },
   {
    "duration": 14,
    "start_time": "2024-01-17T05:50:12.269Z"
   },
   {
    "duration": 3,
    "start_time": "2024-01-17T05:50:12.284Z"
   },
   {
    "duration": 6,
    "start_time": "2024-01-17T05:50:12.288Z"
   },
   {
    "duration": 7,
    "start_time": "2024-01-17T05:50:12.296Z"
   },
   {
    "duration": 5,
    "start_time": "2024-01-17T05:50:12.304Z"
   },
   {
    "duration": 8,
    "start_time": "2024-01-17T05:50:12.310Z"
   },
   {
    "duration": 36,
    "start_time": "2024-01-17T05:50:12.319Z"
   },
   {
    "duration": 8,
    "start_time": "2024-01-17T05:50:12.356Z"
   },
   {
    "duration": 5,
    "start_time": "2024-01-17T05:50:12.365Z"
   },
   {
    "duration": 9,
    "start_time": "2024-01-17T05:50:12.373Z"
   },
   {
    "duration": 10,
    "start_time": "2024-01-17T05:50:12.383Z"
   },
   {
    "duration": 23,
    "start_time": "2024-01-17T05:50:12.394Z"
   },
   {
    "duration": 12,
    "start_time": "2024-01-17T05:50:12.452Z"
   },
   {
    "duration": 5,
    "start_time": "2024-01-17T05:50:12.465Z"
   },
   {
    "duration": 8,
    "start_time": "2024-01-17T05:50:12.471Z"
   },
   {
    "duration": 9,
    "start_time": "2024-01-17T05:50:12.481Z"
   },
   {
    "duration": 285,
    "start_time": "2024-01-17T05:50:12.491Z"
   },
   {
    "duration": 209,
    "start_time": "2024-01-17T05:50:12.778Z"
   },
   {
    "duration": 374,
    "start_time": "2024-01-17T05:50:12.988Z"
   },
   {
    "duration": 204,
    "start_time": "2024-01-17T05:50:13.364Z"
   },
   {
    "duration": 213,
    "start_time": "2024-01-17T05:50:13.570Z"
   },
   {
    "duration": 117,
    "start_time": "2024-01-17T05:50:13.785Z"
   },
   {
    "duration": 162,
    "start_time": "2024-01-17T05:50:13.903Z"
   },
   {
    "duration": 5,
    "start_time": "2024-01-17T05:50:14.066Z"
   },
   {
    "duration": 160,
    "start_time": "2024-01-17T05:50:14.072Z"
   },
   {
    "duration": 4,
    "start_time": "2024-01-17T05:50:14.234Z"
   },
   {
    "duration": 285,
    "start_time": "2024-01-17T05:50:14.240Z"
   },
   {
    "duration": 153,
    "start_time": "2024-01-17T05:50:14.527Z"
   },
   {
    "duration": 9,
    "start_time": "2024-01-17T05:50:14.682Z"
   },
   {
    "duration": 50,
    "start_time": "2024-01-17T05:50:14.692Z"
   },
   {
    "duration": 12,
    "start_time": "2024-01-17T05:50:14.743Z"
   },
   {
    "duration": 47,
    "start_time": "2024-01-17T10:12:21.837Z"
   },
   {
    "duration": 1376,
    "start_time": "2024-01-17T10:12:28.986Z"
   },
   {
    "duration": 183,
    "start_time": "2024-01-17T10:12:30.363Z"
   },
   {
    "duration": 22,
    "start_time": "2024-01-17T10:12:30.547Z"
   },
   {
    "duration": 48,
    "start_time": "2024-01-17T10:12:30.571Z"
   },
   {
    "duration": 48,
    "start_time": "2024-01-17T10:12:30.622Z"
   },
   {
    "duration": 33,
    "start_time": "2024-01-17T10:12:30.672Z"
   },
   {
    "duration": 38,
    "start_time": "2024-01-17T10:12:30.707Z"
   },
   {
    "duration": 57,
    "start_time": "2024-01-17T10:12:30.747Z"
   },
   {
    "duration": 42,
    "start_time": "2024-01-17T10:12:30.806Z"
   },
   {
    "duration": 41,
    "start_time": "2024-01-17T10:12:30.850Z"
   },
   {
    "duration": 45,
    "start_time": "2024-01-17T10:12:30.893Z"
   },
   {
    "duration": 36,
    "start_time": "2024-01-17T10:12:30.941Z"
   },
   {
    "duration": 56,
    "start_time": "2024-01-17T10:12:30.979Z"
   },
   {
    "duration": 60,
    "start_time": "2024-01-17T10:12:31.039Z"
   },
   {
    "duration": 40,
    "start_time": "2024-01-17T10:12:31.101Z"
   },
   {
    "duration": 32,
    "start_time": "2024-01-17T10:12:31.142Z"
   },
   {
    "duration": 100,
    "start_time": "2024-01-17T10:12:31.176Z"
   },
   {
    "duration": 42,
    "start_time": "2024-01-17T10:12:31.278Z"
   },
   {
    "duration": 33,
    "start_time": "2024-01-17T10:12:31.321Z"
   },
   {
    "duration": 75,
    "start_time": "2024-01-17T10:12:31.356Z"
   },
   {
    "duration": 80,
    "start_time": "2024-01-17T10:12:31.433Z"
   },
   {
    "duration": 366,
    "start_time": "2024-01-17T10:12:31.515Z"
   },
   {
    "duration": 240,
    "start_time": "2024-01-17T10:12:31.883Z"
   },
   {
    "duration": 355,
    "start_time": "2024-01-17T10:12:32.124Z"
   },
   {
    "duration": 217,
    "start_time": "2024-01-17T10:12:32.480Z"
   },
   {
    "duration": 211,
    "start_time": "2024-01-17T10:12:32.699Z"
   },
   {
    "duration": 142,
    "start_time": "2024-01-17T10:12:32.911Z"
   },
   {
    "duration": 174,
    "start_time": "2024-01-17T10:12:33.055Z"
   },
   {
    "duration": 5,
    "start_time": "2024-01-17T10:12:33.230Z"
   },
   {
    "duration": 187,
    "start_time": "2024-01-17T10:12:33.237Z"
   },
   {
    "duration": 5,
    "start_time": "2024-01-17T10:12:33.425Z"
   },
   {
    "duration": 284,
    "start_time": "2024-01-17T10:12:33.431Z"
   },
   {
    "duration": 150,
    "start_time": "2024-01-17T10:12:33.718Z"
   },
   {
    "duration": 10,
    "start_time": "2024-01-17T10:12:33.869Z"
   },
   {
    "duration": 52,
    "start_time": "2024-01-17T10:12:33.881Z"
   },
   {
    "duration": 11,
    "start_time": "2024-01-17T10:12:33.935Z"
   },
   {
    "duration": 7,
    "start_time": "2024-01-17T10:13:09.509Z"
   },
   {
    "duration": 7,
    "start_time": "2024-01-17T10:13:38.198Z"
   },
   {
    "duration": 5,
    "start_time": "2024-01-17T10:14:10.514Z"
   },
   {
    "duration": 1214,
    "start_time": "2024-01-17T14:05:44.316Z"
   },
   {
    "duration": 191,
    "start_time": "2024-01-17T14:05:45.532Z"
   },
   {
    "duration": 22,
    "start_time": "2024-01-17T14:05:45.725Z"
   },
   {
    "duration": 35,
    "start_time": "2024-01-17T14:05:45.749Z"
   },
   {
    "duration": 29,
    "start_time": "2024-01-17T14:05:45.786Z"
   },
   {
    "duration": 5,
    "start_time": "2024-01-17T14:05:45.817Z"
   },
   {
    "duration": 18,
    "start_time": "2024-01-17T14:05:45.823Z"
   },
   {
    "duration": 57,
    "start_time": "2024-01-17T14:05:45.843Z"
   },
   {
    "duration": 8,
    "start_time": "2024-01-17T14:05:45.902Z"
   },
   {
    "duration": 5,
    "start_time": "2024-01-17T14:05:45.914Z"
   },
   {
    "duration": 4,
    "start_time": "2024-01-17T14:05:45.921Z"
   },
   {
    "duration": 16,
    "start_time": "2024-01-17T14:05:45.927Z"
   },
   {
    "duration": 13,
    "start_time": "2024-01-17T14:05:45.944Z"
   },
   {
    "duration": 10,
    "start_time": "2024-01-17T14:05:45.959Z"
   },
   {
    "duration": 32,
    "start_time": "2024-01-17T14:05:45.970Z"
   },
   {
    "duration": 15,
    "start_time": "2024-01-17T14:05:46.003Z"
   },
   {
    "duration": 12,
    "start_time": "2024-01-17T14:05:46.019Z"
   },
   {
    "duration": 30,
    "start_time": "2024-01-17T14:05:46.032Z"
   },
   {
    "duration": 19,
    "start_time": "2024-01-17T14:05:46.064Z"
   },
   {
    "duration": 5,
    "start_time": "2024-01-17T14:05:46.085Z"
   },
   {
    "duration": 4,
    "start_time": "2024-01-17T14:05:46.115Z"
   },
   {
    "duration": 14,
    "start_time": "2024-01-17T14:05:46.121Z"
   },
   {
    "duration": 312,
    "start_time": "2024-01-17T14:05:46.137Z"
   },
   {
    "duration": 230,
    "start_time": "2024-01-17T14:05:46.451Z"
   },
   {
    "duration": 341,
    "start_time": "2024-01-17T14:05:46.682Z"
   },
   {
    "duration": 243,
    "start_time": "2024-01-17T14:05:47.025Z"
   },
   {
    "duration": 220,
    "start_time": "2024-01-17T14:05:47.270Z"
   },
   {
    "duration": 138,
    "start_time": "2024-01-17T14:05:47.493Z"
   },
   {
    "duration": 166,
    "start_time": "2024-01-17T14:05:47.632Z"
   },
   {
    "duration": 4,
    "start_time": "2024-01-17T14:05:47.800Z"
   },
   {
    "duration": 160,
    "start_time": "2024-01-17T14:05:47.815Z"
   },
   {
    "duration": 5,
    "start_time": "2024-01-17T14:05:47.976Z"
   },
   {
    "duration": 283,
    "start_time": "2024-01-17T14:05:47.982Z"
   },
   {
    "duration": 164,
    "start_time": "2024-01-17T14:05:48.266Z"
   },
   {
    "duration": 12,
    "start_time": "2024-01-17T14:05:48.432Z"
   },
   {
    "duration": 37,
    "start_time": "2024-01-17T14:05:48.446Z"
   },
   {
    "duration": 29,
    "start_time": "2024-01-17T14:05:48.485Z"
   },
   {
    "duration": 51,
    "start_time": "2024-03-03T07:56:25.044Z"
   },
   {
    "duration": 635,
    "start_time": "2024-03-03T07:56:40.332Z"
   },
   {
    "duration": 68,
    "start_time": "2024-03-03T08:01:26.155Z"
   },
   {
    "duration": 40,
    "start_time": "2024-03-03T08:01:27.359Z"
   }
  ],
  "kernelspec": {
   "display_name": "Python 3 (ipykernel)",
   "language": "python",
   "name": "python3"
  },
  "language_info": {
   "codemirror_mode": {
    "name": "ipython",
    "version": 3
   },
   "file_extension": ".py",
   "mimetype": "text/x-python",
   "name": "python",
   "nbconvert_exporter": "python",
   "pygments_lexer": "ipython3",
   "version": "3.9.5"
  },
  "toc": {
   "base_numbering": 1,
   "nav_menu": {},
   "number_sections": true,
   "sideBar": true,
   "skip_h1_title": true,
   "title_cell": "Table of Contents",
   "title_sidebar": "Contents",
   "toc_cell": false,
   "toc_position": {
    "height": "calc(100% - 180px)",
    "left": "10px",
    "top": "150px",
    "width": "165px"
   },
   "toc_section_display": true,
   "toc_window_display": true
  }
 },
 "nbformat": 4,
 "nbformat_minor": 2
}
